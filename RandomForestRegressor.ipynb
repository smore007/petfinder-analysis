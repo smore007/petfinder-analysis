{
 "cells": [
  {
   "cell_type": "code",
   "execution_count": 129,
   "id": "b1fb5cdb",
   "metadata": {},
   "outputs": [],
   "source": [
    "import numpy as np \n",
    "import pandas as pd \n",
    "import matplotlib.pyplot as plt\n",
    "import seaborn as sns \n",
    "from sklearn.ensemble import RandomForestRegressor\n",
    "from sklearn.model_selection import train_test_split \n",
    "from sklearn.metrics import r2_score, mean_squared_error\n",
    "from sklearn.linear_model import LinearRegression\n",
    "import plotly.express as px\n",
    "import pprint\n",
    "import operator\n",
    "import scipy.stats as stats\n",
    "import pylab as py"
   ]
  },
  {
   "cell_type": "code",
   "execution_count": 2,
   "id": "614fd05a",
   "metadata": {},
   "outputs": [
    {
     "data": {
      "text/html": [
       "<div>\n",
       "<style scoped>\n",
       "    .dataframe tbody tr th:only-of-type {\n",
       "        vertical-align: middle;\n",
       "    }\n",
       "\n",
       "    .dataframe tbody tr th {\n",
       "        vertical-align: top;\n",
       "    }\n",
       "\n",
       "    .dataframe thead th {\n",
       "        text-align: right;\n",
       "    }\n",
       "</style>\n",
       "<table border=\"1\" class=\"dataframe\">\n",
       "  <thead>\n",
       "    <tr style=\"text-align: right;\">\n",
       "      <th></th>\n",
       "      <th>id</th>\n",
       "      <th>delta_time_minutes</th>\n",
       "      <th>age</th>\n",
       "      <th>gender</th>\n",
       "      <th>size</th>\n",
       "      <th>coat</th>\n",
       "      <th>primary_breed</th>\n",
       "      <th>primary_color</th>\n",
       "      <th>compatible_children</th>\n",
       "      <th>compatible_dogs</th>\n",
       "      <th>compatible_cats</th>\n",
       "    </tr>\n",
       "  </thead>\n",
       "  <tbody>\n",
       "    <tr>\n",
       "      <th>0</th>\n",
       "      <td>59313263</td>\n",
       "      <td>1213.833333</td>\n",
       "      <td>Adult</td>\n",
       "      <td>Male</td>\n",
       "      <td>Small</td>\n",
       "      <td>Short</td>\n",
       "      <td>Chihuahua</td>\n",
       "      <td>Yellow / Tan / Blond / Fawn</td>\n",
       "      <td>True</td>\n",
       "      <td>True</td>\n",
       "      <td>True</td>\n",
       "    </tr>\n",
       "    <tr>\n",
       "      <th>2</th>\n",
       "      <td>59313253</td>\n",
       "      <td>733.033333</td>\n",
       "      <td>Young</td>\n",
       "      <td>Male</td>\n",
       "      <td>Medium</td>\n",
       "      <td>Medium</td>\n",
       "      <td>Shetland Sheepdog / Sheltie</td>\n",
       "      <td>Merle (Blue)</td>\n",
       "      <td>False</td>\n",
       "      <td>True</td>\n",
       "      <td>True</td>\n",
       "    </tr>\n",
       "    <tr>\n",
       "      <th>8</th>\n",
       "      <td>59313185</td>\n",
       "      <td>1269.450000</td>\n",
       "      <td>Young</td>\n",
       "      <td>Female</td>\n",
       "      <td>Large</td>\n",
       "      <td>Short</td>\n",
       "      <td>Anatolian Shepherd</td>\n",
       "      <td>Bicolor</td>\n",
       "      <td>True</td>\n",
       "      <td>True</td>\n",
       "      <td>True</td>\n",
       "    </tr>\n",
       "    <tr>\n",
       "      <th>10</th>\n",
       "      <td>59263354</td>\n",
       "      <td>1127.616667</td>\n",
       "      <td>Baby</td>\n",
       "      <td>Female</td>\n",
       "      <td>Medium</td>\n",
       "      <td>Short</td>\n",
       "      <td>Coonhound</td>\n",
       "      <td>Black</td>\n",
       "      <td>True</td>\n",
       "      <td>True</td>\n",
       "      <td>True</td>\n",
       "    </tr>\n",
       "    <tr>\n",
       "      <th>11</th>\n",
       "      <td>59313109</td>\n",
       "      <td>119.766667</td>\n",
       "      <td>Young</td>\n",
       "      <td>Male</td>\n",
       "      <td>Medium</td>\n",
       "      <td>Short</td>\n",
       "      <td>Beagle</td>\n",
       "      <td>Tricolor (Brown, Black, &amp; White)</td>\n",
       "      <td>True</td>\n",
       "      <td>True</td>\n",
       "      <td>True</td>\n",
       "    </tr>\n",
       "    <tr>\n",
       "      <th>...</th>\n",
       "      <td>...</td>\n",
       "      <td>...</td>\n",
       "      <td>...</td>\n",
       "      <td>...</td>\n",
       "      <td>...</td>\n",
       "      <td>...</td>\n",
       "      <td>...</td>\n",
       "      <td>...</td>\n",
       "      <td>...</td>\n",
       "      <td>...</td>\n",
       "      <td>...</td>\n",
       "    </tr>\n",
       "    <tr>\n",
       "      <th>4923</th>\n",
       "      <td>59262866</td>\n",
       "      <td>23.766667</td>\n",
       "      <td>Young</td>\n",
       "      <td>Female</td>\n",
       "      <td>Medium</td>\n",
       "      <td>Short</td>\n",
       "      <td>Pit Bull Terrier</td>\n",
       "      <td>Black</td>\n",
       "      <td>True</td>\n",
       "      <td>True</td>\n",
       "      <td>True</td>\n",
       "    </tr>\n",
       "    <tr>\n",
       "      <th>4927</th>\n",
       "      <td>59262859</td>\n",
       "      <td>872.433333</td>\n",
       "      <td>Young</td>\n",
       "      <td>Male</td>\n",
       "      <td>Medium</td>\n",
       "      <td>Long</td>\n",
       "      <td>Goldendoodle</td>\n",
       "      <td>Golden</td>\n",
       "      <td>True</td>\n",
       "      <td>True</td>\n",
       "      <td>True</td>\n",
       "    </tr>\n",
       "    <tr>\n",
       "      <th>4930</th>\n",
       "      <td>59262849</td>\n",
       "      <td>1288.566667</td>\n",
       "      <td>Baby</td>\n",
       "      <td>Female</td>\n",
       "      <td>Medium</td>\n",
       "      <td>Medium</td>\n",
       "      <td>German Shepherd Dog</td>\n",
       "      <td>Black</td>\n",
       "      <td>True</td>\n",
       "      <td>True</td>\n",
       "      <td>False</td>\n",
       "    </tr>\n",
       "    <tr>\n",
       "      <th>4931</th>\n",
       "      <td>59262848</td>\n",
       "      <td>1272.966667</td>\n",
       "      <td>Senior</td>\n",
       "      <td>Male</td>\n",
       "      <td>Large</td>\n",
       "      <td>Short</td>\n",
       "      <td>Black Labrador Retriever</td>\n",
       "      <td>Black</td>\n",
       "      <td>True</td>\n",
       "      <td>True</td>\n",
       "      <td>True</td>\n",
       "    </tr>\n",
       "    <tr>\n",
       "      <th>4932</th>\n",
       "      <td>59262845</td>\n",
       "      <td>51.733333</td>\n",
       "      <td>Young</td>\n",
       "      <td>Male</td>\n",
       "      <td>Medium</td>\n",
       "      <td>Short</td>\n",
       "      <td>Hound</td>\n",
       "      <td>Golden</td>\n",
       "      <td>True</td>\n",
       "      <td>True</td>\n",
       "      <td>True</td>\n",
       "    </tr>\n",
       "  </tbody>\n",
       "</table>\n",
       "<p>1057 rows × 11 columns</p>\n",
       "</div>"
      ],
      "text/plain": [
       "            id  delta_time_minutes     age  gender    size    coat  \\\n",
       "0     59313263         1213.833333   Adult    Male   Small   Short   \n",
       "2     59313253          733.033333   Young    Male  Medium  Medium   \n",
       "8     59313185         1269.450000   Young  Female   Large   Short   \n",
       "10    59263354         1127.616667    Baby  Female  Medium   Short   \n",
       "11    59313109          119.766667   Young    Male  Medium   Short   \n",
       "...        ...                 ...     ...     ...     ...     ...   \n",
       "4923  59262866           23.766667   Young  Female  Medium   Short   \n",
       "4927  59262859          872.433333   Young    Male  Medium    Long   \n",
       "4930  59262849         1288.566667    Baby  Female  Medium  Medium   \n",
       "4931  59262848         1272.966667  Senior    Male   Large   Short   \n",
       "4932  59262845           51.733333   Young    Male  Medium   Short   \n",
       "\n",
       "                    primary_breed                     primary_color  \\\n",
       "0                       Chihuahua       Yellow / Tan / Blond / Fawn   \n",
       "2     Shetland Sheepdog / Sheltie                      Merle (Blue)   \n",
       "8              Anatolian Shepherd                           Bicolor   \n",
       "10                      Coonhound                             Black   \n",
       "11                         Beagle  Tricolor (Brown, Black, & White)   \n",
       "...                           ...                               ...   \n",
       "4923             Pit Bull Terrier                             Black   \n",
       "4927                 Goldendoodle                            Golden   \n",
       "4930          German Shepherd Dog                             Black   \n",
       "4931     Black Labrador Retriever                             Black   \n",
       "4932                        Hound                            Golden   \n",
       "\n",
       "     compatible_children compatible_dogs compatible_cats  \n",
       "0                   True            True            True  \n",
       "2                  False            True            True  \n",
       "8                   True            True            True  \n",
       "10                  True            True            True  \n",
       "11                  True            True            True  \n",
       "...                  ...             ...             ...  \n",
       "4923                True            True            True  \n",
       "4927                True            True            True  \n",
       "4930                True            True           False  \n",
       "4931                True            True            True  \n",
       "4932                True            True            True  \n",
       "\n",
       "[1057 rows x 11 columns]"
      ]
     },
     "execution_count": 2,
     "metadata": {},
     "output_type": "execute_result"
    }
   ],
   "source": [
    "# read in data and subset for desired features \n",
    "dogs_df = pd.read_csv('dogs (3).csv')\n",
    "dogs_df = dogs_df[['id', 'delta_time_minutes', 'age', 'gender', 'size', 'coat', 'primary_breed', 'primary_color', 'compatible_children', 'compatible_dogs', 'compatible_cats']]\n",
    "\n",
    "# drop null values and reset index\n",
    "dogs_df.dropna(inplace=True)\n",
    "dogs_df.reset_index()\n",
    "dogs_df"
   ]
  },
  {
   "cell_type": "code",
   "execution_count": 3,
   "id": "e69c01df",
   "metadata": {
    "scrolled": false
   },
   "outputs": [],
   "source": [
    "# make dummy columns \n",
    "dogs_df_dummies = pd.get_dummies(data=dogs_df, \n",
    "                                 columns=['age', 'gender', 'size', 'coat', 'primary_breed','primary_color'])"
   ]
  },
  {
   "cell_type": "code",
   "execution_count": 4,
   "id": "48d0a779",
   "metadata": {},
   "outputs": [],
   "source": [
    "def random_forest_regress_default(x_feat_list, y_col, df): \n",
    "    \"\"\"Takes in dataframe and list of x features used to build random forest regressor predicting y column \n",
    "        values. Random Forest Regressor is initialized to have default arguments only\n",
    "    \n",
    "        Args: \n",
    "            x_feat_list(list): List of column names in dataframe to be used as x features in model \n",
    "            y_col (string): String of column name in dataframe to be used as y values in model\n",
    "            df (dataframe): A pandas dataframe containing the data to build the model\n",
    "            \n",
    "        Returns: \n",
    "            feat_importances (list): A list of the feature importance of each feature used in the model \n",
    "            converted_dict (dictionary): A dictionary with the feature as the key and the feature importance of \n",
    "                                         that feature as the value\n",
    "            r2 (float): The R2 score of the model \n",
    "            mse (float): The MSE of the model  \n",
    "            residuals (array): A numpy array with the residuals of the model (errors)\n",
    "    \"\"\"\n",
    "\n",
    "    # split into x and y data\n",
    "    X = df.loc[:, x_feat_list].values\n",
    "    y = df.loc[:, y_col].values\n",
    "\n",
    "    # split into training and test data \n",
    "    X_train, X_test, y_train, y_test = train_test_split(X, y, test_size = 0.3, random_state=42)\n",
    "\n",
    "    # initialize random forest regressor \n",
    "    regressor = RandomForestRegressor()\n",
    "\n",
    "    # fit random forest regressor\n",
    "    regressor.fit(X_train, y_train)\n",
    "\n",
    "    # predict using regressor \n",
    "    y_pred = regressor.predict(X_test)\n",
    "    \n",
    "    # calculate accuracy scores \n",
    "    r2 = r2_score(y_test, y_pred)\n",
    "    mse = mean_squared_error(y_test, y_pred)\n",
    "    \n",
    "    # build dictionary of model features and their importances \n",
    "    feat_importances = regressor.feature_importances_\n",
    "    feat_import_dict = {}\n",
    "    for index, item in enumerate(feat_importances):\n",
    "        feat = x_feat_list[index]\n",
    "        feat_import_dict[feat] = item \n",
    "    \n",
    "    # sort dictionary in descending order \n",
    "    sorted_feat_import_dict = sorted(feat_import_dict.items(), key=lambda x:x[1], reverse=True)\n",
    "    converted_dict = dict(sorted_feat_import_dict)\n",
    "    \n",
    "    # calculate residuals \n",
    "    residuals = y_test - y_pred\n",
    "    \n",
    "    return feat_importances, converted_dict, r2, mse, residuals"
   ]
  },
  {
   "cell_type": "code",
   "execution_count": 5,
   "id": "8294273e",
   "metadata": {
    "scrolled": true
   },
   "outputs": [],
   "source": [
    "def random_forest_regress(x_feat_list, y_col, df): \n",
    "    \"\"\"Takes in dataframe and list of x features used to build random forest regressor predicting y column \n",
    "        values. Random Forest Regressor is initialized with some arguments changed from defaults.\n",
    "    \n",
    "        Args: \n",
    "            x_feat_list(list): List of column names in dataframe to be used as x features in model \n",
    "            y_col (string): String of column name in dataframe to be used as y values in model\n",
    "            df (dataframe): A pandas dataframe containing the data to build the model\n",
    "            \n",
    "        Returns: \n",
    "            feat_importances (list): A list of the feature importance of each feature used in the model \n",
    "            converted_dict (dictionary): A dictionary with the feature as the key and the feature importance of \n",
    "                                         that feature as the value\n",
    "            r2 (float): The R2 score of the model \n",
    "            mse (float): The MSE of the model  \n",
    "            residuals (array): A numpy array with the residuals of the model (errors)\n",
    "    \"\"\"\n",
    "\n",
    "\n",
    "    # split into x and y data\n",
    "    X = df.loc[:, x_feat_list].values\n",
    "    y = df.loc[:, y_col].values\n",
    "\n",
    "    # split into training and test data \n",
    "    X_train, X_test, y_train, y_test = train_test_split(X, y, test_size = 0.3, random_state=42)\n",
    "\n",
    "    # initialize random forest regressor \n",
    "    regressor = RandomForestRegressor(n_estimators=100, \n",
    "                                     bootstrap=True, oob_score=True, random_state=42)\n",
    "\n",
    "    # fit random forest regressor\n",
    "    regressor.fit(X_train, y_train)\n",
    "\n",
    "    # predict using regressor \n",
    "    y_pred = regressor.predict(X_test)\n",
    "    \n",
    "    # calculate accuracy scores \n",
    "    r2 = r2_score(y_test, y_pred)\n",
    "    mse = mean_squared_error(y_test, y_pred)\n",
    "    \n",
    "    # build dictionary of model features and their importances \n",
    "    feat_importances = regressor.feature_importances_\n",
    "    feat_import_dict = {}\n",
    "    for index, item in enumerate(feat_importances):\n",
    "        feat = x_feat_list[index]\n",
    "        feat_import_dict[feat] = item \n",
    "    \n",
    "    # sort dictionary in descending order \n",
    "    sorted_dict = dict(sorted(feat_import_dict.items(), key=lambda item: item[1], reverse=True))\n",
    "\n",
    "    \n",
    "    # calculate residuals\n",
    "    residuals = y_test - y_pred\n",
    "    \n",
    "    return feat_importances, sorted_dict, r2, mse, residuals"
   ]
  },
  {
   "cell_type": "markdown",
   "id": "fb70c53e",
   "metadata": {},
   "source": [
    "### Test 1a: All X Features\n",
    "Using original regressor function (random_forest_regress), which passes non-default arguments to random forest regressor model upon initialization."
   ]
  },
  {
   "cell_type": "code",
   "execution_count": 6,
   "id": "be38cd7f",
   "metadata": {},
   "outputs": [],
   "source": [
    "# define x_feat_list as all the possible features in the model (columns in dataframe) \n",
    "x_feat_list = ['compatible_children', 'compatible_dogs', 'compatible_cats', \n",
    "               'age_Adult', 'age_Baby', 'age_Senior', 'age_Young', 'gender_Female', 'gender_Male', \n",
    "               'size_Extra Large', 'size_Large', 'size_Medium', 'size_Small', 'coat_Curly', 'coat_Hairless', \n",
    "               'coat_Long', 'coat_Medium', 'coat_Short', 'coat_Wire', 'primary_breed_Affenpinscher', \n",
    "               'primary_breed_Alaskan Malamute', 'primary_breed_American Bulldog', \n",
    "               'primary_breed_American Bully', 'primary_breed_American Eskimo Dog', \n",
    "               'primary_breed_American Staffordshire Terrier', 'primary_breed_Anatolian Shepherd', \n",
    "               'primary_breed_Aussiedoodle', 'primary_breed_Australian Cattle Dog / Blue Heeler', \n",
    "               'primary_breed_Australian Kelpie', 'primary_breed_Australian Shepherd', \n",
    "               'primary_breed_Australian Terrier', 'primary_breed_Basset Hound', 'primary_breed_Beagle', \n",
    "               'primary_breed_Belgian Shepherd / Malinois', 'primary_breed_Bernese Mountain Dog', \n",
    "               'primary_breed_Bichon Frise', 'primary_breed_Black Labrador Retriever', \n",
    "               'primary_breed_Black Mouth Cur', 'primary_breed_Bloodhound', 'primary_breed_Blue Lacy', \n",
    "               'primary_breed_Border Collie', 'primary_breed_Border Terrier', 'primary_breed_Boston Terrier', \n",
    "               'primary_breed_Boxer', 'primary_breed_Brussels Griffon', 'primary_breed_Cairn Terrier', \n",
    "               'primary_breed_Carolina Dog', 'primary_breed_Catahoula Leopard Dog', 'primary_breed_Cattle Dog', \n",
    "               'primary_breed_Cavalier King Charles Spaniel', 'primary_breed_Chihuahua', \n",
    "               'primary_breed_Chinese Crested Dog', 'primary_breed_Chiweenie', 'primary_breed_Chocolate Labrador Retriever', \n",
    "               'primary_breed_Chow Chow', 'primary_breed_Cocker Spaniel', 'primary_breed_Collie', 'primary_breed_Coonhound', \n",
    "               'primary_breed_Corgi', 'primary_breed_Dachshund', 'primary_breed_Dalmatian', \n",
    "               'primary_breed_Doberman Pinscher', 'primary_breed_Dogo Argentino', 'primary_breed_Dutch Shepherd', \n",
    "               'primary_breed_English Bulldog', 'primary_breed_English Coonhound', 'primary_breed_English Setter', \n",
    "               'primary_breed_English Shepherd', 'primary_breed_Entlebucher', 'primary_breed_Feist', \n",
    "               'primary_breed_Flat-Coated Retriever', 'primary_breed_Fox Terrier', 'primary_breed_Foxhound', \n",
    "               'primary_breed_French Bulldog', 'primary_breed_German Shepherd Dog', 'primary_breed_German Wirehaired Pointer', \n",
    "               'primary_breed_Golden Retriever', 'primary_breed_Goldendoodle', 'primary_breed_Great Dane', \n",
    "               'primary_breed_Great Pyrenees', 'primary_breed_Greyhound', 'primary_breed_Hound', 'primary_breed_Husky', \n",
    "               'primary_breed_Ibizan Hound', 'primary_breed_Icelandic Sheepdog', 'primary_breed_Irish Terrier', \n",
    "               'primary_breed_Italian Greyhound', 'primary_breed_Jack Russell Terrier', 'primary_breed_Japanese Chin', \n",
    "               'primary_breed_Labradoodle', 'primary_breed_Labrador Retriever', 'primary_breed_Lhasa Apso', \n",
    "               'primary_breed_Maltese', 'primary_breed_Maltipoo', 'primary_breed_Mastiff', 'primary_breed_Miniature Dachshund', \n",
    "               'primary_breed_Miniature Pinscher', 'primary_breed_Miniature Poodle', 'primary_breed_Miniature Schnauzer', \n",
    "               'primary_breed_Mixed Breed', 'primary_breed_Mountain Cur', 'primary_breed_Newfoundland Dog', \n",
    "               'primary_breed_Norfolk Terrier', 'primary_breed_Old English Sheepdog', 'primary_breed_Parson Russell Terrier', \n",
    "               'primary_breed_Patterdale Terrier / Fell Terrier', 'primary_breed_Pekingese', 'primary_breed_Pharaoh Hound', \n",
    "               'primary_breed_Pit Bull Terrier', 'primary_breed_Pointer', 'primary_breed_Pomeranian', 'primary_breed_Poodle', \n",
    "               'primary_breed_Pug', 'primary_breed_Rat Terrier', 'primary_breed_Retriever', 'primary_breed_Rhodesian Ridgeback', \n",
    "               'primary_breed_Rottweiler', 'primary_breed_Saluki', 'primary_breed_Schnauzer', 'primary_breed_Shar-Pei', \n",
    "               'primary_breed_Shepherd', 'primary_breed_Shetland Sheepdog / Sheltie', 'primary_breed_Shiba Inu', \n",
    "               'primary_breed_Shih Tzu', 'primary_breed_Siberian Husky', 'primary_breed_Spaniel', \n",
    "               'primary_breed_Staffordshire Bull Terrier', 'primary_breed_Standard Poodle', 'primary_breed_Terrier', \n",
    "               'primary_breed_Tibetan Terrier', 'primary_breed_Vizsla', 'primary_breed_Weimaraner', 'primary_breed_Whippet', \n",
    "               'primary_breed_White German Shepherd', 'primary_breed_Wirehaired Terrier', 'primary_breed_Xoloitzcuintli / Mexican Hairless', \n",
    "               'primary_breed_Yellow Labrador Retriever', 'primary_breed_Yorkshire Terrier', 'primary_color_Apricot / Beige', \n",
    "               'primary_color_Bicolor', 'primary_color_Black', 'primary_color_Brindle', 'primary_color_Brown / Chocolate', \n",
    "               'primary_color_Golden', 'primary_color_Gray / Blue / Silver', 'primary_color_Harlequin', \n",
    "               'primary_color_Merle (Blue)', 'primary_color_Merle (Red)', 'primary_color_Red / Chestnut / Orange', \n",
    "               'primary_color_Sable', 'primary_color_Tricolor (Brown, Black, & White)', 'primary_color_White / Cream', \n",
    "               'primary_color_Yellow / Tan / Blond / Fawn']\n",
    "\n",
    "# run random forest regressor using non-default model \n",
    "feature_importances, feat_import_dict, r2, mse, residuals  = random_forest_regress(x_feat_list=x_feat_list, y_col='delta_time_minutes', df=dogs_df_dummies)"
   ]
  },
  {
   "cell_type": "code",
   "execution_count": 7,
   "id": "2a8826a9",
   "metadata": {
    "scrolled": false
   },
   "outputs": [
    {
     "name": "stdout",
     "output_type": "stream",
     "text": [
      "{'age_Adult': 0.02395360426843699,\n",
      " 'age_Baby': 0.030174291595549567,\n",
      " 'age_Senior': 0.011958386024141452,\n",
      " 'age_Young': 0.021450474868300793,\n",
      " 'coat_Curly': 0.005366294826378979,\n",
      " 'coat_Hairless': 0.0010517067100437527,\n",
      " 'coat_Long': 0.013282187553526927,\n",
      " 'coat_Medium': 0.023010828057869283,\n",
      " 'coat_Short': 0.019846155419057064,\n",
      " 'coat_Wire': 0.006228527423659871,\n",
      " 'compatible_cats': 0.021746292527822644,\n",
      " 'compatible_children': 0.005314925890490117,\n",
      " 'compatible_dogs': 0.006637048851091096,\n",
      " 'gender_Female': 0.025633660779341278,\n",
      " 'gender_Male': 0.02525875060855213,\n",
      " 'primary_breed_Affenpinscher': 0.0011428693904000765,\n",
      " 'primary_breed_Alaskan Malamute': 0.00012415025623410333,\n",
      " 'primary_breed_American Bulldog': 0.0070389677943720665,\n",
      " 'primary_breed_American Bully': 0.003907157455578684,\n",
      " 'primary_breed_American Eskimo Dog': 0.001285733663046808,\n",
      " 'primary_breed_American Staffordshire Terrier': 0.009931632063633806,\n",
      " 'primary_breed_Anatolian Shepherd': 0.002316414315456361,\n",
      " 'primary_breed_Aussiedoodle': 0.0008474803386154314,\n",
      " 'primary_breed_Australian Cattle Dog / Blue Heeler': 0.014299573616108043,\n",
      " 'primary_breed_Australian Kelpie': 0.0015433272299414601,\n",
      " 'primary_breed_Australian Shepherd': 0.016039929858269485,\n",
      " 'primary_breed_Australian Terrier': 0.0028547512445556296,\n",
      " 'primary_breed_Basset Hound': 0.004868687827787591,\n",
      " 'primary_breed_Beagle': 0.011760518783800689,\n",
      " 'primary_breed_Belgian Shepherd / Malinois': 0.0029982633512277944,\n",
      " 'primary_breed_Bernese Mountain Dog': 0.0012982954175013897,\n",
      " 'primary_breed_Bichon Frise': 0.0018428480574332069,\n",
      " 'primary_breed_Black Labrador Retriever': 0.00983326219395277,\n",
      " 'primary_breed_Black Mouth Cur': 0.004570723160713625,\n",
      " 'primary_breed_Bloodhound': 0.0011166597007021294,\n",
      " 'primary_breed_Blue Lacy': 0.0005699951088230234,\n",
      " 'primary_breed_Border Collie': 0.006145857942515241,\n",
      " 'primary_breed_Border Terrier': 0.0,\n",
      " 'primary_breed_Boston Terrier': 0.005489333729350697,\n",
      " 'primary_breed_Boxer': 0.009309274545272672,\n",
      " 'primary_breed_Brussels Griffon': 0.0,\n",
      " 'primary_breed_Cairn Terrier': 0.0034633362319393007,\n",
      " 'primary_breed_Carolina Dog': 0.0,\n",
      " 'primary_breed_Catahoula Leopard Dog': 0.00840249534688439,\n",
      " 'primary_breed_Cattle Dog': 0.004635276818128302,\n",
      " 'primary_breed_Cavalier King Charles Spaniel': 0.0009576692584582922,\n",
      " 'primary_breed_Chihuahua': 0.018517467124394033,\n",
      " 'primary_breed_Chinese Crested Dog': 0.00037820364077442394,\n",
      " 'primary_breed_Chiweenie': 0.001947423323116011,\n",
      " 'primary_breed_Chocolate Labrador Retriever': 0.0003788254806455929,\n",
      " 'primary_breed_Chow Chow': 0.0015933567662885575,\n",
      " 'primary_breed_Cocker Spaniel': 0.002590826431037997,\n",
      " 'primary_breed_Collie': 0.0021789645884115524,\n",
      " 'primary_breed_Coonhound': 0.0,\n",
      " 'primary_breed_Corgi': 0.012587983996223535,\n",
      " 'primary_breed_Dachshund': 0.009442579903169357,\n",
      " 'primary_breed_Dalmatian': 0.0007556058979169431,\n",
      " 'primary_breed_Doberman Pinscher': 0.005833123060771902,\n",
      " 'primary_breed_Dogo Argentino': 0.0,\n",
      " 'primary_breed_Dutch Shepherd': 0.010372255201290988,\n",
      " 'primary_breed_English Bulldog': 0.0026207140210917105,\n",
      " 'primary_breed_English Coonhound': 0.000732061371158277,\n",
      " 'primary_breed_English Setter': 0.0018380335482823362,\n",
      " 'primary_breed_English Shepherd': 0.0008902866435091349,\n",
      " 'primary_breed_Entlebucher': 0.001676815986690326,\n",
      " 'primary_breed_Feist': 0.0007499867426450259,\n",
      " 'primary_breed_Flat-Coated Retriever': 0.004519525390699778,\n",
      " 'primary_breed_Fox Terrier': 0.0,\n",
      " 'primary_breed_Foxhound': 0.0006714681629233339,\n",
      " 'primary_breed_French Bulldog': 0.0019636567872855968,\n",
      " 'primary_breed_German Shepherd Dog': 0.013579351935311129,\n",
      " 'primary_breed_German Wirehaired Pointer': 0.0020426731232235846,\n",
      " 'primary_breed_Golden Retriever': 0.00602956363044253,\n",
      " 'primary_breed_Goldendoodle': 0.0014925964439261644,\n",
      " 'primary_breed_Great Dane': 0.00019933839149649326,\n",
      " 'primary_breed_Great Pyrenees': 0.005495708013566026,\n",
      " 'primary_breed_Greyhound': 0.00046321347787506366,\n",
      " 'primary_breed_Hound': 0.013308084829317836,\n",
      " 'primary_breed_Husky': 0.00670796780442984,\n",
      " 'primary_breed_Ibizan Hound': 0.0010155218501756685,\n",
      " 'primary_breed_Icelandic Sheepdog': 0.006403030753790945,\n",
      " 'primary_breed_Irish Terrier': 0.0009899176106879324,\n",
      " 'primary_breed_Italian Greyhound': 0.0030992573973934443,\n",
      " 'primary_breed_Jack Russell Terrier': 0.006106672185367606,\n",
      " 'primary_breed_Japanese Chin': 0.0002818938054082514,\n",
      " 'primary_breed_Labradoodle': 0.0,\n",
      " 'primary_breed_Labrador Retriever': 0.02314575259931015,\n",
      " 'primary_breed_Lhasa Apso': 0.00015406750733768575,\n",
      " 'primary_breed_Maltese': 0.003290441864074791,\n",
      " 'primary_breed_Maltipoo': 0.001260748448072653,\n",
      " 'primary_breed_Mastiff': 0.00014178376577340279,\n",
      " 'primary_breed_Miniature Dachshund': 0.0005045372969353431,\n",
      " 'primary_breed_Miniature Pinscher': 0.0002774247680126184,\n",
      " 'primary_breed_Miniature Poodle': 0.004808223735614031,\n",
      " 'primary_breed_Miniature Schnauzer': 0.0032992778667870182,\n",
      " 'primary_breed_Mixed Breed': 0.018344261437611937,\n",
      " 'primary_breed_Mountain Cur': 0.0008218200814901925,\n",
      " 'primary_breed_Newfoundland Dog': 0.0018801514014422749,\n",
      " 'primary_breed_Norfolk Terrier': 0.0007614746905308127,\n",
      " 'primary_breed_Old English Sheepdog': 0.00014566575044550149,\n",
      " 'primary_breed_Parson Russell Terrier': 0.0,\n",
      " 'primary_breed_Patterdale Terrier / Fell Terrier': 0.001520003314115519,\n",
      " 'primary_breed_Pekingese': 0.0010030724212930948,\n",
      " 'primary_breed_Pharaoh Hound': 0.00023052376488343594,\n",
      " 'primary_breed_Pit Bull Terrier': 0.0161367832526058,\n",
      " 'primary_breed_Pointer': 0.0013718919328349205,\n",
      " 'primary_breed_Pomeranian': 0.0012760697704839053,\n",
      " 'primary_breed_Poodle': 0.005728298733753284,\n",
      " 'primary_breed_Pug': 0.003712445247259375,\n",
      " 'primary_breed_Rat Terrier': 0.006585565993784557,\n",
      " 'primary_breed_Retriever': 0.0052378236332734284,\n",
      " 'primary_breed_Rhodesian Ridgeback': 0.001480097254661143,\n",
      " 'primary_breed_Rottweiler': 0.0016898624483935806,\n",
      " 'primary_breed_Saluki': 0.0,\n",
      " 'primary_breed_Schnauzer': 0.006089975875891353,\n",
      " 'primary_breed_Shar-Pei': 0.0006317847801122475,\n",
      " 'primary_breed_Shepherd': 0.011510176590722803,\n",
      " 'primary_breed_Shetland Sheepdog / Sheltie': 0.0009010649659869809,\n",
      " 'primary_breed_Shiba Inu': 0.0020178618643557312,\n",
      " 'primary_breed_Shih Tzu': 0.0075694048169544954,\n",
      " 'primary_breed_Siberian Husky': 0.0035468848242263358,\n",
      " 'primary_breed_Spaniel': 0.002579809996185763,\n",
      " 'primary_breed_Staffordshire Bull Terrier': 0.0034903895994108218,\n",
      " 'primary_breed_Standard Poodle': 0.003519475196405888,\n",
      " 'primary_breed_Terrier': 0.016142811761922896,\n",
      " 'primary_breed_Tibetan Terrier': 0.000948240501950854,\n",
      " 'primary_breed_Vizsla': 0.0006845600061629673,\n",
      " 'primary_breed_Weimaraner': 0.00034983718881510036,\n",
      " 'primary_breed_Whippet': 0.001268813184738915,\n",
      " 'primary_breed_White German Shepherd': 0.0015738921300898553,\n",
      " 'primary_breed_Wirehaired Terrier': 0.0,\n",
      " 'primary_breed_Xoloitzcuintli / Mexican Hairless': 0.0017894705391267554,\n",
      " 'primary_breed_Yellow Labrador Retriever': 0.009305423287313097,\n",
      " 'primary_breed_Yorkshire Terrier': 0.005576765609412505,\n",
      " 'primary_color_Apricot / Beige': 0.01630402666204196,\n",
      " 'primary_color_Bicolor': 0.012585293646272805,\n",
      " 'primary_color_Black': 0.029507921887994934,\n",
      " 'primary_color_Brindle': 0.014274544040800313,\n",
      " 'primary_color_Brown / Chocolate': 0.01901003745215802,\n",
      " 'primary_color_Golden': 0.01373164629500667,\n",
      " 'primary_color_Gray / Blue / Silver': 0.015348466662725985,\n",
      " 'primary_color_Harlequin': 0.004154912210129245,\n",
      " 'primary_color_Merle (Blue)': 0.008866186294059919,\n",
      " 'primary_color_Merle (Red)': 0.004222769601386752,\n",
      " 'primary_color_Red / Chestnut / Orange': 0.01827270966180248,\n",
      " 'primary_color_Sable': 0.0002839935225422543,\n",
      " 'primary_color_Tricolor (Brown, Black, & White)': 0.023077156670755182,\n",
      " 'primary_color_White / Cream': 0.022247350833125262,\n",
      " 'primary_color_Yellow / Tan / Blond / Fawn': 0.018177205889280533,\n",
      " 'size_Extra Large': 0.00509636331442696,\n",
      " 'size_Large': 0.01998819511526786,\n",
      " 'size_Medium': 0.02479455873071254,\n",
      " 'size_Small': 0.016790374383240544}\n"
     ]
    }
   ],
   "source": [
    "# print feature importance dictionary\n",
    "pprint.pprint(feat_import_dict)"
   ]
  },
  {
   "cell_type": "code",
   "execution_count": 8,
   "id": "1fa0faee",
   "metadata": {
    "scrolled": true
   },
   "outputs": [
    {
     "name": "stdout",
     "output_type": "stream",
     "text": [
      "For original random forest regressor function:\n",
      "R2: -0.14361363071107403, MSE: 266444.4669252232\n"
     ]
    }
   ],
   "source": [
    "print(f'''For original random forest regressor function:\\nR2: {r2}, MSE: {mse}''')"
   ]
  },
  {
   "cell_type": "markdown",
   "id": "19125c13",
   "metadata": {},
   "source": [
    "### Test 1b: All X Features\n",
    "Using default regressor function (random_forest_regress_default), which uses default arguments to initialize the random forest regressor model.\n",
    "- Note that Default regressor function is used for the rest of this analysis as it yields better accuracy metrics"
   ]
  },
  {
   "cell_type": "code",
   "execution_count": 9,
   "id": "7732e053",
   "metadata": {
    "scrolled": false
   },
   "outputs": [
    {
     "name": "stdout",
     "output_type": "stream",
     "text": [
      "For default random forest regressor function:\n",
      "R2: -0.1304239463831447, MSE: 263371.47241440933\n"
     ]
    }
   ],
   "source": [
    "feature_importances, feat_import_dict, r2, mse, residuals  = random_forest_regress_default(x_feat_list=x_feat_list, y_col='delta_time_minutes', df=dogs_df_dummies)\n",
    "print(f'''For default random forest regressor function:\\nR2: {r2}, MSE: {mse}''')"
   ]
  },
  {
   "cell_type": "code",
   "execution_count": 10,
   "id": "75529434",
   "metadata": {},
   "outputs": [
    {
     "name": "stdout",
     "output_type": "stream",
     "text": [
      "{'age_Adult': 0.02394334597071881,\n",
      " 'age_Baby': 0.03162537213014921,\n",
      " 'age_Senior': 0.012563302596347938,\n",
      " 'age_Young': 0.02402749255255546,\n",
      " 'coat_Curly': 0.004696072360197436,\n",
      " 'coat_Hairless': 0.0009654011362537067,\n",
      " 'coat_Long': 0.013715873848424303,\n",
      " 'coat_Medium': 0.02304429283460312,\n",
      " 'coat_Short': 0.019644825129121465,\n",
      " 'coat_Wire': 0.005587096907847453,\n",
      " 'compatible_cats': 0.02018483784672507,\n",
      " 'compatible_children': 0.006155873674461105,\n",
      " 'compatible_dogs': 0.008592726262430194,\n",
      " 'gender_Female': 0.02572973723020355,\n",
      " 'gender_Male': 0.026063529044012178,\n",
      " 'primary_breed_Affenpinscher': 0.0013586484666292212,\n",
      " 'primary_breed_Alaskan Malamute': 0.00020160080279138826,\n",
      " 'primary_breed_American Bulldog': 0.006620028381592764,\n",
      " 'primary_breed_American Bully': 0.003014743139494352,\n",
      " 'primary_breed_American Eskimo Dog': 0.0012091107382523978,\n",
      " 'primary_breed_American Staffordshire Terrier': 0.010920113174865019,\n",
      " 'primary_breed_Anatolian Shepherd': 0.0019465063481900829,\n",
      " 'primary_breed_Aussiedoodle': 0.001150014232696496,\n",
      " 'primary_breed_Australian Cattle Dog / Blue Heeler': 0.013298784392351404,\n",
      " 'primary_breed_Australian Kelpie': 0.0014205061564205811,\n",
      " 'primary_breed_Australian Shepherd': 0.017800837375542812,\n",
      " 'primary_breed_Australian Terrier': 0.003251173197323771,\n",
      " 'primary_breed_Basset Hound': 0.0049436455214163484,\n",
      " 'primary_breed_Beagle': 0.011672065597945971,\n",
      " 'primary_breed_Belgian Shepherd / Malinois': 0.0030672023826526433,\n",
      " 'primary_breed_Bernese Mountain Dog': 0.0007929389391130755,\n",
      " 'primary_breed_Bichon Frise': 0.002579862918179961,\n",
      " 'primary_breed_Black Labrador Retriever': 0.010445311215157491,\n",
      " 'primary_breed_Black Mouth Cur': 0.00467286276187595,\n",
      " 'primary_breed_Bloodhound': 0.0013962352316338126,\n",
      " 'primary_breed_Blue Lacy': 0.000525262335511674,\n",
      " 'primary_breed_Border Collie': 0.005679301535045596,\n",
      " 'primary_breed_Border Terrier': 0.0,\n",
      " 'primary_breed_Boston Terrier': 0.005605817707262466,\n",
      " 'primary_breed_Boxer': 0.010077976907997666,\n",
      " 'primary_breed_Brussels Griffon': 0.0,\n",
      " 'primary_breed_Cairn Terrier': 0.0035083817739310096,\n",
      " 'primary_breed_Carolina Dog': 0.0,\n",
      " 'primary_breed_Catahoula Leopard Dog': 0.0071931371333794816,\n",
      " 'primary_breed_Cattle Dog': 0.003890241357121872,\n",
      " 'primary_breed_Cavalier King Charles Spaniel': 0.0017371624779565953,\n",
      " 'primary_breed_Chihuahua': 0.02033801128237093,\n",
      " 'primary_breed_Chinese Crested Dog': 0.00040902365915296377,\n",
      " 'primary_breed_Chiweenie': 0.0021064882908960114,\n",
      " 'primary_breed_Chocolate Labrador Retriever': 0.0003539675188596197,\n",
      " 'primary_breed_Chow Chow': 0.0018067771738884515,\n",
      " 'primary_breed_Cocker Spaniel': 0.0027034727582273704,\n",
      " 'primary_breed_Collie': 0.002495142137675944,\n",
      " 'primary_breed_Coonhound': 0.0,\n",
      " 'primary_breed_Corgi': 0.013421629842896774,\n",
      " 'primary_breed_Dachshund': 0.009727808664797513,\n",
      " 'primary_breed_Dalmatian': 0.0007227315838288774,\n",
      " 'primary_breed_Doberman Pinscher': 0.005978156516033204,\n",
      " 'primary_breed_Dogo Argentino': 0.0,\n",
      " 'primary_breed_Dutch Shepherd': 0.010693846283802292,\n",
      " 'primary_breed_English Bulldog': 0.0038453917368620727,\n",
      " 'primary_breed_English Coonhound': 0.0007873105921631658,\n",
      " 'primary_breed_English Setter': 0.0013015645537386364,\n",
      " 'primary_breed_English Shepherd': 0.00043387285851517575,\n",
      " 'primary_breed_Entlebucher': 0.0017525286957681306,\n",
      " 'primary_breed_Feist': 0.0008892444377125978,\n",
      " 'primary_breed_Flat-Coated Retriever': 0.004127173215090855,\n",
      " 'primary_breed_Fox Terrier': 0.0,\n",
      " 'primary_breed_Foxhound': 0.0009659760422596595,\n",
      " 'primary_breed_French Bulldog': 0.0020777541403212943,\n",
      " 'primary_breed_German Shepherd Dog': 0.014632345963506144,\n",
      " 'primary_breed_German Wirehaired Pointer': 0.0019237900665960755,\n",
      " 'primary_breed_Golden Retriever': 0.006476214938256671,\n",
      " 'primary_breed_Goldendoodle': 0.0015677581134868777,\n",
      " 'primary_breed_Great Dane': 7.156825439329825e-05,\n",
      " 'primary_breed_Great Pyrenees': 0.005451396273156093,\n",
      " 'primary_breed_Greyhound': 0.000266161871073912,\n",
      " 'primary_breed_Hound': 0.01498029620455863,\n",
      " 'primary_breed_Husky': 0.006825121112596315,\n",
      " 'primary_breed_Ibizan Hound': 0.0009117958456454305,\n",
      " 'primary_breed_Icelandic Sheepdog': 0.005367042290857661,\n",
      " 'primary_breed_Irish Terrier': 0.0007192944914584869,\n",
      " 'primary_breed_Italian Greyhound': 0.0035236802561999293,\n",
      " 'primary_breed_Jack Russell Terrier': 0.006297513384846842,\n",
      " 'primary_breed_Japanese Chin': 0.0005839706274351339,\n",
      " 'primary_breed_Labradoodle': 0.0,\n",
      " 'primary_breed_Labrador Retriever': 0.023454975964537588,\n",
      " 'primary_breed_Lhasa Apso': 0.0003967962356627687,\n",
      " 'primary_breed_Maltese': 0.0029828898521166076,\n",
      " 'primary_breed_Maltipoo': 0.0009892029897433335,\n",
      " 'primary_breed_Mastiff': 9.51962831432844e-05,\n",
      " 'primary_breed_Miniature Dachshund': 0.00029008998477087476,\n",
      " 'primary_breed_Miniature Pinscher': 0.0006037598334424305,\n",
      " 'primary_breed_Miniature Poodle': 0.0036062811262916428,\n",
      " 'primary_breed_Miniature Schnauzer': 0.00307659975876219,\n",
      " 'primary_breed_Mixed Breed': 0.01847246873823314,\n",
      " 'primary_breed_Mountain Cur': 0.000655333492305831,\n",
      " 'primary_breed_Newfoundland Dog': 0.0015132389208116987,\n",
      " 'primary_breed_Norfolk Terrier': 0.0006664368130966214,\n",
      " 'primary_breed_Old English Sheepdog': 0.0003678687454783084,\n",
      " 'primary_breed_Parson Russell Terrier': 0.0,\n",
      " 'primary_breed_Patterdale Terrier / Fell Terrier': 0.0014804480593607352,\n",
      " 'primary_breed_Pekingese': 0.0005515998636461734,\n",
      " 'primary_breed_Pharaoh Hound': 0.00023074846369594456,\n",
      " 'primary_breed_Pit Bull Terrier': 0.015231057372398446,\n",
      " 'primary_breed_Pointer': 0.0012702550573248281,\n",
      " 'primary_breed_Pomeranian': 0.0012268002702116834,\n",
      " 'primary_breed_Poodle': 0.004970133901493454,\n",
      " 'primary_breed_Pug': 0.003737873981634473,\n",
      " 'primary_breed_Rat Terrier': 0.00781223770743669,\n",
      " 'primary_breed_Retriever': 0.005812853129687598,\n",
      " 'primary_breed_Rhodesian Ridgeback': 0.001490025939527295,\n",
      " 'primary_breed_Rottweiler': 0.0018854511640300606,\n",
      " 'primary_breed_Saluki': 0.0,\n",
      " 'primary_breed_Schnauzer': 0.0063828878081134,\n",
      " 'primary_breed_Shar-Pei': 0.0004119477379067243,\n",
      " 'primary_breed_Shepherd': 0.012451073165473711,\n",
      " 'primary_breed_Shetland Sheepdog / Sheltie': 0.0007299145976690811,\n",
      " 'primary_breed_Shiba Inu': 0.001372889027798456,\n",
      " 'primary_breed_Shih Tzu': 0.006251492103248523,\n",
      " 'primary_breed_Siberian Husky': 0.003550273655247876,\n",
      " 'primary_breed_Spaniel': 0.0019842678711025725,\n",
      " 'primary_breed_Staffordshire Bull Terrier': 0.0037066785414073505,\n",
      " 'primary_breed_Standard Poodle': 0.003961168305763029,\n",
      " 'primary_breed_Terrier': 0.015221860877165165,\n",
      " 'primary_breed_Tibetan Terrier': 0.0007427454545570507,\n",
      " 'primary_breed_Vizsla': 0.000510517404880876,\n",
      " 'primary_breed_Weimaraner': 0.0005251734586479871,\n",
      " 'primary_breed_Whippet': 0.0009144675968124098,\n",
      " 'primary_breed_White German Shepherd': 0.0011130786882179978,\n",
      " 'primary_breed_Wirehaired Terrier': 0.0,\n",
      " 'primary_breed_Xoloitzcuintli / Mexican Hairless': 0.001611197853671463,\n",
      " 'primary_breed_Yellow Labrador Retriever': 0.008674602838822711,\n",
      " 'primary_breed_Yorkshire Terrier': 0.005537550960721331,\n",
      " 'primary_color_Apricot / Beige': 0.015044976614629764,\n",
      " 'primary_color_Bicolor': 0.013877492847903232,\n",
      " 'primary_color_Black': 0.029716606835731314,\n",
      " 'primary_color_Brindle': 0.014134793516630481,\n",
      " 'primary_color_Brown / Chocolate': 0.019356979232579997,\n",
      " 'primary_color_Golden': 0.012652562027982263,\n",
      " 'primary_color_Gray / Blue / Silver': 0.014101779147675844,\n",
      " 'primary_color_Harlequin': 0.0037280586044880896,\n",
      " 'primary_color_Merle (Blue)': 0.008072314730680909,\n",
      " 'primary_color_Merle (Red)': 0.003056700551054209,\n",
      " 'primary_color_Red / Chestnut / Orange': 0.018847927264544952,\n",
      " 'primary_color_Sable': 0.00019158111911847322,\n",
      " 'primary_color_Tricolor (Brown, Black, & White)': 0.022755433134785768,\n",
      " 'primary_color_White / Cream': 0.023865383439157357,\n",
      " 'primary_color_Yellow / Tan / Blond / Fawn': 0.018296883145719287,\n",
      " 'size_Extra Large': 0.0043876314943288135,\n",
      " 'size_Large': 0.018651928506746455,\n",
      " 'size_Medium': 0.022491212030052846,\n",
      " 'size_Small': 0.01519027075480657}\n"
     ]
    }
   ],
   "source": [
    "pprint.pprint(feat_import_dict)"
   ]
  },
  {
   "cell_type": "code",
   "execution_count": 12,
   "id": "f0d962f5",
   "metadata": {},
   "outputs": [
    {
     "data": {
      "application/vnd.plotly.v1+json": {
       "config": {
        "plotlyServerURL": "https://plot.ly"
       },
       "data": [
        {
         "alignmentgroup": "True",
         "hovertemplate": "Features=%{x}<br>Feature Importances=%{y}<extra></extra>",
         "legendgroup": "",
         "marker": {
          "color": "#636efa",
          "pattern": {
           "shape": ""
          }
         },
         "name": "",
         "offsetgroup": "",
         "orientation": "v",
         "showlegend": false,
         "textposition": "auto",
         "type": "bar",
         "x": [
          "compatible_children",
          "compatible_dogs",
          "compatible_cats",
          "age_Adult",
          "age_Baby",
          "age_Senior",
          "age_Young",
          "gender_Female",
          "gender_Male",
          "size_Extra Large",
          "size_Large",
          "size_Medium",
          "size_Small",
          "coat_Curly",
          "coat_Hairless",
          "coat_Long",
          "coat_Medium",
          "coat_Short",
          "coat_Wire",
          "primary_breed_Affenpinscher",
          "primary_breed_Alaskan Malamute",
          "primary_breed_American Bulldog",
          "primary_breed_American Bully",
          "primary_breed_American Eskimo Dog",
          "primary_breed_American Staffordshire Terrier",
          "primary_breed_Anatolian Shepherd",
          "primary_breed_Aussiedoodle",
          "primary_breed_Australian Cattle Dog / Blue Heeler",
          "primary_breed_Australian Kelpie",
          "primary_breed_Australian Shepherd",
          "primary_breed_Australian Terrier",
          "primary_breed_Basset Hound",
          "primary_breed_Beagle",
          "primary_breed_Belgian Shepherd / Malinois",
          "primary_breed_Bernese Mountain Dog",
          "primary_breed_Bichon Frise",
          "primary_breed_Black Labrador Retriever",
          "primary_breed_Black Mouth Cur",
          "primary_breed_Bloodhound",
          "primary_breed_Blue Lacy",
          "primary_breed_Border Collie",
          "primary_breed_Border Terrier",
          "primary_breed_Boston Terrier",
          "primary_breed_Boxer",
          "primary_breed_Brussels Griffon",
          "primary_breed_Cairn Terrier",
          "primary_breed_Carolina Dog",
          "primary_breed_Catahoula Leopard Dog",
          "primary_breed_Cattle Dog",
          "primary_breed_Cavalier King Charles Spaniel",
          "primary_breed_Chihuahua",
          "primary_breed_Chinese Crested Dog",
          "primary_breed_Chiweenie",
          "primary_breed_Chocolate Labrador Retriever",
          "primary_breed_Chow Chow",
          "primary_breed_Cocker Spaniel",
          "primary_breed_Collie",
          "primary_breed_Coonhound",
          "primary_breed_Corgi",
          "primary_breed_Dachshund",
          "primary_breed_Dalmatian",
          "primary_breed_Doberman Pinscher",
          "primary_breed_Dogo Argentino",
          "primary_breed_Dutch Shepherd",
          "primary_breed_English Bulldog",
          "primary_breed_English Coonhound",
          "primary_breed_English Setter",
          "primary_breed_English Shepherd",
          "primary_breed_Entlebucher",
          "primary_breed_Feist",
          "primary_breed_Flat-Coated Retriever",
          "primary_breed_Fox Terrier",
          "primary_breed_Foxhound",
          "primary_breed_French Bulldog",
          "primary_breed_German Shepherd Dog",
          "primary_breed_German Wirehaired Pointer",
          "primary_breed_Golden Retriever",
          "primary_breed_Goldendoodle",
          "primary_breed_Great Dane",
          "primary_breed_Great Pyrenees",
          "primary_breed_Greyhound",
          "primary_breed_Hound",
          "primary_breed_Husky",
          "primary_breed_Ibizan Hound",
          "primary_breed_Icelandic Sheepdog",
          "primary_breed_Irish Terrier",
          "primary_breed_Italian Greyhound",
          "primary_breed_Jack Russell Terrier",
          "primary_breed_Japanese Chin",
          "primary_breed_Labradoodle",
          "primary_breed_Labrador Retriever",
          "primary_breed_Lhasa Apso",
          "primary_breed_Maltese",
          "primary_breed_Maltipoo",
          "primary_breed_Mastiff",
          "primary_breed_Miniature Dachshund",
          "primary_breed_Miniature Pinscher",
          "primary_breed_Miniature Poodle",
          "primary_breed_Miniature Schnauzer",
          "primary_breed_Mixed Breed",
          "primary_breed_Mountain Cur",
          "primary_breed_Newfoundland Dog",
          "primary_breed_Norfolk Terrier",
          "primary_breed_Old English Sheepdog",
          "primary_breed_Parson Russell Terrier",
          "primary_breed_Patterdale Terrier / Fell Terrier",
          "primary_breed_Pekingese",
          "primary_breed_Pharaoh Hound",
          "primary_breed_Pit Bull Terrier",
          "primary_breed_Pointer",
          "primary_breed_Pomeranian",
          "primary_breed_Poodle",
          "primary_breed_Pug",
          "primary_breed_Rat Terrier",
          "primary_breed_Retriever",
          "primary_breed_Rhodesian Ridgeback",
          "primary_breed_Rottweiler",
          "primary_breed_Saluki",
          "primary_breed_Schnauzer",
          "primary_breed_Shar-Pei",
          "primary_breed_Shepherd",
          "primary_breed_Shetland Sheepdog / Sheltie",
          "primary_breed_Shiba Inu",
          "primary_breed_Shih Tzu",
          "primary_breed_Siberian Husky",
          "primary_breed_Spaniel",
          "primary_breed_Staffordshire Bull Terrier",
          "primary_breed_Standard Poodle",
          "primary_breed_Terrier",
          "primary_breed_Tibetan Terrier",
          "primary_breed_Vizsla",
          "primary_breed_Weimaraner",
          "primary_breed_Whippet",
          "primary_breed_White German Shepherd",
          "primary_breed_Wirehaired Terrier",
          "primary_breed_Xoloitzcuintli / Mexican Hairless",
          "primary_breed_Yellow Labrador Retriever",
          "primary_breed_Yorkshire Terrier",
          "primary_color_Apricot / Beige",
          "primary_color_Bicolor",
          "primary_color_Black",
          "primary_color_Brindle",
          "primary_color_Brown / Chocolate",
          "primary_color_Golden",
          "primary_color_Gray / Blue / Silver",
          "primary_color_Harlequin",
          "primary_color_Merle (Blue)",
          "primary_color_Merle (Red)",
          "primary_color_Red / Chestnut / Orange",
          "primary_color_Sable",
          "primary_color_Tricolor (Brown, Black, & White)",
          "primary_color_White / Cream",
          "primary_color_Yellow / Tan / Blond / Fawn"
         ],
         "xaxis": "x",
         "y": [
          0.006155873674461105,
          0.008592726262430194,
          0.02018483784672507,
          0.02394334597071881,
          0.03162537213014921,
          0.012563302596347938,
          0.02402749255255546,
          0.02572973723020355,
          0.026063529044012178,
          0.0043876314943288135,
          0.018651928506746455,
          0.022491212030052846,
          0.01519027075480657,
          0.004696072360197436,
          0.0009654011362537067,
          0.013715873848424303,
          0.02304429283460312,
          0.019644825129121465,
          0.005587096907847453,
          0.0013586484666292212,
          0.00020160080279138826,
          0.006620028381592764,
          0.003014743139494352,
          0.0012091107382523978,
          0.010920113174865019,
          0.0019465063481900829,
          0.001150014232696496,
          0.013298784392351404,
          0.0014205061564205811,
          0.017800837375542812,
          0.003251173197323771,
          0.0049436455214163484,
          0.011672065597945971,
          0.0030672023826526433,
          0.0007929389391130755,
          0.002579862918179961,
          0.010445311215157491,
          0.00467286276187595,
          0.0013962352316338126,
          0.000525262335511674,
          0.005679301535045596,
          0,
          0.005605817707262466,
          0.010077976907997666,
          0,
          0.0035083817739310096,
          0,
          0.0071931371333794816,
          0.003890241357121872,
          0.0017371624779565953,
          0.02033801128237093,
          0.00040902365915296377,
          0.0021064882908960114,
          0.0003539675188596197,
          0.0018067771738884515,
          0.0027034727582273704,
          0.002495142137675944,
          0,
          0.013421629842896774,
          0.009727808664797513,
          0.0007227315838288774,
          0.005978156516033204,
          0,
          0.010693846283802292,
          0.0038453917368620727,
          0.0007873105921631658,
          0.0013015645537386364,
          0.00043387285851517575,
          0.0017525286957681306,
          0.0008892444377125978,
          0.004127173215090855,
          0,
          0.0009659760422596595,
          0.0020777541403212943,
          0.014632345963506144,
          0.0019237900665960755,
          0.006476214938256671,
          0.0015677581134868777,
          7.156825439329825e-05,
          0.005451396273156093,
          0.000266161871073912,
          0.01498029620455863,
          0.006825121112596315,
          0.0009117958456454305,
          0.005367042290857661,
          0.0007192944914584869,
          0.0035236802561999293,
          0.006297513384846842,
          0.0005839706274351339,
          0,
          0.023454975964537588,
          0.0003967962356627687,
          0.0029828898521166076,
          0.0009892029897433335,
          9.51962831432844e-05,
          0.00029008998477087476,
          0.0006037598334424305,
          0.0036062811262916428,
          0.00307659975876219,
          0.01847246873823314,
          0.000655333492305831,
          0.0015132389208116987,
          0.0006664368130966214,
          0.0003678687454783084,
          0,
          0.0014804480593607352,
          0.0005515998636461734,
          0.00023074846369594456,
          0.015231057372398446,
          0.0012702550573248281,
          0.0012268002702116834,
          0.004970133901493454,
          0.003737873981634473,
          0.00781223770743669,
          0.005812853129687598,
          0.001490025939527295,
          0.0018854511640300606,
          0,
          0.0063828878081134,
          0.0004119477379067243,
          0.012451073165473711,
          0.0007299145976690811,
          0.001372889027798456,
          0.006251492103248523,
          0.003550273655247876,
          0.0019842678711025725,
          0.0037066785414073505,
          0.003961168305763029,
          0.015221860877165165,
          0.0007427454545570507,
          0.000510517404880876,
          0.0005251734586479871,
          0.0009144675968124098,
          0.0011130786882179978,
          0,
          0.001611197853671463,
          0.008674602838822711,
          0.005537550960721331,
          0.015044976614629764,
          0.013877492847903232,
          0.029716606835731314,
          0.014134793516630481,
          0.019356979232579997,
          0.012652562027982263,
          0.014101779147675844,
          0.0037280586044880896,
          0.008072314730680909,
          0.003056700551054209,
          0.018847927264544952,
          0.00019158111911847322,
          0.022755433134785768,
          0.023865383439157357,
          0.018296883145719287
         ],
         "yaxis": "y"
        }
       ],
       "layout": {
        "barmode": "relative",
        "legend": {
         "tracegroupgap": 0
        },
        "template": {
         "data": {
          "bar": [
           {
            "error_x": {
             "color": "#2a3f5f"
            },
            "error_y": {
             "color": "#2a3f5f"
            },
            "marker": {
             "line": {
              "color": "#E5ECF6",
              "width": 0.5
             },
             "pattern": {
              "fillmode": "overlay",
              "size": 10,
              "solidity": 0.2
             }
            },
            "type": "bar"
           }
          ],
          "barpolar": [
           {
            "marker": {
             "line": {
              "color": "#E5ECF6",
              "width": 0.5
             },
             "pattern": {
              "fillmode": "overlay",
              "size": 10,
              "solidity": 0.2
             }
            },
            "type": "barpolar"
           }
          ],
          "carpet": [
           {
            "aaxis": {
             "endlinecolor": "#2a3f5f",
             "gridcolor": "white",
             "linecolor": "white",
             "minorgridcolor": "white",
             "startlinecolor": "#2a3f5f"
            },
            "baxis": {
             "endlinecolor": "#2a3f5f",
             "gridcolor": "white",
             "linecolor": "white",
             "minorgridcolor": "white",
             "startlinecolor": "#2a3f5f"
            },
            "type": "carpet"
           }
          ],
          "choropleth": [
           {
            "colorbar": {
             "outlinewidth": 0,
             "ticks": ""
            },
            "type": "choropleth"
           }
          ],
          "contour": [
           {
            "colorbar": {
             "outlinewidth": 0,
             "ticks": ""
            },
            "colorscale": [
             [
              0,
              "#0d0887"
             ],
             [
              0.1111111111111111,
              "#46039f"
             ],
             [
              0.2222222222222222,
              "#7201a8"
             ],
             [
              0.3333333333333333,
              "#9c179e"
             ],
             [
              0.4444444444444444,
              "#bd3786"
             ],
             [
              0.5555555555555556,
              "#d8576b"
             ],
             [
              0.6666666666666666,
              "#ed7953"
             ],
             [
              0.7777777777777778,
              "#fb9f3a"
             ],
             [
              0.8888888888888888,
              "#fdca26"
             ],
             [
              1,
              "#f0f921"
             ]
            ],
            "type": "contour"
           }
          ],
          "contourcarpet": [
           {
            "colorbar": {
             "outlinewidth": 0,
             "ticks": ""
            },
            "type": "contourcarpet"
           }
          ],
          "heatmap": [
           {
            "colorbar": {
             "outlinewidth": 0,
             "ticks": ""
            },
            "colorscale": [
             [
              0,
              "#0d0887"
             ],
             [
              0.1111111111111111,
              "#46039f"
             ],
             [
              0.2222222222222222,
              "#7201a8"
             ],
             [
              0.3333333333333333,
              "#9c179e"
             ],
             [
              0.4444444444444444,
              "#bd3786"
             ],
             [
              0.5555555555555556,
              "#d8576b"
             ],
             [
              0.6666666666666666,
              "#ed7953"
             ],
             [
              0.7777777777777778,
              "#fb9f3a"
             ],
             [
              0.8888888888888888,
              "#fdca26"
             ],
             [
              1,
              "#f0f921"
             ]
            ],
            "type": "heatmap"
           }
          ],
          "heatmapgl": [
           {
            "colorbar": {
             "outlinewidth": 0,
             "ticks": ""
            },
            "colorscale": [
             [
              0,
              "#0d0887"
             ],
             [
              0.1111111111111111,
              "#46039f"
             ],
             [
              0.2222222222222222,
              "#7201a8"
             ],
             [
              0.3333333333333333,
              "#9c179e"
             ],
             [
              0.4444444444444444,
              "#bd3786"
             ],
             [
              0.5555555555555556,
              "#d8576b"
             ],
             [
              0.6666666666666666,
              "#ed7953"
             ],
             [
              0.7777777777777778,
              "#fb9f3a"
             ],
             [
              0.8888888888888888,
              "#fdca26"
             ],
             [
              1,
              "#f0f921"
             ]
            ],
            "type": "heatmapgl"
           }
          ],
          "histogram": [
           {
            "marker": {
             "pattern": {
              "fillmode": "overlay",
              "size": 10,
              "solidity": 0.2
             }
            },
            "type": "histogram"
           }
          ],
          "histogram2d": [
           {
            "colorbar": {
             "outlinewidth": 0,
             "ticks": ""
            },
            "colorscale": [
             [
              0,
              "#0d0887"
             ],
             [
              0.1111111111111111,
              "#46039f"
             ],
             [
              0.2222222222222222,
              "#7201a8"
             ],
             [
              0.3333333333333333,
              "#9c179e"
             ],
             [
              0.4444444444444444,
              "#bd3786"
             ],
             [
              0.5555555555555556,
              "#d8576b"
             ],
             [
              0.6666666666666666,
              "#ed7953"
             ],
             [
              0.7777777777777778,
              "#fb9f3a"
             ],
             [
              0.8888888888888888,
              "#fdca26"
             ],
             [
              1,
              "#f0f921"
             ]
            ],
            "type": "histogram2d"
           }
          ],
          "histogram2dcontour": [
           {
            "colorbar": {
             "outlinewidth": 0,
             "ticks": ""
            },
            "colorscale": [
             [
              0,
              "#0d0887"
             ],
             [
              0.1111111111111111,
              "#46039f"
             ],
             [
              0.2222222222222222,
              "#7201a8"
             ],
             [
              0.3333333333333333,
              "#9c179e"
             ],
             [
              0.4444444444444444,
              "#bd3786"
             ],
             [
              0.5555555555555556,
              "#d8576b"
             ],
             [
              0.6666666666666666,
              "#ed7953"
             ],
             [
              0.7777777777777778,
              "#fb9f3a"
             ],
             [
              0.8888888888888888,
              "#fdca26"
             ],
             [
              1,
              "#f0f921"
             ]
            ],
            "type": "histogram2dcontour"
           }
          ],
          "mesh3d": [
           {
            "colorbar": {
             "outlinewidth": 0,
             "ticks": ""
            },
            "type": "mesh3d"
           }
          ],
          "parcoords": [
           {
            "line": {
             "colorbar": {
              "outlinewidth": 0,
              "ticks": ""
             }
            },
            "type": "parcoords"
           }
          ],
          "pie": [
           {
            "automargin": true,
            "type": "pie"
           }
          ],
          "scatter": [
           {
            "marker": {
             "colorbar": {
              "outlinewidth": 0,
              "ticks": ""
             }
            },
            "type": "scatter"
           }
          ],
          "scatter3d": [
           {
            "line": {
             "colorbar": {
              "outlinewidth": 0,
              "ticks": ""
             }
            },
            "marker": {
             "colorbar": {
              "outlinewidth": 0,
              "ticks": ""
             }
            },
            "type": "scatter3d"
           }
          ],
          "scattercarpet": [
           {
            "marker": {
             "colorbar": {
              "outlinewidth": 0,
              "ticks": ""
             }
            },
            "type": "scattercarpet"
           }
          ],
          "scattergeo": [
           {
            "marker": {
             "colorbar": {
              "outlinewidth": 0,
              "ticks": ""
             }
            },
            "type": "scattergeo"
           }
          ],
          "scattergl": [
           {
            "marker": {
             "colorbar": {
              "outlinewidth": 0,
              "ticks": ""
             }
            },
            "type": "scattergl"
           }
          ],
          "scattermapbox": [
           {
            "marker": {
             "colorbar": {
              "outlinewidth": 0,
              "ticks": ""
             }
            },
            "type": "scattermapbox"
           }
          ],
          "scatterpolar": [
           {
            "marker": {
             "colorbar": {
              "outlinewidth": 0,
              "ticks": ""
             }
            },
            "type": "scatterpolar"
           }
          ],
          "scatterpolargl": [
           {
            "marker": {
             "colorbar": {
              "outlinewidth": 0,
              "ticks": ""
             }
            },
            "type": "scatterpolargl"
           }
          ],
          "scatterternary": [
           {
            "marker": {
             "colorbar": {
              "outlinewidth": 0,
              "ticks": ""
             }
            },
            "type": "scatterternary"
           }
          ],
          "surface": [
           {
            "colorbar": {
             "outlinewidth": 0,
             "ticks": ""
            },
            "colorscale": [
             [
              0,
              "#0d0887"
             ],
             [
              0.1111111111111111,
              "#46039f"
             ],
             [
              0.2222222222222222,
              "#7201a8"
             ],
             [
              0.3333333333333333,
              "#9c179e"
             ],
             [
              0.4444444444444444,
              "#bd3786"
             ],
             [
              0.5555555555555556,
              "#d8576b"
             ],
             [
              0.6666666666666666,
              "#ed7953"
             ],
             [
              0.7777777777777778,
              "#fb9f3a"
             ],
             [
              0.8888888888888888,
              "#fdca26"
             ],
             [
              1,
              "#f0f921"
             ]
            ],
            "type": "surface"
           }
          ],
          "table": [
           {
            "cells": {
             "fill": {
              "color": "#EBF0F8"
             },
             "line": {
              "color": "white"
             }
            },
            "header": {
             "fill": {
              "color": "#C8D4E3"
             },
             "line": {
              "color": "white"
             }
            },
            "type": "table"
           }
          ]
         },
         "layout": {
          "annotationdefaults": {
           "arrowcolor": "#2a3f5f",
           "arrowhead": 0,
           "arrowwidth": 1
          },
          "autotypenumbers": "strict",
          "coloraxis": {
           "colorbar": {
            "outlinewidth": 0,
            "ticks": ""
           }
          },
          "colorscale": {
           "diverging": [
            [
             0,
             "#8e0152"
            ],
            [
             0.1,
             "#c51b7d"
            ],
            [
             0.2,
             "#de77ae"
            ],
            [
             0.3,
             "#f1b6da"
            ],
            [
             0.4,
             "#fde0ef"
            ],
            [
             0.5,
             "#f7f7f7"
            ],
            [
             0.6,
             "#e6f5d0"
            ],
            [
             0.7,
             "#b8e186"
            ],
            [
             0.8,
             "#7fbc41"
            ],
            [
             0.9,
             "#4d9221"
            ],
            [
             1,
             "#276419"
            ]
           ],
           "sequential": [
            [
             0,
             "#0d0887"
            ],
            [
             0.1111111111111111,
             "#46039f"
            ],
            [
             0.2222222222222222,
             "#7201a8"
            ],
            [
             0.3333333333333333,
             "#9c179e"
            ],
            [
             0.4444444444444444,
             "#bd3786"
            ],
            [
             0.5555555555555556,
             "#d8576b"
            ],
            [
             0.6666666666666666,
             "#ed7953"
            ],
            [
             0.7777777777777778,
             "#fb9f3a"
            ],
            [
             0.8888888888888888,
             "#fdca26"
            ],
            [
             1,
             "#f0f921"
            ]
           ],
           "sequentialminus": [
            [
             0,
             "#0d0887"
            ],
            [
             0.1111111111111111,
             "#46039f"
            ],
            [
             0.2222222222222222,
             "#7201a8"
            ],
            [
             0.3333333333333333,
             "#9c179e"
            ],
            [
             0.4444444444444444,
             "#bd3786"
            ],
            [
             0.5555555555555556,
             "#d8576b"
            ],
            [
             0.6666666666666666,
             "#ed7953"
            ],
            [
             0.7777777777777778,
             "#fb9f3a"
            ],
            [
             0.8888888888888888,
             "#fdca26"
            ],
            [
             1,
             "#f0f921"
            ]
           ]
          },
          "colorway": [
           "#636efa",
           "#EF553B",
           "#00cc96",
           "#ab63fa",
           "#FFA15A",
           "#19d3f3",
           "#FF6692",
           "#B6E880",
           "#FF97FF",
           "#FECB52"
          ],
          "font": {
           "color": "#2a3f5f"
          },
          "geo": {
           "bgcolor": "white",
           "lakecolor": "white",
           "landcolor": "#E5ECF6",
           "showlakes": true,
           "showland": true,
           "subunitcolor": "white"
          },
          "hoverlabel": {
           "align": "left"
          },
          "hovermode": "closest",
          "mapbox": {
           "style": "light"
          },
          "paper_bgcolor": "white",
          "plot_bgcolor": "#E5ECF6",
          "polar": {
           "angularaxis": {
            "gridcolor": "white",
            "linecolor": "white",
            "ticks": ""
           },
           "bgcolor": "#E5ECF6",
           "radialaxis": {
            "gridcolor": "white",
            "linecolor": "white",
            "ticks": ""
           }
          },
          "scene": {
           "xaxis": {
            "backgroundcolor": "#E5ECF6",
            "gridcolor": "white",
            "gridwidth": 2,
            "linecolor": "white",
            "showbackground": true,
            "ticks": "",
            "zerolinecolor": "white"
           },
           "yaxis": {
            "backgroundcolor": "#E5ECF6",
            "gridcolor": "white",
            "gridwidth": 2,
            "linecolor": "white",
            "showbackground": true,
            "ticks": "",
            "zerolinecolor": "white"
           },
           "zaxis": {
            "backgroundcolor": "#E5ECF6",
            "gridcolor": "white",
            "gridwidth": 2,
            "linecolor": "white",
            "showbackground": true,
            "ticks": "",
            "zerolinecolor": "white"
           }
          },
          "shapedefaults": {
           "line": {
            "color": "#2a3f5f"
           }
          },
          "ternary": {
           "aaxis": {
            "gridcolor": "white",
            "linecolor": "white",
            "ticks": ""
           },
           "baxis": {
            "gridcolor": "white",
            "linecolor": "white",
            "ticks": ""
           },
           "bgcolor": "#E5ECF6",
           "caxis": {
            "gridcolor": "white",
            "linecolor": "white",
            "ticks": ""
           }
          },
          "title": {
           "x": 0.05
          },
          "xaxis": {
           "automargin": true,
           "gridcolor": "white",
           "linecolor": "white",
           "ticks": "",
           "title": {
            "standoff": 15
           },
           "zerolinecolor": "white",
           "zerolinewidth": 2
          },
          "yaxis": {
           "automargin": true,
           "gridcolor": "white",
           "linecolor": "white",
           "ticks": "",
           "title": {
            "standoff": 15
           },
           "zerolinecolor": "white",
           "zerolinewidth": 2
          }
         }
        },
        "title": {
         "text": "Feature Importances of Features in Random Forest Regressor"
        },
        "xaxis": {
         "anchor": "y",
         "categoryorder": "total descending",
         "domain": [
          0,
          1
         ],
         "title": {
          "text": "Features"
         }
        },
        "yaxis": {
         "anchor": "x",
         "domain": [
          0,
          1
         ],
         "title": {
          "text": "Feature Importances"
         }
        }
       }
      },
      "text/html": [
       "<div>                            <div id=\"a5bd72cd-a7f5-40c4-a85b-d0845b78f4f0\" class=\"plotly-graph-div\" style=\"height:525px; width:100%;\"></div>            <script type=\"text/javascript\">                require([\"plotly\"], function(Plotly) {                    window.PLOTLYENV=window.PLOTLYENV || {};                                    if (document.getElementById(\"a5bd72cd-a7f5-40c4-a85b-d0845b78f4f0\")) {                    Plotly.newPlot(                        \"a5bd72cd-a7f5-40c4-a85b-d0845b78f4f0\",                        [{\"alignmentgroup\":\"True\",\"hovertemplate\":\"Features=%{x}<br>Feature Importances=%{y}<extra></extra>\",\"legendgroup\":\"\",\"marker\":{\"color\":\"#636efa\",\"pattern\":{\"shape\":\"\"}},\"name\":\"\",\"offsetgroup\":\"\",\"orientation\":\"v\",\"showlegend\":false,\"textposition\":\"auto\",\"x\":[\"compatible_children\",\"compatible_dogs\",\"compatible_cats\",\"age_Adult\",\"age_Baby\",\"age_Senior\",\"age_Young\",\"gender_Female\",\"gender_Male\",\"size_Extra Large\",\"size_Large\",\"size_Medium\",\"size_Small\",\"coat_Curly\",\"coat_Hairless\",\"coat_Long\",\"coat_Medium\",\"coat_Short\",\"coat_Wire\",\"primary_breed_Affenpinscher\",\"primary_breed_Alaskan Malamute\",\"primary_breed_American Bulldog\",\"primary_breed_American Bully\",\"primary_breed_American Eskimo Dog\",\"primary_breed_American Staffordshire Terrier\",\"primary_breed_Anatolian Shepherd\",\"primary_breed_Aussiedoodle\",\"primary_breed_Australian Cattle Dog / Blue Heeler\",\"primary_breed_Australian Kelpie\",\"primary_breed_Australian Shepherd\",\"primary_breed_Australian Terrier\",\"primary_breed_Basset Hound\",\"primary_breed_Beagle\",\"primary_breed_Belgian Shepherd / Malinois\",\"primary_breed_Bernese Mountain Dog\",\"primary_breed_Bichon Frise\",\"primary_breed_Black Labrador Retriever\",\"primary_breed_Black Mouth Cur\",\"primary_breed_Bloodhound\",\"primary_breed_Blue Lacy\",\"primary_breed_Border Collie\",\"primary_breed_Border Terrier\",\"primary_breed_Boston Terrier\",\"primary_breed_Boxer\",\"primary_breed_Brussels Griffon\",\"primary_breed_Cairn Terrier\",\"primary_breed_Carolina Dog\",\"primary_breed_Catahoula Leopard Dog\",\"primary_breed_Cattle Dog\",\"primary_breed_Cavalier King Charles Spaniel\",\"primary_breed_Chihuahua\",\"primary_breed_Chinese Crested Dog\",\"primary_breed_Chiweenie\",\"primary_breed_Chocolate Labrador Retriever\",\"primary_breed_Chow Chow\",\"primary_breed_Cocker Spaniel\",\"primary_breed_Collie\",\"primary_breed_Coonhound\",\"primary_breed_Corgi\",\"primary_breed_Dachshund\",\"primary_breed_Dalmatian\",\"primary_breed_Doberman Pinscher\",\"primary_breed_Dogo Argentino\",\"primary_breed_Dutch Shepherd\",\"primary_breed_English Bulldog\",\"primary_breed_English Coonhound\",\"primary_breed_English Setter\",\"primary_breed_English Shepherd\",\"primary_breed_Entlebucher\",\"primary_breed_Feist\",\"primary_breed_Flat-Coated Retriever\",\"primary_breed_Fox Terrier\",\"primary_breed_Foxhound\",\"primary_breed_French Bulldog\",\"primary_breed_German Shepherd Dog\",\"primary_breed_German Wirehaired Pointer\",\"primary_breed_Golden Retriever\",\"primary_breed_Goldendoodle\",\"primary_breed_Great Dane\",\"primary_breed_Great Pyrenees\",\"primary_breed_Greyhound\",\"primary_breed_Hound\",\"primary_breed_Husky\",\"primary_breed_Ibizan Hound\",\"primary_breed_Icelandic Sheepdog\",\"primary_breed_Irish Terrier\",\"primary_breed_Italian Greyhound\",\"primary_breed_Jack Russell Terrier\",\"primary_breed_Japanese Chin\",\"primary_breed_Labradoodle\",\"primary_breed_Labrador Retriever\",\"primary_breed_Lhasa Apso\",\"primary_breed_Maltese\",\"primary_breed_Maltipoo\",\"primary_breed_Mastiff\",\"primary_breed_Miniature Dachshund\",\"primary_breed_Miniature Pinscher\",\"primary_breed_Miniature Poodle\",\"primary_breed_Miniature Schnauzer\",\"primary_breed_Mixed Breed\",\"primary_breed_Mountain Cur\",\"primary_breed_Newfoundland Dog\",\"primary_breed_Norfolk Terrier\",\"primary_breed_Old English Sheepdog\",\"primary_breed_Parson Russell Terrier\",\"primary_breed_Patterdale Terrier / Fell Terrier\",\"primary_breed_Pekingese\",\"primary_breed_Pharaoh Hound\",\"primary_breed_Pit Bull Terrier\",\"primary_breed_Pointer\",\"primary_breed_Pomeranian\",\"primary_breed_Poodle\",\"primary_breed_Pug\",\"primary_breed_Rat Terrier\",\"primary_breed_Retriever\",\"primary_breed_Rhodesian Ridgeback\",\"primary_breed_Rottweiler\",\"primary_breed_Saluki\",\"primary_breed_Schnauzer\",\"primary_breed_Shar-Pei\",\"primary_breed_Shepherd\",\"primary_breed_Shetland Sheepdog / Sheltie\",\"primary_breed_Shiba Inu\",\"primary_breed_Shih Tzu\",\"primary_breed_Siberian Husky\",\"primary_breed_Spaniel\",\"primary_breed_Staffordshire Bull Terrier\",\"primary_breed_Standard Poodle\",\"primary_breed_Terrier\",\"primary_breed_Tibetan Terrier\",\"primary_breed_Vizsla\",\"primary_breed_Weimaraner\",\"primary_breed_Whippet\",\"primary_breed_White German Shepherd\",\"primary_breed_Wirehaired Terrier\",\"primary_breed_Xoloitzcuintli / Mexican Hairless\",\"primary_breed_Yellow Labrador Retriever\",\"primary_breed_Yorkshire Terrier\",\"primary_color_Apricot / Beige\",\"primary_color_Bicolor\",\"primary_color_Black\",\"primary_color_Brindle\",\"primary_color_Brown / Chocolate\",\"primary_color_Golden\",\"primary_color_Gray / Blue / Silver\",\"primary_color_Harlequin\",\"primary_color_Merle (Blue)\",\"primary_color_Merle (Red)\",\"primary_color_Red / Chestnut / Orange\",\"primary_color_Sable\",\"primary_color_Tricolor (Brown, Black, & White)\",\"primary_color_White / Cream\",\"primary_color_Yellow / Tan / Blond / Fawn\"],\"xaxis\":\"x\",\"y\":[0.006155873674461105,0.008592726262430194,0.02018483784672507,0.02394334597071881,0.03162537213014921,0.012563302596347938,0.02402749255255546,0.02572973723020355,0.026063529044012178,0.0043876314943288135,0.018651928506746455,0.022491212030052846,0.01519027075480657,0.004696072360197436,0.0009654011362537067,0.013715873848424303,0.02304429283460312,0.019644825129121465,0.005587096907847453,0.0013586484666292212,0.00020160080279138826,0.006620028381592764,0.003014743139494352,0.0012091107382523978,0.010920113174865019,0.0019465063481900829,0.001150014232696496,0.013298784392351404,0.0014205061564205811,0.017800837375542812,0.003251173197323771,0.0049436455214163484,0.011672065597945971,0.0030672023826526433,0.0007929389391130755,0.002579862918179961,0.010445311215157491,0.00467286276187595,0.0013962352316338126,0.000525262335511674,0.005679301535045596,0.0,0.005605817707262466,0.010077976907997666,0.0,0.0035083817739310096,0.0,0.0071931371333794816,0.003890241357121872,0.0017371624779565953,0.02033801128237093,0.00040902365915296377,0.0021064882908960114,0.0003539675188596197,0.0018067771738884515,0.0027034727582273704,0.002495142137675944,0.0,0.013421629842896774,0.009727808664797513,0.0007227315838288774,0.005978156516033204,0.0,0.010693846283802292,0.0038453917368620727,0.0007873105921631658,0.0013015645537386364,0.00043387285851517575,0.0017525286957681306,0.0008892444377125978,0.004127173215090855,0.0,0.0009659760422596595,0.0020777541403212943,0.014632345963506144,0.0019237900665960755,0.006476214938256671,0.0015677581134868777,7.156825439329825e-05,0.005451396273156093,0.000266161871073912,0.01498029620455863,0.006825121112596315,0.0009117958456454305,0.005367042290857661,0.0007192944914584869,0.0035236802561999293,0.006297513384846842,0.0005839706274351339,0.0,0.023454975964537588,0.0003967962356627687,0.0029828898521166076,0.0009892029897433335,9.51962831432844e-05,0.00029008998477087476,0.0006037598334424305,0.0036062811262916428,0.00307659975876219,0.01847246873823314,0.000655333492305831,0.0015132389208116987,0.0006664368130966214,0.0003678687454783084,0.0,0.0014804480593607352,0.0005515998636461734,0.00023074846369594456,0.015231057372398446,0.0012702550573248281,0.0012268002702116834,0.004970133901493454,0.003737873981634473,0.00781223770743669,0.005812853129687598,0.001490025939527295,0.0018854511640300606,0.0,0.0063828878081134,0.0004119477379067243,0.012451073165473711,0.0007299145976690811,0.001372889027798456,0.006251492103248523,0.003550273655247876,0.0019842678711025725,0.0037066785414073505,0.003961168305763029,0.015221860877165165,0.0007427454545570507,0.000510517404880876,0.0005251734586479871,0.0009144675968124098,0.0011130786882179978,0.0,0.001611197853671463,0.008674602838822711,0.005537550960721331,0.015044976614629764,0.013877492847903232,0.029716606835731314,0.014134793516630481,0.019356979232579997,0.012652562027982263,0.014101779147675844,0.0037280586044880896,0.008072314730680909,0.003056700551054209,0.018847927264544952,0.00019158111911847322,0.022755433134785768,0.023865383439157357,0.018296883145719287],\"yaxis\":\"y\",\"type\":\"bar\"}],                        {\"template\":{\"data\":{\"bar\":[{\"error_x\":{\"color\":\"#2a3f5f\"},\"error_y\":{\"color\":\"#2a3f5f\"},\"marker\":{\"line\":{\"color\":\"#E5ECF6\",\"width\":0.5},\"pattern\":{\"fillmode\":\"overlay\",\"size\":10,\"solidity\":0.2}},\"type\":\"bar\"}],\"barpolar\":[{\"marker\":{\"line\":{\"color\":\"#E5ECF6\",\"width\":0.5},\"pattern\":{\"fillmode\":\"overlay\",\"size\":10,\"solidity\":0.2}},\"type\":\"barpolar\"}],\"carpet\":[{\"aaxis\":{\"endlinecolor\":\"#2a3f5f\",\"gridcolor\":\"white\",\"linecolor\":\"white\",\"minorgridcolor\":\"white\",\"startlinecolor\":\"#2a3f5f\"},\"baxis\":{\"endlinecolor\":\"#2a3f5f\",\"gridcolor\":\"white\",\"linecolor\":\"white\",\"minorgridcolor\":\"white\",\"startlinecolor\":\"#2a3f5f\"},\"type\":\"carpet\"}],\"choropleth\":[{\"colorbar\":{\"outlinewidth\":0,\"ticks\":\"\"},\"type\":\"choropleth\"}],\"contour\":[{\"colorbar\":{\"outlinewidth\":0,\"ticks\":\"\"},\"colorscale\":[[0.0,\"#0d0887\"],[0.1111111111111111,\"#46039f\"],[0.2222222222222222,\"#7201a8\"],[0.3333333333333333,\"#9c179e\"],[0.4444444444444444,\"#bd3786\"],[0.5555555555555556,\"#d8576b\"],[0.6666666666666666,\"#ed7953\"],[0.7777777777777778,\"#fb9f3a\"],[0.8888888888888888,\"#fdca26\"],[1.0,\"#f0f921\"]],\"type\":\"contour\"}],\"contourcarpet\":[{\"colorbar\":{\"outlinewidth\":0,\"ticks\":\"\"},\"type\":\"contourcarpet\"}],\"heatmap\":[{\"colorbar\":{\"outlinewidth\":0,\"ticks\":\"\"},\"colorscale\":[[0.0,\"#0d0887\"],[0.1111111111111111,\"#46039f\"],[0.2222222222222222,\"#7201a8\"],[0.3333333333333333,\"#9c179e\"],[0.4444444444444444,\"#bd3786\"],[0.5555555555555556,\"#d8576b\"],[0.6666666666666666,\"#ed7953\"],[0.7777777777777778,\"#fb9f3a\"],[0.8888888888888888,\"#fdca26\"],[1.0,\"#f0f921\"]],\"type\":\"heatmap\"}],\"heatmapgl\":[{\"colorbar\":{\"outlinewidth\":0,\"ticks\":\"\"},\"colorscale\":[[0.0,\"#0d0887\"],[0.1111111111111111,\"#46039f\"],[0.2222222222222222,\"#7201a8\"],[0.3333333333333333,\"#9c179e\"],[0.4444444444444444,\"#bd3786\"],[0.5555555555555556,\"#d8576b\"],[0.6666666666666666,\"#ed7953\"],[0.7777777777777778,\"#fb9f3a\"],[0.8888888888888888,\"#fdca26\"],[1.0,\"#f0f921\"]],\"type\":\"heatmapgl\"}],\"histogram\":[{\"marker\":{\"pattern\":{\"fillmode\":\"overlay\",\"size\":10,\"solidity\":0.2}},\"type\":\"histogram\"}],\"histogram2d\":[{\"colorbar\":{\"outlinewidth\":0,\"ticks\":\"\"},\"colorscale\":[[0.0,\"#0d0887\"],[0.1111111111111111,\"#46039f\"],[0.2222222222222222,\"#7201a8\"],[0.3333333333333333,\"#9c179e\"],[0.4444444444444444,\"#bd3786\"],[0.5555555555555556,\"#d8576b\"],[0.6666666666666666,\"#ed7953\"],[0.7777777777777778,\"#fb9f3a\"],[0.8888888888888888,\"#fdca26\"],[1.0,\"#f0f921\"]],\"type\":\"histogram2d\"}],\"histogram2dcontour\":[{\"colorbar\":{\"outlinewidth\":0,\"ticks\":\"\"},\"colorscale\":[[0.0,\"#0d0887\"],[0.1111111111111111,\"#46039f\"],[0.2222222222222222,\"#7201a8\"],[0.3333333333333333,\"#9c179e\"],[0.4444444444444444,\"#bd3786\"],[0.5555555555555556,\"#d8576b\"],[0.6666666666666666,\"#ed7953\"],[0.7777777777777778,\"#fb9f3a\"],[0.8888888888888888,\"#fdca26\"],[1.0,\"#f0f921\"]],\"type\":\"histogram2dcontour\"}],\"mesh3d\":[{\"colorbar\":{\"outlinewidth\":0,\"ticks\":\"\"},\"type\":\"mesh3d\"}],\"parcoords\":[{\"line\":{\"colorbar\":{\"outlinewidth\":0,\"ticks\":\"\"}},\"type\":\"parcoords\"}],\"pie\":[{\"automargin\":true,\"type\":\"pie\"}],\"scatter\":[{\"marker\":{\"colorbar\":{\"outlinewidth\":0,\"ticks\":\"\"}},\"type\":\"scatter\"}],\"scatter3d\":[{\"line\":{\"colorbar\":{\"outlinewidth\":0,\"ticks\":\"\"}},\"marker\":{\"colorbar\":{\"outlinewidth\":0,\"ticks\":\"\"}},\"type\":\"scatter3d\"}],\"scattercarpet\":[{\"marker\":{\"colorbar\":{\"outlinewidth\":0,\"ticks\":\"\"}},\"type\":\"scattercarpet\"}],\"scattergeo\":[{\"marker\":{\"colorbar\":{\"outlinewidth\":0,\"ticks\":\"\"}},\"type\":\"scattergeo\"}],\"scattergl\":[{\"marker\":{\"colorbar\":{\"outlinewidth\":0,\"ticks\":\"\"}},\"type\":\"scattergl\"}],\"scattermapbox\":[{\"marker\":{\"colorbar\":{\"outlinewidth\":0,\"ticks\":\"\"}},\"type\":\"scattermapbox\"}],\"scatterpolar\":[{\"marker\":{\"colorbar\":{\"outlinewidth\":0,\"ticks\":\"\"}},\"type\":\"scatterpolar\"}],\"scatterpolargl\":[{\"marker\":{\"colorbar\":{\"outlinewidth\":0,\"ticks\":\"\"}},\"type\":\"scatterpolargl\"}],\"scatterternary\":[{\"marker\":{\"colorbar\":{\"outlinewidth\":0,\"ticks\":\"\"}},\"type\":\"scatterternary\"}],\"surface\":[{\"colorbar\":{\"outlinewidth\":0,\"ticks\":\"\"},\"colorscale\":[[0.0,\"#0d0887\"],[0.1111111111111111,\"#46039f\"],[0.2222222222222222,\"#7201a8\"],[0.3333333333333333,\"#9c179e\"],[0.4444444444444444,\"#bd3786\"],[0.5555555555555556,\"#d8576b\"],[0.6666666666666666,\"#ed7953\"],[0.7777777777777778,\"#fb9f3a\"],[0.8888888888888888,\"#fdca26\"],[1.0,\"#f0f921\"]],\"type\":\"surface\"}],\"table\":[{\"cells\":{\"fill\":{\"color\":\"#EBF0F8\"},\"line\":{\"color\":\"white\"}},\"header\":{\"fill\":{\"color\":\"#C8D4E3\"},\"line\":{\"color\":\"white\"}},\"type\":\"table\"}]},\"layout\":{\"annotationdefaults\":{\"arrowcolor\":\"#2a3f5f\",\"arrowhead\":0,\"arrowwidth\":1},\"autotypenumbers\":\"strict\",\"coloraxis\":{\"colorbar\":{\"outlinewidth\":0,\"ticks\":\"\"}},\"colorscale\":{\"diverging\":[[0,\"#8e0152\"],[0.1,\"#c51b7d\"],[0.2,\"#de77ae\"],[0.3,\"#f1b6da\"],[0.4,\"#fde0ef\"],[0.5,\"#f7f7f7\"],[0.6,\"#e6f5d0\"],[0.7,\"#b8e186\"],[0.8,\"#7fbc41\"],[0.9,\"#4d9221\"],[1,\"#276419\"]],\"sequential\":[[0.0,\"#0d0887\"],[0.1111111111111111,\"#46039f\"],[0.2222222222222222,\"#7201a8\"],[0.3333333333333333,\"#9c179e\"],[0.4444444444444444,\"#bd3786\"],[0.5555555555555556,\"#d8576b\"],[0.6666666666666666,\"#ed7953\"],[0.7777777777777778,\"#fb9f3a\"],[0.8888888888888888,\"#fdca26\"],[1.0,\"#f0f921\"]],\"sequentialminus\":[[0.0,\"#0d0887\"],[0.1111111111111111,\"#46039f\"],[0.2222222222222222,\"#7201a8\"],[0.3333333333333333,\"#9c179e\"],[0.4444444444444444,\"#bd3786\"],[0.5555555555555556,\"#d8576b\"],[0.6666666666666666,\"#ed7953\"],[0.7777777777777778,\"#fb9f3a\"],[0.8888888888888888,\"#fdca26\"],[1.0,\"#f0f921\"]]},\"colorway\":[\"#636efa\",\"#EF553B\",\"#00cc96\",\"#ab63fa\",\"#FFA15A\",\"#19d3f3\",\"#FF6692\",\"#B6E880\",\"#FF97FF\",\"#FECB52\"],\"font\":{\"color\":\"#2a3f5f\"},\"geo\":{\"bgcolor\":\"white\",\"lakecolor\":\"white\",\"landcolor\":\"#E5ECF6\",\"showlakes\":true,\"showland\":true,\"subunitcolor\":\"white\"},\"hoverlabel\":{\"align\":\"left\"},\"hovermode\":\"closest\",\"mapbox\":{\"style\":\"light\"},\"paper_bgcolor\":\"white\",\"plot_bgcolor\":\"#E5ECF6\",\"polar\":{\"angularaxis\":{\"gridcolor\":\"white\",\"linecolor\":\"white\",\"ticks\":\"\"},\"bgcolor\":\"#E5ECF6\",\"radialaxis\":{\"gridcolor\":\"white\",\"linecolor\":\"white\",\"ticks\":\"\"}},\"scene\":{\"xaxis\":{\"backgroundcolor\":\"#E5ECF6\",\"gridcolor\":\"white\",\"gridwidth\":2,\"linecolor\":\"white\",\"showbackground\":true,\"ticks\":\"\",\"zerolinecolor\":\"white\"},\"yaxis\":{\"backgroundcolor\":\"#E5ECF6\",\"gridcolor\":\"white\",\"gridwidth\":2,\"linecolor\":\"white\",\"showbackground\":true,\"ticks\":\"\",\"zerolinecolor\":\"white\"},\"zaxis\":{\"backgroundcolor\":\"#E5ECF6\",\"gridcolor\":\"white\",\"gridwidth\":2,\"linecolor\":\"white\",\"showbackground\":true,\"ticks\":\"\",\"zerolinecolor\":\"white\"}},\"shapedefaults\":{\"line\":{\"color\":\"#2a3f5f\"}},\"ternary\":{\"aaxis\":{\"gridcolor\":\"white\",\"linecolor\":\"white\",\"ticks\":\"\"},\"baxis\":{\"gridcolor\":\"white\",\"linecolor\":\"white\",\"ticks\":\"\"},\"bgcolor\":\"#E5ECF6\",\"caxis\":{\"gridcolor\":\"white\",\"linecolor\":\"white\",\"ticks\":\"\"}},\"title\":{\"x\":0.05},\"xaxis\":{\"automargin\":true,\"gridcolor\":\"white\",\"linecolor\":\"white\",\"ticks\":\"\",\"title\":{\"standoff\":15},\"zerolinecolor\":\"white\",\"zerolinewidth\":2},\"yaxis\":{\"automargin\":true,\"gridcolor\":\"white\",\"linecolor\":\"white\",\"ticks\":\"\",\"title\":{\"standoff\":15},\"zerolinecolor\":\"white\",\"zerolinewidth\":2}}},\"xaxis\":{\"anchor\":\"y\",\"domain\":[0.0,1.0],\"title\":{\"text\":\"Features\"},\"categoryorder\":\"total descending\"},\"yaxis\":{\"anchor\":\"x\",\"domain\":[0.0,1.0],\"title\":{\"text\":\"Feature Importances\"}},\"legend\":{\"tracegroupgap\":0},\"title\":{\"text\":\"Feature Importances of Features in Random Forest Regressor\"},\"barmode\":\"relative\"},                        {\"responsive\": true}                    ).then(function(){\n",
       "                            \n",
       "var gd = document.getElementById('a5bd72cd-a7f5-40c4-a85b-d0845b78f4f0');\n",
       "var x = new MutationObserver(function (mutations, observer) {{\n",
       "        var display = window.getComputedStyle(gd).display;\n",
       "        if (!display || display === 'none') {{\n",
       "            console.log([gd, 'removed!']);\n",
       "            Plotly.purge(gd);\n",
       "            observer.disconnect();\n",
       "        }}\n",
       "}});\n",
       "\n",
       "// Listen for the removal of the full notebook cells\n",
       "var notebookContainer = gd.closest('#notebook-container');\n",
       "if (notebookContainer) {{\n",
       "    x.observe(notebookContainer, {childList: true});\n",
       "}}\n",
       "\n",
       "// Listen for the clearing of the current output cell\n",
       "var outputEl = gd.closest('.output');\n",
       "if (outputEl) {{\n",
       "    x.observe(outputEl, {childList: true});\n",
       "}}\n",
       "\n",
       "                        })                };                });            </script>        </div>"
      ]
     },
     "metadata": {},
     "output_type": "display_data"
    }
   ],
   "source": [
    "px.bar(x=x_feat_list, y=feature_importances, title='Feature Importances of Features in Random Forest Regressor', labels={'x': 'Features', 'y':'Feature Importances'}).update_xaxes(categoryorder='total descending')"
   ]
  },
  {
   "cell_type": "code",
   "execution_count": 25,
   "id": "9740cdb1",
   "metadata": {},
   "outputs": [
    {
     "name": "stdout",
     "output_type": "stream",
     "text": [
      "['age_Baby',\n",
      " 'gender_Female',\n",
      " 'primary_color_White / Cream',\n",
      " 'primary_color_Tricolor (Brown, Black, & White)',\n",
      " 'compatible_cats',\n",
      " 'primary_color_Red / Chestnut / Orange',\n",
      " 'primary_color_Yellow / Tan / Blond / Fawn',\n",
      " 'primary_breed_Terrier',\n",
      " 'primary_breed_Hound',\n",
      " 'primary_color_Gray / Blue / Silver',\n",
      " 'primary_breed_Corgi',\n",
      " 'age_Senior',\n",
      " 'primary_breed_American Staffordshire Terrier',\n",
      " 'primary_breed_Boxer',\n",
      " 'compatible_dogs']\n"
     ]
    }
   ],
   "source": [
    "# make a list of 15 features with highest feature importance \n",
    "top_15_feats = ['age_Baby', 'gender_Female', 'primary_color_White / Cream', \n",
    "                'primary_color_Tricolor (Brown, Black, & White)', 'compatible_cats', \n",
    "                'primary_color_Red / Chestnut / Orange', 'primary_color_Yellow / Tan / Blond / Fawn', \n",
    "                'primary_breed_Terrier', 'primary_breed_Hound', 'primary_color_Gray / Blue / Silver', \n",
    "                'primary_breed_Corgi', 'age_Senior', 'primary_breed_American Staffordshire Terrier', \n",
    "                'primary_breed_Boxer', 'compatible_dogs']\n",
    "pprint.pprint(top_15_feats)"
   ]
  },
  {
   "cell_type": "code",
   "execution_count": null,
   "id": "415f48f7",
   "metadata": {},
   "outputs": [],
   "source": [
    "x_feat_list = ['compatible_children', 'compatible_dogs', 'compatible_cats', \n",
    "               'age_Adult', 'age_Baby', 'age_Senior', 'age_Young', 'gender_Female', 'gender_Male', \n",
    "               'size_Extra Large', 'size_Large', 'size_Medium', 'size_Small', 'coat_Curly', 'coat_Hairless', \n",
    "               'coat_Long', 'coat_Medium', 'coat_Short', 'coat_Wire', 'primary_breed_Affenpinscher', \n",
    "               'primary_breed_Alaskan Malamute', 'primary_breed_American Bulldog', \n",
    "               'primary_breed_American Bully', 'primary_breed_American Eskimo Dog', \n",
    "               'primary_breed_American Staffordshire Terrier', 'primary_breed_Anatolian Shepherd', \n",
    "               'primary_breed_Aussiedoodle', 'primary_breed_Australian Cattle Dog / Blue Heeler', \n",
    "               'primary_breed_Australian Kelpie', 'primary_breed_Australian Shepherd', \n",
    "               'primary_breed_Australian Terrier', 'primary_breed_Basset Hound', 'primary_breed_Beagle', \n",
    "               'primary_breed_Belgian Shepherd / Malinois', 'primary_breed_Bernese Mountain Dog', \n",
    "               'primary_breed_Bichon Frise', 'primary_breed_Black Labrador Retriever', \n",
    "               'primary_breed_Black Mouth Cur', 'primary_breed_Bloodhound', 'primary_breed_Blue Lacy', \n",
    "               'primary_breed_Border Collie', 'primary_breed_Border Terrier', 'primary_breed_Boston Terrier', \n",
    "               'primary_breed_Boxer', 'primary_breed_Brussels Griffon', 'primary_breed_Cairn Terrier', \n",
    "               'primary_breed_Carolina Dog', 'primary_breed_Catahoula Leopard Dog', 'primary_breed_Cattle Dog', \n",
    "               'primary_breed_Cavalier King Charles Spaniel', 'primary_breed_Chihuahua', \n",
    "               'primary_breed_Chinese Crested Dog', 'primary_breed_Chiweenie', 'primary_breed_Chocolate Labrador Retriever', \n",
    "               'primary_breed_Chow Chow', 'primary_breed_Cocker Spaniel', 'primary_breed_Collie', 'primary_breed_Coonhound', \n",
    "               'primary_breed_Corgi', 'primary_breed_Dachshund', 'primary_breed_Dalmatian', \n",
    "               'primary_breed_Doberman Pinscher', 'primary_breed_Dogo Argentino', 'primary_breed_Dutch Shepherd', \n",
    "               'primary_breed_English Bulldog', 'primary_breed_English Coonhound', 'primary_breed_English Setter', \n",
    "               'primary_breed_English Shepherd', 'primary_breed_Entlebucher', 'primary_breed_Feist', \n",
    "               'primary_breed_Flat-Coated Retriever', 'primary_breed_Fox Terrier', 'primary_breed_Foxhound', \n",
    "               'primary_breed_French Bulldog', 'primary_breed_German Shepherd Dog', 'primary_breed_German Wirehaired Pointer', \n",
    "               'primary_breed_Golden Retriever', 'primary_breed_Goldendoodle', 'primary_breed_Great Dane', \n",
    "               'primary_breed_Great Pyrenees', 'primary_breed_Greyhound', 'primary_breed_Hound', 'primary_breed_Husky', \n",
    "               'primary_breed_Ibizan Hound', 'primary_breed_Icelandic Sheepdog', 'primary_breed_Irish Terrier', \n",
    "               'primary_breed_Italian Greyhound', 'primary_breed_Jack Russell Terrier', 'primary_breed_Japanese Chin', \n",
    "               'primary_breed_Labradoodle', 'primary_breed_Labrador Retriever', 'primary_breed_Lhasa Apso', \n",
    "               'primary_breed_Maltese', 'primary_breed_Maltipoo', 'primary_breed_Mastiff', 'primary_breed_Miniature Dachshund', \n",
    "               'primary_breed_Miniature Pinscher', 'primary_breed_Miniature Poodle', 'primary_breed_Miniature Schnauzer', \n",
    "               'primary_breed_Mixed Breed', 'primary_breed_Mountain Cur', 'primary_breed_Newfoundland Dog', \n",
    "               'primary_breed_Norfolk Terrier', 'primary_breed_Old English Sheepdog', 'primary_breed_Parson Russell Terrier', \n",
    "               'primary_breed_Patterdale Terrier / Fell Terrier', 'primary_breed_Pekingese', 'primary_breed_Pharaoh Hound', \n",
    "               'primary_breed_Pit Bull Terrier', 'primary_breed_Pointer', 'primary_breed_Pomeranian', 'primary_breed_Poodle', \n",
    "               'primary_breed_Pug', 'primary_breed_Rat Terrier', 'primary_breed_Retriever', 'primary_breed_Rhodesian Ridgeback', \n",
    "               'primary_breed_Rottweiler', 'primary_breed_Saluki', 'primary_breed_Schnauzer', 'primary_breed_Shar-Pei', \n",
    "               'primary_breed_Shepherd', 'primary_breed_Shetland Sheepdog / Sheltie', 'primary_breed_Shiba Inu', \n",
    "               'primary_breed_Shih Tzu', 'primary_breed_Siberian Husky', 'primary_breed_Spaniel', \n",
    "               'primary_breed_Staffordshire Bull Terrier', 'primary_breed_Standard Poodle', 'primary_breed_Terrier', \n",
    "               'primary_breed_Tibetan Terrier', 'primary_breed_Vizsla', 'primary_breed_Weimaraner', 'primary_breed_Whippet', \n",
    "               'primary_breed_White German Shepherd', 'primary_breed_Wirehaired Terrier', 'primary_breed_Xoloitzcuintli / Mexican Hairless', \n",
    "               'primary_breed_Yellow Labrador Retriever', 'primary_breed_Yorkshire Terrier', 'primary_color_Apricot / Beige', \n",
    "               'primary_color_Bicolor', 'primary_color_Black', 'primary_color_Brindle', 'primary_color_Brown / Chocolate', \n",
    "               'primary_color_Golden', 'primary_color_Gray / Blue / Silver', 'primary_color_Harlequin', \n",
    "               'primary_color_Merle (Blue)', 'primary_color_Merle (Red)', 'primary_color_Red / Chestnut / Orange', \n",
    "               'primary_color_Sable', 'primary_color_Tricolor (Brown, Black, & White)', 'primary_color_White / Cream', \n",
    "               'primary_color_Yellow / Tan / Blond / Fawn']"
   ]
  },
  {
   "cell_type": "markdown",
   "id": "fa61b73a",
   "metadata": {},
   "source": [
    "### Test 2: X Data only looking at Breeds "
   ]
  },
  {
   "cell_type": "code",
   "execution_count": 72,
   "id": "61dafad8",
   "metadata": {
    "scrolled": true
   },
   "outputs": [
    {
     "name": "stdout",
     "output_type": "stream",
     "text": [
      "R2: -0.08877292882088206, MSE: 253667.42301061732\n"
     ]
    }
   ],
   "source": [
    "x_feat_list_breeds = ['primary_breed_Affenpinscher', \n",
    "               'primary_breed_Alaskan Malamute', 'primary_breed_American Bulldog', \n",
    "               'primary_breed_American Bully', 'primary_breed_American Eskimo Dog', \n",
    "               'primary_breed_American Staffordshire Terrier', 'primary_breed_Anatolian Shepherd', \n",
    "               'primary_breed_Aussiedoodle', 'primary_breed_Australian Cattle Dog / Blue Heeler', \n",
    "               'primary_breed_Australian Kelpie', 'primary_breed_Australian Shepherd', \n",
    "               'primary_breed_Australian Terrier', 'primary_breed_Basset Hound', 'primary_breed_Beagle', \n",
    "               'primary_breed_Belgian Shepherd / Malinois', 'primary_breed_Bernese Mountain Dog', \n",
    "               'primary_breed_Bichon Frise', 'primary_breed_Black Labrador Retriever', \n",
    "               'primary_breed_Black Mouth Cur', 'primary_breed_Bloodhound', 'primary_breed_Blue Lacy', \n",
    "               'primary_breed_Border Collie', 'primary_breed_Border Terrier', 'primary_breed_Boston Terrier', \n",
    "               'primary_breed_Boxer', 'primary_breed_Brussels Griffon', 'primary_breed_Cairn Terrier', \n",
    "               'primary_breed_Carolina Dog', 'primary_breed_Catahoula Leopard Dog', 'primary_breed_Cattle Dog', \n",
    "               'primary_breed_Cavalier King Charles Spaniel', 'primary_breed_Chihuahua', \n",
    "               'primary_breed_Chinese Crested Dog', 'primary_breed_Chiweenie', 'primary_breed_Chocolate Labrador Retriever', \n",
    "               'primary_breed_Chow Chow', 'primary_breed_Cocker Spaniel', 'primary_breed_Collie', 'primary_breed_Coonhound', \n",
    "               'primary_breed_Corgi', 'primary_breed_Dachshund', 'primary_breed_Dalmatian', \n",
    "               'primary_breed_Doberman Pinscher', 'primary_breed_Dogo Argentino', 'primary_breed_Dutch Shepherd', \n",
    "               'primary_breed_English Bulldog', 'primary_breed_English Coonhound', 'primary_breed_English Setter', \n",
    "               'primary_breed_English Shepherd', 'primary_breed_Entlebucher', 'primary_breed_Feist', \n",
    "               'primary_breed_Flat-Coated Retriever', 'primary_breed_Fox Terrier', 'primary_breed_Foxhound', \n",
    "               'primary_breed_French Bulldog', 'primary_breed_German Shepherd Dog', 'primary_breed_German Wirehaired Pointer', \n",
    "               'primary_breed_Golden Retriever', 'primary_breed_Goldendoodle', 'primary_breed_Great Dane', \n",
    "               'primary_breed_Great Pyrenees', 'primary_breed_Greyhound', 'primary_breed_Hound', 'primary_breed_Husky', \n",
    "               'primary_breed_Ibizan Hound', 'primary_breed_Icelandic Sheepdog', 'primary_breed_Irish Terrier', \n",
    "               'primary_breed_Italian Greyhound', 'primary_breed_Jack Russell Terrier', 'primary_breed_Japanese Chin', \n",
    "               'primary_breed_Labradoodle', 'primary_breed_Labrador Retriever', 'primary_breed_Lhasa Apso', \n",
    "               'primary_breed_Maltese', 'primary_breed_Maltipoo', 'primary_breed_Mastiff', 'primary_breed_Miniature Dachshund', \n",
    "               'primary_breed_Miniature Pinscher', 'primary_breed_Miniature Poodle', 'primary_breed_Miniature Schnauzer', \n",
    "               'primary_breed_Mixed Breed', 'primary_breed_Mountain Cur', 'primary_breed_Newfoundland Dog', \n",
    "               'primary_breed_Norfolk Terrier', 'primary_breed_Old English Sheepdog', 'primary_breed_Parson Russell Terrier', \n",
    "               'primary_breed_Patterdale Terrier / Fell Terrier', 'primary_breed_Pekingese', 'primary_breed_Pharaoh Hound', \n",
    "               'primary_breed_Pit Bull Terrier', 'primary_breed_Pointer', 'primary_breed_Pomeranian', 'primary_breed_Poodle', \n",
    "               'primary_breed_Pug', 'primary_breed_Rat Terrier', 'primary_breed_Retriever', 'primary_breed_Rhodesian Ridgeback', \n",
    "               'primary_breed_Rottweiler', 'primary_breed_Saluki', 'primary_breed_Schnauzer', 'primary_breed_Shar-Pei', \n",
    "               'primary_breed_Shepherd', 'primary_breed_Shetland Sheepdog / Sheltie', 'primary_breed_Shiba Inu', \n",
    "               'primary_breed_Shih Tzu', 'primary_breed_Siberian Husky', 'primary_breed_Spaniel', \n",
    "               'primary_breed_Staffordshire Bull Terrier', 'primary_breed_Standard Poodle', 'primary_breed_Terrier', \n",
    "               'primary_breed_Tibetan Terrier', 'primary_breed_Vizsla', 'primary_breed_Weimaraner', 'primary_breed_Whippet', \n",
    "               'primary_breed_White German Shepherd', 'primary_breed_Wirehaired Terrier', 'primary_breed_Xoloitzcuintli / Mexican Hairless', \n",
    "               'primary_breed_Yellow Labrador Retriever', 'primary_breed_Yorkshire Terrier']\n",
    "feature_importances, feat_import_dict, r2, mse, residuals  = random_forest_regress_default(x_feat_list=x_feat_list_breeds, y_col='delta_time_minutes', df=dogs_df_dummies)\n",
    "print(f'''R2: {r2}, MSE: {mse}''')"
   ]
  },
  {
   "cell_type": "code",
   "execution_count": 73,
   "id": "64a56c53",
   "metadata": {},
   "outputs": [
    {
     "name": "stdout",
     "output_type": "stream",
     "text": [
      "{'primary_breed_Affenpinscher': 0.008938061879593995,\n",
      " 'primary_breed_Alaskan Malamute': 0.004271700707561638,\n",
      " 'primary_breed_American Bulldog': 0.022426499044665583,\n",
      " 'primary_breed_American Bully': 0.006823974669433359,\n",
      " 'primary_breed_American Eskimo Dog': 0.007521751100715397,\n",
      " 'primary_breed_American Staffordshire Terrier': 0.03204687542802669,\n",
      " 'primary_breed_Anatolian Shepherd': 0.008315957786548776,\n",
      " 'primary_breed_Aussiedoodle': 0.00523567846742755,\n",
      " 'primary_breed_Australian Cattle Dog / Blue Heeler': 0.008332295465744523,\n",
      " 'primary_breed_Australian Kelpie': 0.006786582760854621,\n",
      " 'primary_breed_Australian Shepherd': 0.0169621044273557,\n",
      " 'primary_breed_Australian Terrier': 0.0055490985537602015,\n",
      " 'primary_breed_Basset Hound': 0.006351595708416983,\n",
      " 'primary_breed_Beagle': 0.006628180471916935,\n",
      " 'primary_breed_Belgian Shepherd / Malinois': 0.014728316378095616,\n",
      " 'primary_breed_Bernese Mountain Dog': 0.005438824669009407,\n",
      " 'primary_breed_Bichon Frise': 0.007354324593733001,\n",
      " 'primary_breed_Black Labrador Retriever': 0.0086498896309921,\n",
      " 'primary_breed_Black Mouth Cur': 0.005678387277634473,\n",
      " 'primary_breed_Bloodhound': 0.006792150627680125,\n",
      " 'primary_breed_Blue Lacy': 0.005803943774593272,\n",
      " 'primary_breed_Border Collie': 0.006517796968245898,\n",
      " 'primary_breed_Border Terrier': 0.0,\n",
      " 'primary_breed_Boston Terrier': 0.013805165440152874,\n",
      " 'primary_breed_Boxer': 0.006730280069769559,\n",
      " 'primary_breed_Brussels Griffon': 0.0,\n",
      " 'primary_breed_Cairn Terrier': 0.002858805475558528,\n",
      " 'primary_breed_Carolina Dog': 0.0,\n",
      " 'primary_breed_Catahoula Leopard Dog': 0.00871454075519359,\n",
      " 'primary_breed_Cattle Dog': 0.009260133428418329,\n",
      " 'primary_breed_Cavalier King Charles Spaniel': 0.006790867477368285,\n",
      " 'primary_breed_Chihuahua': 0.010440790472133053,\n",
      " 'primary_breed_Chinese Crested Dog': 0.002257676391489787,\n",
      " 'primary_breed_Chiweenie': 0.004451870113172144,\n",
      " 'primary_breed_Chocolate Labrador Retriever': 0.0006683561590880822,\n",
      " 'primary_breed_Chow Chow': 0.008906498401202806,\n",
      " 'primary_breed_Cocker Spaniel': 0.011485286444472229,\n",
      " 'primary_breed_Collie': 0.008548015220279216,\n",
      " 'primary_breed_Coonhound': 0.0,\n",
      " 'primary_breed_Corgi': 0.0075121774730947935,\n",
      " 'primary_breed_Dachshund': 0.008393553571625478,\n",
      " 'primary_breed_Dalmatian': 0.006119655226311434,\n",
      " 'primary_breed_Doberman Pinscher': 0.021424810865529113,\n",
      " 'primary_breed_Dogo Argentino': 0.0,\n",
      " 'primary_breed_Dutch Shepherd': 0.046321664529052654,\n",
      " 'primary_breed_English Bulldog': 0.011539272202522917,\n",
      " 'primary_breed_English Coonhound': 0.0014899223632547816,\n",
      " 'primary_breed_English Setter': 0.005710981504387175,\n",
      " 'primary_breed_English Shepherd': 0.011052087900630328,\n",
      " 'primary_breed_Entlebucher': 0.004603727198828237,\n",
      " 'primary_breed_Feist': 0.000851334883066696,\n",
      " 'primary_breed_Flat-Coated Retriever': 0.009609705919800593,\n",
      " 'primary_breed_Fox Terrier': 0.0,\n",
      " 'primary_breed_Foxhound': 0.008378030718796317,\n",
      " 'primary_breed_French Bulldog': 0.011888558908880001,\n",
      " 'primary_breed_German Shepherd Dog': 0.007628970366599223,\n",
      " 'primary_breed_German Wirehaired Pointer': 0.006830401811864083,\n",
      " 'primary_breed_Golden Retriever': 0.022015027772285634,\n",
      " 'primary_breed_Goldendoodle': 0.00513134728911393,\n",
      " 'primary_breed_Great Dane': 0.002261708215158989,\n",
      " 'primary_breed_Great Pyrenees': 0.0077078204605943975,\n",
      " 'primary_breed_Greyhound': 0.005645335806983109,\n",
      " 'primary_breed_Hound': 0.026217861746234025,\n",
      " 'primary_breed_Husky': 0.0073306404647705764,\n",
      " 'primary_breed_Ibizan Hound': 0.007587414682021283,\n",
      " 'primary_breed_Icelandic Sheepdog': 0.03754724579251225,\n",
      " 'primary_breed_Irish Terrier': 0.014975838480791724,\n",
      " 'primary_breed_Italian Greyhound': 0.005621553387458567,\n",
      " 'primary_breed_Jack Russell Terrier': 0.01070110395593791,\n",
      " 'primary_breed_Japanese Chin': 0.004762920453800651,\n",
      " 'primary_breed_Labradoodle': 0.0,\n",
      " 'primary_breed_Labrador Retriever': 0.01640715950368588,\n",
      " 'primary_breed_Lhasa Apso': 0.001351810206235099,\n",
      " 'primary_breed_Maltese': 0.005542636286863176,\n",
      " 'primary_breed_Maltipoo': 0.007855521159172233,\n",
      " 'primary_breed_Mastiff': 0.003877232340694959,\n",
      " 'primary_breed_Miniature Dachshund': 0.0012295836861066695,\n",
      " 'primary_breed_Miniature Pinscher': 0.004514674256254419,\n",
      " 'primary_breed_Miniature Poodle': 0.020008293725084846,\n",
      " 'primary_breed_Miniature Schnauzer': 0.006499454171452874,\n",
      " 'primary_breed_Mixed Breed': 0.010525305110038588,\n",
      " 'primary_breed_Mountain Cur': 0.0003079240793831044,\n",
      " 'primary_breed_Newfoundland Dog': 0.004449708768140964,\n",
      " 'primary_breed_Norfolk Terrier': 0.00884582876596359,\n",
      " 'primary_breed_Old English Sheepdog': 0.008685051218414619,\n",
      " 'primary_breed_Parson Russell Terrier': 0.0,\n",
      " 'primary_breed_Patterdale Terrier / Fell Terrier': 0.006698386791109967,\n",
      " 'primary_breed_Pekingese': 0.0054460943250343175,\n",
      " 'primary_breed_Pharaoh Hound': 0.00029026783156626103,\n",
      " 'primary_breed_Pit Bull Terrier': 0.009552199972510405,\n",
      " 'primary_breed_Pointer': 0.0033900366253823808,\n",
      " 'primary_breed_Pomeranian': 0.009613497439229127,\n",
      " 'primary_breed_Poodle': 0.005322320242664808,\n",
      " 'primary_breed_Pug': 0.0074655739053664655,\n",
      " 'primary_breed_Rat Terrier': 0.021081253617425102,\n",
      " 'primary_breed_Retriever': 0.0254961331898721,\n",
      " 'primary_breed_Rhodesian Ridgeback': 0.0055086522303823765,\n",
      " 'primary_breed_Rottweiler': 0.0033753933700874064,\n",
      " 'primary_breed_Saluki': 0.0,\n",
      " 'primary_breed_Schnauzer': 0.029495833514409944,\n",
      " 'primary_breed_Shar-Pei': 0.004462178727180549,\n",
      " 'primary_breed_Shepherd': 0.005608337243407181,\n",
      " 'primary_breed_Shetland Sheepdog / Sheltie': 0.000603860289101843,\n",
      " 'primary_breed_Shiba Inu': 0.006549191061907908,\n",
      " 'primary_breed_Shih Tzu': 0.021114483175076675,\n",
      " 'primary_breed_Siberian Husky': 0.008096692939813894,\n",
      " 'primary_breed_Spaniel': 0.01561156769306738,\n",
      " 'primary_breed_Staffordshire Bull Terrier': 0.00904554606950075,\n",
      " 'primary_breed_Standard Poodle': 0.017514089331672884,\n",
      " 'primary_breed_Terrier': 0.008105684668710141,\n",
      " 'primary_breed_Tibetan Terrier': 0.0017901090885937489,\n",
      " 'primary_breed_Vizsla': 0.0005657992638021897,\n",
      " 'primary_breed_Weimaraner': 0.004538142622921817,\n",
      " 'primary_breed_Whippet': 0.00692222720810776,\n",
      " 'primary_breed_White German Shepherd': 0.009087720688426747,\n",
      " 'primary_breed_Wirehaired Terrier': 0.0,\n",
      " 'primary_breed_Xoloitzcuintli / Mexican Hairless': 0.005288411539927754,\n",
      " 'primary_breed_Yellow Labrador Retriever': 0.007364738915455631,\n",
      " 'primary_breed_Yorkshire Terrier': 0.005962442948582099}\n"
     ]
    }
   ],
   "source": [
    "pprint.pprint(feat_import_dict)"
   ]
  },
  {
   "cell_type": "code",
   "execution_count": 74,
   "id": "401750a1",
   "metadata": {},
   "outputs": [
    {
     "data": {
      "application/vnd.plotly.v1+json": {
       "config": {
        "plotlyServerURL": "https://plot.ly"
       },
       "data": [
        {
         "alignmentgroup": "True",
         "hovertemplate": "Features=%{x}<br>Feature Importances=%{y}<extra></extra>",
         "legendgroup": "",
         "marker": {
          "color": "#636efa",
          "pattern": {
           "shape": ""
          }
         },
         "name": "",
         "offsetgroup": "",
         "orientation": "v",
         "showlegend": false,
         "textposition": "auto",
         "type": "bar",
         "x": [
          "primary_breed_Affenpinscher",
          "primary_breed_Alaskan Malamute",
          "primary_breed_American Bulldog",
          "primary_breed_American Bully",
          "primary_breed_American Eskimo Dog",
          "primary_breed_American Staffordshire Terrier",
          "primary_breed_Anatolian Shepherd",
          "primary_breed_Aussiedoodle",
          "primary_breed_Australian Cattle Dog / Blue Heeler",
          "primary_breed_Australian Kelpie",
          "primary_breed_Australian Shepherd",
          "primary_breed_Australian Terrier",
          "primary_breed_Basset Hound",
          "primary_breed_Beagle",
          "primary_breed_Belgian Shepherd / Malinois",
          "primary_breed_Bernese Mountain Dog",
          "primary_breed_Bichon Frise",
          "primary_breed_Black Labrador Retriever",
          "primary_breed_Black Mouth Cur",
          "primary_breed_Bloodhound",
          "primary_breed_Blue Lacy",
          "primary_breed_Border Collie",
          "primary_breed_Border Terrier",
          "primary_breed_Boston Terrier",
          "primary_breed_Boxer",
          "primary_breed_Brussels Griffon",
          "primary_breed_Cairn Terrier",
          "primary_breed_Carolina Dog",
          "primary_breed_Catahoula Leopard Dog",
          "primary_breed_Cattle Dog",
          "primary_breed_Cavalier King Charles Spaniel",
          "primary_breed_Chihuahua",
          "primary_breed_Chinese Crested Dog",
          "primary_breed_Chiweenie",
          "primary_breed_Chocolate Labrador Retriever",
          "primary_breed_Chow Chow",
          "primary_breed_Cocker Spaniel",
          "primary_breed_Collie",
          "primary_breed_Coonhound",
          "primary_breed_Corgi",
          "primary_breed_Dachshund",
          "primary_breed_Dalmatian",
          "primary_breed_Doberman Pinscher",
          "primary_breed_Dogo Argentino",
          "primary_breed_Dutch Shepherd",
          "primary_breed_English Bulldog",
          "primary_breed_English Coonhound",
          "primary_breed_English Setter",
          "primary_breed_English Shepherd",
          "primary_breed_Entlebucher",
          "primary_breed_Feist",
          "primary_breed_Flat-Coated Retriever",
          "primary_breed_Fox Terrier",
          "primary_breed_Foxhound",
          "primary_breed_French Bulldog",
          "primary_breed_German Shepherd Dog",
          "primary_breed_German Wirehaired Pointer",
          "primary_breed_Golden Retriever",
          "primary_breed_Goldendoodle",
          "primary_breed_Great Dane",
          "primary_breed_Great Pyrenees",
          "primary_breed_Greyhound",
          "primary_breed_Hound",
          "primary_breed_Husky",
          "primary_breed_Ibizan Hound",
          "primary_breed_Icelandic Sheepdog",
          "primary_breed_Irish Terrier",
          "primary_breed_Italian Greyhound",
          "primary_breed_Jack Russell Terrier",
          "primary_breed_Japanese Chin",
          "primary_breed_Labradoodle",
          "primary_breed_Labrador Retriever",
          "primary_breed_Lhasa Apso",
          "primary_breed_Maltese",
          "primary_breed_Maltipoo",
          "primary_breed_Mastiff",
          "primary_breed_Miniature Dachshund",
          "primary_breed_Miniature Pinscher",
          "primary_breed_Miniature Poodle",
          "primary_breed_Miniature Schnauzer",
          "primary_breed_Mixed Breed",
          "primary_breed_Mountain Cur",
          "primary_breed_Newfoundland Dog",
          "primary_breed_Norfolk Terrier",
          "primary_breed_Old English Sheepdog",
          "primary_breed_Parson Russell Terrier",
          "primary_breed_Patterdale Terrier / Fell Terrier",
          "primary_breed_Pekingese",
          "primary_breed_Pharaoh Hound",
          "primary_breed_Pit Bull Terrier",
          "primary_breed_Pointer",
          "primary_breed_Pomeranian",
          "primary_breed_Poodle",
          "primary_breed_Pug",
          "primary_breed_Rat Terrier",
          "primary_breed_Retriever",
          "primary_breed_Rhodesian Ridgeback",
          "primary_breed_Rottweiler",
          "primary_breed_Saluki",
          "primary_breed_Schnauzer",
          "primary_breed_Shar-Pei",
          "primary_breed_Shepherd",
          "primary_breed_Shetland Sheepdog / Sheltie",
          "primary_breed_Shiba Inu",
          "primary_breed_Shih Tzu",
          "primary_breed_Siberian Husky",
          "primary_breed_Spaniel",
          "primary_breed_Staffordshire Bull Terrier",
          "primary_breed_Standard Poodle",
          "primary_breed_Terrier",
          "primary_breed_Tibetan Terrier",
          "primary_breed_Vizsla",
          "primary_breed_Weimaraner",
          "primary_breed_Whippet",
          "primary_breed_White German Shepherd",
          "primary_breed_Wirehaired Terrier",
          "primary_breed_Xoloitzcuintli / Mexican Hairless",
          "primary_breed_Yellow Labrador Retriever",
          "primary_breed_Yorkshire Terrier"
         ],
         "xaxis": "x",
         "y": [
          0.008938061879593995,
          0.004271700707561638,
          0.022426499044665583,
          0.006823974669433359,
          0.007521751100715397,
          0.03204687542802669,
          0.008315957786548776,
          0.00523567846742755,
          0.008332295465744523,
          0.006786582760854621,
          0.0169621044273557,
          0.0055490985537602015,
          0.006351595708416983,
          0.006628180471916935,
          0.014728316378095616,
          0.005438824669009407,
          0.007354324593733001,
          0.0086498896309921,
          0.005678387277634473,
          0.006792150627680125,
          0.005803943774593272,
          0.006517796968245898,
          0,
          0.013805165440152874,
          0.006730280069769559,
          0,
          0.002858805475558528,
          0,
          0.00871454075519359,
          0.009260133428418329,
          0.006790867477368285,
          0.010440790472133053,
          0.002257676391489787,
          0.004451870113172144,
          0.0006683561590880822,
          0.008906498401202806,
          0.011485286444472229,
          0.008548015220279216,
          0,
          0.0075121774730947935,
          0.008393553571625478,
          0.006119655226311434,
          0.021424810865529113,
          0,
          0.046321664529052654,
          0.011539272202522917,
          0.0014899223632547816,
          0.005710981504387175,
          0.011052087900630328,
          0.004603727198828237,
          0.000851334883066696,
          0.009609705919800593,
          0,
          0.008378030718796317,
          0.011888558908880001,
          0.007628970366599223,
          0.006830401811864083,
          0.022015027772285634,
          0.00513134728911393,
          0.002261708215158989,
          0.0077078204605943975,
          0.005645335806983109,
          0.026217861746234025,
          0.0073306404647705764,
          0.007587414682021283,
          0.03754724579251225,
          0.014975838480791724,
          0.005621553387458567,
          0.01070110395593791,
          0.004762920453800651,
          0,
          0.01640715950368588,
          0.001351810206235099,
          0.005542636286863176,
          0.007855521159172233,
          0.003877232340694959,
          0.0012295836861066695,
          0.004514674256254419,
          0.020008293725084846,
          0.006499454171452874,
          0.010525305110038588,
          0.0003079240793831044,
          0.004449708768140964,
          0.00884582876596359,
          0.008685051218414619,
          0,
          0.006698386791109967,
          0.0054460943250343175,
          0.00029026783156626103,
          0.009552199972510405,
          0.0033900366253823808,
          0.009613497439229127,
          0.005322320242664808,
          0.0074655739053664655,
          0.021081253617425102,
          0.0254961331898721,
          0.0055086522303823765,
          0.0033753933700874064,
          0,
          0.029495833514409944,
          0.004462178727180549,
          0.005608337243407181,
          0.000603860289101843,
          0.006549191061907908,
          0.021114483175076675,
          0.008096692939813894,
          0.01561156769306738,
          0.00904554606950075,
          0.017514089331672884,
          0.008105684668710141,
          0.0017901090885937489,
          0.0005657992638021897,
          0.004538142622921817,
          0.00692222720810776,
          0.009087720688426747,
          0,
          0.005288411539927754,
          0.007364738915455631,
          0.005962442948582099
         ],
         "yaxis": "y"
        }
       ],
       "layout": {
        "barmode": "relative",
        "legend": {
         "tracegroupgap": 0
        },
        "template": {
         "data": {
          "bar": [
           {
            "error_x": {
             "color": "#2a3f5f"
            },
            "error_y": {
             "color": "#2a3f5f"
            },
            "marker": {
             "line": {
              "color": "#E5ECF6",
              "width": 0.5
             },
             "pattern": {
              "fillmode": "overlay",
              "size": 10,
              "solidity": 0.2
             }
            },
            "type": "bar"
           }
          ],
          "barpolar": [
           {
            "marker": {
             "line": {
              "color": "#E5ECF6",
              "width": 0.5
             },
             "pattern": {
              "fillmode": "overlay",
              "size": 10,
              "solidity": 0.2
             }
            },
            "type": "barpolar"
           }
          ],
          "carpet": [
           {
            "aaxis": {
             "endlinecolor": "#2a3f5f",
             "gridcolor": "white",
             "linecolor": "white",
             "minorgridcolor": "white",
             "startlinecolor": "#2a3f5f"
            },
            "baxis": {
             "endlinecolor": "#2a3f5f",
             "gridcolor": "white",
             "linecolor": "white",
             "minorgridcolor": "white",
             "startlinecolor": "#2a3f5f"
            },
            "type": "carpet"
           }
          ],
          "choropleth": [
           {
            "colorbar": {
             "outlinewidth": 0,
             "ticks": ""
            },
            "type": "choropleth"
           }
          ],
          "contour": [
           {
            "colorbar": {
             "outlinewidth": 0,
             "ticks": ""
            },
            "colorscale": [
             [
              0,
              "#0d0887"
             ],
             [
              0.1111111111111111,
              "#46039f"
             ],
             [
              0.2222222222222222,
              "#7201a8"
             ],
             [
              0.3333333333333333,
              "#9c179e"
             ],
             [
              0.4444444444444444,
              "#bd3786"
             ],
             [
              0.5555555555555556,
              "#d8576b"
             ],
             [
              0.6666666666666666,
              "#ed7953"
             ],
             [
              0.7777777777777778,
              "#fb9f3a"
             ],
             [
              0.8888888888888888,
              "#fdca26"
             ],
             [
              1,
              "#f0f921"
             ]
            ],
            "type": "contour"
           }
          ],
          "contourcarpet": [
           {
            "colorbar": {
             "outlinewidth": 0,
             "ticks": ""
            },
            "type": "contourcarpet"
           }
          ],
          "heatmap": [
           {
            "colorbar": {
             "outlinewidth": 0,
             "ticks": ""
            },
            "colorscale": [
             [
              0,
              "#0d0887"
             ],
             [
              0.1111111111111111,
              "#46039f"
             ],
             [
              0.2222222222222222,
              "#7201a8"
             ],
             [
              0.3333333333333333,
              "#9c179e"
             ],
             [
              0.4444444444444444,
              "#bd3786"
             ],
             [
              0.5555555555555556,
              "#d8576b"
             ],
             [
              0.6666666666666666,
              "#ed7953"
             ],
             [
              0.7777777777777778,
              "#fb9f3a"
             ],
             [
              0.8888888888888888,
              "#fdca26"
             ],
             [
              1,
              "#f0f921"
             ]
            ],
            "type": "heatmap"
           }
          ],
          "heatmapgl": [
           {
            "colorbar": {
             "outlinewidth": 0,
             "ticks": ""
            },
            "colorscale": [
             [
              0,
              "#0d0887"
             ],
             [
              0.1111111111111111,
              "#46039f"
             ],
             [
              0.2222222222222222,
              "#7201a8"
             ],
             [
              0.3333333333333333,
              "#9c179e"
             ],
             [
              0.4444444444444444,
              "#bd3786"
             ],
             [
              0.5555555555555556,
              "#d8576b"
             ],
             [
              0.6666666666666666,
              "#ed7953"
             ],
             [
              0.7777777777777778,
              "#fb9f3a"
             ],
             [
              0.8888888888888888,
              "#fdca26"
             ],
             [
              1,
              "#f0f921"
             ]
            ],
            "type": "heatmapgl"
           }
          ],
          "histogram": [
           {
            "marker": {
             "pattern": {
              "fillmode": "overlay",
              "size": 10,
              "solidity": 0.2
             }
            },
            "type": "histogram"
           }
          ],
          "histogram2d": [
           {
            "colorbar": {
             "outlinewidth": 0,
             "ticks": ""
            },
            "colorscale": [
             [
              0,
              "#0d0887"
             ],
             [
              0.1111111111111111,
              "#46039f"
             ],
             [
              0.2222222222222222,
              "#7201a8"
             ],
             [
              0.3333333333333333,
              "#9c179e"
             ],
             [
              0.4444444444444444,
              "#bd3786"
             ],
             [
              0.5555555555555556,
              "#d8576b"
             ],
             [
              0.6666666666666666,
              "#ed7953"
             ],
             [
              0.7777777777777778,
              "#fb9f3a"
             ],
             [
              0.8888888888888888,
              "#fdca26"
             ],
             [
              1,
              "#f0f921"
             ]
            ],
            "type": "histogram2d"
           }
          ],
          "histogram2dcontour": [
           {
            "colorbar": {
             "outlinewidth": 0,
             "ticks": ""
            },
            "colorscale": [
             [
              0,
              "#0d0887"
             ],
             [
              0.1111111111111111,
              "#46039f"
             ],
             [
              0.2222222222222222,
              "#7201a8"
             ],
             [
              0.3333333333333333,
              "#9c179e"
             ],
             [
              0.4444444444444444,
              "#bd3786"
             ],
             [
              0.5555555555555556,
              "#d8576b"
             ],
             [
              0.6666666666666666,
              "#ed7953"
             ],
             [
              0.7777777777777778,
              "#fb9f3a"
             ],
             [
              0.8888888888888888,
              "#fdca26"
             ],
             [
              1,
              "#f0f921"
             ]
            ],
            "type": "histogram2dcontour"
           }
          ],
          "mesh3d": [
           {
            "colorbar": {
             "outlinewidth": 0,
             "ticks": ""
            },
            "type": "mesh3d"
           }
          ],
          "parcoords": [
           {
            "line": {
             "colorbar": {
              "outlinewidth": 0,
              "ticks": ""
             }
            },
            "type": "parcoords"
           }
          ],
          "pie": [
           {
            "automargin": true,
            "type": "pie"
           }
          ],
          "scatter": [
           {
            "marker": {
             "colorbar": {
              "outlinewidth": 0,
              "ticks": ""
             }
            },
            "type": "scatter"
           }
          ],
          "scatter3d": [
           {
            "line": {
             "colorbar": {
              "outlinewidth": 0,
              "ticks": ""
             }
            },
            "marker": {
             "colorbar": {
              "outlinewidth": 0,
              "ticks": ""
             }
            },
            "type": "scatter3d"
           }
          ],
          "scattercarpet": [
           {
            "marker": {
             "colorbar": {
              "outlinewidth": 0,
              "ticks": ""
             }
            },
            "type": "scattercarpet"
           }
          ],
          "scattergeo": [
           {
            "marker": {
             "colorbar": {
              "outlinewidth": 0,
              "ticks": ""
             }
            },
            "type": "scattergeo"
           }
          ],
          "scattergl": [
           {
            "marker": {
             "colorbar": {
              "outlinewidth": 0,
              "ticks": ""
             }
            },
            "type": "scattergl"
           }
          ],
          "scattermapbox": [
           {
            "marker": {
             "colorbar": {
              "outlinewidth": 0,
              "ticks": ""
             }
            },
            "type": "scattermapbox"
           }
          ],
          "scatterpolar": [
           {
            "marker": {
             "colorbar": {
              "outlinewidth": 0,
              "ticks": ""
             }
            },
            "type": "scatterpolar"
           }
          ],
          "scatterpolargl": [
           {
            "marker": {
             "colorbar": {
              "outlinewidth": 0,
              "ticks": ""
             }
            },
            "type": "scatterpolargl"
           }
          ],
          "scatterternary": [
           {
            "marker": {
             "colorbar": {
              "outlinewidth": 0,
              "ticks": ""
             }
            },
            "type": "scatterternary"
           }
          ],
          "surface": [
           {
            "colorbar": {
             "outlinewidth": 0,
             "ticks": ""
            },
            "colorscale": [
             [
              0,
              "#0d0887"
             ],
             [
              0.1111111111111111,
              "#46039f"
             ],
             [
              0.2222222222222222,
              "#7201a8"
             ],
             [
              0.3333333333333333,
              "#9c179e"
             ],
             [
              0.4444444444444444,
              "#bd3786"
             ],
             [
              0.5555555555555556,
              "#d8576b"
             ],
             [
              0.6666666666666666,
              "#ed7953"
             ],
             [
              0.7777777777777778,
              "#fb9f3a"
             ],
             [
              0.8888888888888888,
              "#fdca26"
             ],
             [
              1,
              "#f0f921"
             ]
            ],
            "type": "surface"
           }
          ],
          "table": [
           {
            "cells": {
             "fill": {
              "color": "#EBF0F8"
             },
             "line": {
              "color": "white"
             }
            },
            "header": {
             "fill": {
              "color": "#C8D4E3"
             },
             "line": {
              "color": "white"
             }
            },
            "type": "table"
           }
          ]
         },
         "layout": {
          "annotationdefaults": {
           "arrowcolor": "#2a3f5f",
           "arrowhead": 0,
           "arrowwidth": 1
          },
          "autotypenumbers": "strict",
          "coloraxis": {
           "colorbar": {
            "outlinewidth": 0,
            "ticks": ""
           }
          },
          "colorscale": {
           "diverging": [
            [
             0,
             "#8e0152"
            ],
            [
             0.1,
             "#c51b7d"
            ],
            [
             0.2,
             "#de77ae"
            ],
            [
             0.3,
             "#f1b6da"
            ],
            [
             0.4,
             "#fde0ef"
            ],
            [
             0.5,
             "#f7f7f7"
            ],
            [
             0.6,
             "#e6f5d0"
            ],
            [
             0.7,
             "#b8e186"
            ],
            [
             0.8,
             "#7fbc41"
            ],
            [
             0.9,
             "#4d9221"
            ],
            [
             1,
             "#276419"
            ]
           ],
           "sequential": [
            [
             0,
             "#0d0887"
            ],
            [
             0.1111111111111111,
             "#46039f"
            ],
            [
             0.2222222222222222,
             "#7201a8"
            ],
            [
             0.3333333333333333,
             "#9c179e"
            ],
            [
             0.4444444444444444,
             "#bd3786"
            ],
            [
             0.5555555555555556,
             "#d8576b"
            ],
            [
             0.6666666666666666,
             "#ed7953"
            ],
            [
             0.7777777777777778,
             "#fb9f3a"
            ],
            [
             0.8888888888888888,
             "#fdca26"
            ],
            [
             1,
             "#f0f921"
            ]
           ],
           "sequentialminus": [
            [
             0,
             "#0d0887"
            ],
            [
             0.1111111111111111,
             "#46039f"
            ],
            [
             0.2222222222222222,
             "#7201a8"
            ],
            [
             0.3333333333333333,
             "#9c179e"
            ],
            [
             0.4444444444444444,
             "#bd3786"
            ],
            [
             0.5555555555555556,
             "#d8576b"
            ],
            [
             0.6666666666666666,
             "#ed7953"
            ],
            [
             0.7777777777777778,
             "#fb9f3a"
            ],
            [
             0.8888888888888888,
             "#fdca26"
            ],
            [
             1,
             "#f0f921"
            ]
           ]
          },
          "colorway": [
           "#636efa",
           "#EF553B",
           "#00cc96",
           "#ab63fa",
           "#FFA15A",
           "#19d3f3",
           "#FF6692",
           "#B6E880",
           "#FF97FF",
           "#FECB52"
          ],
          "font": {
           "color": "#2a3f5f"
          },
          "geo": {
           "bgcolor": "white",
           "lakecolor": "white",
           "landcolor": "#E5ECF6",
           "showlakes": true,
           "showland": true,
           "subunitcolor": "white"
          },
          "hoverlabel": {
           "align": "left"
          },
          "hovermode": "closest",
          "mapbox": {
           "style": "light"
          },
          "paper_bgcolor": "white",
          "plot_bgcolor": "#E5ECF6",
          "polar": {
           "angularaxis": {
            "gridcolor": "white",
            "linecolor": "white",
            "ticks": ""
           },
           "bgcolor": "#E5ECF6",
           "radialaxis": {
            "gridcolor": "white",
            "linecolor": "white",
            "ticks": ""
           }
          },
          "scene": {
           "xaxis": {
            "backgroundcolor": "#E5ECF6",
            "gridcolor": "white",
            "gridwidth": 2,
            "linecolor": "white",
            "showbackground": true,
            "ticks": "",
            "zerolinecolor": "white"
           },
           "yaxis": {
            "backgroundcolor": "#E5ECF6",
            "gridcolor": "white",
            "gridwidth": 2,
            "linecolor": "white",
            "showbackground": true,
            "ticks": "",
            "zerolinecolor": "white"
           },
           "zaxis": {
            "backgroundcolor": "#E5ECF6",
            "gridcolor": "white",
            "gridwidth": 2,
            "linecolor": "white",
            "showbackground": true,
            "ticks": "",
            "zerolinecolor": "white"
           }
          },
          "shapedefaults": {
           "line": {
            "color": "#2a3f5f"
           }
          },
          "ternary": {
           "aaxis": {
            "gridcolor": "white",
            "linecolor": "white",
            "ticks": ""
           },
           "baxis": {
            "gridcolor": "white",
            "linecolor": "white",
            "ticks": ""
           },
           "bgcolor": "#E5ECF6",
           "caxis": {
            "gridcolor": "white",
            "linecolor": "white",
            "ticks": ""
           }
          },
          "title": {
           "x": 0.05
          },
          "xaxis": {
           "automargin": true,
           "gridcolor": "white",
           "linecolor": "white",
           "ticks": "",
           "title": {
            "standoff": 15
           },
           "zerolinecolor": "white",
           "zerolinewidth": 2
          },
          "yaxis": {
           "automargin": true,
           "gridcolor": "white",
           "linecolor": "white",
           "ticks": "",
           "title": {
            "standoff": 15
           },
           "zerolinecolor": "white",
           "zerolinewidth": 2
          }
         }
        },
        "title": {
         "text": "Feature Importances of Features in Random Forest Regressor"
        },
        "xaxis": {
         "anchor": "y",
         "categoryorder": "total descending",
         "domain": [
          0,
          1
         ],
         "title": {
          "text": "Features"
         }
        },
        "yaxis": {
         "anchor": "x",
         "domain": [
          0,
          1
         ],
         "title": {
          "text": "Feature Importances"
         }
        }
       }
      },
      "text/html": [
       "<div>                            <div id=\"bfa208f3-ce3d-47cc-84df-6897e13ffa04\" class=\"plotly-graph-div\" style=\"height:525px; width:100%;\"></div>            <script type=\"text/javascript\">                require([\"plotly\"], function(Plotly) {                    window.PLOTLYENV=window.PLOTLYENV || {};                                    if (document.getElementById(\"bfa208f3-ce3d-47cc-84df-6897e13ffa04\")) {                    Plotly.newPlot(                        \"bfa208f3-ce3d-47cc-84df-6897e13ffa04\",                        [{\"alignmentgroup\":\"True\",\"hovertemplate\":\"Features=%{x}<br>Feature Importances=%{y}<extra></extra>\",\"legendgroup\":\"\",\"marker\":{\"color\":\"#636efa\",\"pattern\":{\"shape\":\"\"}},\"name\":\"\",\"offsetgroup\":\"\",\"orientation\":\"v\",\"showlegend\":false,\"textposition\":\"auto\",\"x\":[\"primary_breed_Affenpinscher\",\"primary_breed_Alaskan Malamute\",\"primary_breed_American Bulldog\",\"primary_breed_American Bully\",\"primary_breed_American Eskimo Dog\",\"primary_breed_American Staffordshire Terrier\",\"primary_breed_Anatolian Shepherd\",\"primary_breed_Aussiedoodle\",\"primary_breed_Australian Cattle Dog / Blue Heeler\",\"primary_breed_Australian Kelpie\",\"primary_breed_Australian Shepherd\",\"primary_breed_Australian Terrier\",\"primary_breed_Basset Hound\",\"primary_breed_Beagle\",\"primary_breed_Belgian Shepherd / Malinois\",\"primary_breed_Bernese Mountain Dog\",\"primary_breed_Bichon Frise\",\"primary_breed_Black Labrador Retriever\",\"primary_breed_Black Mouth Cur\",\"primary_breed_Bloodhound\",\"primary_breed_Blue Lacy\",\"primary_breed_Border Collie\",\"primary_breed_Border Terrier\",\"primary_breed_Boston Terrier\",\"primary_breed_Boxer\",\"primary_breed_Brussels Griffon\",\"primary_breed_Cairn Terrier\",\"primary_breed_Carolina Dog\",\"primary_breed_Catahoula Leopard Dog\",\"primary_breed_Cattle Dog\",\"primary_breed_Cavalier King Charles Spaniel\",\"primary_breed_Chihuahua\",\"primary_breed_Chinese Crested Dog\",\"primary_breed_Chiweenie\",\"primary_breed_Chocolate Labrador Retriever\",\"primary_breed_Chow Chow\",\"primary_breed_Cocker Spaniel\",\"primary_breed_Collie\",\"primary_breed_Coonhound\",\"primary_breed_Corgi\",\"primary_breed_Dachshund\",\"primary_breed_Dalmatian\",\"primary_breed_Doberman Pinscher\",\"primary_breed_Dogo Argentino\",\"primary_breed_Dutch Shepherd\",\"primary_breed_English Bulldog\",\"primary_breed_English Coonhound\",\"primary_breed_English Setter\",\"primary_breed_English Shepherd\",\"primary_breed_Entlebucher\",\"primary_breed_Feist\",\"primary_breed_Flat-Coated Retriever\",\"primary_breed_Fox Terrier\",\"primary_breed_Foxhound\",\"primary_breed_French Bulldog\",\"primary_breed_German Shepherd Dog\",\"primary_breed_German Wirehaired Pointer\",\"primary_breed_Golden Retriever\",\"primary_breed_Goldendoodle\",\"primary_breed_Great Dane\",\"primary_breed_Great Pyrenees\",\"primary_breed_Greyhound\",\"primary_breed_Hound\",\"primary_breed_Husky\",\"primary_breed_Ibizan Hound\",\"primary_breed_Icelandic Sheepdog\",\"primary_breed_Irish Terrier\",\"primary_breed_Italian Greyhound\",\"primary_breed_Jack Russell Terrier\",\"primary_breed_Japanese Chin\",\"primary_breed_Labradoodle\",\"primary_breed_Labrador Retriever\",\"primary_breed_Lhasa Apso\",\"primary_breed_Maltese\",\"primary_breed_Maltipoo\",\"primary_breed_Mastiff\",\"primary_breed_Miniature Dachshund\",\"primary_breed_Miniature Pinscher\",\"primary_breed_Miniature Poodle\",\"primary_breed_Miniature Schnauzer\",\"primary_breed_Mixed Breed\",\"primary_breed_Mountain Cur\",\"primary_breed_Newfoundland Dog\",\"primary_breed_Norfolk Terrier\",\"primary_breed_Old English Sheepdog\",\"primary_breed_Parson Russell Terrier\",\"primary_breed_Patterdale Terrier / Fell Terrier\",\"primary_breed_Pekingese\",\"primary_breed_Pharaoh Hound\",\"primary_breed_Pit Bull Terrier\",\"primary_breed_Pointer\",\"primary_breed_Pomeranian\",\"primary_breed_Poodle\",\"primary_breed_Pug\",\"primary_breed_Rat Terrier\",\"primary_breed_Retriever\",\"primary_breed_Rhodesian Ridgeback\",\"primary_breed_Rottweiler\",\"primary_breed_Saluki\",\"primary_breed_Schnauzer\",\"primary_breed_Shar-Pei\",\"primary_breed_Shepherd\",\"primary_breed_Shetland Sheepdog / Sheltie\",\"primary_breed_Shiba Inu\",\"primary_breed_Shih Tzu\",\"primary_breed_Siberian Husky\",\"primary_breed_Spaniel\",\"primary_breed_Staffordshire Bull Terrier\",\"primary_breed_Standard Poodle\",\"primary_breed_Terrier\",\"primary_breed_Tibetan Terrier\",\"primary_breed_Vizsla\",\"primary_breed_Weimaraner\",\"primary_breed_Whippet\",\"primary_breed_White German Shepherd\",\"primary_breed_Wirehaired Terrier\",\"primary_breed_Xoloitzcuintli / Mexican Hairless\",\"primary_breed_Yellow Labrador Retriever\",\"primary_breed_Yorkshire Terrier\"],\"xaxis\":\"x\",\"y\":[0.008938061879593995,0.004271700707561638,0.022426499044665583,0.006823974669433359,0.007521751100715397,0.03204687542802669,0.008315957786548776,0.00523567846742755,0.008332295465744523,0.006786582760854621,0.0169621044273557,0.0055490985537602015,0.006351595708416983,0.006628180471916935,0.014728316378095616,0.005438824669009407,0.007354324593733001,0.0086498896309921,0.005678387277634473,0.006792150627680125,0.005803943774593272,0.006517796968245898,0.0,0.013805165440152874,0.006730280069769559,0.0,0.002858805475558528,0.0,0.00871454075519359,0.009260133428418329,0.006790867477368285,0.010440790472133053,0.002257676391489787,0.004451870113172144,0.0006683561590880822,0.008906498401202806,0.011485286444472229,0.008548015220279216,0.0,0.0075121774730947935,0.008393553571625478,0.006119655226311434,0.021424810865529113,0.0,0.046321664529052654,0.011539272202522917,0.0014899223632547816,0.005710981504387175,0.011052087900630328,0.004603727198828237,0.000851334883066696,0.009609705919800593,0.0,0.008378030718796317,0.011888558908880001,0.007628970366599223,0.006830401811864083,0.022015027772285634,0.00513134728911393,0.002261708215158989,0.0077078204605943975,0.005645335806983109,0.026217861746234025,0.0073306404647705764,0.007587414682021283,0.03754724579251225,0.014975838480791724,0.005621553387458567,0.01070110395593791,0.004762920453800651,0.0,0.01640715950368588,0.001351810206235099,0.005542636286863176,0.007855521159172233,0.003877232340694959,0.0012295836861066695,0.004514674256254419,0.020008293725084846,0.006499454171452874,0.010525305110038588,0.0003079240793831044,0.004449708768140964,0.00884582876596359,0.008685051218414619,0.0,0.006698386791109967,0.0054460943250343175,0.00029026783156626103,0.009552199972510405,0.0033900366253823808,0.009613497439229127,0.005322320242664808,0.0074655739053664655,0.021081253617425102,0.0254961331898721,0.0055086522303823765,0.0033753933700874064,0.0,0.029495833514409944,0.004462178727180549,0.005608337243407181,0.000603860289101843,0.006549191061907908,0.021114483175076675,0.008096692939813894,0.01561156769306738,0.00904554606950075,0.017514089331672884,0.008105684668710141,0.0017901090885937489,0.0005657992638021897,0.004538142622921817,0.00692222720810776,0.009087720688426747,0.0,0.005288411539927754,0.007364738915455631,0.005962442948582099],\"yaxis\":\"y\",\"type\":\"bar\"}],                        {\"template\":{\"data\":{\"bar\":[{\"error_x\":{\"color\":\"#2a3f5f\"},\"error_y\":{\"color\":\"#2a3f5f\"},\"marker\":{\"line\":{\"color\":\"#E5ECF6\",\"width\":0.5},\"pattern\":{\"fillmode\":\"overlay\",\"size\":10,\"solidity\":0.2}},\"type\":\"bar\"}],\"barpolar\":[{\"marker\":{\"line\":{\"color\":\"#E5ECF6\",\"width\":0.5},\"pattern\":{\"fillmode\":\"overlay\",\"size\":10,\"solidity\":0.2}},\"type\":\"barpolar\"}],\"carpet\":[{\"aaxis\":{\"endlinecolor\":\"#2a3f5f\",\"gridcolor\":\"white\",\"linecolor\":\"white\",\"minorgridcolor\":\"white\",\"startlinecolor\":\"#2a3f5f\"},\"baxis\":{\"endlinecolor\":\"#2a3f5f\",\"gridcolor\":\"white\",\"linecolor\":\"white\",\"minorgridcolor\":\"white\",\"startlinecolor\":\"#2a3f5f\"},\"type\":\"carpet\"}],\"choropleth\":[{\"colorbar\":{\"outlinewidth\":0,\"ticks\":\"\"},\"type\":\"choropleth\"}],\"contour\":[{\"colorbar\":{\"outlinewidth\":0,\"ticks\":\"\"},\"colorscale\":[[0.0,\"#0d0887\"],[0.1111111111111111,\"#46039f\"],[0.2222222222222222,\"#7201a8\"],[0.3333333333333333,\"#9c179e\"],[0.4444444444444444,\"#bd3786\"],[0.5555555555555556,\"#d8576b\"],[0.6666666666666666,\"#ed7953\"],[0.7777777777777778,\"#fb9f3a\"],[0.8888888888888888,\"#fdca26\"],[1.0,\"#f0f921\"]],\"type\":\"contour\"}],\"contourcarpet\":[{\"colorbar\":{\"outlinewidth\":0,\"ticks\":\"\"},\"type\":\"contourcarpet\"}],\"heatmap\":[{\"colorbar\":{\"outlinewidth\":0,\"ticks\":\"\"},\"colorscale\":[[0.0,\"#0d0887\"],[0.1111111111111111,\"#46039f\"],[0.2222222222222222,\"#7201a8\"],[0.3333333333333333,\"#9c179e\"],[0.4444444444444444,\"#bd3786\"],[0.5555555555555556,\"#d8576b\"],[0.6666666666666666,\"#ed7953\"],[0.7777777777777778,\"#fb9f3a\"],[0.8888888888888888,\"#fdca26\"],[1.0,\"#f0f921\"]],\"type\":\"heatmap\"}],\"heatmapgl\":[{\"colorbar\":{\"outlinewidth\":0,\"ticks\":\"\"},\"colorscale\":[[0.0,\"#0d0887\"],[0.1111111111111111,\"#46039f\"],[0.2222222222222222,\"#7201a8\"],[0.3333333333333333,\"#9c179e\"],[0.4444444444444444,\"#bd3786\"],[0.5555555555555556,\"#d8576b\"],[0.6666666666666666,\"#ed7953\"],[0.7777777777777778,\"#fb9f3a\"],[0.8888888888888888,\"#fdca26\"],[1.0,\"#f0f921\"]],\"type\":\"heatmapgl\"}],\"histogram\":[{\"marker\":{\"pattern\":{\"fillmode\":\"overlay\",\"size\":10,\"solidity\":0.2}},\"type\":\"histogram\"}],\"histogram2d\":[{\"colorbar\":{\"outlinewidth\":0,\"ticks\":\"\"},\"colorscale\":[[0.0,\"#0d0887\"],[0.1111111111111111,\"#46039f\"],[0.2222222222222222,\"#7201a8\"],[0.3333333333333333,\"#9c179e\"],[0.4444444444444444,\"#bd3786\"],[0.5555555555555556,\"#d8576b\"],[0.6666666666666666,\"#ed7953\"],[0.7777777777777778,\"#fb9f3a\"],[0.8888888888888888,\"#fdca26\"],[1.0,\"#f0f921\"]],\"type\":\"histogram2d\"}],\"histogram2dcontour\":[{\"colorbar\":{\"outlinewidth\":0,\"ticks\":\"\"},\"colorscale\":[[0.0,\"#0d0887\"],[0.1111111111111111,\"#46039f\"],[0.2222222222222222,\"#7201a8\"],[0.3333333333333333,\"#9c179e\"],[0.4444444444444444,\"#bd3786\"],[0.5555555555555556,\"#d8576b\"],[0.6666666666666666,\"#ed7953\"],[0.7777777777777778,\"#fb9f3a\"],[0.8888888888888888,\"#fdca26\"],[1.0,\"#f0f921\"]],\"type\":\"histogram2dcontour\"}],\"mesh3d\":[{\"colorbar\":{\"outlinewidth\":0,\"ticks\":\"\"},\"type\":\"mesh3d\"}],\"parcoords\":[{\"line\":{\"colorbar\":{\"outlinewidth\":0,\"ticks\":\"\"}},\"type\":\"parcoords\"}],\"pie\":[{\"automargin\":true,\"type\":\"pie\"}],\"scatter\":[{\"marker\":{\"colorbar\":{\"outlinewidth\":0,\"ticks\":\"\"}},\"type\":\"scatter\"}],\"scatter3d\":[{\"line\":{\"colorbar\":{\"outlinewidth\":0,\"ticks\":\"\"}},\"marker\":{\"colorbar\":{\"outlinewidth\":0,\"ticks\":\"\"}},\"type\":\"scatter3d\"}],\"scattercarpet\":[{\"marker\":{\"colorbar\":{\"outlinewidth\":0,\"ticks\":\"\"}},\"type\":\"scattercarpet\"}],\"scattergeo\":[{\"marker\":{\"colorbar\":{\"outlinewidth\":0,\"ticks\":\"\"}},\"type\":\"scattergeo\"}],\"scattergl\":[{\"marker\":{\"colorbar\":{\"outlinewidth\":0,\"ticks\":\"\"}},\"type\":\"scattergl\"}],\"scattermapbox\":[{\"marker\":{\"colorbar\":{\"outlinewidth\":0,\"ticks\":\"\"}},\"type\":\"scattermapbox\"}],\"scatterpolar\":[{\"marker\":{\"colorbar\":{\"outlinewidth\":0,\"ticks\":\"\"}},\"type\":\"scatterpolar\"}],\"scatterpolargl\":[{\"marker\":{\"colorbar\":{\"outlinewidth\":0,\"ticks\":\"\"}},\"type\":\"scatterpolargl\"}],\"scatterternary\":[{\"marker\":{\"colorbar\":{\"outlinewidth\":0,\"ticks\":\"\"}},\"type\":\"scatterternary\"}],\"surface\":[{\"colorbar\":{\"outlinewidth\":0,\"ticks\":\"\"},\"colorscale\":[[0.0,\"#0d0887\"],[0.1111111111111111,\"#46039f\"],[0.2222222222222222,\"#7201a8\"],[0.3333333333333333,\"#9c179e\"],[0.4444444444444444,\"#bd3786\"],[0.5555555555555556,\"#d8576b\"],[0.6666666666666666,\"#ed7953\"],[0.7777777777777778,\"#fb9f3a\"],[0.8888888888888888,\"#fdca26\"],[1.0,\"#f0f921\"]],\"type\":\"surface\"}],\"table\":[{\"cells\":{\"fill\":{\"color\":\"#EBF0F8\"},\"line\":{\"color\":\"white\"}},\"header\":{\"fill\":{\"color\":\"#C8D4E3\"},\"line\":{\"color\":\"white\"}},\"type\":\"table\"}]},\"layout\":{\"annotationdefaults\":{\"arrowcolor\":\"#2a3f5f\",\"arrowhead\":0,\"arrowwidth\":1},\"autotypenumbers\":\"strict\",\"coloraxis\":{\"colorbar\":{\"outlinewidth\":0,\"ticks\":\"\"}},\"colorscale\":{\"diverging\":[[0,\"#8e0152\"],[0.1,\"#c51b7d\"],[0.2,\"#de77ae\"],[0.3,\"#f1b6da\"],[0.4,\"#fde0ef\"],[0.5,\"#f7f7f7\"],[0.6,\"#e6f5d0\"],[0.7,\"#b8e186\"],[0.8,\"#7fbc41\"],[0.9,\"#4d9221\"],[1,\"#276419\"]],\"sequential\":[[0.0,\"#0d0887\"],[0.1111111111111111,\"#46039f\"],[0.2222222222222222,\"#7201a8\"],[0.3333333333333333,\"#9c179e\"],[0.4444444444444444,\"#bd3786\"],[0.5555555555555556,\"#d8576b\"],[0.6666666666666666,\"#ed7953\"],[0.7777777777777778,\"#fb9f3a\"],[0.8888888888888888,\"#fdca26\"],[1.0,\"#f0f921\"]],\"sequentialminus\":[[0.0,\"#0d0887\"],[0.1111111111111111,\"#46039f\"],[0.2222222222222222,\"#7201a8\"],[0.3333333333333333,\"#9c179e\"],[0.4444444444444444,\"#bd3786\"],[0.5555555555555556,\"#d8576b\"],[0.6666666666666666,\"#ed7953\"],[0.7777777777777778,\"#fb9f3a\"],[0.8888888888888888,\"#fdca26\"],[1.0,\"#f0f921\"]]},\"colorway\":[\"#636efa\",\"#EF553B\",\"#00cc96\",\"#ab63fa\",\"#FFA15A\",\"#19d3f3\",\"#FF6692\",\"#B6E880\",\"#FF97FF\",\"#FECB52\"],\"font\":{\"color\":\"#2a3f5f\"},\"geo\":{\"bgcolor\":\"white\",\"lakecolor\":\"white\",\"landcolor\":\"#E5ECF6\",\"showlakes\":true,\"showland\":true,\"subunitcolor\":\"white\"},\"hoverlabel\":{\"align\":\"left\"},\"hovermode\":\"closest\",\"mapbox\":{\"style\":\"light\"},\"paper_bgcolor\":\"white\",\"plot_bgcolor\":\"#E5ECF6\",\"polar\":{\"angularaxis\":{\"gridcolor\":\"white\",\"linecolor\":\"white\",\"ticks\":\"\"},\"bgcolor\":\"#E5ECF6\",\"radialaxis\":{\"gridcolor\":\"white\",\"linecolor\":\"white\",\"ticks\":\"\"}},\"scene\":{\"xaxis\":{\"backgroundcolor\":\"#E5ECF6\",\"gridcolor\":\"white\",\"gridwidth\":2,\"linecolor\":\"white\",\"showbackground\":true,\"ticks\":\"\",\"zerolinecolor\":\"white\"},\"yaxis\":{\"backgroundcolor\":\"#E5ECF6\",\"gridcolor\":\"white\",\"gridwidth\":2,\"linecolor\":\"white\",\"showbackground\":true,\"ticks\":\"\",\"zerolinecolor\":\"white\"},\"zaxis\":{\"backgroundcolor\":\"#E5ECF6\",\"gridcolor\":\"white\",\"gridwidth\":2,\"linecolor\":\"white\",\"showbackground\":true,\"ticks\":\"\",\"zerolinecolor\":\"white\"}},\"shapedefaults\":{\"line\":{\"color\":\"#2a3f5f\"}},\"ternary\":{\"aaxis\":{\"gridcolor\":\"white\",\"linecolor\":\"white\",\"ticks\":\"\"},\"baxis\":{\"gridcolor\":\"white\",\"linecolor\":\"white\",\"ticks\":\"\"},\"bgcolor\":\"#E5ECF6\",\"caxis\":{\"gridcolor\":\"white\",\"linecolor\":\"white\",\"ticks\":\"\"}},\"title\":{\"x\":0.05},\"xaxis\":{\"automargin\":true,\"gridcolor\":\"white\",\"linecolor\":\"white\",\"ticks\":\"\",\"title\":{\"standoff\":15},\"zerolinecolor\":\"white\",\"zerolinewidth\":2},\"yaxis\":{\"automargin\":true,\"gridcolor\":\"white\",\"linecolor\":\"white\",\"ticks\":\"\",\"title\":{\"standoff\":15},\"zerolinecolor\":\"white\",\"zerolinewidth\":2}}},\"xaxis\":{\"anchor\":\"y\",\"domain\":[0.0,1.0],\"title\":{\"text\":\"Features\"},\"categoryorder\":\"total descending\"},\"yaxis\":{\"anchor\":\"x\",\"domain\":[0.0,1.0],\"title\":{\"text\":\"Feature Importances\"}},\"legend\":{\"tracegroupgap\":0},\"title\":{\"text\":\"Feature Importances of Features in Random Forest Regressor\"},\"barmode\":\"relative\"},                        {\"responsive\": true}                    ).then(function(){\n",
       "                            \n",
       "var gd = document.getElementById('bfa208f3-ce3d-47cc-84df-6897e13ffa04');\n",
       "var x = new MutationObserver(function (mutations, observer) {{\n",
       "        var display = window.getComputedStyle(gd).display;\n",
       "        if (!display || display === 'none') {{\n",
       "            console.log([gd, 'removed!']);\n",
       "            Plotly.purge(gd);\n",
       "            observer.disconnect();\n",
       "        }}\n",
       "}});\n",
       "\n",
       "// Listen for the removal of the full notebook cells\n",
       "var notebookContainer = gd.closest('#notebook-container');\n",
       "if (notebookContainer) {{\n",
       "    x.observe(notebookContainer, {childList: true});\n",
       "}}\n",
       "\n",
       "// Listen for the clearing of the current output cell\n",
       "var outputEl = gd.closest('.output');\n",
       "if (outputEl) {{\n",
       "    x.observe(outputEl, {childList: true});\n",
       "}}\n",
       "\n",
       "                        })                };                });            </script>        </div>"
      ]
     },
     "metadata": {},
     "output_type": "display_data"
    }
   ],
   "source": [
    "px.bar(x=x_feat_list_breeds, y=feature_importances, title='Feature Importances of Features in Random Forest Regressor', labels={'x': 'Features', 'y':'Feature Importances'}).update_xaxes(categoryorder='total descending')"
   ]
  },
  {
   "cell_type": "code",
   "execution_count": 75,
   "id": "07915c4e",
   "metadata": {},
   "outputs": [],
   "source": [
    "test2_topfeats = ['primary_breed_Dutch Shepherd', 'primary_breed_Schnauzer', 'primary_breed_American Bulldog',\n",
    "                 'primary_breed_Shih Tzu', 'primary_breed_Standard Poodle']"
   ]
  },
  {
   "cell_type": "markdown",
   "id": "07c8ee80",
   "metadata": {},
   "source": [
    "### Test 3 - Only Looking at Colors"
   ]
  },
  {
   "cell_type": "code",
   "execution_count": 47,
   "id": "4b01ffd7",
   "metadata": {
    "scrolled": true
   },
   "outputs": [
    {
     "name": "stdout",
     "output_type": "stream",
     "text": [
      "R2: -0.005914474425693594, MSE: 234362.67172162927\n"
     ]
    }
   ],
   "source": [
    "x_feat_list_colors = ['primary_color_Apricot / Beige', \n",
    "                       'primary_color_Bicolor', 'primary_color_Black', 'primary_color_Brindle', 'primary_color_Brown / Chocolate', \n",
    "                       'primary_color_Golden', 'primary_color_Gray / Blue / Silver', 'primary_color_Harlequin', \n",
    "                       'primary_color_Merle (Blue)', 'primary_color_Merle (Red)', 'primary_color_Red / Chestnut / Orange', \n",
    "                       'primary_color_Sable', 'primary_color_Tricolor (Brown, Black, & White)', 'primary_color_White / Cream', \n",
    "                       'primary_color_Yellow / Tan / Blond / Fawn']\n",
    "feature_importances, feat_import_dict, r2, mse, residuals  = random_forest_regress_default(x_feat_list=x_feat_list_colors, y_col='delta_time_minutes', df=dogs_df_dummies)\n",
    "print(f'''R2: {r2}, MSE: {mse}''')"
   ]
  },
  {
   "cell_type": "code",
   "execution_count": 48,
   "id": "46c27cd4",
   "metadata": {},
   "outputs": [
    {
     "name": "stdout",
     "output_type": "stream",
     "text": [
      "{'primary_color_Apricot / Beige': 0.04780950090243831,\n",
      " 'primary_color_Bicolor': 0.034633925538821754,\n",
      " 'primary_color_Black': 0.030639559631439675,\n",
      " 'primary_color_Brindle': 0.19623699531434854,\n",
      " 'primary_color_Brown / Chocolate': 0.19865255105850482,\n",
      " 'primary_color_Golden': 0.0504710231320559,\n",
      " 'primary_color_Gray / Blue / Silver': 0.08787417094836382,\n",
      " 'primary_color_Harlequin': 0.10716615766129985,\n",
      " 'primary_color_Merle (Blue)': 0.07608737203568643,\n",
      " 'primary_color_Merle (Red)': 0.06001117945978616,\n",
      " 'primary_color_Red / Chestnut / Orange': 0.028242696498244995,\n",
      " 'primary_color_Sable': 0.0005713214147607199,\n",
      " 'primary_color_Tricolor (Brown, Black, & White)': 0.026936917293539236,\n",
      " 'primary_color_White / Cream': 0.034752314851628295,\n",
      " 'primary_color_Yellow / Tan / Blond / Fawn': 0.01991431425908168}\n"
     ]
    }
   ],
   "source": [
    "pprint.pprint(feat_import_dict)"
   ]
  },
  {
   "cell_type": "code",
   "execution_count": 49,
   "id": "61158ff3",
   "metadata": {},
   "outputs": [
    {
     "data": {
      "application/vnd.plotly.v1+json": {
       "config": {
        "plotlyServerURL": "https://plot.ly"
       },
       "data": [
        {
         "alignmentgroup": "True",
         "hovertemplate": "Features=%{x}<br>Feature Importances=%{y}<extra></extra>",
         "legendgroup": "",
         "marker": {
          "color": "#636efa",
          "pattern": {
           "shape": ""
          }
         },
         "name": "",
         "offsetgroup": "",
         "orientation": "v",
         "showlegend": false,
         "textposition": "auto",
         "type": "bar",
         "x": [
          "primary_color_Apricot / Beige",
          "primary_color_Bicolor",
          "primary_color_Black",
          "primary_color_Brindle",
          "primary_color_Brown / Chocolate",
          "primary_color_Golden",
          "primary_color_Gray / Blue / Silver",
          "primary_color_Harlequin",
          "primary_color_Merle (Blue)",
          "primary_color_Merle (Red)",
          "primary_color_Red / Chestnut / Orange",
          "primary_color_Sable",
          "primary_color_Tricolor (Brown, Black, & White)",
          "primary_color_White / Cream",
          "primary_color_Yellow / Tan / Blond / Fawn"
         ],
         "xaxis": "x",
         "y": [
          0.04780950090243831,
          0.034633925538821754,
          0.030639559631439675,
          0.19623699531434854,
          0.19865255105850482,
          0.0504710231320559,
          0.08787417094836382,
          0.10716615766129985,
          0.07608737203568643,
          0.06001117945978616,
          0.028242696498244995,
          0.0005713214147607199,
          0.026936917293539236,
          0.034752314851628295,
          0.01991431425908168
         ],
         "yaxis": "y"
        }
       ],
       "layout": {
        "barmode": "relative",
        "legend": {
         "tracegroupgap": 0
        },
        "template": {
         "data": {
          "bar": [
           {
            "error_x": {
             "color": "#2a3f5f"
            },
            "error_y": {
             "color": "#2a3f5f"
            },
            "marker": {
             "line": {
              "color": "#E5ECF6",
              "width": 0.5
             },
             "pattern": {
              "fillmode": "overlay",
              "size": 10,
              "solidity": 0.2
             }
            },
            "type": "bar"
           }
          ],
          "barpolar": [
           {
            "marker": {
             "line": {
              "color": "#E5ECF6",
              "width": 0.5
             },
             "pattern": {
              "fillmode": "overlay",
              "size": 10,
              "solidity": 0.2
             }
            },
            "type": "barpolar"
           }
          ],
          "carpet": [
           {
            "aaxis": {
             "endlinecolor": "#2a3f5f",
             "gridcolor": "white",
             "linecolor": "white",
             "minorgridcolor": "white",
             "startlinecolor": "#2a3f5f"
            },
            "baxis": {
             "endlinecolor": "#2a3f5f",
             "gridcolor": "white",
             "linecolor": "white",
             "minorgridcolor": "white",
             "startlinecolor": "#2a3f5f"
            },
            "type": "carpet"
           }
          ],
          "choropleth": [
           {
            "colorbar": {
             "outlinewidth": 0,
             "ticks": ""
            },
            "type": "choropleth"
           }
          ],
          "contour": [
           {
            "colorbar": {
             "outlinewidth": 0,
             "ticks": ""
            },
            "colorscale": [
             [
              0,
              "#0d0887"
             ],
             [
              0.1111111111111111,
              "#46039f"
             ],
             [
              0.2222222222222222,
              "#7201a8"
             ],
             [
              0.3333333333333333,
              "#9c179e"
             ],
             [
              0.4444444444444444,
              "#bd3786"
             ],
             [
              0.5555555555555556,
              "#d8576b"
             ],
             [
              0.6666666666666666,
              "#ed7953"
             ],
             [
              0.7777777777777778,
              "#fb9f3a"
             ],
             [
              0.8888888888888888,
              "#fdca26"
             ],
             [
              1,
              "#f0f921"
             ]
            ],
            "type": "contour"
           }
          ],
          "contourcarpet": [
           {
            "colorbar": {
             "outlinewidth": 0,
             "ticks": ""
            },
            "type": "contourcarpet"
           }
          ],
          "heatmap": [
           {
            "colorbar": {
             "outlinewidth": 0,
             "ticks": ""
            },
            "colorscale": [
             [
              0,
              "#0d0887"
             ],
             [
              0.1111111111111111,
              "#46039f"
             ],
             [
              0.2222222222222222,
              "#7201a8"
             ],
             [
              0.3333333333333333,
              "#9c179e"
             ],
             [
              0.4444444444444444,
              "#bd3786"
             ],
             [
              0.5555555555555556,
              "#d8576b"
             ],
             [
              0.6666666666666666,
              "#ed7953"
             ],
             [
              0.7777777777777778,
              "#fb9f3a"
             ],
             [
              0.8888888888888888,
              "#fdca26"
             ],
             [
              1,
              "#f0f921"
             ]
            ],
            "type": "heatmap"
           }
          ],
          "heatmapgl": [
           {
            "colorbar": {
             "outlinewidth": 0,
             "ticks": ""
            },
            "colorscale": [
             [
              0,
              "#0d0887"
             ],
             [
              0.1111111111111111,
              "#46039f"
             ],
             [
              0.2222222222222222,
              "#7201a8"
             ],
             [
              0.3333333333333333,
              "#9c179e"
             ],
             [
              0.4444444444444444,
              "#bd3786"
             ],
             [
              0.5555555555555556,
              "#d8576b"
             ],
             [
              0.6666666666666666,
              "#ed7953"
             ],
             [
              0.7777777777777778,
              "#fb9f3a"
             ],
             [
              0.8888888888888888,
              "#fdca26"
             ],
             [
              1,
              "#f0f921"
             ]
            ],
            "type": "heatmapgl"
           }
          ],
          "histogram": [
           {
            "marker": {
             "pattern": {
              "fillmode": "overlay",
              "size": 10,
              "solidity": 0.2
             }
            },
            "type": "histogram"
           }
          ],
          "histogram2d": [
           {
            "colorbar": {
             "outlinewidth": 0,
             "ticks": ""
            },
            "colorscale": [
             [
              0,
              "#0d0887"
             ],
             [
              0.1111111111111111,
              "#46039f"
             ],
             [
              0.2222222222222222,
              "#7201a8"
             ],
             [
              0.3333333333333333,
              "#9c179e"
             ],
             [
              0.4444444444444444,
              "#bd3786"
             ],
             [
              0.5555555555555556,
              "#d8576b"
             ],
             [
              0.6666666666666666,
              "#ed7953"
             ],
             [
              0.7777777777777778,
              "#fb9f3a"
             ],
             [
              0.8888888888888888,
              "#fdca26"
             ],
             [
              1,
              "#f0f921"
             ]
            ],
            "type": "histogram2d"
           }
          ],
          "histogram2dcontour": [
           {
            "colorbar": {
             "outlinewidth": 0,
             "ticks": ""
            },
            "colorscale": [
             [
              0,
              "#0d0887"
             ],
             [
              0.1111111111111111,
              "#46039f"
             ],
             [
              0.2222222222222222,
              "#7201a8"
             ],
             [
              0.3333333333333333,
              "#9c179e"
             ],
             [
              0.4444444444444444,
              "#bd3786"
             ],
             [
              0.5555555555555556,
              "#d8576b"
             ],
             [
              0.6666666666666666,
              "#ed7953"
             ],
             [
              0.7777777777777778,
              "#fb9f3a"
             ],
             [
              0.8888888888888888,
              "#fdca26"
             ],
             [
              1,
              "#f0f921"
             ]
            ],
            "type": "histogram2dcontour"
           }
          ],
          "mesh3d": [
           {
            "colorbar": {
             "outlinewidth": 0,
             "ticks": ""
            },
            "type": "mesh3d"
           }
          ],
          "parcoords": [
           {
            "line": {
             "colorbar": {
              "outlinewidth": 0,
              "ticks": ""
             }
            },
            "type": "parcoords"
           }
          ],
          "pie": [
           {
            "automargin": true,
            "type": "pie"
           }
          ],
          "scatter": [
           {
            "marker": {
             "colorbar": {
              "outlinewidth": 0,
              "ticks": ""
             }
            },
            "type": "scatter"
           }
          ],
          "scatter3d": [
           {
            "line": {
             "colorbar": {
              "outlinewidth": 0,
              "ticks": ""
             }
            },
            "marker": {
             "colorbar": {
              "outlinewidth": 0,
              "ticks": ""
             }
            },
            "type": "scatter3d"
           }
          ],
          "scattercarpet": [
           {
            "marker": {
             "colorbar": {
              "outlinewidth": 0,
              "ticks": ""
             }
            },
            "type": "scattercarpet"
           }
          ],
          "scattergeo": [
           {
            "marker": {
             "colorbar": {
              "outlinewidth": 0,
              "ticks": ""
             }
            },
            "type": "scattergeo"
           }
          ],
          "scattergl": [
           {
            "marker": {
             "colorbar": {
              "outlinewidth": 0,
              "ticks": ""
             }
            },
            "type": "scattergl"
           }
          ],
          "scattermapbox": [
           {
            "marker": {
             "colorbar": {
              "outlinewidth": 0,
              "ticks": ""
             }
            },
            "type": "scattermapbox"
           }
          ],
          "scatterpolar": [
           {
            "marker": {
             "colorbar": {
              "outlinewidth": 0,
              "ticks": ""
             }
            },
            "type": "scatterpolar"
           }
          ],
          "scatterpolargl": [
           {
            "marker": {
             "colorbar": {
              "outlinewidth": 0,
              "ticks": ""
             }
            },
            "type": "scatterpolargl"
           }
          ],
          "scatterternary": [
           {
            "marker": {
             "colorbar": {
              "outlinewidth": 0,
              "ticks": ""
             }
            },
            "type": "scatterternary"
           }
          ],
          "surface": [
           {
            "colorbar": {
             "outlinewidth": 0,
             "ticks": ""
            },
            "colorscale": [
             [
              0,
              "#0d0887"
             ],
             [
              0.1111111111111111,
              "#46039f"
             ],
             [
              0.2222222222222222,
              "#7201a8"
             ],
             [
              0.3333333333333333,
              "#9c179e"
             ],
             [
              0.4444444444444444,
              "#bd3786"
             ],
             [
              0.5555555555555556,
              "#d8576b"
             ],
             [
              0.6666666666666666,
              "#ed7953"
             ],
             [
              0.7777777777777778,
              "#fb9f3a"
             ],
             [
              0.8888888888888888,
              "#fdca26"
             ],
             [
              1,
              "#f0f921"
             ]
            ],
            "type": "surface"
           }
          ],
          "table": [
           {
            "cells": {
             "fill": {
              "color": "#EBF0F8"
             },
             "line": {
              "color": "white"
             }
            },
            "header": {
             "fill": {
              "color": "#C8D4E3"
             },
             "line": {
              "color": "white"
             }
            },
            "type": "table"
           }
          ]
         },
         "layout": {
          "annotationdefaults": {
           "arrowcolor": "#2a3f5f",
           "arrowhead": 0,
           "arrowwidth": 1
          },
          "autotypenumbers": "strict",
          "coloraxis": {
           "colorbar": {
            "outlinewidth": 0,
            "ticks": ""
           }
          },
          "colorscale": {
           "diverging": [
            [
             0,
             "#8e0152"
            ],
            [
             0.1,
             "#c51b7d"
            ],
            [
             0.2,
             "#de77ae"
            ],
            [
             0.3,
             "#f1b6da"
            ],
            [
             0.4,
             "#fde0ef"
            ],
            [
             0.5,
             "#f7f7f7"
            ],
            [
             0.6,
             "#e6f5d0"
            ],
            [
             0.7,
             "#b8e186"
            ],
            [
             0.8,
             "#7fbc41"
            ],
            [
             0.9,
             "#4d9221"
            ],
            [
             1,
             "#276419"
            ]
           ],
           "sequential": [
            [
             0,
             "#0d0887"
            ],
            [
             0.1111111111111111,
             "#46039f"
            ],
            [
             0.2222222222222222,
             "#7201a8"
            ],
            [
             0.3333333333333333,
             "#9c179e"
            ],
            [
             0.4444444444444444,
             "#bd3786"
            ],
            [
             0.5555555555555556,
             "#d8576b"
            ],
            [
             0.6666666666666666,
             "#ed7953"
            ],
            [
             0.7777777777777778,
             "#fb9f3a"
            ],
            [
             0.8888888888888888,
             "#fdca26"
            ],
            [
             1,
             "#f0f921"
            ]
           ],
           "sequentialminus": [
            [
             0,
             "#0d0887"
            ],
            [
             0.1111111111111111,
             "#46039f"
            ],
            [
             0.2222222222222222,
             "#7201a8"
            ],
            [
             0.3333333333333333,
             "#9c179e"
            ],
            [
             0.4444444444444444,
             "#bd3786"
            ],
            [
             0.5555555555555556,
             "#d8576b"
            ],
            [
             0.6666666666666666,
             "#ed7953"
            ],
            [
             0.7777777777777778,
             "#fb9f3a"
            ],
            [
             0.8888888888888888,
             "#fdca26"
            ],
            [
             1,
             "#f0f921"
            ]
           ]
          },
          "colorway": [
           "#636efa",
           "#EF553B",
           "#00cc96",
           "#ab63fa",
           "#FFA15A",
           "#19d3f3",
           "#FF6692",
           "#B6E880",
           "#FF97FF",
           "#FECB52"
          ],
          "font": {
           "color": "#2a3f5f"
          },
          "geo": {
           "bgcolor": "white",
           "lakecolor": "white",
           "landcolor": "#E5ECF6",
           "showlakes": true,
           "showland": true,
           "subunitcolor": "white"
          },
          "hoverlabel": {
           "align": "left"
          },
          "hovermode": "closest",
          "mapbox": {
           "style": "light"
          },
          "paper_bgcolor": "white",
          "plot_bgcolor": "#E5ECF6",
          "polar": {
           "angularaxis": {
            "gridcolor": "white",
            "linecolor": "white",
            "ticks": ""
           },
           "bgcolor": "#E5ECF6",
           "radialaxis": {
            "gridcolor": "white",
            "linecolor": "white",
            "ticks": ""
           }
          },
          "scene": {
           "xaxis": {
            "backgroundcolor": "#E5ECF6",
            "gridcolor": "white",
            "gridwidth": 2,
            "linecolor": "white",
            "showbackground": true,
            "ticks": "",
            "zerolinecolor": "white"
           },
           "yaxis": {
            "backgroundcolor": "#E5ECF6",
            "gridcolor": "white",
            "gridwidth": 2,
            "linecolor": "white",
            "showbackground": true,
            "ticks": "",
            "zerolinecolor": "white"
           },
           "zaxis": {
            "backgroundcolor": "#E5ECF6",
            "gridcolor": "white",
            "gridwidth": 2,
            "linecolor": "white",
            "showbackground": true,
            "ticks": "",
            "zerolinecolor": "white"
           }
          },
          "shapedefaults": {
           "line": {
            "color": "#2a3f5f"
           }
          },
          "ternary": {
           "aaxis": {
            "gridcolor": "white",
            "linecolor": "white",
            "ticks": ""
           },
           "baxis": {
            "gridcolor": "white",
            "linecolor": "white",
            "ticks": ""
           },
           "bgcolor": "#E5ECF6",
           "caxis": {
            "gridcolor": "white",
            "linecolor": "white",
            "ticks": ""
           }
          },
          "title": {
           "x": 0.05
          },
          "xaxis": {
           "automargin": true,
           "gridcolor": "white",
           "linecolor": "white",
           "ticks": "",
           "title": {
            "standoff": 15
           },
           "zerolinecolor": "white",
           "zerolinewidth": 2
          },
          "yaxis": {
           "automargin": true,
           "gridcolor": "white",
           "linecolor": "white",
           "ticks": "",
           "title": {
            "standoff": 15
           },
           "zerolinecolor": "white",
           "zerolinewidth": 2
          }
         }
        },
        "title": {
         "text": "Feature Importances of Features in Random Forest Regressor"
        },
        "xaxis": {
         "anchor": "y",
         "categoryorder": "total descending",
         "domain": [
          0,
          1
         ],
         "title": {
          "text": "Features"
         }
        },
        "yaxis": {
         "anchor": "x",
         "domain": [
          0,
          1
         ],
         "title": {
          "text": "Feature Importances"
         }
        }
       }
      },
      "text/html": [
       "<div>                            <div id=\"41b3480d-f21a-4345-b751-0311b0ae816c\" class=\"plotly-graph-div\" style=\"height:525px; width:100%;\"></div>            <script type=\"text/javascript\">                require([\"plotly\"], function(Plotly) {                    window.PLOTLYENV=window.PLOTLYENV || {};                                    if (document.getElementById(\"41b3480d-f21a-4345-b751-0311b0ae816c\")) {                    Plotly.newPlot(                        \"41b3480d-f21a-4345-b751-0311b0ae816c\",                        [{\"alignmentgroup\":\"True\",\"hovertemplate\":\"Features=%{x}<br>Feature Importances=%{y}<extra></extra>\",\"legendgroup\":\"\",\"marker\":{\"color\":\"#636efa\",\"pattern\":{\"shape\":\"\"}},\"name\":\"\",\"offsetgroup\":\"\",\"orientation\":\"v\",\"showlegend\":false,\"textposition\":\"auto\",\"x\":[\"primary_color_Apricot / Beige\",\"primary_color_Bicolor\",\"primary_color_Black\",\"primary_color_Brindle\",\"primary_color_Brown / Chocolate\",\"primary_color_Golden\",\"primary_color_Gray / Blue / Silver\",\"primary_color_Harlequin\",\"primary_color_Merle (Blue)\",\"primary_color_Merle (Red)\",\"primary_color_Red / Chestnut / Orange\",\"primary_color_Sable\",\"primary_color_Tricolor (Brown, Black, & White)\",\"primary_color_White / Cream\",\"primary_color_Yellow / Tan / Blond / Fawn\"],\"xaxis\":\"x\",\"y\":[0.04780950090243831,0.034633925538821754,0.030639559631439675,0.19623699531434854,0.19865255105850482,0.0504710231320559,0.08787417094836382,0.10716615766129985,0.07608737203568643,0.06001117945978616,0.028242696498244995,0.0005713214147607199,0.026936917293539236,0.034752314851628295,0.01991431425908168],\"yaxis\":\"y\",\"type\":\"bar\"}],                        {\"template\":{\"data\":{\"bar\":[{\"error_x\":{\"color\":\"#2a3f5f\"},\"error_y\":{\"color\":\"#2a3f5f\"},\"marker\":{\"line\":{\"color\":\"#E5ECF6\",\"width\":0.5},\"pattern\":{\"fillmode\":\"overlay\",\"size\":10,\"solidity\":0.2}},\"type\":\"bar\"}],\"barpolar\":[{\"marker\":{\"line\":{\"color\":\"#E5ECF6\",\"width\":0.5},\"pattern\":{\"fillmode\":\"overlay\",\"size\":10,\"solidity\":0.2}},\"type\":\"barpolar\"}],\"carpet\":[{\"aaxis\":{\"endlinecolor\":\"#2a3f5f\",\"gridcolor\":\"white\",\"linecolor\":\"white\",\"minorgridcolor\":\"white\",\"startlinecolor\":\"#2a3f5f\"},\"baxis\":{\"endlinecolor\":\"#2a3f5f\",\"gridcolor\":\"white\",\"linecolor\":\"white\",\"minorgridcolor\":\"white\",\"startlinecolor\":\"#2a3f5f\"},\"type\":\"carpet\"}],\"choropleth\":[{\"colorbar\":{\"outlinewidth\":0,\"ticks\":\"\"},\"type\":\"choropleth\"}],\"contour\":[{\"colorbar\":{\"outlinewidth\":0,\"ticks\":\"\"},\"colorscale\":[[0.0,\"#0d0887\"],[0.1111111111111111,\"#46039f\"],[0.2222222222222222,\"#7201a8\"],[0.3333333333333333,\"#9c179e\"],[0.4444444444444444,\"#bd3786\"],[0.5555555555555556,\"#d8576b\"],[0.6666666666666666,\"#ed7953\"],[0.7777777777777778,\"#fb9f3a\"],[0.8888888888888888,\"#fdca26\"],[1.0,\"#f0f921\"]],\"type\":\"contour\"}],\"contourcarpet\":[{\"colorbar\":{\"outlinewidth\":0,\"ticks\":\"\"},\"type\":\"contourcarpet\"}],\"heatmap\":[{\"colorbar\":{\"outlinewidth\":0,\"ticks\":\"\"},\"colorscale\":[[0.0,\"#0d0887\"],[0.1111111111111111,\"#46039f\"],[0.2222222222222222,\"#7201a8\"],[0.3333333333333333,\"#9c179e\"],[0.4444444444444444,\"#bd3786\"],[0.5555555555555556,\"#d8576b\"],[0.6666666666666666,\"#ed7953\"],[0.7777777777777778,\"#fb9f3a\"],[0.8888888888888888,\"#fdca26\"],[1.0,\"#f0f921\"]],\"type\":\"heatmap\"}],\"heatmapgl\":[{\"colorbar\":{\"outlinewidth\":0,\"ticks\":\"\"},\"colorscale\":[[0.0,\"#0d0887\"],[0.1111111111111111,\"#46039f\"],[0.2222222222222222,\"#7201a8\"],[0.3333333333333333,\"#9c179e\"],[0.4444444444444444,\"#bd3786\"],[0.5555555555555556,\"#d8576b\"],[0.6666666666666666,\"#ed7953\"],[0.7777777777777778,\"#fb9f3a\"],[0.8888888888888888,\"#fdca26\"],[1.0,\"#f0f921\"]],\"type\":\"heatmapgl\"}],\"histogram\":[{\"marker\":{\"pattern\":{\"fillmode\":\"overlay\",\"size\":10,\"solidity\":0.2}},\"type\":\"histogram\"}],\"histogram2d\":[{\"colorbar\":{\"outlinewidth\":0,\"ticks\":\"\"},\"colorscale\":[[0.0,\"#0d0887\"],[0.1111111111111111,\"#46039f\"],[0.2222222222222222,\"#7201a8\"],[0.3333333333333333,\"#9c179e\"],[0.4444444444444444,\"#bd3786\"],[0.5555555555555556,\"#d8576b\"],[0.6666666666666666,\"#ed7953\"],[0.7777777777777778,\"#fb9f3a\"],[0.8888888888888888,\"#fdca26\"],[1.0,\"#f0f921\"]],\"type\":\"histogram2d\"}],\"histogram2dcontour\":[{\"colorbar\":{\"outlinewidth\":0,\"ticks\":\"\"},\"colorscale\":[[0.0,\"#0d0887\"],[0.1111111111111111,\"#46039f\"],[0.2222222222222222,\"#7201a8\"],[0.3333333333333333,\"#9c179e\"],[0.4444444444444444,\"#bd3786\"],[0.5555555555555556,\"#d8576b\"],[0.6666666666666666,\"#ed7953\"],[0.7777777777777778,\"#fb9f3a\"],[0.8888888888888888,\"#fdca26\"],[1.0,\"#f0f921\"]],\"type\":\"histogram2dcontour\"}],\"mesh3d\":[{\"colorbar\":{\"outlinewidth\":0,\"ticks\":\"\"},\"type\":\"mesh3d\"}],\"parcoords\":[{\"line\":{\"colorbar\":{\"outlinewidth\":0,\"ticks\":\"\"}},\"type\":\"parcoords\"}],\"pie\":[{\"automargin\":true,\"type\":\"pie\"}],\"scatter\":[{\"marker\":{\"colorbar\":{\"outlinewidth\":0,\"ticks\":\"\"}},\"type\":\"scatter\"}],\"scatter3d\":[{\"line\":{\"colorbar\":{\"outlinewidth\":0,\"ticks\":\"\"}},\"marker\":{\"colorbar\":{\"outlinewidth\":0,\"ticks\":\"\"}},\"type\":\"scatter3d\"}],\"scattercarpet\":[{\"marker\":{\"colorbar\":{\"outlinewidth\":0,\"ticks\":\"\"}},\"type\":\"scattercarpet\"}],\"scattergeo\":[{\"marker\":{\"colorbar\":{\"outlinewidth\":0,\"ticks\":\"\"}},\"type\":\"scattergeo\"}],\"scattergl\":[{\"marker\":{\"colorbar\":{\"outlinewidth\":0,\"ticks\":\"\"}},\"type\":\"scattergl\"}],\"scattermapbox\":[{\"marker\":{\"colorbar\":{\"outlinewidth\":0,\"ticks\":\"\"}},\"type\":\"scattermapbox\"}],\"scatterpolar\":[{\"marker\":{\"colorbar\":{\"outlinewidth\":0,\"ticks\":\"\"}},\"type\":\"scatterpolar\"}],\"scatterpolargl\":[{\"marker\":{\"colorbar\":{\"outlinewidth\":0,\"ticks\":\"\"}},\"type\":\"scatterpolargl\"}],\"scatterternary\":[{\"marker\":{\"colorbar\":{\"outlinewidth\":0,\"ticks\":\"\"}},\"type\":\"scatterternary\"}],\"surface\":[{\"colorbar\":{\"outlinewidth\":0,\"ticks\":\"\"},\"colorscale\":[[0.0,\"#0d0887\"],[0.1111111111111111,\"#46039f\"],[0.2222222222222222,\"#7201a8\"],[0.3333333333333333,\"#9c179e\"],[0.4444444444444444,\"#bd3786\"],[0.5555555555555556,\"#d8576b\"],[0.6666666666666666,\"#ed7953\"],[0.7777777777777778,\"#fb9f3a\"],[0.8888888888888888,\"#fdca26\"],[1.0,\"#f0f921\"]],\"type\":\"surface\"}],\"table\":[{\"cells\":{\"fill\":{\"color\":\"#EBF0F8\"},\"line\":{\"color\":\"white\"}},\"header\":{\"fill\":{\"color\":\"#C8D4E3\"},\"line\":{\"color\":\"white\"}},\"type\":\"table\"}]},\"layout\":{\"annotationdefaults\":{\"arrowcolor\":\"#2a3f5f\",\"arrowhead\":0,\"arrowwidth\":1},\"autotypenumbers\":\"strict\",\"coloraxis\":{\"colorbar\":{\"outlinewidth\":0,\"ticks\":\"\"}},\"colorscale\":{\"diverging\":[[0,\"#8e0152\"],[0.1,\"#c51b7d\"],[0.2,\"#de77ae\"],[0.3,\"#f1b6da\"],[0.4,\"#fde0ef\"],[0.5,\"#f7f7f7\"],[0.6,\"#e6f5d0\"],[0.7,\"#b8e186\"],[0.8,\"#7fbc41\"],[0.9,\"#4d9221\"],[1,\"#276419\"]],\"sequential\":[[0.0,\"#0d0887\"],[0.1111111111111111,\"#46039f\"],[0.2222222222222222,\"#7201a8\"],[0.3333333333333333,\"#9c179e\"],[0.4444444444444444,\"#bd3786\"],[0.5555555555555556,\"#d8576b\"],[0.6666666666666666,\"#ed7953\"],[0.7777777777777778,\"#fb9f3a\"],[0.8888888888888888,\"#fdca26\"],[1.0,\"#f0f921\"]],\"sequentialminus\":[[0.0,\"#0d0887\"],[0.1111111111111111,\"#46039f\"],[0.2222222222222222,\"#7201a8\"],[0.3333333333333333,\"#9c179e\"],[0.4444444444444444,\"#bd3786\"],[0.5555555555555556,\"#d8576b\"],[0.6666666666666666,\"#ed7953\"],[0.7777777777777778,\"#fb9f3a\"],[0.8888888888888888,\"#fdca26\"],[1.0,\"#f0f921\"]]},\"colorway\":[\"#636efa\",\"#EF553B\",\"#00cc96\",\"#ab63fa\",\"#FFA15A\",\"#19d3f3\",\"#FF6692\",\"#B6E880\",\"#FF97FF\",\"#FECB52\"],\"font\":{\"color\":\"#2a3f5f\"},\"geo\":{\"bgcolor\":\"white\",\"lakecolor\":\"white\",\"landcolor\":\"#E5ECF6\",\"showlakes\":true,\"showland\":true,\"subunitcolor\":\"white\"},\"hoverlabel\":{\"align\":\"left\"},\"hovermode\":\"closest\",\"mapbox\":{\"style\":\"light\"},\"paper_bgcolor\":\"white\",\"plot_bgcolor\":\"#E5ECF6\",\"polar\":{\"angularaxis\":{\"gridcolor\":\"white\",\"linecolor\":\"white\",\"ticks\":\"\"},\"bgcolor\":\"#E5ECF6\",\"radialaxis\":{\"gridcolor\":\"white\",\"linecolor\":\"white\",\"ticks\":\"\"}},\"scene\":{\"xaxis\":{\"backgroundcolor\":\"#E5ECF6\",\"gridcolor\":\"white\",\"gridwidth\":2,\"linecolor\":\"white\",\"showbackground\":true,\"ticks\":\"\",\"zerolinecolor\":\"white\"},\"yaxis\":{\"backgroundcolor\":\"#E5ECF6\",\"gridcolor\":\"white\",\"gridwidth\":2,\"linecolor\":\"white\",\"showbackground\":true,\"ticks\":\"\",\"zerolinecolor\":\"white\"},\"zaxis\":{\"backgroundcolor\":\"#E5ECF6\",\"gridcolor\":\"white\",\"gridwidth\":2,\"linecolor\":\"white\",\"showbackground\":true,\"ticks\":\"\",\"zerolinecolor\":\"white\"}},\"shapedefaults\":{\"line\":{\"color\":\"#2a3f5f\"}},\"ternary\":{\"aaxis\":{\"gridcolor\":\"white\",\"linecolor\":\"white\",\"ticks\":\"\"},\"baxis\":{\"gridcolor\":\"white\",\"linecolor\":\"white\",\"ticks\":\"\"},\"bgcolor\":\"#E5ECF6\",\"caxis\":{\"gridcolor\":\"white\",\"linecolor\":\"white\",\"ticks\":\"\"}},\"title\":{\"x\":0.05},\"xaxis\":{\"automargin\":true,\"gridcolor\":\"white\",\"linecolor\":\"white\",\"ticks\":\"\",\"title\":{\"standoff\":15},\"zerolinecolor\":\"white\",\"zerolinewidth\":2},\"yaxis\":{\"automargin\":true,\"gridcolor\":\"white\",\"linecolor\":\"white\",\"ticks\":\"\",\"title\":{\"standoff\":15},\"zerolinecolor\":\"white\",\"zerolinewidth\":2}}},\"xaxis\":{\"anchor\":\"y\",\"domain\":[0.0,1.0],\"title\":{\"text\":\"Features\"},\"categoryorder\":\"total descending\"},\"yaxis\":{\"anchor\":\"x\",\"domain\":[0.0,1.0],\"title\":{\"text\":\"Feature Importances\"}},\"legend\":{\"tracegroupgap\":0},\"title\":{\"text\":\"Feature Importances of Features in Random Forest Regressor\"},\"barmode\":\"relative\"},                        {\"responsive\": true}                    ).then(function(){\n",
       "                            \n",
       "var gd = document.getElementById('41b3480d-f21a-4345-b751-0311b0ae816c');\n",
       "var x = new MutationObserver(function (mutations, observer) {{\n",
       "        var display = window.getComputedStyle(gd).display;\n",
       "        if (!display || display === 'none') {{\n",
       "            console.log([gd, 'removed!']);\n",
       "            Plotly.purge(gd);\n",
       "            observer.disconnect();\n",
       "        }}\n",
       "}});\n",
       "\n",
       "// Listen for the removal of the full notebook cells\n",
       "var notebookContainer = gd.closest('#notebook-container');\n",
       "if (notebookContainer) {{\n",
       "    x.observe(notebookContainer, {childList: true});\n",
       "}}\n",
       "\n",
       "// Listen for the clearing of the current output cell\n",
       "var outputEl = gd.closest('.output');\n",
       "if (outputEl) {{\n",
       "    x.observe(outputEl, {childList: true});\n",
       "}}\n",
       "\n",
       "                        })                };                });            </script>        </div>"
      ]
     },
     "metadata": {},
     "output_type": "display_data"
    }
   ],
   "source": [
    "px.bar(x=x_feat_list_colors, y=feature_importances, title='Feature Importances of Features in Random Forest Regressor', labels={'x': 'Features', 'y':'Feature Importances'}).update_xaxes(categoryorder='total descending')"
   ]
  },
  {
   "cell_type": "code",
   "execution_count": 76,
   "id": "98b5136f",
   "metadata": {},
   "outputs": [],
   "source": [
    "test3_topfeats = ['primary_color_Brown / Chocolate', 'primary_color_Brindle', 'primary_color_Harlequin',\n",
    "                 'primary_color_Gray / Blue / Silver', 'primary_color_Merle (Blue)']"
   ]
  },
  {
   "cell_type": "markdown",
   "id": "9947ef2f",
   "metadata": {},
   "source": [
    "### Test 4 - Only Looking at Features not Including Colors or Breeds"
   ]
  },
  {
   "cell_type": "code",
   "execution_count": 89,
   "id": "6d59057f",
   "metadata": {
    "scrolled": true
   },
   "outputs": [
    {
     "name": "stdout",
     "output_type": "stream",
     "text": [
      "R2: -0.14350324751388022, MSE: 266418.7493302733\n"
     ]
    }
   ],
   "source": [
    "x_feat_list_nobreed_nocolor = ['compatible_children', 'compatible_dogs', 'compatible_cats', \n",
    "               'age_Adult', 'age_Baby', 'age_Senior', 'age_Young', 'gender_Female', 'gender_Male', \n",
    "               'size_Extra Large', 'size_Large', 'size_Medium', 'size_Small', 'coat_Curly', 'coat_Hairless', \n",
    "               'coat_Long', 'coat_Medium', 'coat_Short', 'coat_Wire']\n",
    "feature_importances, feat_import_dict, r2, mse, residuals  = random_forest_regress_default(x_feat_list=x_feat_list_nobreed_nocolor, y_col='delta_time_minutes', df=dogs_df_dummies)\n",
    "print(f'''R2: {r2}, MSE: {mse}''')"
   ]
  },
  {
   "cell_type": "code",
   "execution_count": 90,
   "id": "b8ebfbb1",
   "metadata": {
    "scrolled": true
   },
   "outputs": [
    {
     "name": "stdout",
     "output_type": "stream",
     "text": [
      "{'age_Adult': 0.07050755139046419,\n",
      " 'age_Baby': 0.06089698599052192,\n",
      " 'age_Senior': 0.03234645848527961,\n",
      " 'age_Young': 0.0697721341778209,\n",
      " 'coat_Curly': 0.028550141744746304,\n",
      " 'coat_Hairless': 0.0023560059749793156,\n",
      " 'coat_Long': 0.042770836349136976,\n",
      " 'coat_Medium': 0.07832821385273349,\n",
      " 'coat_Short': 0.07232899470460716,\n",
      " 'coat_Wire': 0.028147636046652574,\n",
      " 'compatible_cats': 0.08704782052843267,\n",
      " 'compatible_children': 0.03602162328417971,\n",
      " 'compatible_dogs': 0.04193088008385712,\n",
      " 'gender_Female': 0.050680165271104895,\n",
      " 'gender_Male': 0.06078896307655146,\n",
      " 'size_Extra Large': 0.025298967787837003,\n",
      " 'size_Large': 0.07324685158024251,\n",
      " 'size_Medium': 0.0717970898570465,\n",
      " 'size_Small': 0.06718267981380567}\n"
     ]
    }
   ],
   "source": [
    "pprint.pprint(feat_import_dict)"
   ]
  },
  {
   "cell_type": "code",
   "execution_count": 91,
   "id": "4c803e24",
   "metadata": {},
   "outputs": [
    {
     "data": {
      "application/vnd.plotly.v1+json": {
       "config": {
        "plotlyServerURL": "https://plot.ly"
       },
       "data": [
        {
         "alignmentgroup": "True",
         "hovertemplate": "Features=%{x}<br>Feature Importances=%{y}<extra></extra>",
         "legendgroup": "",
         "marker": {
          "color": "#636efa",
          "pattern": {
           "shape": ""
          }
         },
         "name": "",
         "offsetgroup": "",
         "orientation": "v",
         "showlegend": false,
         "textposition": "auto",
         "type": "bar",
         "x": [
          "compatible_children",
          "compatible_dogs",
          "compatible_cats",
          "age_Adult",
          "age_Baby",
          "age_Senior",
          "age_Young",
          "gender_Female",
          "gender_Male",
          "size_Extra Large",
          "size_Large",
          "size_Medium",
          "size_Small",
          "coat_Curly",
          "coat_Hairless",
          "coat_Long",
          "coat_Medium",
          "coat_Short",
          "coat_Wire"
         ],
         "xaxis": "x",
         "y": [
          0.03602162328417971,
          0.04193088008385712,
          0.08704782052843267,
          0.07050755139046419,
          0.06089698599052192,
          0.03234645848527961,
          0.0697721341778209,
          0.050680165271104895,
          0.06078896307655146,
          0.025298967787837003,
          0.07324685158024251,
          0.0717970898570465,
          0.06718267981380567,
          0.028550141744746304,
          0.0023560059749793156,
          0.042770836349136976,
          0.07832821385273349,
          0.07232899470460716,
          0.028147636046652574
         ],
         "yaxis": "y"
        }
       ],
       "layout": {
        "barmode": "relative",
        "legend": {
         "tracegroupgap": 0
        },
        "template": {
         "data": {
          "bar": [
           {
            "error_x": {
             "color": "#2a3f5f"
            },
            "error_y": {
             "color": "#2a3f5f"
            },
            "marker": {
             "line": {
              "color": "#E5ECF6",
              "width": 0.5
             },
             "pattern": {
              "fillmode": "overlay",
              "size": 10,
              "solidity": 0.2
             }
            },
            "type": "bar"
           }
          ],
          "barpolar": [
           {
            "marker": {
             "line": {
              "color": "#E5ECF6",
              "width": 0.5
             },
             "pattern": {
              "fillmode": "overlay",
              "size": 10,
              "solidity": 0.2
             }
            },
            "type": "barpolar"
           }
          ],
          "carpet": [
           {
            "aaxis": {
             "endlinecolor": "#2a3f5f",
             "gridcolor": "white",
             "linecolor": "white",
             "minorgridcolor": "white",
             "startlinecolor": "#2a3f5f"
            },
            "baxis": {
             "endlinecolor": "#2a3f5f",
             "gridcolor": "white",
             "linecolor": "white",
             "minorgridcolor": "white",
             "startlinecolor": "#2a3f5f"
            },
            "type": "carpet"
           }
          ],
          "choropleth": [
           {
            "colorbar": {
             "outlinewidth": 0,
             "ticks": ""
            },
            "type": "choropleth"
           }
          ],
          "contour": [
           {
            "colorbar": {
             "outlinewidth": 0,
             "ticks": ""
            },
            "colorscale": [
             [
              0,
              "#0d0887"
             ],
             [
              0.1111111111111111,
              "#46039f"
             ],
             [
              0.2222222222222222,
              "#7201a8"
             ],
             [
              0.3333333333333333,
              "#9c179e"
             ],
             [
              0.4444444444444444,
              "#bd3786"
             ],
             [
              0.5555555555555556,
              "#d8576b"
             ],
             [
              0.6666666666666666,
              "#ed7953"
             ],
             [
              0.7777777777777778,
              "#fb9f3a"
             ],
             [
              0.8888888888888888,
              "#fdca26"
             ],
             [
              1,
              "#f0f921"
             ]
            ],
            "type": "contour"
           }
          ],
          "contourcarpet": [
           {
            "colorbar": {
             "outlinewidth": 0,
             "ticks": ""
            },
            "type": "contourcarpet"
           }
          ],
          "heatmap": [
           {
            "colorbar": {
             "outlinewidth": 0,
             "ticks": ""
            },
            "colorscale": [
             [
              0,
              "#0d0887"
             ],
             [
              0.1111111111111111,
              "#46039f"
             ],
             [
              0.2222222222222222,
              "#7201a8"
             ],
             [
              0.3333333333333333,
              "#9c179e"
             ],
             [
              0.4444444444444444,
              "#bd3786"
             ],
             [
              0.5555555555555556,
              "#d8576b"
             ],
             [
              0.6666666666666666,
              "#ed7953"
             ],
             [
              0.7777777777777778,
              "#fb9f3a"
             ],
             [
              0.8888888888888888,
              "#fdca26"
             ],
             [
              1,
              "#f0f921"
             ]
            ],
            "type": "heatmap"
           }
          ],
          "heatmapgl": [
           {
            "colorbar": {
             "outlinewidth": 0,
             "ticks": ""
            },
            "colorscale": [
             [
              0,
              "#0d0887"
             ],
             [
              0.1111111111111111,
              "#46039f"
             ],
             [
              0.2222222222222222,
              "#7201a8"
             ],
             [
              0.3333333333333333,
              "#9c179e"
             ],
             [
              0.4444444444444444,
              "#bd3786"
             ],
             [
              0.5555555555555556,
              "#d8576b"
             ],
             [
              0.6666666666666666,
              "#ed7953"
             ],
             [
              0.7777777777777778,
              "#fb9f3a"
             ],
             [
              0.8888888888888888,
              "#fdca26"
             ],
             [
              1,
              "#f0f921"
             ]
            ],
            "type": "heatmapgl"
           }
          ],
          "histogram": [
           {
            "marker": {
             "pattern": {
              "fillmode": "overlay",
              "size": 10,
              "solidity": 0.2
             }
            },
            "type": "histogram"
           }
          ],
          "histogram2d": [
           {
            "colorbar": {
             "outlinewidth": 0,
             "ticks": ""
            },
            "colorscale": [
             [
              0,
              "#0d0887"
             ],
             [
              0.1111111111111111,
              "#46039f"
             ],
             [
              0.2222222222222222,
              "#7201a8"
             ],
             [
              0.3333333333333333,
              "#9c179e"
             ],
             [
              0.4444444444444444,
              "#bd3786"
             ],
             [
              0.5555555555555556,
              "#d8576b"
             ],
             [
              0.6666666666666666,
              "#ed7953"
             ],
             [
              0.7777777777777778,
              "#fb9f3a"
             ],
             [
              0.8888888888888888,
              "#fdca26"
             ],
             [
              1,
              "#f0f921"
             ]
            ],
            "type": "histogram2d"
           }
          ],
          "histogram2dcontour": [
           {
            "colorbar": {
             "outlinewidth": 0,
             "ticks": ""
            },
            "colorscale": [
             [
              0,
              "#0d0887"
             ],
             [
              0.1111111111111111,
              "#46039f"
             ],
             [
              0.2222222222222222,
              "#7201a8"
             ],
             [
              0.3333333333333333,
              "#9c179e"
             ],
             [
              0.4444444444444444,
              "#bd3786"
             ],
             [
              0.5555555555555556,
              "#d8576b"
             ],
             [
              0.6666666666666666,
              "#ed7953"
             ],
             [
              0.7777777777777778,
              "#fb9f3a"
             ],
             [
              0.8888888888888888,
              "#fdca26"
             ],
             [
              1,
              "#f0f921"
             ]
            ],
            "type": "histogram2dcontour"
           }
          ],
          "mesh3d": [
           {
            "colorbar": {
             "outlinewidth": 0,
             "ticks": ""
            },
            "type": "mesh3d"
           }
          ],
          "parcoords": [
           {
            "line": {
             "colorbar": {
              "outlinewidth": 0,
              "ticks": ""
             }
            },
            "type": "parcoords"
           }
          ],
          "pie": [
           {
            "automargin": true,
            "type": "pie"
           }
          ],
          "scatter": [
           {
            "marker": {
             "colorbar": {
              "outlinewidth": 0,
              "ticks": ""
             }
            },
            "type": "scatter"
           }
          ],
          "scatter3d": [
           {
            "line": {
             "colorbar": {
              "outlinewidth": 0,
              "ticks": ""
             }
            },
            "marker": {
             "colorbar": {
              "outlinewidth": 0,
              "ticks": ""
             }
            },
            "type": "scatter3d"
           }
          ],
          "scattercarpet": [
           {
            "marker": {
             "colorbar": {
              "outlinewidth": 0,
              "ticks": ""
             }
            },
            "type": "scattercarpet"
           }
          ],
          "scattergeo": [
           {
            "marker": {
             "colorbar": {
              "outlinewidth": 0,
              "ticks": ""
             }
            },
            "type": "scattergeo"
           }
          ],
          "scattergl": [
           {
            "marker": {
             "colorbar": {
              "outlinewidth": 0,
              "ticks": ""
             }
            },
            "type": "scattergl"
           }
          ],
          "scattermapbox": [
           {
            "marker": {
             "colorbar": {
              "outlinewidth": 0,
              "ticks": ""
             }
            },
            "type": "scattermapbox"
           }
          ],
          "scatterpolar": [
           {
            "marker": {
             "colorbar": {
              "outlinewidth": 0,
              "ticks": ""
             }
            },
            "type": "scatterpolar"
           }
          ],
          "scatterpolargl": [
           {
            "marker": {
             "colorbar": {
              "outlinewidth": 0,
              "ticks": ""
             }
            },
            "type": "scatterpolargl"
           }
          ],
          "scatterternary": [
           {
            "marker": {
             "colorbar": {
              "outlinewidth": 0,
              "ticks": ""
             }
            },
            "type": "scatterternary"
           }
          ],
          "surface": [
           {
            "colorbar": {
             "outlinewidth": 0,
             "ticks": ""
            },
            "colorscale": [
             [
              0,
              "#0d0887"
             ],
             [
              0.1111111111111111,
              "#46039f"
             ],
             [
              0.2222222222222222,
              "#7201a8"
             ],
             [
              0.3333333333333333,
              "#9c179e"
             ],
             [
              0.4444444444444444,
              "#bd3786"
             ],
             [
              0.5555555555555556,
              "#d8576b"
             ],
             [
              0.6666666666666666,
              "#ed7953"
             ],
             [
              0.7777777777777778,
              "#fb9f3a"
             ],
             [
              0.8888888888888888,
              "#fdca26"
             ],
             [
              1,
              "#f0f921"
             ]
            ],
            "type": "surface"
           }
          ],
          "table": [
           {
            "cells": {
             "fill": {
              "color": "#EBF0F8"
             },
             "line": {
              "color": "white"
             }
            },
            "header": {
             "fill": {
              "color": "#C8D4E3"
             },
             "line": {
              "color": "white"
             }
            },
            "type": "table"
           }
          ]
         },
         "layout": {
          "annotationdefaults": {
           "arrowcolor": "#2a3f5f",
           "arrowhead": 0,
           "arrowwidth": 1
          },
          "autotypenumbers": "strict",
          "coloraxis": {
           "colorbar": {
            "outlinewidth": 0,
            "ticks": ""
           }
          },
          "colorscale": {
           "diverging": [
            [
             0,
             "#8e0152"
            ],
            [
             0.1,
             "#c51b7d"
            ],
            [
             0.2,
             "#de77ae"
            ],
            [
             0.3,
             "#f1b6da"
            ],
            [
             0.4,
             "#fde0ef"
            ],
            [
             0.5,
             "#f7f7f7"
            ],
            [
             0.6,
             "#e6f5d0"
            ],
            [
             0.7,
             "#b8e186"
            ],
            [
             0.8,
             "#7fbc41"
            ],
            [
             0.9,
             "#4d9221"
            ],
            [
             1,
             "#276419"
            ]
           ],
           "sequential": [
            [
             0,
             "#0d0887"
            ],
            [
             0.1111111111111111,
             "#46039f"
            ],
            [
             0.2222222222222222,
             "#7201a8"
            ],
            [
             0.3333333333333333,
             "#9c179e"
            ],
            [
             0.4444444444444444,
             "#bd3786"
            ],
            [
             0.5555555555555556,
             "#d8576b"
            ],
            [
             0.6666666666666666,
             "#ed7953"
            ],
            [
             0.7777777777777778,
             "#fb9f3a"
            ],
            [
             0.8888888888888888,
             "#fdca26"
            ],
            [
             1,
             "#f0f921"
            ]
           ],
           "sequentialminus": [
            [
             0,
             "#0d0887"
            ],
            [
             0.1111111111111111,
             "#46039f"
            ],
            [
             0.2222222222222222,
             "#7201a8"
            ],
            [
             0.3333333333333333,
             "#9c179e"
            ],
            [
             0.4444444444444444,
             "#bd3786"
            ],
            [
             0.5555555555555556,
             "#d8576b"
            ],
            [
             0.6666666666666666,
             "#ed7953"
            ],
            [
             0.7777777777777778,
             "#fb9f3a"
            ],
            [
             0.8888888888888888,
             "#fdca26"
            ],
            [
             1,
             "#f0f921"
            ]
           ]
          },
          "colorway": [
           "#636efa",
           "#EF553B",
           "#00cc96",
           "#ab63fa",
           "#FFA15A",
           "#19d3f3",
           "#FF6692",
           "#B6E880",
           "#FF97FF",
           "#FECB52"
          ],
          "font": {
           "color": "#2a3f5f"
          },
          "geo": {
           "bgcolor": "white",
           "lakecolor": "white",
           "landcolor": "#E5ECF6",
           "showlakes": true,
           "showland": true,
           "subunitcolor": "white"
          },
          "hoverlabel": {
           "align": "left"
          },
          "hovermode": "closest",
          "mapbox": {
           "style": "light"
          },
          "paper_bgcolor": "white",
          "plot_bgcolor": "#E5ECF6",
          "polar": {
           "angularaxis": {
            "gridcolor": "white",
            "linecolor": "white",
            "ticks": ""
           },
           "bgcolor": "#E5ECF6",
           "radialaxis": {
            "gridcolor": "white",
            "linecolor": "white",
            "ticks": ""
           }
          },
          "scene": {
           "xaxis": {
            "backgroundcolor": "#E5ECF6",
            "gridcolor": "white",
            "gridwidth": 2,
            "linecolor": "white",
            "showbackground": true,
            "ticks": "",
            "zerolinecolor": "white"
           },
           "yaxis": {
            "backgroundcolor": "#E5ECF6",
            "gridcolor": "white",
            "gridwidth": 2,
            "linecolor": "white",
            "showbackground": true,
            "ticks": "",
            "zerolinecolor": "white"
           },
           "zaxis": {
            "backgroundcolor": "#E5ECF6",
            "gridcolor": "white",
            "gridwidth": 2,
            "linecolor": "white",
            "showbackground": true,
            "ticks": "",
            "zerolinecolor": "white"
           }
          },
          "shapedefaults": {
           "line": {
            "color": "#2a3f5f"
           }
          },
          "ternary": {
           "aaxis": {
            "gridcolor": "white",
            "linecolor": "white",
            "ticks": ""
           },
           "baxis": {
            "gridcolor": "white",
            "linecolor": "white",
            "ticks": ""
           },
           "bgcolor": "#E5ECF6",
           "caxis": {
            "gridcolor": "white",
            "linecolor": "white",
            "ticks": ""
           }
          },
          "title": {
           "x": 0.05
          },
          "xaxis": {
           "automargin": true,
           "gridcolor": "white",
           "linecolor": "white",
           "ticks": "",
           "title": {
            "standoff": 15
           },
           "zerolinecolor": "white",
           "zerolinewidth": 2
          },
          "yaxis": {
           "automargin": true,
           "gridcolor": "white",
           "linecolor": "white",
           "ticks": "",
           "title": {
            "standoff": 15
           },
           "zerolinecolor": "white",
           "zerolinewidth": 2
          }
         }
        },
        "title": {
         "text": "Feature Importances of Features in Random Forest Regressor"
        },
        "xaxis": {
         "anchor": "y",
         "categoryorder": "total descending",
         "domain": [
          0,
          1
         ],
         "title": {
          "text": "Features"
         }
        },
        "yaxis": {
         "anchor": "x",
         "domain": [
          0,
          1
         ],
         "title": {
          "text": "Feature Importances"
         }
        }
       }
      },
      "text/html": [
       "<div>                            <div id=\"5242a8ff-4142-4d2a-b5f8-452bd0a29e45\" class=\"plotly-graph-div\" style=\"height:525px; width:100%;\"></div>            <script type=\"text/javascript\">                require([\"plotly\"], function(Plotly) {                    window.PLOTLYENV=window.PLOTLYENV || {};                                    if (document.getElementById(\"5242a8ff-4142-4d2a-b5f8-452bd0a29e45\")) {                    Plotly.newPlot(                        \"5242a8ff-4142-4d2a-b5f8-452bd0a29e45\",                        [{\"alignmentgroup\":\"True\",\"hovertemplate\":\"Features=%{x}<br>Feature Importances=%{y}<extra></extra>\",\"legendgroup\":\"\",\"marker\":{\"color\":\"#636efa\",\"pattern\":{\"shape\":\"\"}},\"name\":\"\",\"offsetgroup\":\"\",\"orientation\":\"v\",\"showlegend\":false,\"textposition\":\"auto\",\"x\":[\"compatible_children\",\"compatible_dogs\",\"compatible_cats\",\"age_Adult\",\"age_Baby\",\"age_Senior\",\"age_Young\",\"gender_Female\",\"gender_Male\",\"size_Extra Large\",\"size_Large\",\"size_Medium\",\"size_Small\",\"coat_Curly\",\"coat_Hairless\",\"coat_Long\",\"coat_Medium\",\"coat_Short\",\"coat_Wire\"],\"xaxis\":\"x\",\"y\":[0.03602162328417971,0.04193088008385712,0.08704782052843267,0.07050755139046419,0.06089698599052192,0.03234645848527961,0.0697721341778209,0.050680165271104895,0.06078896307655146,0.025298967787837003,0.07324685158024251,0.0717970898570465,0.06718267981380567,0.028550141744746304,0.0023560059749793156,0.042770836349136976,0.07832821385273349,0.07232899470460716,0.028147636046652574],\"yaxis\":\"y\",\"type\":\"bar\"}],                        {\"template\":{\"data\":{\"bar\":[{\"error_x\":{\"color\":\"#2a3f5f\"},\"error_y\":{\"color\":\"#2a3f5f\"},\"marker\":{\"line\":{\"color\":\"#E5ECF6\",\"width\":0.5},\"pattern\":{\"fillmode\":\"overlay\",\"size\":10,\"solidity\":0.2}},\"type\":\"bar\"}],\"barpolar\":[{\"marker\":{\"line\":{\"color\":\"#E5ECF6\",\"width\":0.5},\"pattern\":{\"fillmode\":\"overlay\",\"size\":10,\"solidity\":0.2}},\"type\":\"barpolar\"}],\"carpet\":[{\"aaxis\":{\"endlinecolor\":\"#2a3f5f\",\"gridcolor\":\"white\",\"linecolor\":\"white\",\"minorgridcolor\":\"white\",\"startlinecolor\":\"#2a3f5f\"},\"baxis\":{\"endlinecolor\":\"#2a3f5f\",\"gridcolor\":\"white\",\"linecolor\":\"white\",\"minorgridcolor\":\"white\",\"startlinecolor\":\"#2a3f5f\"},\"type\":\"carpet\"}],\"choropleth\":[{\"colorbar\":{\"outlinewidth\":0,\"ticks\":\"\"},\"type\":\"choropleth\"}],\"contour\":[{\"colorbar\":{\"outlinewidth\":0,\"ticks\":\"\"},\"colorscale\":[[0.0,\"#0d0887\"],[0.1111111111111111,\"#46039f\"],[0.2222222222222222,\"#7201a8\"],[0.3333333333333333,\"#9c179e\"],[0.4444444444444444,\"#bd3786\"],[0.5555555555555556,\"#d8576b\"],[0.6666666666666666,\"#ed7953\"],[0.7777777777777778,\"#fb9f3a\"],[0.8888888888888888,\"#fdca26\"],[1.0,\"#f0f921\"]],\"type\":\"contour\"}],\"contourcarpet\":[{\"colorbar\":{\"outlinewidth\":0,\"ticks\":\"\"},\"type\":\"contourcarpet\"}],\"heatmap\":[{\"colorbar\":{\"outlinewidth\":0,\"ticks\":\"\"},\"colorscale\":[[0.0,\"#0d0887\"],[0.1111111111111111,\"#46039f\"],[0.2222222222222222,\"#7201a8\"],[0.3333333333333333,\"#9c179e\"],[0.4444444444444444,\"#bd3786\"],[0.5555555555555556,\"#d8576b\"],[0.6666666666666666,\"#ed7953\"],[0.7777777777777778,\"#fb9f3a\"],[0.8888888888888888,\"#fdca26\"],[1.0,\"#f0f921\"]],\"type\":\"heatmap\"}],\"heatmapgl\":[{\"colorbar\":{\"outlinewidth\":0,\"ticks\":\"\"},\"colorscale\":[[0.0,\"#0d0887\"],[0.1111111111111111,\"#46039f\"],[0.2222222222222222,\"#7201a8\"],[0.3333333333333333,\"#9c179e\"],[0.4444444444444444,\"#bd3786\"],[0.5555555555555556,\"#d8576b\"],[0.6666666666666666,\"#ed7953\"],[0.7777777777777778,\"#fb9f3a\"],[0.8888888888888888,\"#fdca26\"],[1.0,\"#f0f921\"]],\"type\":\"heatmapgl\"}],\"histogram\":[{\"marker\":{\"pattern\":{\"fillmode\":\"overlay\",\"size\":10,\"solidity\":0.2}},\"type\":\"histogram\"}],\"histogram2d\":[{\"colorbar\":{\"outlinewidth\":0,\"ticks\":\"\"},\"colorscale\":[[0.0,\"#0d0887\"],[0.1111111111111111,\"#46039f\"],[0.2222222222222222,\"#7201a8\"],[0.3333333333333333,\"#9c179e\"],[0.4444444444444444,\"#bd3786\"],[0.5555555555555556,\"#d8576b\"],[0.6666666666666666,\"#ed7953\"],[0.7777777777777778,\"#fb9f3a\"],[0.8888888888888888,\"#fdca26\"],[1.0,\"#f0f921\"]],\"type\":\"histogram2d\"}],\"histogram2dcontour\":[{\"colorbar\":{\"outlinewidth\":0,\"ticks\":\"\"},\"colorscale\":[[0.0,\"#0d0887\"],[0.1111111111111111,\"#46039f\"],[0.2222222222222222,\"#7201a8\"],[0.3333333333333333,\"#9c179e\"],[0.4444444444444444,\"#bd3786\"],[0.5555555555555556,\"#d8576b\"],[0.6666666666666666,\"#ed7953\"],[0.7777777777777778,\"#fb9f3a\"],[0.8888888888888888,\"#fdca26\"],[1.0,\"#f0f921\"]],\"type\":\"histogram2dcontour\"}],\"mesh3d\":[{\"colorbar\":{\"outlinewidth\":0,\"ticks\":\"\"},\"type\":\"mesh3d\"}],\"parcoords\":[{\"line\":{\"colorbar\":{\"outlinewidth\":0,\"ticks\":\"\"}},\"type\":\"parcoords\"}],\"pie\":[{\"automargin\":true,\"type\":\"pie\"}],\"scatter\":[{\"marker\":{\"colorbar\":{\"outlinewidth\":0,\"ticks\":\"\"}},\"type\":\"scatter\"}],\"scatter3d\":[{\"line\":{\"colorbar\":{\"outlinewidth\":0,\"ticks\":\"\"}},\"marker\":{\"colorbar\":{\"outlinewidth\":0,\"ticks\":\"\"}},\"type\":\"scatter3d\"}],\"scattercarpet\":[{\"marker\":{\"colorbar\":{\"outlinewidth\":0,\"ticks\":\"\"}},\"type\":\"scattercarpet\"}],\"scattergeo\":[{\"marker\":{\"colorbar\":{\"outlinewidth\":0,\"ticks\":\"\"}},\"type\":\"scattergeo\"}],\"scattergl\":[{\"marker\":{\"colorbar\":{\"outlinewidth\":0,\"ticks\":\"\"}},\"type\":\"scattergl\"}],\"scattermapbox\":[{\"marker\":{\"colorbar\":{\"outlinewidth\":0,\"ticks\":\"\"}},\"type\":\"scattermapbox\"}],\"scatterpolar\":[{\"marker\":{\"colorbar\":{\"outlinewidth\":0,\"ticks\":\"\"}},\"type\":\"scatterpolar\"}],\"scatterpolargl\":[{\"marker\":{\"colorbar\":{\"outlinewidth\":0,\"ticks\":\"\"}},\"type\":\"scatterpolargl\"}],\"scatterternary\":[{\"marker\":{\"colorbar\":{\"outlinewidth\":0,\"ticks\":\"\"}},\"type\":\"scatterternary\"}],\"surface\":[{\"colorbar\":{\"outlinewidth\":0,\"ticks\":\"\"},\"colorscale\":[[0.0,\"#0d0887\"],[0.1111111111111111,\"#46039f\"],[0.2222222222222222,\"#7201a8\"],[0.3333333333333333,\"#9c179e\"],[0.4444444444444444,\"#bd3786\"],[0.5555555555555556,\"#d8576b\"],[0.6666666666666666,\"#ed7953\"],[0.7777777777777778,\"#fb9f3a\"],[0.8888888888888888,\"#fdca26\"],[1.0,\"#f0f921\"]],\"type\":\"surface\"}],\"table\":[{\"cells\":{\"fill\":{\"color\":\"#EBF0F8\"},\"line\":{\"color\":\"white\"}},\"header\":{\"fill\":{\"color\":\"#C8D4E3\"},\"line\":{\"color\":\"white\"}},\"type\":\"table\"}]},\"layout\":{\"annotationdefaults\":{\"arrowcolor\":\"#2a3f5f\",\"arrowhead\":0,\"arrowwidth\":1},\"autotypenumbers\":\"strict\",\"coloraxis\":{\"colorbar\":{\"outlinewidth\":0,\"ticks\":\"\"}},\"colorscale\":{\"diverging\":[[0,\"#8e0152\"],[0.1,\"#c51b7d\"],[0.2,\"#de77ae\"],[0.3,\"#f1b6da\"],[0.4,\"#fde0ef\"],[0.5,\"#f7f7f7\"],[0.6,\"#e6f5d0\"],[0.7,\"#b8e186\"],[0.8,\"#7fbc41\"],[0.9,\"#4d9221\"],[1,\"#276419\"]],\"sequential\":[[0.0,\"#0d0887\"],[0.1111111111111111,\"#46039f\"],[0.2222222222222222,\"#7201a8\"],[0.3333333333333333,\"#9c179e\"],[0.4444444444444444,\"#bd3786\"],[0.5555555555555556,\"#d8576b\"],[0.6666666666666666,\"#ed7953\"],[0.7777777777777778,\"#fb9f3a\"],[0.8888888888888888,\"#fdca26\"],[1.0,\"#f0f921\"]],\"sequentialminus\":[[0.0,\"#0d0887\"],[0.1111111111111111,\"#46039f\"],[0.2222222222222222,\"#7201a8\"],[0.3333333333333333,\"#9c179e\"],[0.4444444444444444,\"#bd3786\"],[0.5555555555555556,\"#d8576b\"],[0.6666666666666666,\"#ed7953\"],[0.7777777777777778,\"#fb9f3a\"],[0.8888888888888888,\"#fdca26\"],[1.0,\"#f0f921\"]]},\"colorway\":[\"#636efa\",\"#EF553B\",\"#00cc96\",\"#ab63fa\",\"#FFA15A\",\"#19d3f3\",\"#FF6692\",\"#B6E880\",\"#FF97FF\",\"#FECB52\"],\"font\":{\"color\":\"#2a3f5f\"},\"geo\":{\"bgcolor\":\"white\",\"lakecolor\":\"white\",\"landcolor\":\"#E5ECF6\",\"showlakes\":true,\"showland\":true,\"subunitcolor\":\"white\"},\"hoverlabel\":{\"align\":\"left\"},\"hovermode\":\"closest\",\"mapbox\":{\"style\":\"light\"},\"paper_bgcolor\":\"white\",\"plot_bgcolor\":\"#E5ECF6\",\"polar\":{\"angularaxis\":{\"gridcolor\":\"white\",\"linecolor\":\"white\",\"ticks\":\"\"},\"bgcolor\":\"#E5ECF6\",\"radialaxis\":{\"gridcolor\":\"white\",\"linecolor\":\"white\",\"ticks\":\"\"}},\"scene\":{\"xaxis\":{\"backgroundcolor\":\"#E5ECF6\",\"gridcolor\":\"white\",\"gridwidth\":2,\"linecolor\":\"white\",\"showbackground\":true,\"ticks\":\"\",\"zerolinecolor\":\"white\"},\"yaxis\":{\"backgroundcolor\":\"#E5ECF6\",\"gridcolor\":\"white\",\"gridwidth\":2,\"linecolor\":\"white\",\"showbackground\":true,\"ticks\":\"\",\"zerolinecolor\":\"white\"},\"zaxis\":{\"backgroundcolor\":\"#E5ECF6\",\"gridcolor\":\"white\",\"gridwidth\":2,\"linecolor\":\"white\",\"showbackground\":true,\"ticks\":\"\",\"zerolinecolor\":\"white\"}},\"shapedefaults\":{\"line\":{\"color\":\"#2a3f5f\"}},\"ternary\":{\"aaxis\":{\"gridcolor\":\"white\",\"linecolor\":\"white\",\"ticks\":\"\"},\"baxis\":{\"gridcolor\":\"white\",\"linecolor\":\"white\",\"ticks\":\"\"},\"bgcolor\":\"#E5ECF6\",\"caxis\":{\"gridcolor\":\"white\",\"linecolor\":\"white\",\"ticks\":\"\"}},\"title\":{\"x\":0.05},\"xaxis\":{\"automargin\":true,\"gridcolor\":\"white\",\"linecolor\":\"white\",\"ticks\":\"\",\"title\":{\"standoff\":15},\"zerolinecolor\":\"white\",\"zerolinewidth\":2},\"yaxis\":{\"automargin\":true,\"gridcolor\":\"white\",\"linecolor\":\"white\",\"ticks\":\"\",\"title\":{\"standoff\":15},\"zerolinecolor\":\"white\",\"zerolinewidth\":2}}},\"xaxis\":{\"anchor\":\"y\",\"domain\":[0.0,1.0],\"title\":{\"text\":\"Features\"},\"categoryorder\":\"total descending\"},\"yaxis\":{\"anchor\":\"x\",\"domain\":[0.0,1.0],\"title\":{\"text\":\"Feature Importances\"}},\"legend\":{\"tracegroupgap\":0},\"title\":{\"text\":\"Feature Importances of Features in Random Forest Regressor\"},\"barmode\":\"relative\"},                        {\"responsive\": true}                    ).then(function(){\n",
       "                            \n",
       "var gd = document.getElementById('5242a8ff-4142-4d2a-b5f8-452bd0a29e45');\n",
       "var x = new MutationObserver(function (mutations, observer) {{\n",
       "        var display = window.getComputedStyle(gd).display;\n",
       "        if (!display || display === 'none') {{\n",
       "            console.log([gd, 'removed!']);\n",
       "            Plotly.purge(gd);\n",
       "            observer.disconnect();\n",
       "        }}\n",
       "}});\n",
       "\n",
       "// Listen for the removal of the full notebook cells\n",
       "var notebookContainer = gd.closest('#notebook-container');\n",
       "if (notebookContainer) {{\n",
       "    x.observe(notebookContainer, {childList: true});\n",
       "}}\n",
       "\n",
       "// Listen for the clearing of the current output cell\n",
       "var outputEl = gd.closest('.output');\n",
       "if (outputEl) {{\n",
       "    x.observe(outputEl, {childList: true});\n",
       "}}\n",
       "\n",
       "                        })                };                });            </script>        </div>"
      ]
     },
     "metadata": {},
     "output_type": "display_data"
    }
   ],
   "source": [
    "px.bar(x=x_feat_list_nobreed_nocolor, y=feature_importances, title='Feature Importances of Features in Random Forest Regressor', labels={'x': 'Features', 'y':'Feature Importances'}).update_xaxes(categoryorder='total descending')"
   ]
  },
  {
   "cell_type": "code",
   "execution_count": 92,
   "id": "f1a423f3",
   "metadata": {},
   "outputs": [],
   "source": [
    "test4_topfeats = ['compatible_cats', 'coat_Medium', 'size_Large', 'coat_Short',  'size_Medium']"
   ]
  },
  {
   "cell_type": "code",
   "execution_count": 133,
   "id": "78ebe019",
   "metadata": {},
   "outputs": [],
   "source": [
    "def plot_residuals(Xtest, ytest, y_preds, feat_list): \n",
    "    \"\"\"Takes in actual X and y values and y predictions and plots residuals to demonstrate assumptions of using \n",
    "        a linear regression. \n",
    "        \n",
    "        Args: \n",
    "            Xtest(array): a numpy array with the test X values for the regression\n",
    "            ytest (array): a numpy array with the test y values for the regression (actual)\n",
    "            y_preds (array): a numpy array with the predicted y values based on the Xtest values \n",
    "        \n",
    "        Returns: \n",
    "            None, just plots\n",
    "    \"\"\"\n",
    "    \n",
    "    # calculate residuals \n",
    "    residuals = ytest - y_preds\n",
    "    \n",
    "    # make first graph of independence of residuals\n",
    "    plt.scatter(x = range(len(ytest)), y = residuals)\n",
    "    plt.xlabel('index')\n",
    "    plt.ylabel('residuals')\n",
    "    plt.tight_layout()\n",
    "    plt.title(\"Checking Independence\")\n",
    "    \n",
    "    \n",
    "    # plot a scatter plot of the errors over x values \n",
    "    for plot in feat_list:\n",
    "        plot_idx = feat_list.index(plot)\n",
    "        plt.subplot(1, len(feat_list), plot_idx+1)\n",
    "        plt.scatter(x = Xtest[:,plot_idx], y = residuals)\n",
    "        plt.tight_layout()\n",
    "        plt.xlabel(plot)\n",
    "    \n",
    "    #plt.gcf().set_size_inches(12, 1)\n",
    "    \n",
    "    # plot distribution of errors\n",
    "    stats.probplot(residuals, dist=\"norm\", plot=py)\n",
    "    plt.tight_layout()\n",
    "    py.show()\n",
    "    \n",
    "    return"
   ]
  },
  {
   "cell_type": "code",
   "execution_count": 150,
   "id": "1616f1e4",
   "metadata": {},
   "outputs": [],
   "source": [
    "def plot_feats_residuals(Xtest, ytest, y_preds, feat_list): \n",
    "    \"\"\"Takes in actual X and y values and y predictions and plots residuals to demonstrate assumptions of using \n",
    "        a linear regression. \n",
    "        \n",
    "        Args: \n",
    "            Xtest(array): a numpy array with the test X values for the regression\n",
    "            ytest (array): a numpy array with the test y values for the regression (actual)\n",
    "            y_preds (array): a numpy array with the predicted y values based on the Xtest values \n",
    "        \n",
    "        Returns: \n",
    "            None, just plots\n",
    "    \"\"\"\n",
    "    \n",
    "    # calculate residuals \n",
    "    residuals = ytest - y_preds\n",
    "    \n",
    "    # plot a scatter plot of the errors over x values \n",
    "    \n",
    "    for plot in feat_list:\n",
    "        plot_idx = feat_list.index(plot)\n",
    "        plt.subplot(1, len(feat_list), plot_idx+1)\n",
    "        plt.scatter(x = Xtest[:,plot_idx], y = residuals)\n",
    "        plt.xlabel(plot)\n",
    "    plt.tight_layout()\n",
    "    plt.gcf().set_size_inches(30, 1)\n",
    "    \n",
    "\n",
    "    return"
   ]
  },
  {
   "cell_type": "markdown",
   "id": "13819a98",
   "metadata": {},
   "source": [
    "### Linear Regression on Top 15 Feature Importances from Test 1.b\n",
    "Using top 15 most important features to the Random Forest Regressor Model from Test 1.b, run a linear regression to determine the coefficients for each feature, in order to determine if the feature has a positive or negative influence on time to be adopted. "
   ]
  },
  {
   "cell_type": "code",
   "execution_count": 153,
   "id": "02c8cdad",
   "metadata": {},
   "outputs": [
    {
     "name": "stdout",
     "output_type": "stream",
     "text": [
      "The MSE for the sklearn cross validated model is 246084.40475865654\n",
      "The R2 score for the sklearn cross validated model is 0.0139\n"
     ]
    }
   ],
   "source": [
    "# create X and Y arrays\n",
    "X = dogs_df_dummies[top_15_feats].to_numpy()\n",
    "y = dogs_df_dummies['delta_time_minutes'].to_numpy()\n",
    "\n",
    "# split train and test data \n",
    "crossval_dogs = train_test_split(X, y, test_size=0.3)\n",
    "Xtrain, Xtest, ytrain, ytest = crossval_dogs\n",
    "\n",
    "# initialize model \n",
    "train_model_dogs = LinearRegression()\n",
    "\n",
    "# fit model\n",
    "train_model_dogs.fit(Xtrain, ytrain)\n",
    "\n",
    "# get the predictions for the test set\n",
    "y_preds = train_model_dogs.predict(Xtest)\n",
    "\n",
    "# get the mse\n",
    "mse = np.mean((ytest - y_preds) ** 2)\n",
    "\n",
    "# get the cross validated R^2\n",
    "r2 = r2_score(ytest, y_preds)\n",
    "\n",
    "# print out the mse and r2 \n",
    "print(f'''The MSE for the sklearn cross validated model is {mse}\\nThe R2 score for the sklearn cross validated model is {round(r2, 4)}''')"
   ]
  },
  {
   "cell_type": "code",
   "execution_count": 154,
   "id": "1c314771",
   "metadata": {},
   "outputs": [
    {
     "data": {
      "text/plain": [
       "array([  22.91502655,   -3.37828703,  -26.8065297 ,    2.88774148,\n",
       "        -34.49387194, -116.02824472,   64.9750453 ,   16.17342094,\n",
       "        -97.25013404,  134.95463091,  199.88563437,   95.8038555 ,\n",
       "       -327.68699886, -203.75500845,  -23.90612   ])"
      ]
     },
     "execution_count": 154,
     "metadata": {},
     "output_type": "execute_result"
    }
   ],
   "source": [
    "train_model_dogs.coef_"
   ]
  },
  {
   "cell_type": "code",
   "execution_count": 156,
   "id": "8ed09821",
   "metadata": {},
   "outputs": [
    {
     "name": "stderr",
     "output_type": "stream",
     "text": [
      "/var/folders/92/y7rgwc2x2r10kszglxcqjdy40000gn/T/ipykernel_66807/1130254043.py:24: UserWarning:\n",
      "\n",
      "Tight layout not applied. tight_layout cannot make axes width small enough to accommodate all axes decorations\n",
      "\n"
     ]
    },
    {
     "data": {
      "image/png": "[encoded data removed]",
      "text/plain": [
       "<Figure size 2160x72 with 15 Axes>"
      ]
     },
     "metadata": {
      "needs_background": "light"
     },
     "output_type": "display_data"
    }
   ],
   "source": [
    "plot_feats_residuals(Xtest, ytest, y_preds, feat_list=top_15_feats)"
   ]
  },
  {
   "cell_type": "markdown",
   "id": "bd3d4802",
   "metadata": {},
   "source": [
    "### Linear Regression on Top 5 Feature Importances from Test 2, 3, and 4\n",
    "Using the top 5 important features from Test 2, the top 5 important features from Test 3, and the the top 5 important features from Test 4 as our x values, we will run a linear regression in order to determine the coefficients for each feature, and determine if the feature has a positive or negative influence on time to be adopted. "
   ]
  },
  {
   "cell_type": "code",
   "execution_count": 108,
   "id": "696b9dfb",
   "metadata": {},
   "outputs": [],
   "source": [
    "# combine lists of top 5 features from Tests 2-4 into one list \n",
    "test2_topfeats = ['primary_breed_Dutch Shepherd', 'primary_breed_Schnauzer', 'primary_breed_American Bulldog',\n",
    "                 'primary_breed_Shih Tzu', 'primary_breed_Standard Poodle']\n",
    "test3_topfeats = ['primary_color_Brown / Chocolate', 'primary_color_Brindle', 'primary_color_Harlequin',\n",
    "                 'primary_color_Gray / Blue / Silver', 'primary_color_Merle (Blue)']\n",
    "test4_topfeats = ['compatible_cats', 'coat_Medium', 'size_Large', 'coat_Short',  'size_Medium']\n",
    "topfeats_tests = test2_topfeats + test3_topfeats + test4_topfeats"
   ]
  },
  {
   "cell_type": "code",
   "execution_count": 109,
   "id": "3c40a294",
   "metadata": {},
   "outputs": [
    {
     "name": "stdout",
     "output_type": "stream",
     "text": [
      "The MSE for the sklearn cross validated model is 240664.68515433316\n",
      "The R2 score for the sklearn cross validated model is 0.0146\n"
     ]
    }
   ],
   "source": [
    "# create X and Y arrays\n",
    "X = dogs_df_dummies[topfeats_tests].to_numpy()\n",
    "y = dogs_df_dummies['delta_time_minutes'].to_numpy()\n",
    "\n",
    "# split train and test data \n",
    "crossval_dogs = train_test_split(X, y, test_size=0.3)\n",
    "Xtrain, Xtest, ytrain, ytest = crossval_dogs\n",
    "\n",
    "# initialize model \n",
    "train_model_dogs = LinearRegression()\n",
    "\n",
    "# fit model\n",
    "train_model_dogs.fit(Xtrain, ytrain)\n",
    "\n",
    "# get the predictions for the test set\n",
    "y_preds = train_model_dogs.predict(Xtest)\n",
    "\n",
    "# get the mse\n",
    "mse = np.mean((ytest - y_preds) ** 2)\n",
    "\n",
    "# get the cross validated R^2\n",
    "r2 = r2_score(ytest, y_preds)\n",
    "\n",
    "# print out the mse and r2 \n",
    "print(f'''The MSE for the sklearn cross validated model is {mse}\\nThe R2 score for the sklearn cross validated model is {round(r2, 4)}''')"
   ]
  },
  {
   "cell_type": "code",
   "execution_count": 110,
   "id": "bfd9feb1",
   "metadata": {
    "scrolled": true
   },
   "outputs": [
    {
     "data": {
      "text/plain": [
       "array([-159.60760121, -412.66088452,  320.0174529 ,  122.73476875,\n",
       "         25.64327215, -126.18182458, -165.53130772, -601.12169999,\n",
       "        158.51001955,  157.55963947,  -79.97000987, -131.53826642,\n",
       "         29.66089803, -113.81634679,  -72.58020739])"
      ]
     },
     "execution_count": 110,
     "metadata": {},
     "output_type": "execute_result"
    }
   ],
   "source": [
    "train_model_dogs.coef_"
   ]
  },
  {
   "cell_type": "markdown",
   "id": "965f0dbc",
   "metadata": {},
   "source": [
    "### Linear Regresson on Features Based on Intution\n",
    "\n",
    "##### Trial 1: \n",
    "'compatible_children', 'compatible_dogs', 'compatible_cats', 'age_Adult', \n",
    "                   'age_Baby', 'age_Senior', 'gender_Female', 'gender_Male', 'size_Medium', 'coat_Hairless', \n",
    "                    'coat_Medium','primary_breed_Labrador Retriever', 'primary_breed_Maltese',\n",
    "                    'primary_color_Black','primary_color_Brown / Chocolate', 'primary_color_White / Cream', \n",
    "                   'primary_color_Yellow / Tan / Blond / Fawn'"
   ]
  },
  {
   "cell_type": "code",
   "execution_count": 116,
   "id": "d6482b81",
   "metadata": {
    "scrolled": true
   },
   "outputs": [
    {
     "name": "stdout",
     "output_type": "stream",
     "text": [
      "The MSE for the sklearn cross validated model is 5.957043800137376e+28\n",
      "The R2 score for the sklearn cross validated model is -2.5769120809250694e+23\n"
     ]
    }
   ],
   "source": [
    "intuition_feats = ['compatible_children', 'compatible_dogs', 'compatible_cats', 'age_Adult', \n",
    "                   'age_Baby', 'age_Senior', 'gender_Female', 'gender_Male', 'size_Medium', 'coat_Hairless', \n",
    "                    'coat_Medium','primary_breed_Labrador Retriever', 'primary_breed_Maltese',\n",
    "                    'primary_color_Black','primary_color_Brown / Chocolate', 'primary_color_White / Cream', \n",
    "                   'primary_color_Yellow / Tan / Blond / Fawn']\n",
    "# create X and Y arrays\n",
    "X = dogs_df_dummies[intuition_feats].to_numpy()\n",
    "y = dogs_df_dummies['delta_time_minutes'].to_numpy()\n",
    "\n",
    "# split train and test data \n",
    "crossval_dogs = train_test_split(X, y, test_size=0.3)\n",
    "Xtrain, Xtest, ytrain, ytest = crossval_dogs\n",
    "\n",
    "# initialize model \n",
    "train_model_dogs = LinearRegression()\n",
    "\n",
    "# fit model\n",
    "train_model_dogs.fit(Xtrain, ytrain)\n",
    "\n",
    "# get the predictions for the test set\n",
    "y_preds = train_model_dogs.predict(Xtest)\n",
    "\n",
    "# get the mse\n",
    "mse = np.mean((ytest - y_preds) ** 2)\n",
    "\n",
    "# get the cross validated R^2\n",
    "r2 = r2_score(ytest, y_preds)\n",
    "\n",
    "# print out the mse and r2 \n",
    "print(f'''The MSE for the sklearn cross validated model is {mse}\\nThe R2 score for the sklearn cross validated model is {round(r2, 4)}''')"
   ]
  },
  {
   "cell_type": "code",
   "execution_count": 117,
   "id": "c6d313ce",
   "metadata": {},
   "outputs": [
    {
     "data": {
      "text/plain": [
       "array([-1.02109931e+00, -1.44708844e+02, -2.91137972e+01,  6.82957333e+01,\n",
       "        7.14086388e+01,  4.26266156e+01, -5.09506812e+16, -5.09506812e+16,\n",
       "       -9.26300039e+01, -4.35240155e+15, -3.42942039e+01, -9.70679369e+01,\n",
       "       -2.38778528e+02, -1.44134058e+00, -1.52717815e+02,  1.16147954e+01,\n",
       "        3.06831113e+01])"
      ]
     },
     "execution_count": 117,
     "metadata": {},
     "output_type": "execute_result"
    }
   ],
   "source": [
    "train_model_dogs.coef_"
   ]
  },
  {
   "cell_type": "markdown",
   "id": "8286de60",
   "metadata": {},
   "source": [
    "##### Trial 2: \n",
    "'compatible_children', 'compatible_dogs', 'compatible_cats', 'age_Adult', \n",
    "                   'age_Baby', 'age_Senior', 'gender_Female', 'gender_Male', 'size_Medium', \n",
    "                   'size_Small', 'size_Large'"
   ]
  },
  {
   "cell_type": "code",
   "execution_count": 138,
   "id": "974a9acf",
   "metadata": {},
   "outputs": [
    {
     "name": "stdout",
     "output_type": "stream",
     "text": [
      "The MSE for the sklearn cross validated model is 244733.42958420684\n",
      "The R2 score for the sklearn cross validated model is 0.004\n"
     ]
    }
   ],
   "source": [
    "intuition_feats = ['compatible_children', 'compatible_dogs', 'compatible_cats', 'age_Adult', \n",
    "                   'age_Baby', 'age_Senior', 'gender_Female', 'gender_Male', 'size_Medium', \n",
    "                   'size_Small', 'size_Large']\n",
    "# create X and Y arrays\n",
    "X = dogs_df_dummies[intuition_feats].to_numpy()\n",
    "y = dogs_df_dummies['delta_time_minutes'].to_numpy()\n",
    "\n",
    "# split train and test data \n",
    "crossval_dogs = train_test_split(X, y, test_size=0.3)\n",
    "Xtrain, Xtest, ytrain, ytest = crossval_dogs\n",
    "\n",
    "# initialize model \n",
    "train_model_dogs = LinearRegression()\n",
    "\n",
    "# fit model\n",
    "train_model_dogs.fit(Xtrain, ytrain)\n",
    "\n",
    "# get the predictions for the test set\n",
    "y_preds = train_model_dogs.predict(Xtest)\n",
    "\n",
    "# get the mse\n",
    "mse = np.mean((ytest - y_preds) ** 2)\n",
    "\n",
    "# get the cross validated R^2\n",
    "r2 = r2_score(ytest, y_preds)\n",
    "\n",
    "# print out the mse and r2 \n",
    "print(f'''The MSE for the sklearn cross validated model is {mse}\\nThe R2 score for the sklearn cross validated model is {round(r2, 4)}''')"
   ]
  },
  {
   "cell_type": "code",
   "execution_count": 139,
   "id": "db366768",
   "metadata": {},
   "outputs": [
    {
     "data": {
      "text/plain": [
       "array([ 9.46868085e+01, -2.02992054e+01, -9.80332094e+01,  3.72597966e+01,\n",
       "        2.25432131e+01,  4.93691505e+01, -2.06677181e+16, -2.06677181e+16,\n",
       "       -1.24035820e+02, -3.89363741e+01, -4.93911727e+01])"
      ]
     },
     "execution_count": 139,
     "metadata": {},
     "output_type": "execute_result"
    }
   ],
   "source": [
    "train_model_dogs.coef_"
   ]
  },
  {
   "cell_type": "code",
   "execution_count": 140,
   "id": "dd3ccf02",
   "metadata": {
    "scrolled": true
   },
   "outputs": [
    {
     "name": "stderr",
     "output_type": "stream",
     "text": [
      "/var/folders/92/y7rgwc2x2r10kszglxcqjdy40000gn/T/ipykernel_66807/1135779805.py:30: UserWarning:\n",
      "\n",
      "Tight layout not applied. tight_layout cannot make axes width small enough to accommodate all axes decorations\n",
      "\n",
      "/var/folders/92/y7rgwc2x2r10kszglxcqjdy40000gn/T/ipykernel_66807/1135779805.py:37: UserWarning:\n",
      "\n",
      "Tight layout not applied. tight_layout cannot make axes width small enough to accommodate all axes decorations\n",
      "\n"
     ]
    },
    {
     "data": {
      "image/png": "[encoded data removed]",
      "text/plain": [
       "<Figure size 432x288 with 11 Axes>"
      ]
     },
     "metadata": {
      "needs_background": "light"
     },
     "output_type": "display_data"
    }
   ],
   "source": [
    "plot_residuals(Xtest, ytest, y_preds, feat_list=intuition_feats)"
   ]
  },
  {
   "cell_type": "code",
   "execution_count": 151,
   "id": "2e3f1cd7",
   "metadata": {
    "scrolled": true
   },
   "outputs": [
    {
     "name": "stderr",
     "output_type": "stream",
     "text": [
      "/var/folders/92/y7rgwc2x2r10kszglxcqjdy40000gn/T/ipykernel_66807/1130254043.py:24: UserWarning:\n",
      "\n",
      "Tight layout not applied. tight_layout cannot make axes width small enough to accommodate all axes decorations\n",
      "\n"
     ]
    },
    {
     "data": {
      "image/png": "[encoded data removed]",
      "text/plain": [
       "<Figure size 2160x72 with 11 Axes>"
      ]
     },
     "metadata": {
      "needs_background": "light"
     },
     "output_type": "display_data"
    }
   ],
   "source": [
    "plot_feats_residuals(Xtest, ytest, y_preds, feat_list=intuition_feats)"
   ]
  },
  {
   "cell_type": "code",
   "execution_count": 152,
   "id": "1c4a39b5",
   "metadata": {},
   "outputs": [
    {
     "ename": "NameError",
     "evalue": "name 'top15_feats' is not defined",
     "output_type": "error",
     "traceback": [
      "\u001b[0;31m---------------------------------------------------------------------------\u001b[0m",
      "\u001b[0;31mNameError\u001b[0m                                 Traceback (most recent call last)",
      "\u001b[0;32m/var/folders/92/y7rgwc2x2r10kszglxcqjdy40000gn/T/ipykernel_66807/2979043453.py\u001b[0m in \u001b[0;36m<module>\u001b[0;34m\u001b[0m\n\u001b[0;32m----> 1\u001b[0;31m \u001b[0mplot_feats_residuals\u001b[0m\u001b[0;34m(\u001b[0m\u001b[0mXtest\u001b[0m\u001b[0;34m,\u001b[0m \u001b[0mytest\u001b[0m\u001b[0;34m,\u001b[0m \u001b[0my_preds\u001b[0m\u001b[0;34m,\u001b[0m \u001b[0mfeat_list\u001b[0m\u001b[0;34m=\u001b[0m\u001b[0mtop15_feats\u001b[0m\u001b[0;34m)\u001b[0m\u001b[0;34m\u001b[0m\u001b[0;34m\u001b[0m\u001b[0m\n\u001b[0m",
      "\u001b[0;31mNameError\u001b[0m: name 'top15_feats' is not defined"
     ]
    }
   ],
   "source": []
  },
  {
   "cell_type": "code",
   "execution_count": null,
   "id": "81821d14",
   "metadata": {},
   "outputs": [],
   "source": []
  }
 ],
 "metadata": {
  "kernelspec": {
   "display_name": "Python 3 (ipykernel)",
   "language": "python",
   "name": "python3"
  },
  "language_info": {
   "codemirror_mode": {
    "name": "ipython",
    "version": 3
   },
   "file_extension": ".py",
   "mimetype": "text/x-python",
   "name": "python",
   "nbconvert_exporter": "python",
   "pygments_lexer": "ipython3",
   "version": "3.9.7"
  }
 },
 "nbformat": 4,
 "nbformat_minor": 5
}
