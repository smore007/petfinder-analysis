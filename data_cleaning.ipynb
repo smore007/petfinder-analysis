{
 "cells": [
  {
   "cell_type": "code",
   "execution_count": 2,
   "metadata": {},
   "outputs": [],
   "source": [
    "import requests\n",
    "import json\n",
    "import pandas as pd\n",
    "from collections import defaultdict\n",
    "from datetime import datetime, timedelta\n",
    "import matplotlib.pyplot as plt\n",
    "import seaborn as sns"
   ]
  },
  {
   "cell_type": "code",
   "execution_count": 3,
   "metadata": {},
   "outputs": [],
   "source": [
    "def oauth_access_token():\n",
    "    \"\"\"\n",
    "    Gets the access token for the Petfinder API.\n",
    "    The API Key and secret are hardcoded.\n",
    "    \n",
    "    Returns:\n",
    "        access_token (str): The private access token\n",
    "    \"\"\"\n",
    "    \n",
    "    # API key obtained from petfinder.com\n",
    "    API_KEY = 'M4CoQE7WqFf5XuVwiW7cnq2IIBNxb7hXpl3YZuuloG1R6THzig'\n",
    "    SECRET = '4GZGe1f9pPj2oH2DE7zGqSpeqyDIqFZ8oPaMtlpR'\n",
    "\n",
    "    # Retrieves the access token using the API key and Secret\n",
    "    access_token_req = requests.post('https://api.petfinder.com/v2/oauth2/token',\n",
    "                data={\n",
    "                    \"grant_type\": \"client_credentials\",\n",
    "                    \"client_id\": API_KEY,\n",
    "                    \"client_secret\": SECRET\n",
    "                }).text\n",
    "\n",
    "    # Processes the response from the Petfinder API\n",
    "    return json.loads(access_token_req)['access_token']"
   ]
  },
  {
   "cell_type": "code",
   "execution_count": 4,
   "metadata": {},
   "outputs": [],
   "source": [
    "# Obtains the access token\n",
    "access_token = oauth_access_token()"
   ]
  },
  {
   "cell_type": "code",
   "execution_count": 7,
   "metadata": {},
   "outputs": [],
   "source": [
    "def fetch_dogs(status='adopted', pages=50):\n",
    "    \"\"\"\n",
    "    Fetches the specified number of pages of dog data.\n",
    "\n",
    "    Args:\n",
    "        status (String): can be either adopted or adoptable\n",
    "        pages (Integer): specifies the number of pages to retrive from the site\n",
    "    \n",
    "    Returns:\n",
    "        df (DataFrame): The raw API response concatenated into a DataFrame\n",
    "    \"\"\"\n",
    "    all_dogs = []\n",
    "\n",
    "    # Makes a series of requests sto the Petfind API to retrieve specified\n",
    "    # information about dogs\n",
    "    for page_num in range(1, 1+pages):\n",
    "        response = requests.get('https://api.petfinder.com/v2/animals',\n",
    "             headers={\n",
    "                 'Authorization': f'Bearer {access_token}'\n",
    "             },\n",
    "             params={\n",
    "                 'type': 'dog',\n",
    "                 'after': '2022-01-01T00:00:00+00:00',\n",
    "                 'before': '2023-01-01T00:00:00+00:00',\n",
    "                 'page': str(page_num),\n",
    "                 'status': status,\n",
    "                 'limit': 100\n",
    "             }).text\n",
    "\n",
    "        # Processes the response from the Petfinder API\n",
    "        for dog in json.loads(response)['animals']:\n",
    "            all_dogs.append(dog)\n",
    "\n",
    "    # Places obtained data into a Dataframe \n",
    "    return pd.DataFrame(all_dogs)"
   ]
  },
  {
   "cell_type": "code",
   "execution_count": 8,
   "metadata": {},
   "outputs": [],
   "source": [
    "# Stores the data in a Dataframe\n",
    "dogs_df = fetch_dogs()"
   ]
  },
  {
   "cell_type": "code",
   "execution_count": 9,
   "metadata": {},
   "outputs": [],
   "source": [
    "def extract_features(df):\n",
    "    \"\"\"\n",
    "    Pulls features from the columns which are \n",
    "    hidden in dicts, puts them back into the dataframe\n",
    "    in their own columns \n",
    "\n",
    "    Args:\n",
    "        df (Dataframe): the dataframe to be extracted from \n",
    "    \n",
    "    Returns:\n",
    "        df (DataFrame): the dataframe with new columns added for\n",
    "        extracted features \n",
    "    \"\"\"\n",
    "\n",
    "    # Creates a new column within the dataframe which represents the amount of time taken\n",
    "    # for a dog to be adopted \n",
    "    df['published_at'] = df['published_at'].apply(lambda x: datetime.fromisoformat(str(x)))\n",
    "    df['status_changed_at'] = df['status_changed_at'].apply(lambda x: datetime.fromisoformat(str(x)))\n",
    "    df['delta_time'] = df['status_changed_at'] - df['published_at']\n",
    "\n",
    "    # Extracts primary_breed, secondary_breed, is_mixed, and is_unknown information\n",
    "    # from the breeds column and creates a new column for each \n",
    "    df['primary_breed'] = df['breeds'].apply(lambda x: x['primary'])\n",
    "    df['secondary_breed'] = df['breeds'].apply(lambda x: x['secondary'])\n",
    "    df['is_mixed'] = df['breeds'].apply(lambda x: x['mixed'])\n",
    "    df['is_unknown'] = df['breeds'].apply(lambda x: x['unknown'])\n",
    "\n",
    "    # Extracts compatible_children, compatible_dogs, and compatible_cats information\n",
    "    # from the environment column and creates a new column for each \n",
    "    df['compatible_children'] = df['environment'].apply(lambda x: x['children'])\n",
    "    df['compatible_dogs'] = df['environment'].apply(lambda x: x['dogs'])\n",
    "    df['compatible_cats'] = df['environment'].apply(lambda x: x['cats'])\n",
    "\n",
    "    # Extracts spayed_neutered, house_trained, special_needs, and \n",
    "    # shots_current information from the attributes column and \n",
    "    # creates a new column for each \n",
    "    df['spayed_neutered'] = df['attributes'].apply(lambda x: x['spayed_neutered'])\n",
    "    df['house_trained'] = df['attributes'].apply(lambda x: x['house_trained'])\n",
    "    df['special_needs'] = df['attributes'].apply(lambda x: x['special_needs'])\n",
    "    df['shots_current'] = df['attributes'].apply(lambda x: x['shots_current'])\n",
    "\n",
    "    # Extracts primary_color, secondary_color, and tertiary_color information\n",
    "    # from the colors column and creates a new column for each \n",
    "    df['primary_color'] = df['colors'].apply(lambda x: x['primary'])\n",
    "    df['secondary_color'] = df['colors'].apply(lambda x: x['secondary'])\n",
    "    df['tertiary_color'] = df['colors'].apply(lambda x: x['tertiary'])"
   ]
  },
  {
   "cell_type": "code",
   "execution_count": 10,
   "metadata": {},
   "outputs": [],
   "source": [
    "# Extracts features embedded within dictionaries in dogs_df\n",
    "extract_features(dogs_df)"
   ]
  },
  {
   "cell_type": "code",
   "execution_count": 11,
   "metadata": {},
   "outputs": [
    {
     "data": {
      "text/plain": [
       "Timedelta('336 days 00:46:22')"
      ]
     },
     "execution_count": 11,
     "metadata": {},
     "output_type": "execute_result"
    }
   ],
   "source": [
    "# To observe the maximum amount of time taken to adopt a dog\n",
    "dogs_df.delta_time.max()"
   ]
  },
  {
   "cell_type": "code",
   "execution_count": 12,
   "metadata": {},
   "outputs": [],
   "source": [
    "def clean_dogs(df):\n",
    "    \"\"\"\n",
    "    Deletes invalid rows and unnecessary columns \n",
    "    from the DataFrame (after feature extraction!)\n",
    "\n",
    "    Args:\n",
    "        df (Dataframe): the dataframe to be cleaned\n",
    "    \n",
    "    Returns:\n",
    "        df (DataFrame): the dataframe with unnecessary columns deleted\n",
    "    \"\"\"\n",
    "\n",
    "    # Defines the columns deemed useless\n",
    "    to_be_deleted = ['_links', 'type', 'species', 'breeds', 'colors', \n",
    "                'attributes', 'environment', 'videos', 'photos',\n",
    "                'primary_photo_cropped', 'contact', 'distance',\n",
    "                'description']\n",
    "\n",
    "    # Removes the respective columns in to_be_deleted from df\n",
    "    for col_name in to_be_deleted:\n",
    "        del df[col_name]"
   ]
  },
  {
   "cell_type": "code",
   "execution_count": 13,
   "metadata": {},
   "outputs": [],
   "source": [
    "# Removes useless columns from dogs_df\n",
    "clean_dogs(dogs_df)"
   ]
  },
  {
   "cell_type": "code",
   "execution_count": 14,
   "metadata": {},
   "outputs": [],
   "source": [
    "# Remove invalid entries\n",
    "dogs_df = dogs_df.loc[dogs_df['delta_time'] > timedelta(minutes=5)]"
   ]
  },
  {
   "cell_type": "code",
   "execution_count": 15,
   "metadata": {},
   "outputs": [
    {
     "data": {
      "text/plain": [
       "(124, 28)"
      ]
     },
     "execution_count": 15,
     "metadata": {},
     "output_type": "execute_result"
    }
   ],
   "source": [
    "# To determine the number of dogs with special needs\n",
    "dogs_df[dogs_df['special_needs'] == True].shape"
   ]
  },
  {
   "cell_type": "code",
   "execution_count": 16,
   "metadata": {},
   "outputs": [
    {
     "data": {
      "text/plain": [
       "(4813, 28)"
      ]
     },
     "execution_count": 16,
     "metadata": {},
     "output_type": "execute_result"
    }
   ],
   "source": [
    "# To determine the number of dogs without special needs\n",
    "dogs_df[dogs_df['special_needs'] == False].shape"
   ]
  },
  {
   "cell_type": "code",
   "execution_count": 17,
   "metadata": {},
   "outputs": [
    {
     "data": {
      "text/plain": [
       "0       1213.833333\n",
       "1       1015.283333\n",
       "2        733.033333\n",
       "3       1255.850000\n",
       "4       1359.433333\n",
       "           ...     \n",
       "4995     917.000000\n",
       "4996      57.050000\n",
       "4997    1288.566667\n",
       "4998    1272.966667\n",
       "4999      51.733333\n",
       "Name: delta_time_minutes, Length: 4937, dtype: float64"
      ]
     },
     "execution_count": 17,
     "metadata": {},
     "output_type": "execute_result"
    }
   ],
   "source": [
    "# Create delta_time_minutes column - converts delta_time to minutes instead\n",
    "dogs_df['delta_time_minutes'] = dogs_df['delta_time'].apply(lambda x: x.seconds / 60)\n",
    "dogs_df['delta_time_minutes']"
   ]
  },
  {
   "cell_type": "code",
   "execution_count": 18,
   "metadata": {},
   "outputs": [],
   "source": [
    "# stores the dogs_df as a csv\n",
    "dogs_df.to_csv('dogs.csv')"
   ]
  },
  {
   "cell_type": "markdown",
   "metadata": {},
   "source": [
    "# Visualizations"
   ]
  },
  {
   "cell_type": "code",
   "execution_count": 19,
   "metadata": {},
   "outputs": [
    {
     "data": {
      "text/html": [
       "<div>\n",
       "<style scoped>\n",
       "    .dataframe tbody tr th:only-of-type {\n",
       "        vertical-align: middle;\n",
       "    }\n",
       "\n",
       "    .dataframe tbody tr th {\n",
       "        vertical-align: top;\n",
       "    }\n",
       "\n",
       "    .dataframe thead th {\n",
       "        text-align: right;\n",
       "    }\n",
       "</style>\n",
       "<table border=\"1\" class=\"dataframe\">\n",
       "  <thead>\n",
       "    <tr style=\"text-align: right;\">\n",
       "      <th></th>\n",
       "      <th>id</th>\n",
       "      <th>organization_id</th>\n",
       "      <th>url</th>\n",
       "      <th>age</th>\n",
       "      <th>gender</th>\n",
       "      <th>size</th>\n",
       "      <th>coat</th>\n",
       "      <th>tags</th>\n",
       "      <th>name</th>\n",
       "      <th>organization_animal_id</th>\n",
       "      <th>...</th>\n",
       "      <th>compatible_dogs</th>\n",
       "      <th>compatible_cats</th>\n",
       "      <th>spayed_neutered</th>\n",
       "      <th>house_trained</th>\n",
       "      <th>special_needs</th>\n",
       "      <th>shots_current</th>\n",
       "      <th>primary_color</th>\n",
       "      <th>secondary_color</th>\n",
       "      <th>tertiary_color</th>\n",
       "      <th>delta_time_minutes</th>\n",
       "    </tr>\n",
       "  </thead>\n",
       "  <tbody>\n",
       "    <tr>\n",
       "      <th>0</th>\n",
       "      <td>59313263</td>\n",
       "      <td>CA2713</td>\n",
       "      <td>https://www.petfinder.com/dog/billy-59313263/c...</td>\n",
       "      <td>Adult</td>\n",
       "      <td>Male</td>\n",
       "      <td>Small</td>\n",
       "      <td>Short</td>\n",
       "      <td>['Friendly', 'Affectionate', 'Funny', 'Couch p...</td>\n",
       "      <td>BILLY</td>\n",
       "      <td>NaN</td>\n",
       "      <td>...</td>\n",
       "      <td>True</td>\n",
       "      <td>True</td>\n",
       "      <td>True</td>\n",
       "      <td>True</td>\n",
       "      <td>False</td>\n",
       "      <td>True</td>\n",
       "      <td>Yellow / Tan / Blond / Fawn</td>\n",
       "      <td>NaN</td>\n",
       "      <td>NaN</td>\n",
       "      <td>1213.833333</td>\n",
       "    </tr>\n",
       "    <tr>\n",
       "      <th>1</th>\n",
       "      <td>59313260</td>\n",
       "      <td>IL54</td>\n",
       "      <td>https://www.petfinder.com/dog/ula-59313260/il/...</td>\n",
       "      <td>Adult</td>\n",
       "      <td>Female</td>\n",
       "      <td>Medium</td>\n",
       "      <td>Short</td>\n",
       "      <td>[]</td>\n",
       "      <td>Ula</td>\n",
       "      <td>NaN</td>\n",
       "      <td>...</td>\n",
       "      <td>NaN</td>\n",
       "      <td>NaN</td>\n",
       "      <td>True</td>\n",
       "      <td>False</td>\n",
       "      <td>False</td>\n",
       "      <td>True</td>\n",
       "      <td>NaN</td>\n",
       "      <td>NaN</td>\n",
       "      <td>NaN</td>\n",
       "      <td>1015.283333</td>\n",
       "    </tr>\n",
       "    <tr>\n",
       "      <th>2</th>\n",
       "      <td>59313253</td>\n",
       "      <td>FL532</td>\n",
       "      <td>https://www.petfinder.com/dog/jake-59313253/fl...</td>\n",
       "      <td>Young</td>\n",
       "      <td>Male</td>\n",
       "      <td>Medium</td>\n",
       "      <td>Medium</td>\n",
       "      <td>['Brave', 'Athletic', 'Funny', 'Smart', 'Loyal']</td>\n",
       "      <td>Jake</td>\n",
       "      <td>NaN</td>\n",
       "      <td>...</td>\n",
       "      <td>True</td>\n",
       "      <td>True</td>\n",
       "      <td>True</td>\n",
       "      <td>True</td>\n",
       "      <td>False</td>\n",
       "      <td>True</td>\n",
       "      <td>Merle (Blue)</td>\n",
       "      <td>NaN</td>\n",
       "      <td>NaN</td>\n",
       "      <td>733.033333</td>\n",
       "    </tr>\n",
       "    <tr>\n",
       "      <th>3</th>\n",
       "      <td>59313248</td>\n",
       "      <td>CA2813</td>\n",
       "      <td>https://www.petfinder.com/dog/marshmallow-5931...</td>\n",
       "      <td>Young</td>\n",
       "      <td>Male</td>\n",
       "      <td>Large</td>\n",
       "      <td>Short</td>\n",
       "      <td>[]</td>\n",
       "      <td>Marshmallow</td>\n",
       "      <td>NaN</td>\n",
       "      <td>...</td>\n",
       "      <td>True</td>\n",
       "      <td>NaN</td>\n",
       "      <td>True</td>\n",
       "      <td>True</td>\n",
       "      <td>True</td>\n",
       "      <td>True</td>\n",
       "      <td>White / Cream</td>\n",
       "      <td>NaN</td>\n",
       "      <td>NaN</td>\n",
       "      <td>1255.850000</td>\n",
       "    </tr>\n",
       "    <tr>\n",
       "      <th>4</th>\n",
       "      <td>59313245</td>\n",
       "      <td>TX258</td>\n",
       "      <td>https://www.petfinder.com/dog/riley-loves-ever...</td>\n",
       "      <td>Young</td>\n",
       "      <td>Female</td>\n",
       "      <td>Large</td>\n",
       "      <td>Short</td>\n",
       "      <td>['Smart', 'Playful', 'Gentle', 'Loyal', 'Affec...</td>\n",
       "      <td>Riley- Loves Everyone and Learns Quickly!</td>\n",
       "      <td>NaN</td>\n",
       "      <td>...</td>\n",
       "      <td>True</td>\n",
       "      <td>NaN</td>\n",
       "      <td>True</td>\n",
       "      <td>True</td>\n",
       "      <td>False</td>\n",
       "      <td>True</td>\n",
       "      <td>Brindle</td>\n",
       "      <td>NaN</td>\n",
       "      <td>NaN</td>\n",
       "      <td>1359.433333</td>\n",
       "    </tr>\n",
       "  </tbody>\n",
       "</table>\n",
       "<p>5 rows × 29 columns</p>\n",
       "</div>"
      ],
      "text/plain": [
       "         id organization_id  \\\n",
       "0  59313263          CA2713   \n",
       "1  59313260            IL54   \n",
       "2  59313253           FL532   \n",
       "3  59313248          CA2813   \n",
       "4  59313245           TX258   \n",
       "\n",
       "                                                 url    age  gender    size  \\\n",
       "0  https://www.petfinder.com/dog/billy-59313263/c...  Adult    Male   Small   \n",
       "1  https://www.petfinder.com/dog/ula-59313260/il/...  Adult  Female  Medium   \n",
       "2  https://www.petfinder.com/dog/jake-59313253/fl...  Young    Male  Medium   \n",
       "3  https://www.petfinder.com/dog/marshmallow-5931...  Young    Male   Large   \n",
       "4  https://www.petfinder.com/dog/riley-loves-ever...  Young  Female   Large   \n",
       "\n",
       "     coat                                               tags  \\\n",
       "0   Short  ['Friendly', 'Affectionate', 'Funny', 'Couch p...   \n",
       "1   Short                                                 []   \n",
       "2  Medium   ['Brave', 'Athletic', 'Funny', 'Smart', 'Loyal']   \n",
       "3   Short                                                 []   \n",
       "4   Short  ['Smart', 'Playful', 'Gentle', 'Loyal', 'Affec...   \n",
       "\n",
       "                                        name organization_animal_id  ...  \\\n",
       "0                                      BILLY                    NaN  ...   \n",
       "1                                        Ula                    NaN  ...   \n",
       "2                                       Jake                    NaN  ...   \n",
       "3                                Marshmallow                    NaN  ...   \n",
       "4  Riley- Loves Everyone and Learns Quickly!                    NaN  ...   \n",
       "\n",
       "  compatible_dogs compatible_cats spayed_neutered house_trained special_needs  \\\n",
       "0            True            True            True          True         False   \n",
       "1             NaN             NaN            True         False         False   \n",
       "2            True            True            True          True         False   \n",
       "3            True             NaN            True          True          True   \n",
       "4            True             NaN            True          True         False   \n",
       "\n",
       "  shots_current                primary_color  secondary_color tertiary_color  \\\n",
       "0          True  Yellow / Tan / Blond / Fawn              NaN            NaN   \n",
       "1          True                          NaN              NaN            NaN   \n",
       "2          True                 Merle (Blue)              NaN            NaN   \n",
       "3          True                White / Cream              NaN            NaN   \n",
       "4          True                      Brindle              NaN            NaN   \n",
       "\n",
       "  delta_time_minutes  \n",
       "0        1213.833333  \n",
       "1        1015.283333  \n",
       "2         733.033333  \n",
       "3        1255.850000  \n",
       "4        1359.433333  \n",
       "\n",
       "[5 rows x 29 columns]"
      ]
     },
     "execution_count": 19,
     "metadata": {},
     "output_type": "execute_result"
    }
   ],
   "source": [
    "# Reads in the csv file \n",
    "dogs_df = pd.read_csv('dogs.csv')\n",
    "dogs_df.drop(columns='Unnamed: 0', inplace=True)\n",
    "dogs_df.head()"
   ]
  },
  {
   "cell_type": "code",
   "execution_count": 21,
   "metadata": {},
   "outputs": [
    {
     "data": {
      "text/html": [
       "<div>\n",
       "<style scoped>\n",
       "    .dataframe tbody tr th:only-of-type {\n",
       "        vertical-align: middle;\n",
       "    }\n",
       "\n",
       "    .dataframe tbody tr th {\n",
       "        vertical-align: top;\n",
       "    }\n",
       "\n",
       "    .dataframe thead th {\n",
       "        text-align: right;\n",
       "    }\n",
       "</style>\n",
       "<table border=\"1\" class=\"dataframe\">\n",
       "  <thead>\n",
       "    <tr style=\"text-align: right;\">\n",
       "      <th></th>\n",
       "      <th>id</th>\n",
       "      <th>is_mixed</th>\n",
       "      <th>is_unknown</th>\n",
       "      <th>spayed_neutered</th>\n",
       "      <th>house_trained</th>\n",
       "      <th>special_needs</th>\n",
       "      <th>shots_current</th>\n",
       "      <th>delta_time_minutes</th>\n",
       "    </tr>\n",
       "  </thead>\n",
       "  <tbody>\n",
       "    <tr>\n",
       "      <th>id</th>\n",
       "      <td>1.000000</td>\n",
       "      <td>0.020534</td>\n",
       "      <td>NaN</td>\n",
       "      <td>-0.013682</td>\n",
       "      <td>-0.020196</td>\n",
       "      <td>0.001724</td>\n",
       "      <td>-0.006653</td>\n",
       "      <td>0.006674</td>\n",
       "    </tr>\n",
       "    <tr>\n",
       "      <th>is_mixed</th>\n",
       "      <td>0.020534</td>\n",
       "      <td>1.000000</td>\n",
       "      <td>NaN</td>\n",
       "      <td>-0.001223</td>\n",
       "      <td>-0.040803</td>\n",
       "      <td>-0.029608</td>\n",
       "      <td>0.073126</td>\n",
       "      <td>0.002460</td>\n",
       "    </tr>\n",
       "    <tr>\n",
       "      <th>is_unknown</th>\n",
       "      <td>NaN</td>\n",
       "      <td>NaN</td>\n",
       "      <td>NaN</td>\n",
       "      <td>NaN</td>\n",
       "      <td>NaN</td>\n",
       "      <td>NaN</td>\n",
       "      <td>NaN</td>\n",
       "      <td>NaN</td>\n",
       "    </tr>\n",
       "    <tr>\n",
       "      <th>spayed_neutered</th>\n",
       "      <td>-0.013682</td>\n",
       "      <td>-0.001223</td>\n",
       "      <td>NaN</td>\n",
       "      <td>1.000000</td>\n",
       "      <td>0.280460</td>\n",
       "      <td>0.054575</td>\n",
       "      <td>0.326724</td>\n",
       "      <td>-0.004543</td>\n",
       "    </tr>\n",
       "    <tr>\n",
       "      <th>house_trained</th>\n",
       "      <td>-0.020196</td>\n",
       "      <td>-0.040803</td>\n",
       "      <td>NaN</td>\n",
       "      <td>0.280460</td>\n",
       "      <td>1.000000</td>\n",
       "      <td>0.058828</td>\n",
       "      <td>0.128702</td>\n",
       "      <td>0.007053</td>\n",
       "    </tr>\n",
       "    <tr>\n",
       "      <th>special_needs</th>\n",
       "      <td>0.001724</td>\n",
       "      <td>-0.029608</td>\n",
       "      <td>NaN</td>\n",
       "      <td>0.054575</td>\n",
       "      <td>0.058828</td>\n",
       "      <td>1.000000</td>\n",
       "      <td>-0.003416</td>\n",
       "      <td>0.022315</td>\n",
       "    </tr>\n",
       "    <tr>\n",
       "      <th>shots_current</th>\n",
       "      <td>-0.006653</td>\n",
       "      <td>0.073126</td>\n",
       "      <td>NaN</td>\n",
       "      <td>0.326724</td>\n",
       "      <td>0.128702</td>\n",
       "      <td>-0.003416</td>\n",
       "      <td>1.000000</td>\n",
       "      <td>-0.057502</td>\n",
       "    </tr>\n",
       "    <tr>\n",
       "      <th>delta_time_minutes</th>\n",
       "      <td>0.006674</td>\n",
       "      <td>0.002460</td>\n",
       "      <td>NaN</td>\n",
       "      <td>-0.004543</td>\n",
       "      <td>0.007053</td>\n",
       "      <td>0.022315</td>\n",
       "      <td>-0.057502</td>\n",
       "      <td>1.000000</td>\n",
       "    </tr>\n",
       "  </tbody>\n",
       "</table>\n",
       "</div>"
      ],
      "text/plain": [
       "                          id  is_mixed  is_unknown  spayed_neutered  \\\n",
       "id                  1.000000  0.020534         NaN        -0.013682   \n",
       "is_mixed            0.020534  1.000000         NaN        -0.001223   \n",
       "is_unknown               NaN       NaN         NaN              NaN   \n",
       "spayed_neutered    -0.013682 -0.001223         NaN         1.000000   \n",
       "house_trained      -0.020196 -0.040803         NaN         0.280460   \n",
       "special_needs       0.001724 -0.029608         NaN         0.054575   \n",
       "shots_current      -0.006653  0.073126         NaN         0.326724   \n",
       "delta_time_minutes  0.006674  0.002460         NaN        -0.004543   \n",
       "\n",
       "                    house_trained  special_needs  shots_current  \\\n",
       "id                      -0.020196       0.001724      -0.006653   \n",
       "is_mixed                -0.040803      -0.029608       0.073126   \n",
       "is_unknown                    NaN            NaN            NaN   \n",
       "spayed_neutered          0.280460       0.054575       0.326724   \n",
       "house_trained            1.000000       0.058828       0.128702   \n",
       "special_needs            0.058828       1.000000      -0.003416   \n",
       "shots_current            0.128702      -0.003416       1.000000   \n",
       "delta_time_minutes       0.007053       0.022315      -0.057502   \n",
       "\n",
       "                    delta_time_minutes  \n",
       "id                            0.006674  \n",
       "is_mixed                      0.002460  \n",
       "is_unknown                         NaN  \n",
       "spayed_neutered              -0.004543  \n",
       "house_trained                 0.007053  \n",
       "special_needs                 0.022315  \n",
       "shots_current                -0.057502  \n",
       "delta_time_minutes            1.000000  "
      ]
     },
     "execution_count": 21,
     "metadata": {},
     "output_type": "execute_result"
    }
   ],
   "source": [
    "# Creates correlation matrix \n",
    "dogs_df.corr(numeric_only = True)"
   ]
  },
  {
   "cell_type": "code",
   "execution_count": 24,
   "metadata": {
    "scrolled": true
   },
   "outputs": [
    {
     "name": "stderr",
     "output_type": "stream",
     "text": [
      "/Users/madisonweiss/miniconda3/lib/python3.11/site-packages/seaborn/_oldcore.py:1498: FutureWarning: is_categorical_dtype is deprecated and will be removed in a future version. Use isinstance(dtype, CategoricalDtype) instead\n",
      "  if pd.api.types.is_categorical_dtype(vector):\n",
      "/Users/madisonweiss/miniconda3/lib/python3.11/site-packages/seaborn/_oldcore.py:1498: FutureWarning: is_categorical_dtype is deprecated and will be removed in a future version. Use isinstance(dtype, CategoricalDtype) instead\n",
      "  if pd.api.types.is_categorical_dtype(vector):\n",
      "/Users/madisonweiss/miniconda3/lib/python3.11/site-packages/seaborn/_oldcore.py:1498: FutureWarning: is_categorical_dtype is deprecated and will be removed in a future version. Use isinstance(dtype, CategoricalDtype) instead\n",
      "  if pd.api.types.is_categorical_dtype(vector):\n",
      "/Users/madisonweiss/miniconda3/lib/python3.11/site-packages/seaborn/_oldcore.py:1498: FutureWarning: is_categorical_dtype is deprecated and will be removed in a future version. Use isinstance(dtype, CategoricalDtype) instead\n",
      "  if pd.api.types.is_categorical_dtype(vector):\n",
      "/Users/madisonweiss/miniconda3/lib/python3.11/site-packages/seaborn/_oldcore.py:1119: FutureWarning: use_inf_as_na option is deprecated and will be removed in a future version. Convert inf values to NaN before operating instead.\n",
      "  with pd.option_context('mode.use_inf_as_na', True):\n",
      "/Users/madisonweiss/miniconda3/lib/python3.11/site-packages/seaborn/axisgrid.py:118: UserWarning: The figure layout has changed to tight\n",
      "  self._figure.tight_layout(*args, **kwargs)\n"
     ]
    },
    {
     "data": {
      "text/plain": [
       "<seaborn.axisgrid.FacetGrid at 0x14f9358d0>"
      ]
     },
     "execution_count": 24,
     "metadata": {},
     "output_type": "execute_result"
    },
    {
     "data": {
      "image/png": "[encoded data removed]",
      "text/plain": [
       "<Figure size 594.125x500 with 1 Axes>"
      ]
     },
     "metadata": {},
     "output_type": "display_data"
    }
   ],
   "source": [
    "# Visualizes age versus the time taken to adopt \n",
    "fig = sns.displot(dogs_df, x='delta_time_minutes', hue='age', multiple='dodge')\n",
    "fig.set(title='Time to Adopt by Dog Age')"
   ]
  },
  {
   "cell_type": "markdown",
   "metadata": {},
   "source": [
    "In the above graph, Time to Adopt by Dog Age, we created a histogram, displaying how time to adoption is distributed into different buckets based on the age of the dogs. Buckets of time to adoption are on the x axis, with counts of dogs falling into that bucket on the y axis, split into different color bars by age. "
   ]
  },
  {
   "cell_type": "code",
   "execution_count": 25,
   "metadata": {
    "scrolled": true
   },
   "outputs": [
    {
     "data": {
      "text/plain": [
       "array(['Yellow / Tan / Blond / Fawn', nan, 'Merle (Blue)',\n",
       "       'White / Cream', 'Brindle', 'Black', 'Bicolor',\n",
       "       'Tricolor (Brown, Black, & White)', 'Apricot / Beige',\n",
       "       'Gray / Blue / Silver', 'Red / Chestnut / Orange', 'Golden',\n",
       "       'Brown / Chocolate', 'Merle (Red)', 'Harlequin', 'Sable'],\n",
       "      dtype=object)"
      ]
     },
     "execution_count": 25,
     "metadata": {},
     "output_type": "execute_result"
    }
   ],
   "source": [
    "# Used to observed the unique colors of dogs \n",
    "dogs_df.primary_color.unique()"
   ]
  },
  {
   "cell_type": "code",
   "execution_count": 27,
   "metadata": {},
   "outputs": [
    {
     "name": "stderr",
     "output_type": "stream",
     "text": [
      "/Users/madisonweiss/miniconda3/lib/python3.11/site-packages/seaborn/_oldcore.py:1498: FutureWarning: is_categorical_dtype is deprecated and will be removed in a future version. Use isinstance(dtype, CategoricalDtype) instead\n",
      "  if pd.api.types.is_categorical_dtype(vector):\n",
      "/Users/madisonweiss/miniconda3/lib/python3.11/site-packages/seaborn/_oldcore.py:1498: FutureWarning: is_categorical_dtype is deprecated and will be removed in a future version. Use isinstance(dtype, CategoricalDtype) instead\n",
      "  if pd.api.types.is_categorical_dtype(vector):\n",
      "/Users/madisonweiss/miniconda3/lib/python3.11/site-packages/seaborn/_oldcore.py:1498: FutureWarning: is_categorical_dtype is deprecated and will be removed in a future version. Use isinstance(dtype, CategoricalDtype) instead\n",
      "  if pd.api.types.is_categorical_dtype(vector):\n"
     ]
    },
    {
     "data": {
      "text/plain": [
       "[Text(0.5, 1.0, 'Time to Adoption by Dog Color')]"
      ]
     },
     "execution_count": 27,
     "metadata": {},
     "output_type": "execute_result"
    },
    {
     "data": {
      "image/png": "[encoded data removed]",
      "text/plain": [
       "<Figure size 640x480 with 1 Axes>"
      ]
     },
     "metadata": {},
     "output_type": "display_data"
    }
   ],
   "source": [
    "# Visualizes primary_color versus the time taken to adopt \n",
    "fig = sns.boxplot(dogs_df, x='delta_time_minutes', y='primary_color')\n",
    "fig.set(title='Time to Adoption by Dog Color')"
   ]
  },
  {
   "cell_type": "markdown",
   "metadata": {},
   "source": [
    "This graph shows the distribution of time to adoption in minutes based on a dog’s coat color. To show this, we used several box and whisker plots. All of the distributions have similar spreads, although each has varying medians."
   ]
  },
  {
   "cell_type": "code",
   "execution_count": 28,
   "metadata": {},
   "outputs": [
    {
     "data": {
      "text/plain": [
       "Text(0.5, 1.0, 'Compatible with dogs')"
      ]
     },
     "execution_count": 28,
     "metadata": {},
     "output_type": "execute_result"
    },
    {
     "data": {
      "image/png": "[encoded data removed]",
      "text/plain": [
       "<Figure size 640x480 with 3 Axes>"
      ]
     },
     "metadata": {},
     "output_type": "display_data"
    }
   ],
   "source": [
    "# Creates Dataframes in which the following 3 specified columns\n",
    "# only contain values which are true \n",
    "dogs_w_kids = dogs_df[dogs_df['compatible_children'] == True]\n",
    "dogs_w_cats = dogs_df[dogs_df['compatible_cats'] == True]\n",
    "dogs_w_dogs = dogs_df[dogs_df['compatible_dogs'] == True]\n",
    "\n",
    "# For formatting purposes\n",
    "fig = plt.figure()\n",
    "gs = fig.add_gridspec(nrows=3, ncols=1, hspace=1)\n",
    "axs = gs.subplots(sharex=True, sharey=True)\n",
    "\n",
    "# Labels the plot \n",
    "fig.suptitle('Distribution of Time to Adoption Given Pet Compatibility')\n",
    "fig.supxlabel('Time in Minutes')\n",
    "fig.supylabel('Frequency')\n",
    "\n",
    "# Initializes the first subplot to compare compatibility \n",
    "# with children to time to adoption\n",
    "axs[0].hist(dogs_w_kids['delta_time_minutes'])\n",
    "axs[0].set_title('Compatible with kids')\n",
    "\n",
    "# Initializes the second subplot to compare compatibility \n",
    "# with cats to time to adoption\n",
    "axs[1].hist(dogs_w_cats['delta_time_minutes'])\n",
    "axs[1].set_title('Compatible with cats')\n",
    "\n",
    "# Initializes the third subplot to compare compatibility \n",
    "# with dogs to time to adoption\n",
    "axs[2].hist(dogs_w_dogs['delta_time_minutes'])\n",
    "axs[2].set_title('Compatible with dogs')"
   ]
  },
  {
   "cell_type": "markdown",
   "metadata": {},
   "source": [
    "This visualization plots the distribution of time to adoption given pet compatibility including compatibility with children, compatibility with other dogs, and compatibility with cats. We plotted each within a subplot. Buckets of time to adoption are on the x axis, with counts of dogs falling into that bucket on the y axis. "
   ]
  },
  {
   "cell_type": "code",
   "execution_count": 29,
   "metadata": {
    "scrolled": true
   },
   "outputs": [
    {
     "data": {
      "text/html": [
       "<div>\n",
       "<style scoped>\n",
       "    .dataframe tbody tr th:only-of-type {\n",
       "        vertical-align: middle;\n",
       "    }\n",
       "\n",
       "    .dataframe tbody tr th {\n",
       "        vertical-align: top;\n",
       "    }\n",
       "\n",
       "    .dataframe thead th {\n",
       "        text-align: right;\n",
       "    }\n",
       "</style>\n",
       "<table border=\"1\" class=\"dataframe\">\n",
       "  <thead>\n",
       "    <tr style=\"text-align: right;\">\n",
       "      <th></th>\n",
       "      <th>index</th>\n",
       "      <th>id</th>\n",
       "      <th>organization_id</th>\n",
       "      <th>url</th>\n",
       "      <th>age</th>\n",
       "      <th>gender</th>\n",
       "      <th>size</th>\n",
       "      <th>coat</th>\n",
       "      <th>tags</th>\n",
       "      <th>name</th>\n",
       "      <th>...</th>\n",
       "      <th>compatible_dogs</th>\n",
       "      <th>compatible_cats</th>\n",
       "      <th>spayed_neutered</th>\n",
       "      <th>house_trained</th>\n",
       "      <th>special_needs</th>\n",
       "      <th>shots_current</th>\n",
       "      <th>primary_color</th>\n",
       "      <th>secondary_color</th>\n",
       "      <th>tertiary_color</th>\n",
       "      <th>delta_time_minutes</th>\n",
       "    </tr>\n",
       "  </thead>\n",
       "  <tbody>\n",
       "    <tr>\n",
       "      <th>0</th>\n",
       "      <td>0</td>\n",
       "      <td>59313263</td>\n",
       "      <td>CA2713</td>\n",
       "      <td>https://www.petfinder.com/dog/billy-59313263/c...</td>\n",
       "      <td>Adult</td>\n",
       "      <td>Male</td>\n",
       "      <td>Small</td>\n",
       "      <td>Short</td>\n",
       "      <td>['Friendly', 'Affectionate', 'Funny', 'Couch p...</td>\n",
       "      <td>BILLY</td>\n",
       "      <td>...</td>\n",
       "      <td>True</td>\n",
       "      <td>True</td>\n",
       "      <td>True</td>\n",
       "      <td>True</td>\n",
       "      <td>False</td>\n",
       "      <td>True</td>\n",
       "      <td>Yellow / Tan / Blond / Fawn</td>\n",
       "      <td>NaN</td>\n",
       "      <td>NaN</td>\n",
       "      <td>1213.833333</td>\n",
       "    </tr>\n",
       "    <tr>\n",
       "      <th>1</th>\n",
       "      <td>2</td>\n",
       "      <td>59313253</td>\n",
       "      <td>FL532</td>\n",
       "      <td>https://www.petfinder.com/dog/jake-59313253/fl...</td>\n",
       "      <td>Young</td>\n",
       "      <td>Male</td>\n",
       "      <td>Medium</td>\n",
       "      <td>Medium</td>\n",
       "      <td>['Brave', 'Athletic', 'Funny', 'Smart', 'Loyal']</td>\n",
       "      <td>Jake</td>\n",
       "      <td>...</td>\n",
       "      <td>True</td>\n",
       "      <td>True</td>\n",
       "      <td>True</td>\n",
       "      <td>True</td>\n",
       "      <td>False</td>\n",
       "      <td>True</td>\n",
       "      <td>Merle (Blue)</td>\n",
       "      <td>NaN</td>\n",
       "      <td>NaN</td>\n",
       "      <td>733.033333</td>\n",
       "    </tr>\n",
       "    <tr>\n",
       "      <th>2</th>\n",
       "      <td>8</td>\n",
       "      <td>59313185</td>\n",
       "      <td>AL444</td>\n",
       "      <td>https://www.petfinder.com/dog/springs-59313185...</td>\n",
       "      <td>Young</td>\n",
       "      <td>Female</td>\n",
       "      <td>Large</td>\n",
       "      <td>Short</td>\n",
       "      <td>['Friendly', 'Affectionate', 'Quiet']</td>\n",
       "      <td>Springs</td>\n",
       "      <td>...</td>\n",
       "      <td>True</td>\n",
       "      <td>True</td>\n",
       "      <td>True</td>\n",
       "      <td>True</td>\n",
       "      <td>False</td>\n",
       "      <td>True</td>\n",
       "      <td>Bicolor</td>\n",
       "      <td>NaN</td>\n",
       "      <td>NaN</td>\n",
       "      <td>1269.450000</td>\n",
       "    </tr>\n",
       "    <tr>\n",
       "      <th>3</th>\n",
       "      <td>10</td>\n",
       "      <td>59263354</td>\n",
       "      <td>TX2594</td>\n",
       "      <td>https://www.petfinder.com/dog/ariel-59263354/t...</td>\n",
       "      <td>Baby</td>\n",
       "      <td>Female</td>\n",
       "      <td>Medium</td>\n",
       "      <td>Short</td>\n",
       "      <td>['Friendly', 'Affectionate', 'Gentle', 'Playfu...</td>\n",
       "      <td>Ariel</td>\n",
       "      <td>...</td>\n",
       "      <td>True</td>\n",
       "      <td>True</td>\n",
       "      <td>False</td>\n",
       "      <td>False</td>\n",
       "      <td>False</td>\n",
       "      <td>True</td>\n",
       "      <td>Black</td>\n",
       "      <td>NaN</td>\n",
       "      <td>NaN</td>\n",
       "      <td>1127.616667</td>\n",
       "    </tr>\n",
       "    <tr>\n",
       "      <th>4</th>\n",
       "      <td>11</td>\n",
       "      <td>59313109</td>\n",
       "      <td>SC178</td>\n",
       "      <td>https://www.petfinder.com/dog/rocky-59313109/s...</td>\n",
       "      <td>Young</td>\n",
       "      <td>Male</td>\n",
       "      <td>Medium</td>\n",
       "      <td>Short</td>\n",
       "      <td>['Friendly', 'Gentle', 'Loyal', 'Playful', 'Af...</td>\n",
       "      <td>Rocky</td>\n",
       "      <td>...</td>\n",
       "      <td>True</td>\n",
       "      <td>True</td>\n",
       "      <td>False</td>\n",
       "      <td>True</td>\n",
       "      <td>False</td>\n",
       "      <td>False</td>\n",
       "      <td>Tricolor (Brown, Black, &amp; White)</td>\n",
       "      <td>NaN</td>\n",
       "      <td>NaN</td>\n",
       "      <td>119.766667</td>\n",
       "    </tr>\n",
       "  </tbody>\n",
       "</table>\n",
       "<p>5 rows × 30 columns</p>\n",
       "</div>"
      ],
      "text/plain": [
       "   index        id organization_id  \\\n",
       "0      0  59313263          CA2713   \n",
       "1      2  59313253           FL532   \n",
       "2      8  59313185           AL444   \n",
       "3     10  59263354          TX2594   \n",
       "4     11  59313109           SC178   \n",
       "\n",
       "                                                 url    age  gender    size  \\\n",
       "0  https://www.petfinder.com/dog/billy-59313263/c...  Adult    Male   Small   \n",
       "1  https://www.petfinder.com/dog/jake-59313253/fl...  Young    Male  Medium   \n",
       "2  https://www.petfinder.com/dog/springs-59313185...  Young  Female   Large   \n",
       "3  https://www.petfinder.com/dog/ariel-59263354/t...   Baby  Female  Medium   \n",
       "4  https://www.petfinder.com/dog/rocky-59313109/s...  Young    Male  Medium   \n",
       "\n",
       "     coat                                               tags      name  ...  \\\n",
       "0   Short  ['Friendly', 'Affectionate', 'Funny', 'Couch p...     BILLY  ...   \n",
       "1  Medium   ['Brave', 'Athletic', 'Funny', 'Smart', 'Loyal']      Jake  ...   \n",
       "2   Short              ['Friendly', 'Affectionate', 'Quiet']  Springs   ...   \n",
       "3   Short  ['Friendly', 'Affectionate', 'Gentle', 'Playfu...     Ariel  ...   \n",
       "4   Short  ['Friendly', 'Gentle', 'Loyal', 'Playful', 'Af...     Rocky  ...   \n",
       "\n",
       "  compatible_dogs compatible_cats spayed_neutered house_trained special_needs  \\\n",
       "0            True            True            True          True         False   \n",
       "1            True            True            True          True         False   \n",
       "2            True            True            True          True         False   \n",
       "3            True            True           False         False         False   \n",
       "4            True            True           False          True         False   \n",
       "\n",
       "  shots_current                     primary_color  secondary_color  \\\n",
       "0          True       Yellow / Tan / Blond / Fawn              NaN   \n",
       "1          True                      Merle (Blue)              NaN   \n",
       "2          True                           Bicolor              NaN   \n",
       "3          True                             Black              NaN   \n",
       "4         False  Tricolor (Brown, Black, & White)              NaN   \n",
       "\n",
       "   tertiary_color delta_time_minutes  \n",
       "0             NaN        1213.833333  \n",
       "1             NaN         733.033333  \n",
       "2             NaN        1269.450000  \n",
       "3             NaN        1127.616667  \n",
       "4             NaN         119.766667  \n",
       "\n",
       "[5 rows x 30 columns]"
      ]
     },
     "execution_count": 29,
     "metadata": {},
     "output_type": "execute_result"
    }
   ],
   "source": [
    "# Drops null values for compatibility columns\n",
    "dogs_df.dropna(subset=['compatible_dogs', 'compatible_cats', 'compatible_children'], inplace=True)\n",
    "dogs_df.reset_index(inplace=True)\n",
    "dogs_df.head()"
   ]
  }
 ],
 "metadata": {
  "kernelspec": {
   "display_name": "Python 3 (ipykernel)",
   "language": "python",
   "name": "python3"
  },
  "language_info": {
   "codemirror_mode": {
    "name": "ipython",
    "version": 3
   },
   "file_extension": ".py",
   "mimetype": "text/x-python",
   "name": "python",
   "nbconvert_exporter": "python",
   "pygments_lexer": "ipython3",
   "version": "3.11.4"
  }
 },
 "nbformat": 4,
 "nbformat_minor": 4
}
