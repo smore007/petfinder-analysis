{
 "cells": [
  {
   "cell_type": "code",
   "execution_count": 6,
   "id": "b1fb5cdb",
   "metadata": {},
   "outputs": [],
   "source": [
    "import numpy as np \n",
    "import pandas as pd \n",
    "import matplotlib.pyplot as plt\n",
    "import seaborn as sns \n",
    "from sklearn.ensemble import RandomForestRegressor\n",
    "from sklearn.model_selection import train_test_split \n",
    "from sklearn.metrics import r2_score, mean_squared_error\n",
    "from sklearn.linear_model import LinearRegression\n",
    "import plotly.express as px\n",
    "import pprint\n",
    "import operator\n",
    "import scipy.stats as stats\n",
    "import pylab as py"
   ]
  },
  {
   "cell_type": "markdown",
   "id": "d0d333db",
   "metadata": {},
   "source": [
    "## Reading in and Cleaning Data"
   ]
  },
  {
   "cell_type": "code",
   "execution_count": 7,
   "id": "614fd05a",
   "metadata": {},
   "outputs": [
    {
     "data": {
      "text/html": [
       "<div>\n",
       "<style scoped>\n",
       "    .dataframe tbody tr th:only-of-type {\n",
       "        vertical-align: middle;\n",
       "    }\n",
       "\n",
       "    .dataframe tbody tr th {\n",
       "        vertical-align: top;\n",
       "    }\n",
       "\n",
       "    .dataframe thead th {\n",
       "        text-align: right;\n",
       "    }\n",
       "</style>\n",
       "<table border=\"1\" class=\"dataframe\">\n",
       "  <thead>\n",
       "    <tr style=\"text-align: right;\">\n",
       "      <th></th>\n",
       "      <th>id</th>\n",
       "      <th>delta_time_minutes</th>\n",
       "      <th>age</th>\n",
       "      <th>gender</th>\n",
       "      <th>size</th>\n",
       "      <th>coat</th>\n",
       "      <th>primary_breed</th>\n",
       "      <th>primary_color</th>\n",
       "      <th>compatible_children</th>\n",
       "      <th>compatible_dogs</th>\n",
       "      <th>compatible_cats</th>\n",
       "    </tr>\n",
       "  </thead>\n",
       "  <tbody>\n",
       "    <tr>\n",
       "      <th>0</th>\n",
       "      <td>59313263</td>\n",
       "      <td>1213.833333</td>\n",
       "      <td>Adult</td>\n",
       "      <td>Male</td>\n",
       "      <td>Small</td>\n",
       "      <td>Short</td>\n",
       "      <td>Chihuahua</td>\n",
       "      <td>Yellow / Tan / Blond / Fawn</td>\n",
       "      <td>True</td>\n",
       "      <td>True</td>\n",
       "      <td>True</td>\n",
       "    </tr>\n",
       "    <tr>\n",
       "      <th>2</th>\n",
       "      <td>59313253</td>\n",
       "      <td>733.033333</td>\n",
       "      <td>Young</td>\n",
       "      <td>Male</td>\n",
       "      <td>Medium</td>\n",
       "      <td>Medium</td>\n",
       "      <td>Shetland Sheepdog / Sheltie</td>\n",
       "      <td>Merle (Blue)</td>\n",
       "      <td>False</td>\n",
       "      <td>True</td>\n",
       "      <td>True</td>\n",
       "    </tr>\n",
       "    <tr>\n",
       "      <th>8</th>\n",
       "      <td>59313185</td>\n",
       "      <td>1269.450000</td>\n",
       "      <td>Young</td>\n",
       "      <td>Female</td>\n",
       "      <td>Large</td>\n",
       "      <td>Short</td>\n",
       "      <td>Anatolian Shepherd</td>\n",
       "      <td>Bicolor</td>\n",
       "      <td>True</td>\n",
       "      <td>True</td>\n",
       "      <td>True</td>\n",
       "    </tr>\n",
       "    <tr>\n",
       "      <th>10</th>\n",
       "      <td>59263354</td>\n",
       "      <td>1127.616667</td>\n",
       "      <td>Baby</td>\n",
       "      <td>Female</td>\n",
       "      <td>Medium</td>\n",
       "      <td>Short</td>\n",
       "      <td>Coonhound</td>\n",
       "      <td>Black</td>\n",
       "      <td>True</td>\n",
       "      <td>True</td>\n",
       "      <td>True</td>\n",
       "    </tr>\n",
       "    <tr>\n",
       "      <th>11</th>\n",
       "      <td>59313109</td>\n",
       "      <td>119.766667</td>\n",
       "      <td>Young</td>\n",
       "      <td>Male</td>\n",
       "      <td>Medium</td>\n",
       "      <td>Short</td>\n",
       "      <td>Beagle</td>\n",
       "      <td>Tricolor (Brown, Black, &amp; White)</td>\n",
       "      <td>True</td>\n",
       "      <td>True</td>\n",
       "      <td>True</td>\n",
       "    </tr>\n",
       "    <tr>\n",
       "      <th>...</th>\n",
       "      <td>...</td>\n",
       "      <td>...</td>\n",
       "      <td>...</td>\n",
       "      <td>...</td>\n",
       "      <td>...</td>\n",
       "      <td>...</td>\n",
       "      <td>...</td>\n",
       "      <td>...</td>\n",
       "      <td>...</td>\n",
       "      <td>...</td>\n",
       "      <td>...</td>\n",
       "    </tr>\n",
       "    <tr>\n",
       "      <th>4927</th>\n",
       "      <td>59262866</td>\n",
       "      <td>23.766667</td>\n",
       "      <td>Young</td>\n",
       "      <td>Female</td>\n",
       "      <td>Medium</td>\n",
       "      <td>Short</td>\n",
       "      <td>Pit Bull Terrier</td>\n",
       "      <td>Black</td>\n",
       "      <td>True</td>\n",
       "      <td>True</td>\n",
       "      <td>True</td>\n",
       "    </tr>\n",
       "    <tr>\n",
       "      <th>4931</th>\n",
       "      <td>59262859</td>\n",
       "      <td>872.433333</td>\n",
       "      <td>Young</td>\n",
       "      <td>Male</td>\n",
       "      <td>Medium</td>\n",
       "      <td>Long</td>\n",
       "      <td>Goldendoodle</td>\n",
       "      <td>Golden</td>\n",
       "      <td>True</td>\n",
       "      <td>True</td>\n",
       "      <td>True</td>\n",
       "    </tr>\n",
       "    <tr>\n",
       "      <th>4934</th>\n",
       "      <td>59262849</td>\n",
       "      <td>1288.566667</td>\n",
       "      <td>Baby</td>\n",
       "      <td>Female</td>\n",
       "      <td>Medium</td>\n",
       "      <td>Medium</td>\n",
       "      <td>German Shepherd Dog</td>\n",
       "      <td>Black</td>\n",
       "      <td>True</td>\n",
       "      <td>True</td>\n",
       "      <td>False</td>\n",
       "    </tr>\n",
       "    <tr>\n",
       "      <th>4935</th>\n",
       "      <td>59262848</td>\n",
       "      <td>1272.966667</td>\n",
       "      <td>Senior</td>\n",
       "      <td>Male</td>\n",
       "      <td>Large</td>\n",
       "      <td>Short</td>\n",
       "      <td>Black Labrador Retriever</td>\n",
       "      <td>Black</td>\n",
       "      <td>True</td>\n",
       "      <td>True</td>\n",
       "      <td>True</td>\n",
       "    </tr>\n",
       "    <tr>\n",
       "      <th>4936</th>\n",
       "      <td>59262845</td>\n",
       "      <td>51.733333</td>\n",
       "      <td>Young</td>\n",
       "      <td>Male</td>\n",
       "      <td>Medium</td>\n",
       "      <td>Short</td>\n",
       "      <td>Hound</td>\n",
       "      <td>Golden</td>\n",
       "      <td>True</td>\n",
       "      <td>True</td>\n",
       "      <td>True</td>\n",
       "    </tr>\n",
       "  </tbody>\n",
       "</table>\n",
       "<p>1059 rows × 11 columns</p>\n",
       "</div>"
      ],
      "text/plain": [
       "            id  delta_time_minutes     age  gender    size    coat  \\\n",
       "0     59313263         1213.833333   Adult    Male   Small   Short   \n",
       "2     59313253          733.033333   Young    Male  Medium  Medium   \n",
       "8     59313185         1269.450000   Young  Female   Large   Short   \n",
       "10    59263354         1127.616667    Baby  Female  Medium   Short   \n",
       "11    59313109          119.766667   Young    Male  Medium   Short   \n",
       "...        ...                 ...     ...     ...     ...     ...   \n",
       "4927  59262866           23.766667   Young  Female  Medium   Short   \n",
       "4931  59262859          872.433333   Young    Male  Medium    Long   \n",
       "4934  59262849         1288.566667    Baby  Female  Medium  Medium   \n",
       "4935  59262848         1272.966667  Senior    Male   Large   Short   \n",
       "4936  59262845           51.733333   Young    Male  Medium   Short   \n",
       "\n",
       "                    primary_breed                     primary_color  \\\n",
       "0                       Chihuahua       Yellow / Tan / Blond / Fawn   \n",
       "2     Shetland Sheepdog / Sheltie                      Merle (Blue)   \n",
       "8              Anatolian Shepherd                           Bicolor   \n",
       "10                      Coonhound                             Black   \n",
       "11                         Beagle  Tricolor (Brown, Black, & White)   \n",
       "...                           ...                               ...   \n",
       "4927             Pit Bull Terrier                             Black   \n",
       "4931                 Goldendoodle                            Golden   \n",
       "4934          German Shepherd Dog                             Black   \n",
       "4935     Black Labrador Retriever                             Black   \n",
       "4936                        Hound                            Golden   \n",
       "\n",
       "     compatible_children compatible_dogs compatible_cats  \n",
       "0                   True            True            True  \n",
       "2                  False            True            True  \n",
       "8                   True            True            True  \n",
       "10                  True            True            True  \n",
       "11                  True            True            True  \n",
       "...                  ...             ...             ...  \n",
       "4927                True            True            True  \n",
       "4931                True            True            True  \n",
       "4934                True            True           False  \n",
       "4935                True            True            True  \n",
       "4936                True            True            True  \n",
       "\n",
       "[1059 rows x 11 columns]"
      ]
     },
     "execution_count": 7,
     "metadata": {},
     "output_type": "execute_result"
    }
   ],
   "source": [
    "# read in data and subset for desired features \n",
    "dogs_df = pd.read_csv('dogs.csv')\n",
    "dogs_df = dogs_df[['id', 'delta_time_minutes', 'age', 'gender', 'size', 'coat', 'primary_breed', 'primary_color', 'compatible_children', 'compatible_dogs', 'compatible_cats']]\n",
    "\n",
    "# drop null values and reset index\n",
    "dogs_df.dropna(inplace=True)\n",
    "dogs_df.reset_index()\n",
    "dogs_df"
   ]
  },
  {
   "cell_type": "code",
   "execution_count": 8,
   "id": "e69c01df",
   "metadata": {},
   "outputs": [],
   "source": [
    "# make dummy columns \n",
    "dogs_df_dummies = pd.get_dummies(data=dogs_df, \n",
    "                                 columns=['age', 'gender', 'size', 'coat', 'primary_breed','primary_color'])"
   ]
  },
  {
   "cell_type": "markdown",
   "id": "563a0bd4",
   "metadata": {},
   "source": [
    "## Build Random Forest Regressor Functions"
   ]
  },
  {
   "cell_type": "code",
   "execution_count": 4,
   "id": "48d0a779",
   "metadata": {},
   "outputs": [],
   "source": [
    "def random_forest_regress_default(x_feat_list, y_col, df): \n",
    "    \"\"\"Takes in dataframe and list of x features used to build random forest regressor predicting y column \n",
    "        values. Random Forest Regressor is initialized to have default arguments only.\n",
    "    \n",
    "        Args: \n",
    "            x_feat_list(list): List of column names in dataframe to be used as x features in model \n",
    "            y_col (string): String of column name in dataframe to be used as y values in model\n",
    "            df (dataframe): A pandas dataframe containing the data to build the model\n",
    "            \n",
    "        Returns: \n",
    "            feat_importances (list): A list of the feature importance of each feature used in the model \n",
    "            converted_dict (dictionary): A dictionary with the feature as the key and the feature importance of \n",
    "                                         that feature as the value, in alphabetical order by key\n",
    "            r2 (float): The R2 score of the model \n",
    "            mse (float): The MSE of the model  \n",
    "            residuals (array): A numpy array with the residuals of the model (errors)\n",
    "    \"\"\"\n",
    "\n",
    "    # split into x and y data\n",
    "    X = df.loc[:, x_feat_list].values\n",
    "    y = df.loc[:, y_col].values\n",
    "\n",
    "    # split into training and test data \n",
    "    X_train, X_test, y_train, y_test = train_test_split(X, y, test_size = 0.3, random_state=42)\n",
    "\n",
    "    # initialize random forest regressor \n",
    "    regressor = RandomForestRegressor()\n",
    "\n",
    "    # fit random forest regressor\n",
    "    regressor.fit(X_train, y_train)\n",
    "\n",
    "    # predict using regressor \n",
    "    y_pred = regressor.predict(X_test)\n",
    "    \n",
    "    # calculate accuracy scores \n",
    "    r2 = r2_score(y_test, y_pred)\n",
    "    mse = mean_squared_error(y_test, y_pred)\n",
    "    \n",
    "    # build dictionary of model features and their importances \n",
    "    feat_importances = regressor.feature_importances_\n",
    "    feat_import_dict = {}\n",
    "    for index, item in enumerate(feat_importances):\n",
    "        feat = x_feat_list[index]\n",
    "        feat_import_dict[feat] = item \n",
    "    \n",
    "    # sort dictionary in alphabetical order by key \n",
    "    sorted_feat_import_dict = sorted(feat_import_dict.items(), key=lambda x:x[1], reverse=True)\n",
    "    converted_dict = dict(sorted_feat_import_dict)\n",
    "    \n",
    "    # calculate residuals \n",
    "    residuals = y_test - y_pred\n",
    "    \n",
    "    return feat_importances, converted_dict, r2, mse, residuals"
   ]
  },
  {
   "cell_type": "code",
   "execution_count": 5,
   "id": "8294273e",
   "metadata": {
    "scrolled": true
   },
   "outputs": [],
   "source": [
    "def random_forest_regress(x_feat_list, y_col, df): \n",
    "    \"\"\"Takes in dataframe and list of x features used to build random forest regressor predicting y column \n",
    "        values. Random Forest Regressor is initialized with some arguments changed from defaults.\n",
    "    \n",
    "        Args: \n",
    "            x_feat_list(list): List of column names in dataframe to be used as x features in model \n",
    "            y_col (string): String of column name in dataframe to be used as y values in model\n",
    "            df (dataframe): A pandas dataframe containing the data to build the model\n",
    "            \n",
    "        Returns: \n",
    "            feat_importances (list): A list of the feature importance of each feature used in the model \n",
    "            converted_dict (dictionary): A dictionary with the feature as the key and the feature importance of \n",
    "                                         that feature as the value, in alphabetical order of the key\n",
    "            r2 (float): The R2 score of the model \n",
    "            mse (float): The MSE of the model  \n",
    "            residuals (array): A numpy array with the residuals of the model (errors)\n",
    "    \"\"\"\n",
    "\n",
    "\n",
    "    # split into x and y data\n",
    "    X = df.loc[:, x_feat_list].values\n",
    "    y = df.loc[:, y_col].values\n",
    "\n",
    "    # split into training and test data \n",
    "    X_train, X_test, y_train, y_test = train_test_split(X, y, test_size = 0.3, random_state=42)\n",
    "\n",
    "    # initialize random forest regressor \n",
    "    regressor = RandomForestRegressor(n_estimators=100, \n",
    "                                     bootstrap=True, oob_score=True, random_state=42)\n",
    "\n",
    "    # fit random forest regressor\n",
    "    regressor.fit(X_train, y_train)\n",
    "\n",
    "    # predict using regressor \n",
    "    y_pred = regressor.predict(X_test)\n",
    "    \n",
    "    # calculate accuracy scores \n",
    "    r2 = r2_score(y_test, y_pred)\n",
    "    mse = mean_squared_error(y_test, y_pred)\n",
    "    \n",
    "    # build dictionary of model features and their importances \n",
    "    feat_importances = regressor.feature_importances_\n",
    "    feat_import_dict = {}\n",
    "    for index, item in enumerate(feat_importances):\n",
    "        feat = x_feat_list[index]\n",
    "        feat_import_dict[feat] = item \n",
    "    \n",
    "    # sort dictionary in alphabetical order by key\n",
    "    sorted_dict = dict(sorted(feat_import_dict.items(), key=lambda item: item[1], reverse=True))\n",
    "\n",
    "    \n",
    "    # calculate residuals\n",
    "    residuals = y_test - y_pred\n",
    "    \n",
    "    return feat_importances, sorted_dict, r2, mse, residuals"
   ]
  },
  {
   "cell_type": "markdown",
   "id": "e8eb623e",
   "metadata": {},
   "source": [
    "## Conduct Tests on Random Forest Regressor Model "
   ]
  },
  {
   "cell_type": "markdown",
   "id": "fb70c53e",
   "metadata": {},
   "source": [
    "### TEST 1.a: All X Features\n",
    "Using original regressor function (random_forest_regress), which passes non-default arguments to random forest regressor model upon initialization. All X features are used in this test (all columns in dataframe, except delta_time_minutes and id)."
   ]
  },
  {
   "cell_type": "code",
   "execution_count": 6,
   "id": "415f48f7",
   "metadata": {},
   "outputs": [],
   "source": [
    "# define x_feat_list as all the possible features in the model (columns in dataframe) \n",
    "x_feat_list = ['compatible_children', 'compatible_dogs', 'compatible_cats', \n",
    "               'age_Adult', 'age_Baby', 'age_Senior', 'age_Young', 'gender_Female', 'gender_Male', \n",
    "               'size_Extra Large', 'size_Large', 'size_Medium', 'size_Small', 'coat_Curly', 'coat_Hairless', \n",
    "               'coat_Long', 'coat_Medium', 'coat_Short', 'coat_Wire', 'primary_breed_Affenpinscher', \n",
    "               'primary_breed_Alaskan Malamute', 'primary_breed_American Bulldog', \n",
    "               'primary_breed_American Bully', 'primary_breed_American Eskimo Dog', \n",
    "               'primary_breed_American Staffordshire Terrier', 'primary_breed_Anatolian Shepherd', \n",
    "               'primary_breed_Aussiedoodle', 'primary_breed_Australian Cattle Dog / Blue Heeler', \n",
    "               'primary_breed_Australian Kelpie', 'primary_breed_Australian Shepherd', \n",
    "               'primary_breed_Australian Terrier', 'primary_breed_Basset Hound', 'primary_breed_Beagle', \n",
    "               'primary_breed_Belgian Shepherd / Malinois', 'primary_breed_Bernese Mountain Dog', \n",
    "               'primary_breed_Bichon Frise', 'primary_breed_Black Labrador Retriever', \n",
    "               'primary_breed_Black Mouth Cur', 'primary_breed_Bloodhound', 'primary_breed_Blue Lacy', \n",
    "               'primary_breed_Border Collie', 'primary_breed_Border Terrier', 'primary_breed_Boston Terrier', \n",
    "               'primary_breed_Boxer', 'primary_breed_Brussels Griffon', 'primary_breed_Cairn Terrier', \n",
    "               'primary_breed_Carolina Dog', 'primary_breed_Catahoula Leopard Dog', 'primary_breed_Cattle Dog', \n",
    "               'primary_breed_Cavalier King Charles Spaniel', 'primary_breed_Chihuahua', \n",
    "               'primary_breed_Chinese Crested Dog', 'primary_breed_Chiweenie', 'primary_breed_Chocolate Labrador Retriever', \n",
    "               'primary_breed_Chow Chow', 'primary_breed_Cocker Spaniel', 'primary_breed_Collie', 'primary_breed_Coonhound', \n",
    "               'primary_breed_Corgi', 'primary_breed_Dachshund', 'primary_breed_Dalmatian', \n",
    "               'primary_breed_Doberman Pinscher', 'primary_breed_Dogo Argentino', 'primary_breed_Dutch Shepherd', \n",
    "               'primary_breed_English Bulldog', 'primary_breed_English Coonhound', 'primary_breed_English Setter', \n",
    "               'primary_breed_English Shepherd', 'primary_breed_Entlebucher', 'primary_breed_Feist', \n",
    "               'primary_breed_Flat-Coated Retriever', 'primary_breed_Fox Terrier', 'primary_breed_Foxhound', \n",
    "               'primary_breed_French Bulldog', 'primary_breed_German Shepherd Dog', 'primary_breed_German Wirehaired Pointer', \n",
    "               'primary_breed_Golden Retriever', 'primary_breed_Goldendoodle', 'primary_breed_Great Dane', \n",
    "               'primary_breed_Great Pyrenees', 'primary_breed_Greyhound', 'primary_breed_Hound', 'primary_breed_Husky', \n",
    "               'primary_breed_Ibizan Hound', 'primary_breed_Icelandic Sheepdog', 'primary_breed_Irish Terrier', \n",
    "               'primary_breed_Italian Greyhound', 'primary_breed_Jack Russell Terrier', 'primary_breed_Japanese Chin', \n",
    "               'primary_breed_Labradoodle', 'primary_breed_Labrador Retriever', 'primary_breed_Lhasa Apso', \n",
    "               'primary_breed_Maltese', 'primary_breed_Maltipoo', 'primary_breed_Mastiff', 'primary_breed_Miniature Dachshund', \n",
    "               'primary_breed_Miniature Pinscher', 'primary_breed_Miniature Poodle', 'primary_breed_Miniature Schnauzer', \n",
    "               'primary_breed_Mixed Breed', 'primary_breed_Mountain Cur', 'primary_breed_Newfoundland Dog', \n",
    "               'primary_breed_Norfolk Terrier', 'primary_breed_Old English Sheepdog', 'primary_breed_Parson Russell Terrier', \n",
    "               'primary_breed_Patterdale Terrier / Fell Terrier', 'primary_breed_Pekingese', 'primary_breed_Pharaoh Hound', \n",
    "               'primary_breed_Pit Bull Terrier', 'primary_breed_Pointer', 'primary_breed_Pomeranian', 'primary_breed_Poodle', \n",
    "               'primary_breed_Pug', 'primary_breed_Rat Terrier', 'primary_breed_Retriever', 'primary_breed_Rhodesian Ridgeback', \n",
    "               'primary_breed_Rottweiler', 'primary_breed_Saluki', 'primary_breed_Schnauzer', 'primary_breed_Shar-Pei', \n",
    "               'primary_breed_Shepherd', 'primary_breed_Shetland Sheepdog / Sheltie', 'primary_breed_Shiba Inu', \n",
    "               'primary_breed_Shih Tzu', 'primary_breed_Siberian Husky', 'primary_breed_Spaniel', \n",
    "               'primary_breed_Staffordshire Bull Terrier', 'primary_breed_Standard Poodle', 'primary_breed_Terrier', \n",
    "               'primary_breed_Tibetan Terrier', 'primary_breed_Vizsla', 'primary_breed_Weimaraner', 'primary_breed_Whippet', \n",
    "               'primary_breed_White German Shepherd', 'primary_breed_Wirehaired Terrier', 'primary_breed_Xoloitzcuintli / Mexican Hairless', \n",
    "               'primary_breed_Yellow Labrador Retriever', 'primary_breed_Yorkshire Terrier', 'primary_color_Apricot / Beige', \n",
    "               'primary_color_Bicolor', 'primary_color_Black', 'primary_color_Brindle', 'primary_color_Brown / Chocolate', \n",
    "               'primary_color_Golden', 'primary_color_Gray / Blue / Silver', 'primary_color_Harlequin', \n",
    "               'primary_color_Merle (Blue)', 'primary_color_Merle (Red)', 'primary_color_Red / Chestnut / Orange', \n",
    "               'primary_color_Sable', 'primary_color_Tricolor (Brown, Black, & White)', 'primary_color_White / Cream', \n",
    "               'primary_color_Yellow / Tan / Blond / Fawn']"
   ]
  },
  {
   "cell_type": "code",
   "execution_count": 7,
   "id": "be38cd7f",
   "metadata": {},
   "outputs": [],
   "source": [
    "# run random forest regressor using non-default model \n",
    "feature_importances, feat_import_dict, r2, mse, residuals  = random_forest_regress(x_feat_list=x_feat_list, y_col='delta_time_minutes', df=dogs_df_dummies)"
   ]
  },
  {
   "cell_type": "code",
   "execution_count": 8,
   "id": "2a8826a9",
   "metadata": {},
   "outputs": [
    {
     "name": "stdout",
     "output_type": "stream",
     "text": [
      "{'age_Adult': 0.02395360426843699,\n",
      " 'age_Baby': 0.030174291595549567,\n",
      " 'age_Senior': 0.011958386024141452,\n",
      " 'age_Young': 0.021450474868300793,\n",
      " 'coat_Curly': 0.005366294826378979,\n",
      " 'coat_Hairless': 0.0010517067100437527,\n",
      " 'coat_Long': 0.013282187553526927,\n",
      " 'coat_Medium': 0.023010828057869283,\n",
      " 'coat_Short': 0.019846155419057064,\n",
      " 'coat_Wire': 0.006228527423659871,\n",
      " 'compatible_cats': 0.021746292527822644,\n",
      " 'compatible_children': 0.005314925890490117,\n",
      " 'compatible_dogs': 0.006637048851091096,\n",
      " 'gender_Female': 0.025633660779341278,\n",
      " 'gender_Male': 0.02525875060855213,\n",
      " 'primary_breed_Affenpinscher': 0.0011428693904000765,\n",
      " 'primary_breed_Alaskan Malamute': 0.00012415025623410333,\n",
      " 'primary_breed_American Bulldog': 0.0070389677943720665,\n",
      " 'primary_breed_American Bully': 0.003907157455578684,\n",
      " 'primary_breed_American Eskimo Dog': 0.001285733663046808,\n",
      " 'primary_breed_American Staffordshire Terrier': 0.009931632063633806,\n",
      " 'primary_breed_Anatolian Shepherd': 0.002316414315456361,\n",
      " 'primary_breed_Aussiedoodle': 0.0008474803386154314,\n",
      " 'primary_breed_Australian Cattle Dog / Blue Heeler': 0.014299573616108043,\n",
      " 'primary_breed_Australian Kelpie': 0.0015433272299414601,\n",
      " 'primary_breed_Australian Shepherd': 0.016039929858269485,\n",
      " 'primary_breed_Australian Terrier': 0.0028547512445556296,\n",
      " 'primary_breed_Basset Hound': 0.004868687827787591,\n",
      " 'primary_breed_Beagle': 0.011760518783800689,\n",
      " 'primary_breed_Belgian Shepherd / Malinois': 0.0029982633512277944,\n",
      " 'primary_breed_Bernese Mountain Dog': 0.0012982954175013897,\n",
      " 'primary_breed_Bichon Frise': 0.0018428480574332069,\n",
      " 'primary_breed_Black Labrador Retriever': 0.00983326219395277,\n",
      " 'primary_breed_Black Mouth Cur': 0.004570723160713625,\n",
      " 'primary_breed_Bloodhound': 0.0011166597007021294,\n",
      " 'primary_breed_Blue Lacy': 0.0005699951088230234,\n",
      " 'primary_breed_Border Collie': 0.006145857942515241,\n",
      " 'primary_breed_Border Terrier': 0.0,\n",
      " 'primary_breed_Boston Terrier': 0.005489333729350697,\n",
      " 'primary_breed_Boxer': 0.009309274545272672,\n",
      " 'primary_breed_Brussels Griffon': 0.0,\n",
      " 'primary_breed_Cairn Terrier': 0.0034633362319393007,\n",
      " 'primary_breed_Carolina Dog': 0.0,\n",
      " 'primary_breed_Catahoula Leopard Dog': 0.00840249534688439,\n",
      " 'primary_breed_Cattle Dog': 0.004635276818128302,\n",
      " 'primary_breed_Cavalier King Charles Spaniel': 0.0009576692584582922,\n",
      " 'primary_breed_Chihuahua': 0.018517467124394033,\n",
      " 'primary_breed_Chinese Crested Dog': 0.00037820364077442394,\n",
      " 'primary_breed_Chiweenie': 0.001947423323116011,\n",
      " 'primary_breed_Chocolate Labrador Retriever': 0.0003788254806455929,\n",
      " 'primary_breed_Chow Chow': 0.0015933567662885575,\n",
      " 'primary_breed_Cocker Spaniel': 0.002590826431037997,\n",
      " 'primary_breed_Collie': 0.0021789645884115524,\n",
      " 'primary_breed_Coonhound': 0.0,\n",
      " 'primary_breed_Corgi': 0.012587983996223535,\n",
      " 'primary_breed_Dachshund': 0.009442579903169357,\n",
      " 'primary_breed_Dalmatian': 0.0007556058979169431,\n",
      " 'primary_breed_Doberman Pinscher': 0.005833123060771902,\n",
      " 'primary_breed_Dogo Argentino': 0.0,\n",
      " 'primary_breed_Dutch Shepherd': 0.010372255201290988,\n",
      " 'primary_breed_English Bulldog': 0.0026207140210917105,\n",
      " 'primary_breed_English Coonhound': 0.000732061371158277,\n",
      " 'primary_breed_English Setter': 0.0018380335482823362,\n",
      " 'primary_breed_English Shepherd': 0.0008902866435091349,\n",
      " 'primary_breed_Entlebucher': 0.001676815986690326,\n",
      " 'primary_breed_Feist': 0.0007499867426450259,\n",
      " 'primary_breed_Flat-Coated Retriever': 0.004519525390699778,\n",
      " 'primary_breed_Fox Terrier': 0.0,\n",
      " 'primary_breed_Foxhound': 0.0006714681629233339,\n",
      " 'primary_breed_French Bulldog': 0.0019636567872855968,\n",
      " 'primary_breed_German Shepherd Dog': 0.013579351935311129,\n",
      " 'primary_breed_German Wirehaired Pointer': 0.0020426731232235846,\n",
      " 'primary_breed_Golden Retriever': 0.00602956363044253,\n",
      " 'primary_breed_Goldendoodle': 0.0014925964439261644,\n",
      " 'primary_breed_Great Dane': 0.00019933839149649326,\n",
      " 'primary_breed_Great Pyrenees': 0.005495708013566026,\n",
      " 'primary_breed_Greyhound': 0.00046321347787506366,\n",
      " 'primary_breed_Hound': 0.013308084829317836,\n",
      " 'primary_breed_Husky': 0.00670796780442984,\n",
      " 'primary_breed_Ibizan Hound': 0.0010155218501756685,\n",
      " 'primary_breed_Icelandic Sheepdog': 0.006403030753790945,\n",
      " 'primary_breed_Irish Terrier': 0.0009899176106879324,\n",
      " 'primary_breed_Italian Greyhound': 0.0030992573973934443,\n",
      " 'primary_breed_Jack Russell Terrier': 0.006106672185367606,\n",
      " 'primary_breed_Japanese Chin': 0.0002818938054082514,\n",
      " 'primary_breed_Labradoodle': 0.0,\n",
      " 'primary_breed_Labrador Retriever': 0.02314575259931015,\n",
      " 'primary_breed_Lhasa Apso': 0.00015406750733768575,\n",
      " 'primary_breed_Maltese': 0.003290441864074791,\n",
      " 'primary_breed_Maltipoo': 0.001260748448072653,\n",
      " 'primary_breed_Mastiff': 0.00014178376577340279,\n",
      " 'primary_breed_Miniature Dachshund': 0.0005045372969353431,\n",
      " 'primary_breed_Miniature Pinscher': 0.0002774247680126184,\n",
      " 'primary_breed_Miniature Poodle': 0.004808223735614031,\n",
      " 'primary_breed_Miniature Schnauzer': 0.0032992778667870182,\n",
      " 'primary_breed_Mixed Breed': 0.018344261437611937,\n",
      " 'primary_breed_Mountain Cur': 0.0008218200814901925,\n",
      " 'primary_breed_Newfoundland Dog': 0.0018801514014422749,\n",
      " 'primary_breed_Norfolk Terrier': 0.0007614746905308127,\n",
      " 'primary_breed_Old English Sheepdog': 0.00014566575044550149,\n",
      " 'primary_breed_Parson Russell Terrier': 0.0,\n",
      " 'primary_breed_Patterdale Terrier / Fell Terrier': 0.001520003314115519,\n",
      " 'primary_breed_Pekingese': 0.0010030724212930948,\n",
      " 'primary_breed_Pharaoh Hound': 0.00023052376488343594,\n",
      " 'primary_breed_Pit Bull Terrier': 0.0161367832526058,\n",
      " 'primary_breed_Pointer': 0.0013718919328349205,\n",
      " 'primary_breed_Pomeranian': 0.0012760697704839053,\n",
      " 'primary_breed_Poodle': 0.005728298733753284,\n",
      " 'primary_breed_Pug': 0.003712445247259375,\n",
      " 'primary_breed_Rat Terrier': 0.006585565993784557,\n",
      " 'primary_breed_Retriever': 0.0052378236332734284,\n",
      " 'primary_breed_Rhodesian Ridgeback': 0.001480097254661143,\n",
      " 'primary_breed_Rottweiler': 0.0016898624483935806,\n",
      " 'primary_breed_Saluki': 0.0,\n",
      " 'primary_breed_Schnauzer': 0.006089975875891353,\n",
      " 'primary_breed_Shar-Pei': 0.0006317847801122475,\n",
      " 'primary_breed_Shepherd': 0.011510176590722803,\n",
      " 'primary_breed_Shetland Sheepdog / Sheltie': 0.0009010649659869809,\n",
      " 'primary_breed_Shiba Inu': 0.0020178618643557312,\n",
      " 'primary_breed_Shih Tzu': 0.0075694048169544954,\n",
      " 'primary_breed_Siberian Husky': 0.0035468848242263358,\n",
      " 'primary_breed_Spaniel': 0.002579809996185763,\n",
      " 'primary_breed_Staffordshire Bull Terrier': 0.0034903895994108218,\n",
      " 'primary_breed_Standard Poodle': 0.003519475196405888,\n",
      " 'primary_breed_Terrier': 0.016142811761922896,\n",
      " 'primary_breed_Tibetan Terrier': 0.000948240501950854,\n",
      " 'primary_breed_Vizsla': 0.0006845600061629673,\n",
      " 'primary_breed_Weimaraner': 0.00034983718881510036,\n",
      " 'primary_breed_Whippet': 0.001268813184738915,\n",
      " 'primary_breed_White German Shepherd': 0.0015738921300898553,\n",
      " 'primary_breed_Wirehaired Terrier': 0.0,\n",
      " 'primary_breed_Xoloitzcuintli / Mexican Hairless': 0.0017894705391267554,\n",
      " 'primary_breed_Yellow Labrador Retriever': 0.009305423287313097,\n",
      " 'primary_breed_Yorkshire Terrier': 0.005576765609412505,\n",
      " 'primary_color_Apricot / Beige': 0.01630402666204196,\n",
      " 'primary_color_Bicolor': 0.012585293646272805,\n",
      " 'primary_color_Black': 0.029507921887994934,\n",
      " 'primary_color_Brindle': 0.014274544040800313,\n",
      " 'primary_color_Brown / Chocolate': 0.01901003745215802,\n",
      " 'primary_color_Golden': 0.01373164629500667,\n",
      " 'primary_color_Gray / Blue / Silver': 0.015348466662725985,\n",
      " 'primary_color_Harlequin': 0.004154912210129245,\n",
      " 'primary_color_Merle (Blue)': 0.008866186294059919,\n",
      " 'primary_color_Merle (Red)': 0.004222769601386752,\n",
      " 'primary_color_Red / Chestnut / Orange': 0.01827270966180248,\n",
      " 'primary_color_Sable': 0.0002839935225422543,\n",
      " 'primary_color_Tricolor (Brown, Black, & White)': 0.023077156670755182,\n",
      " 'primary_color_White / Cream': 0.022247350833125262,\n",
      " 'primary_color_Yellow / Tan / Blond / Fawn': 0.018177205889280533,\n",
      " 'size_Extra Large': 0.00509636331442696,\n",
      " 'size_Large': 0.01998819511526786,\n",
      " 'size_Medium': 0.02479455873071254,\n",
      " 'size_Small': 0.016790374383240544}\n"
     ]
    }
   ],
   "source": [
    "# print feature importance dictionary\n",
    "pprint.pprint(feat_import_dict)"
   ]
  },
  {
   "cell_type": "code",
   "execution_count": 9,
   "id": "1fa0faee",
   "metadata": {
    "scrolled": true
   },
   "outputs": [
    {
     "name": "stdout",
     "output_type": "stream",
     "text": [
      "For original random forest regressor function:\n",
      "R2: -0.14361363071107403, MSE: 266444.4669252232\n"
     ]
    }
   ],
   "source": [
    "# print accuracy metrics\n",
    "print(f'''For original random forest regressor function:\\nR2: {r2}, MSE: {mse}''')"
   ]
  },
  {
   "cell_type": "markdown",
   "id": "19125c13",
   "metadata": {},
   "source": [
    "### TEST 1.b: All X Features\n",
    "Using default regressor function (random_forest_regress_default), which uses default arguments to initialize the random forest regressor model. All X features are used in this test (all columns in dataframe, except delta_time_minutes and id).\n",
    "- Note that default regressor function is used for the rest of this analysis as it yields better accuracy metrics"
   ]
  },
  {
   "cell_type": "code",
   "execution_count": 16,
   "id": "7732e053",
   "metadata": {
    "scrolled": true
   },
   "outputs": [
    {
     "name": "stdout",
     "output_type": "stream",
     "text": [
      "For default random forest regressor function:\n",
      "R2: -0.12459918658335756, MSE: 262014.3925596888\n"
     ]
    }
   ],
   "source": [
    "# run random forest regressor and print accuracy metrics\n",
    "feature_importances, feat_import_dict, r2, mse, residuals  = random_forest_regress_default(x_feat_list=x_feat_list, y_col='delta_time_minutes', df=dogs_df_dummies)\n",
    "print(f'''For default random forest regressor function:\\nR2: {r2}, MSE: {mse}''')"
   ]
  },
  {
   "cell_type": "code",
   "execution_count": 17,
   "id": "75529434",
   "metadata": {},
   "outputs": [
    {
     "name": "stdout",
     "output_type": "stream",
     "text": [
      "{'age_Adult': 0.022432133769015775,\n",
      " 'age_Baby': 0.030891099372976585,\n",
      " 'age_Senior': 0.01199645276310081,\n",
      " 'age_Young': 0.022803178515203765,\n",
      " 'coat_Curly': 0.00507358018619348,\n",
      " 'coat_Hairless': 0.0007699442706202124,\n",
      " 'coat_Long': 0.011036466467860823,\n",
      " 'coat_Medium': 0.022597161344840386,\n",
      " 'coat_Short': 0.01984738206587531,\n",
      " 'coat_Wire': 0.005673228422257637,\n",
      " 'compatible_cats': 0.020554563790801922,\n",
      " 'compatible_children': 0.005575796152419338,\n",
      " 'compatible_dogs': 0.008577490061462497,\n",
      " 'gender_Female': 0.025354703646387193,\n",
      " 'gender_Male': 0.02508531626465484,\n",
      " 'primary_breed_Affenpinscher': 0.0015752417191488921,\n",
      " 'primary_breed_Alaskan Malamute': 0.00028545669435570137,\n",
      " 'primary_breed_American Bulldog': 0.0066920529632222905,\n",
      " 'primary_breed_American Bully': 0.003024110645147945,\n",
      " 'primary_breed_American Eskimo Dog': 0.0015555807158992862,\n",
      " 'primary_breed_American Staffordshire Terrier': 0.011334826981732566,\n",
      " 'primary_breed_Anatolian Shepherd': 0.002160633604648773,\n",
      " 'primary_breed_Aussiedoodle': 0.000699027948528866,\n",
      " 'primary_breed_Australian Cattle Dog / Blue Heeler': 0.013369772707715007,\n",
      " 'primary_breed_Australian Kelpie': 0.001484896430016727,\n",
      " 'primary_breed_Australian Shepherd': 0.01666859990255457,\n",
      " 'primary_breed_Australian Terrier': 0.002967016696865806,\n",
      " 'primary_breed_Basset Hound': 0.004349248280967702,\n",
      " 'primary_breed_Beagle': 0.011388905607626116,\n",
      " 'primary_breed_Belgian Shepherd / Malinois': 0.0035097076853778174,\n",
      " 'primary_breed_Bernese Mountain Dog': 0.0010778974632863368,\n",
      " 'primary_breed_Bichon Frise': 0.0022492510822401373,\n",
      " 'primary_breed_Black Labrador Retriever': 0.009930141666533759,\n",
      " 'primary_breed_Black Mouth Cur': 0.00458938650595704,\n",
      " 'primary_breed_Bloodhound': 0.0016944079590305331,\n",
      " 'primary_breed_Blue Lacy': 0.0006703843028867474,\n",
      " 'primary_breed_Border Collie': 0.005944758747814777,\n",
      " 'primary_breed_Border Terrier': 0.0,\n",
      " 'primary_breed_Boston Terrier': 0.004930351037567912,\n",
      " 'primary_breed_Boxer': 0.010155774800608905,\n",
      " 'primary_breed_Brussels Griffon': 0.0,\n",
      " 'primary_breed_Cairn Terrier': 0.0033167426128415376,\n",
      " 'primary_breed_Carolina Dog': 0.0,\n",
      " 'primary_breed_Catahoula Leopard Dog': 0.008013256371379469,\n",
      " 'primary_breed_Cattle Dog': 0.00456437142222898,\n",
      " 'primary_breed_Cavalier King Charles Spaniel': 0.0013822238532123193,\n",
      " 'primary_breed_Chihuahua': 0.019021949530548577,\n",
      " 'primary_breed_Chinese Crested Dog': 0.00012757471194892143,\n",
      " 'primary_breed_Chiweenie': 0.0019283506794885263,\n",
      " 'primary_breed_Chocolate Labrador Retriever': 0.0004176929696833133,\n",
      " 'primary_breed_Chow Chow': 0.0014803408138728122,\n",
      " 'primary_breed_Cocker Spaniel': 0.002983767922275806,\n",
      " 'primary_breed_Collie': 0.0018970116370642003,\n",
      " 'primary_breed_Coonhound': 0.0,\n",
      " 'primary_breed_Corgi': 0.014640441180347024,\n",
      " 'primary_breed_Dachshund': 0.009756416280286685,\n",
      " 'primary_breed_Dalmatian': 0.0007958975131713182,\n",
      " 'primary_breed_Doberman Pinscher': 0.005900040068029767,\n",
      " 'primary_breed_Dogo Argentino': 0.0,\n",
      " 'primary_breed_Dutch Shepherd': 0.009977439383369906,\n",
      " 'primary_breed_English Bulldog': 0.003275988735270642,\n",
      " 'primary_breed_English Coonhound': 0.0009089131276105677,\n",
      " 'primary_breed_English Setter': 0.0015418176931985314,\n",
      " 'primary_breed_English Shepherd': 0.0006598086821853899,\n",
      " 'primary_breed_Entlebucher': 0.001172127831974323,\n",
      " 'primary_breed_Feist': 0.0010505725096443574,\n",
      " 'primary_breed_Flat-Coated Retriever': 0.004339730475808039,\n",
      " 'primary_breed_Fox Terrier': 0.0,\n",
      " 'primary_breed_Foxhound': 0.0008255775630374096,\n",
      " 'primary_breed_French Bulldog': 0.002028114515930299,\n",
      " 'primary_breed_German Shepherd Dog': 0.014435294855895198,\n",
      " 'primary_breed_German Wirehaired Pointer': 0.0017619464741604235,\n",
      " 'primary_breed_Golden Retriever': 0.0062825626883455735,\n",
      " 'primary_breed_Goldendoodle': 0.0019933203997979433,\n",
      " 'primary_breed_Great Dane': 0.0001245985995441587,\n",
      " 'primary_breed_Great Pyrenees': 0.0057715887377221865,\n",
      " 'primary_breed_Greyhound': 0.0006030004491976926,\n",
      " 'primary_breed_Hound': 0.015150818258557741,\n",
      " 'primary_breed_Husky': 0.007070000674203082,\n",
      " 'primary_breed_Ibizan Hound': 0.0010858389123436524,\n",
      " 'primary_breed_Icelandic Sheepdog': 0.008369389853924025,\n",
      " 'primary_breed_Irish Terrier': 0.0009789390441303555,\n",
      " 'primary_breed_Italian Greyhound': 0.0031167949322027984,\n",
      " 'primary_breed_Jack Russell Terrier': 0.006576484403988289,\n",
      " 'primary_breed_Japanese Chin': 0.0006831156141477601,\n",
      " 'primary_breed_Labradoodle': 0.0,\n",
      " 'primary_breed_Labrador Retriever': 0.023007029923918378,\n",
      " 'primary_breed_Lhasa Apso': 0.00024079359932018993,\n",
      " 'primary_breed_Maltese': 0.003387272161386068,\n",
      " 'primary_breed_Maltipoo': 0.001103318043853556,\n",
      " 'primary_breed_Mastiff': 0.0002300019345814034,\n",
      " 'primary_breed_Miniature Dachshund': 0.00044087985925186446,\n",
      " 'primary_breed_Miniature Pinscher': 0.0005010754014918473,\n",
      " 'primary_breed_Miniature Poodle': 0.00425648694802128,\n",
      " 'primary_breed_Miniature Schnauzer': 0.0025701895651863665,\n",
      " 'primary_breed_Mixed Breed': 0.018747294385023486,\n",
      " 'primary_breed_Mountain Cur': 0.0006973238011378087,\n",
      " 'primary_breed_Newfoundland Dog': 0.0016204101883393568,\n",
      " 'primary_breed_Norfolk Terrier': 0.0006630280532652262,\n",
      " 'primary_breed_Old English Sheepdog': 0.00031935891826423646,\n",
      " 'primary_breed_Parson Russell Terrier': 0.0,\n",
      " 'primary_breed_Patterdale Terrier / Fell Terrier': 0.0014993013489067095,\n",
      " 'primary_breed_Pekingese': 0.0010448159154978912,\n",
      " 'primary_breed_Pharaoh Hound': 0.00033725574666967987,\n",
      " 'primary_breed_Pit Bull Terrier': 0.014975308855501855,\n",
      " 'primary_breed_Pointer': 0.001475369809013408,\n",
      " 'primary_breed_Pomeranian': 0.0010612595694851645,\n",
      " 'primary_breed_Poodle': 0.006031189585674446,\n",
      " 'primary_breed_Pug': 0.003962656954664262,\n",
      " 'primary_breed_Rat Terrier': 0.007620664571194598,\n",
      " 'primary_breed_Retriever': 0.005096734009960571,\n",
      " 'primary_breed_Rhodesian Ridgeback': 0.0014895845475459584,\n",
      " 'primary_breed_Rottweiler': 0.0016118868710938655,\n",
      " 'primary_breed_Saluki': 0.0,\n",
      " 'primary_breed_Schnauzer': 0.0058416691365377246,\n",
      " 'primary_breed_Shar-Pei': 0.000755046895291899,\n",
      " 'primary_breed_Shepherd': 0.011840970795032164,\n",
      " 'primary_breed_Shetland Sheepdog / Sheltie': 0.0005914019429840115,\n",
      " 'primary_breed_Shiba Inu': 0.002021754931558693,\n",
      " 'primary_breed_Shih Tzu': 0.005934426207109835,\n",
      " 'primary_breed_Siberian Husky': 0.0034022254196101305,\n",
      " 'primary_breed_Spaniel': 0.0017363290032115228,\n",
      " 'primary_breed_Staffordshire Bull Terrier': 0.003945000181174651,\n",
      " 'primary_breed_Standard Poodle': 0.003267746754719482,\n",
      " 'primary_breed_Terrier': 0.01644402387888124,\n",
      " 'primary_breed_Tibetan Terrier': 0.00059083758777095,\n",
      " 'primary_breed_Vizsla': 0.000523968517314698,\n",
      " 'primary_breed_Weimaraner': 0.0004882069400273996,\n",
      " 'primary_breed_Whippet': 0.0007734127838978842,\n",
      " 'primary_breed_White German Shepherd': 0.0014597246439836142,\n",
      " 'primary_breed_Wirehaired Terrier': 0.0,\n",
      " 'primary_breed_Xoloitzcuintli / Mexican Hairless': 0.0014778662475650652,\n",
      " 'primary_breed_Yellow Labrador Retriever': 0.009429987995585408,\n",
      " 'primary_breed_Yorkshire Terrier': 0.004734258943418354,\n",
      " 'primary_color_Apricot / Beige': 0.01574631331363747,\n",
      " 'primary_color_Bicolor': 0.01492622825123466,\n",
      " 'primary_color_Black': 0.029195560103400138,\n",
      " 'primary_color_Brindle': 0.013387541221702225,\n",
      " 'primary_color_Brown / Chocolate': 0.018738977038506178,\n",
      " 'primary_color_Golden': 0.013126538447369687,\n",
      " 'primary_color_Gray / Blue / Silver': 0.016514580919012173,\n",
      " 'primary_color_Harlequin': 0.003076802908917506,\n",
      " 'primary_color_Merle (Blue)': 0.008371399608360565,\n",
      " 'primary_color_Merle (Red)': 0.0038963758641871317,\n",
      " 'primary_color_Red / Chestnut / Orange': 0.01699455486124652,\n",
      " 'primary_color_Sable': 0.0003498044270285814,\n",
      " 'primary_color_Tricolor (Brown, Black, & White)': 0.023218115353221137,\n",
      " 'primary_color_White / Cream': 0.022875404940852485,\n",
      " 'primary_color_Yellow / Tan / Blond / Fawn': 0.019961989609674685,\n",
      " 'size_Extra Large': 0.0047839291807474415,\n",
      " 'size_Large': 0.02005805146499122,\n",
      " 'size_Medium': 0.021934872041997046,\n",
      " 'size_Small': 0.017007819844014536}\n"
     ]
    }
   ],
   "source": [
    "# print feature importance dictionary \n",
    "pprint.pprint(feat_import_dict)"
   ]
  },
  {
   "cell_type": "code",
   "execution_count": 18,
   "id": "f0d962f5",
   "metadata": {
    "scrolled": true
   },
   "outputs": [
    {
     "data": {
      "application/vnd.plotly.v1+json": {
       "config": {
        "plotlyServerURL": "https://plot.ly"
       },
       "data": [
        {
         "alignmentgroup": "True",
         "hovertemplate": "Features=%{x}<br>Feature Importances=%{y}<extra></extra>",
         "legendgroup": "",
         "marker": {
          "color": "#636efa",
          "pattern": {
           "shape": ""
          }
         },
         "name": "",
         "offsetgroup": "",
         "orientation": "v",
         "showlegend": false,
         "textposition": "auto",
         "type": "bar",
         "x": [
          "compatible_children",
          "compatible_dogs",
          "compatible_cats",
          "age_Adult",
          "age_Baby",
          "age_Senior",
          "age_Young",
          "gender_Female",
          "gender_Male",
          "size_Extra Large",
          "size_Large",
          "size_Medium",
          "size_Small",
          "coat_Curly",
          "coat_Hairless",
          "coat_Long",
          "coat_Medium",
          "coat_Short",
          "coat_Wire",
          "primary_breed_Affenpinscher",
          "primary_breed_Alaskan Malamute",
          "primary_breed_American Bulldog",
          "primary_breed_American Bully",
          "primary_breed_American Eskimo Dog",
          "primary_breed_American Staffordshire Terrier",
          "primary_breed_Anatolian Shepherd",
          "primary_breed_Aussiedoodle",
          "primary_breed_Australian Cattle Dog / Blue Heeler",
          "primary_breed_Australian Kelpie",
          "primary_breed_Australian Shepherd",
          "primary_breed_Australian Terrier",
          "primary_breed_Basset Hound",
          "primary_breed_Beagle",
          "primary_breed_Belgian Shepherd / Malinois",
          "primary_breed_Bernese Mountain Dog",
          "primary_breed_Bichon Frise",
          "primary_breed_Black Labrador Retriever",
          "primary_breed_Black Mouth Cur",
          "primary_breed_Bloodhound",
          "primary_breed_Blue Lacy",
          "primary_breed_Border Collie",
          "primary_breed_Border Terrier",
          "primary_breed_Boston Terrier",
          "primary_breed_Boxer",
          "primary_breed_Brussels Griffon",
          "primary_breed_Cairn Terrier",
          "primary_breed_Carolina Dog",
          "primary_breed_Catahoula Leopard Dog",
          "primary_breed_Cattle Dog",
          "primary_breed_Cavalier King Charles Spaniel",
          "primary_breed_Chihuahua",
          "primary_breed_Chinese Crested Dog",
          "primary_breed_Chiweenie",
          "primary_breed_Chocolate Labrador Retriever",
          "primary_breed_Chow Chow",
          "primary_breed_Cocker Spaniel",
          "primary_breed_Collie",
          "primary_breed_Coonhound",
          "primary_breed_Corgi",
          "primary_breed_Dachshund",
          "primary_breed_Dalmatian",
          "primary_breed_Doberman Pinscher",
          "primary_breed_Dogo Argentino",
          "primary_breed_Dutch Shepherd",
          "primary_breed_English Bulldog",
          "primary_breed_English Coonhound",
          "primary_breed_English Setter",
          "primary_breed_English Shepherd",
          "primary_breed_Entlebucher",
          "primary_breed_Feist",
          "primary_breed_Flat-Coated Retriever",
          "primary_breed_Fox Terrier",
          "primary_breed_Foxhound",
          "primary_breed_French Bulldog",
          "primary_breed_German Shepherd Dog",
          "primary_breed_German Wirehaired Pointer",
          "primary_breed_Golden Retriever",
          "primary_breed_Goldendoodle",
          "primary_breed_Great Dane",
          "primary_breed_Great Pyrenees",
          "primary_breed_Greyhound",
          "primary_breed_Hound",
          "primary_breed_Husky",
          "primary_breed_Ibizan Hound",
          "primary_breed_Icelandic Sheepdog",
          "primary_breed_Irish Terrier",
          "primary_breed_Italian Greyhound",
          "primary_breed_Jack Russell Terrier",
          "primary_breed_Japanese Chin",
          "primary_breed_Labradoodle",
          "primary_breed_Labrador Retriever",
          "primary_breed_Lhasa Apso",
          "primary_breed_Maltese",
          "primary_breed_Maltipoo",
          "primary_breed_Mastiff",
          "primary_breed_Miniature Dachshund",
          "primary_breed_Miniature Pinscher",
          "primary_breed_Miniature Poodle",
          "primary_breed_Miniature Schnauzer",
          "primary_breed_Mixed Breed",
          "primary_breed_Mountain Cur",
          "primary_breed_Newfoundland Dog",
          "primary_breed_Norfolk Terrier",
          "primary_breed_Old English Sheepdog",
          "primary_breed_Parson Russell Terrier",
          "primary_breed_Patterdale Terrier / Fell Terrier",
          "primary_breed_Pekingese",
          "primary_breed_Pharaoh Hound",
          "primary_breed_Pit Bull Terrier",
          "primary_breed_Pointer",
          "primary_breed_Pomeranian",
          "primary_breed_Poodle",
          "primary_breed_Pug",
          "primary_breed_Rat Terrier",
          "primary_breed_Retriever",
          "primary_breed_Rhodesian Ridgeback",
          "primary_breed_Rottweiler",
          "primary_breed_Saluki",
          "primary_breed_Schnauzer",
          "primary_breed_Shar-Pei",
          "primary_breed_Shepherd",
          "primary_breed_Shetland Sheepdog / Sheltie",
          "primary_breed_Shiba Inu",
          "primary_breed_Shih Tzu",
          "primary_breed_Siberian Husky",
          "primary_breed_Spaniel",
          "primary_breed_Staffordshire Bull Terrier",
          "primary_breed_Standard Poodle",
          "primary_breed_Terrier",
          "primary_breed_Tibetan Terrier",
          "primary_breed_Vizsla",
          "primary_breed_Weimaraner",
          "primary_breed_Whippet",
          "primary_breed_White German Shepherd",
          "primary_breed_Wirehaired Terrier",
          "primary_breed_Xoloitzcuintli / Mexican Hairless",
          "primary_breed_Yellow Labrador Retriever",
          "primary_breed_Yorkshire Terrier",
          "primary_color_Apricot / Beige",
          "primary_color_Bicolor",
          "primary_color_Black",
          "primary_color_Brindle",
          "primary_color_Brown / Chocolate",
          "primary_color_Golden",
          "primary_color_Gray / Blue / Silver",
          "primary_color_Harlequin",
          "primary_color_Merle (Blue)",
          "primary_color_Merle (Red)",
          "primary_color_Red / Chestnut / Orange",
          "primary_color_Sable",
          "primary_color_Tricolor (Brown, Black, & White)",
          "primary_color_White / Cream",
          "primary_color_Yellow / Tan / Blond / Fawn"
         ],
         "xaxis": "x",
         "y": [
          0.005575796152419338,
          0.008577490061462497,
          0.020554563790801922,
          0.022432133769015775,
          0.030891099372976585,
          0.01199645276310081,
          0.022803178515203765,
          0.025354703646387193,
          0.02508531626465484,
          0.0047839291807474415,
          0.02005805146499122,
          0.021934872041997046,
          0.017007819844014536,
          0.00507358018619348,
          0.0007699442706202124,
          0.011036466467860823,
          0.022597161344840386,
          0.01984738206587531,
          0.005673228422257637,
          0.0015752417191488921,
          0.00028545669435570137,
          0.0066920529632222905,
          0.003024110645147945,
          0.0015555807158992862,
          0.011334826981732566,
          0.002160633604648773,
          0.000699027948528866,
          0.013369772707715007,
          0.001484896430016727,
          0.01666859990255457,
          0.002967016696865806,
          0.004349248280967702,
          0.011388905607626116,
          0.0035097076853778174,
          0.0010778974632863368,
          0.0022492510822401373,
          0.009930141666533759,
          0.00458938650595704,
          0.0016944079590305331,
          0.0006703843028867474,
          0.005944758747814777,
          0,
          0.004930351037567912,
          0.010155774800608905,
          0,
          0.0033167426128415376,
          0,
          0.008013256371379469,
          0.00456437142222898,
          0.0013822238532123193,
          0.019021949530548577,
          0.00012757471194892143,
          0.0019283506794885263,
          0.0004176929696833133,
          0.0014803408138728122,
          0.002983767922275806,
          0.0018970116370642003,
          0,
          0.014640441180347024,
          0.009756416280286685,
          0.0007958975131713182,
          0.005900040068029767,
          0,
          0.009977439383369906,
          0.003275988735270642,
          0.0009089131276105677,
          0.0015418176931985314,
          0.0006598086821853899,
          0.001172127831974323,
          0.0010505725096443574,
          0.004339730475808039,
          0,
          0.0008255775630374096,
          0.002028114515930299,
          0.014435294855895198,
          0.0017619464741604235,
          0.0062825626883455735,
          0.0019933203997979433,
          0.0001245985995441587,
          0.0057715887377221865,
          0.0006030004491976926,
          0.015150818258557741,
          0.007070000674203082,
          0.0010858389123436524,
          0.008369389853924025,
          0.0009789390441303555,
          0.0031167949322027984,
          0.006576484403988289,
          0.0006831156141477601,
          0,
          0.023007029923918378,
          0.00024079359932018993,
          0.003387272161386068,
          0.001103318043853556,
          0.0002300019345814034,
          0.00044087985925186446,
          0.0005010754014918473,
          0.00425648694802128,
          0.0025701895651863665,
          0.018747294385023486,
          0.0006973238011378087,
          0.0016204101883393568,
          0.0006630280532652262,
          0.00031935891826423646,
          0,
          0.0014993013489067095,
          0.0010448159154978912,
          0.00033725574666967987,
          0.014975308855501855,
          0.001475369809013408,
          0.0010612595694851645,
          0.006031189585674446,
          0.003962656954664262,
          0.007620664571194598,
          0.005096734009960571,
          0.0014895845475459584,
          0.0016118868710938655,
          0,
          0.0058416691365377246,
          0.000755046895291899,
          0.011840970795032164,
          0.0005914019429840115,
          0.002021754931558693,
          0.005934426207109835,
          0.0034022254196101305,
          0.0017363290032115228,
          0.003945000181174651,
          0.003267746754719482,
          0.01644402387888124,
          0.00059083758777095,
          0.000523968517314698,
          0.0004882069400273996,
          0.0007734127838978842,
          0.0014597246439836142,
          0,
          0.0014778662475650652,
          0.009429987995585408,
          0.004734258943418354,
          0.01574631331363747,
          0.01492622825123466,
          0.029195560103400138,
          0.013387541221702225,
          0.018738977038506178,
          0.013126538447369687,
          0.016514580919012173,
          0.003076802908917506,
          0.008371399608360565,
          0.0038963758641871317,
          0.01699455486124652,
          0.0003498044270285814,
          0.023218115353221137,
          0.022875404940852485,
          0.019961989609674685
         ],
         "yaxis": "y"
        }
       ],
       "layout": {
        "autosize": true,
        "barmode": "relative",
        "legend": {
         "tracegroupgap": 0
        },
        "template": {
         "data": {
          "bar": [
           {
            "error_x": {
             "color": "#2a3f5f"
            },
            "error_y": {
             "color": "#2a3f5f"
            },
            "marker": {
             "line": {
              "color": "#E5ECF6",
              "width": 0.5
             },
             "pattern": {
              "fillmode": "overlay",
              "size": 10,
              "solidity": 0.2
             }
            },
            "type": "bar"
           }
          ],
          "barpolar": [
           {
            "marker": {
             "line": {
              "color": "#E5ECF6",
              "width": 0.5
             },
             "pattern": {
              "fillmode": "overlay",
              "size": 10,
              "solidity": 0.2
             }
            },
            "type": "barpolar"
           }
          ],
          "carpet": [
           {
            "aaxis": {
             "endlinecolor": "#2a3f5f",
             "gridcolor": "white",
             "linecolor": "white",
             "minorgridcolor": "white",
             "startlinecolor": "#2a3f5f"
            },
            "baxis": {
             "endlinecolor": "#2a3f5f",
             "gridcolor": "white",
             "linecolor": "white",
             "minorgridcolor": "white",
             "startlinecolor": "#2a3f5f"
            },
            "type": "carpet"
           }
          ],
          "choropleth": [
           {
            "colorbar": {
             "outlinewidth": 0,
             "ticks": ""
            },
            "type": "choropleth"
           }
          ],
          "contour": [
           {
            "colorbar": {
             "outlinewidth": 0,
             "ticks": ""
            },
            "colorscale": [
             [
              0,
              "#0d0887"
             ],
             [
              0.1111111111111111,
              "#46039f"
             ],
             [
              0.2222222222222222,
              "#7201a8"
             ],
             [
              0.3333333333333333,
              "#9c179e"
             ],
             [
              0.4444444444444444,
              "#bd3786"
             ],
             [
              0.5555555555555556,
              "#d8576b"
             ],
             [
              0.6666666666666666,
              "#ed7953"
             ],
             [
              0.7777777777777778,
              "#fb9f3a"
             ],
             [
              0.8888888888888888,
              "#fdca26"
             ],
             [
              1,
              "#f0f921"
             ]
            ],
            "type": "contour"
           }
          ],
          "contourcarpet": [
           {
            "colorbar": {
             "outlinewidth": 0,
             "ticks": ""
            },
            "type": "contourcarpet"
           }
          ],
          "heatmap": [
           {
            "colorbar": {
             "outlinewidth": 0,
             "ticks": ""
            },
            "colorscale": [
             [
              0,
              "#0d0887"
             ],
             [
              0.1111111111111111,
              "#46039f"
             ],
             [
              0.2222222222222222,
              "#7201a8"
             ],
             [
              0.3333333333333333,
              "#9c179e"
             ],
             [
              0.4444444444444444,
              "#bd3786"
             ],
             [
              0.5555555555555556,
              "#d8576b"
             ],
             [
              0.6666666666666666,
              "#ed7953"
             ],
             [
              0.7777777777777778,
              "#fb9f3a"
             ],
             [
              0.8888888888888888,
              "#fdca26"
             ],
             [
              1,
              "#f0f921"
             ]
            ],
            "type": "heatmap"
           }
          ],
          "heatmapgl": [
           {
            "colorbar": {
             "outlinewidth": 0,
             "ticks": ""
            },
            "colorscale": [
             [
              0,
              "#0d0887"
             ],
             [
              0.1111111111111111,
              "#46039f"
             ],
             [
              0.2222222222222222,
              "#7201a8"
             ],
             [
              0.3333333333333333,
              "#9c179e"
             ],
             [
              0.4444444444444444,
              "#bd3786"
             ],
             [
              0.5555555555555556,
              "#d8576b"
             ],
             [
              0.6666666666666666,
              "#ed7953"
             ],
             [
              0.7777777777777778,
              "#fb9f3a"
             ],
             [
              0.8888888888888888,
              "#fdca26"
             ],
             [
              1,
              "#f0f921"
             ]
            ],
            "type": "heatmapgl"
           }
          ],
          "histogram": [
           {
            "marker": {
             "pattern": {
              "fillmode": "overlay",
              "size": 10,
              "solidity": 0.2
             }
            },
            "type": "histogram"
           }
          ],
          "histogram2d": [
           {
            "colorbar": {
             "outlinewidth": 0,
             "ticks": ""
            },
            "colorscale": [
             [
              0,
              "#0d0887"
             ],
             [
              0.1111111111111111,
              "#46039f"
             ],
             [
              0.2222222222222222,
              "#7201a8"
             ],
             [
              0.3333333333333333,
              "#9c179e"
             ],
             [
              0.4444444444444444,
              "#bd3786"
             ],
             [
              0.5555555555555556,
              "#d8576b"
             ],
             [
              0.6666666666666666,
              "#ed7953"
             ],
             [
              0.7777777777777778,
              "#fb9f3a"
             ],
             [
              0.8888888888888888,
              "#fdca26"
             ],
             [
              1,
              "#f0f921"
             ]
            ],
            "type": "histogram2d"
           }
          ],
          "histogram2dcontour": [
           {
            "colorbar": {
             "outlinewidth": 0,
             "ticks": ""
            },
            "colorscale": [
             [
              0,
              "#0d0887"
             ],
             [
              0.1111111111111111,
              "#46039f"
             ],
             [
              0.2222222222222222,
              "#7201a8"
             ],
             [
              0.3333333333333333,
              "#9c179e"
             ],
             [
              0.4444444444444444,
              "#bd3786"
             ],
             [
              0.5555555555555556,
              "#d8576b"
             ],
             [
              0.6666666666666666,
              "#ed7953"
             ],
             [
              0.7777777777777778,
              "#fb9f3a"
             ],
             [
              0.8888888888888888,
              "#fdca26"
             ],
             [
              1,
              "#f0f921"
             ]
            ],
            "type": "histogram2dcontour"
           }
          ],
          "mesh3d": [
           {
            "colorbar": {
             "outlinewidth": 0,
             "ticks": ""
            },
            "type": "mesh3d"
           }
          ],
          "parcoords": [
           {
            "line": {
             "colorbar": {
              "outlinewidth": 0,
              "ticks": ""
             }
            },
            "type": "parcoords"
           }
          ],
          "pie": [
           {
            "automargin": true,
            "type": "pie"
           }
          ],
          "scatter": [
           {
            "marker": {
             "colorbar": {
              "outlinewidth": 0,
              "ticks": ""
             }
            },
            "type": "scatter"
           }
          ],
          "scatter3d": [
           {
            "line": {
             "colorbar": {
              "outlinewidth": 0,
              "ticks": ""
             }
            },
            "marker": {
             "colorbar": {
              "outlinewidth": 0,
              "ticks": ""
             }
            },
            "type": "scatter3d"
           }
          ],
          "scattercarpet": [
           {
            "marker": {
             "colorbar": {
              "outlinewidth": 0,
              "ticks": ""
             }
            },
            "type": "scattercarpet"
           }
          ],
          "scattergeo": [
           {
            "marker": {
             "colorbar": {
              "outlinewidth": 0,
              "ticks": ""
             }
            },
            "type": "scattergeo"
           }
          ],
          "scattergl": [
           {
            "marker": {
             "colorbar": {
              "outlinewidth": 0,
              "ticks": ""
             }
            },
            "type": "scattergl"
           }
          ],
          "scattermapbox": [
           {
            "marker": {
             "colorbar": {
              "outlinewidth": 0,
              "ticks": ""
             }
            },
            "type": "scattermapbox"
           }
          ],
          "scatterpolar": [
           {
            "marker": {
             "colorbar": {
              "outlinewidth": 0,
              "ticks": ""
             }
            },
            "type": "scatterpolar"
           }
          ],
          "scatterpolargl": [
           {
            "marker": {
             "colorbar": {
              "outlinewidth": 0,
              "ticks": ""
             }
            },
            "type": "scatterpolargl"
           }
          ],
          "scatterternary": [
           {
            "marker": {
             "colorbar": {
              "outlinewidth": 0,
              "ticks": ""
             }
            },
            "type": "scatterternary"
           }
          ],
          "surface": [
           {
            "colorbar": {
             "outlinewidth": 0,
             "ticks": ""
            },
            "colorscale": [
             [
              0,
              "#0d0887"
             ],
             [
              0.1111111111111111,
              "#46039f"
             ],
             [
              0.2222222222222222,
              "#7201a8"
             ],
             [
              0.3333333333333333,
              "#9c179e"
             ],
             [
              0.4444444444444444,
              "#bd3786"
             ],
             [
              0.5555555555555556,
              "#d8576b"
             ],
             [
              0.6666666666666666,
              "#ed7953"
             ],
             [
              0.7777777777777778,
              "#fb9f3a"
             ],
             [
              0.8888888888888888,
              "#fdca26"
             ],
             [
              1,
              "#f0f921"
             ]
            ],
            "type": "surface"
           }
          ],
          "table": [
           {
            "cells": {
             "fill": {
              "color": "#EBF0F8"
             },
             "line": {
              "color": "white"
             }
            },
            "header": {
             "fill": {
              "color": "#C8D4E3"
             },
             "line": {
              "color": "white"
             }
            },
            "type": "table"
           }
          ]
         },
         "layout": {
          "annotationdefaults": {
           "arrowcolor": "#2a3f5f",
           "arrowhead": 0,
           "arrowwidth": 1
          },
          "autotypenumbers": "strict",
          "coloraxis": {
           "colorbar": {
            "outlinewidth": 0,
            "ticks": ""
           }
          },
          "colorscale": {
           "diverging": [
            [
             0,
             "#8e0152"
            ],
            [
             0.1,
             "#c51b7d"
            ],
            [
             0.2,
             "#de77ae"
            ],
            [
             0.3,
             "#f1b6da"
            ],
            [
             0.4,
             "#fde0ef"
            ],
            [
             0.5,
             "#f7f7f7"
            ],
            [
             0.6,
             "#e6f5d0"
            ],
            [
             0.7,
             "#b8e186"
            ],
            [
             0.8,
             "#7fbc41"
            ],
            [
             0.9,
             "#4d9221"
            ],
            [
             1,
             "#276419"
            ]
           ],
           "sequential": [
            [
             0,
             "#0d0887"
            ],
            [
             0.1111111111111111,
             "#46039f"
            ],
            [
             0.2222222222222222,
             "#7201a8"
            ],
            [
             0.3333333333333333,
             "#9c179e"
            ],
            [
             0.4444444444444444,
             "#bd3786"
            ],
            [
             0.5555555555555556,
             "#d8576b"
            ],
            [
             0.6666666666666666,
             "#ed7953"
            ],
            [
             0.7777777777777778,
             "#fb9f3a"
            ],
            [
             0.8888888888888888,
             "#fdca26"
            ],
            [
             1,
             "#f0f921"
            ]
           ],
           "sequentialminus": [
            [
             0,
             "#0d0887"
            ],
            [
             0.1111111111111111,
             "#46039f"
            ],
            [
             0.2222222222222222,
             "#7201a8"
            ],
            [
             0.3333333333333333,
             "#9c179e"
            ],
            [
             0.4444444444444444,
             "#bd3786"
            ],
            [
             0.5555555555555556,
             "#d8576b"
            ],
            [
             0.6666666666666666,
             "#ed7953"
            ],
            [
             0.7777777777777778,
             "#fb9f3a"
            ],
            [
             0.8888888888888888,
             "#fdca26"
            ],
            [
             1,
             "#f0f921"
            ]
           ]
          },
          "colorway": [
           "#636efa",
           "#EF553B",
           "#00cc96",
           "#ab63fa",
           "#FFA15A",
           "#19d3f3",
           "#FF6692",
           "#B6E880",
           "#FF97FF",
           "#FECB52"
          ],
          "font": {
           "color": "#2a3f5f"
          },
          "geo": {
           "bgcolor": "white",
           "lakecolor": "white",
           "landcolor": "#E5ECF6",
           "showlakes": true,
           "showland": true,
           "subunitcolor": "white"
          },
          "hoverlabel": {
           "align": "left"
          },
          "hovermode": "closest",
          "mapbox": {
           "style": "light"
          },
          "paper_bgcolor": "white",
          "plot_bgcolor": "#E5ECF6",
          "polar": {
           "angularaxis": {
            "gridcolor": "white",
            "linecolor": "white",
            "ticks": ""
           },
           "bgcolor": "#E5ECF6",
           "radialaxis": {
            "gridcolor": "white",
            "linecolor": "white",
            "ticks": ""
           }
          },
          "scene": {
           "xaxis": {
            "backgroundcolor": "#E5ECF6",
            "gridcolor": "white",
            "gridwidth": 2,
            "linecolor": "white",
            "showbackground": true,
            "ticks": "",
            "zerolinecolor": "white"
           },
           "yaxis": {
            "backgroundcolor": "#E5ECF6",
            "gridcolor": "white",
            "gridwidth": 2,
            "linecolor": "white",
            "showbackground": true,
            "ticks": "",
            "zerolinecolor": "white"
           },
           "zaxis": {
            "backgroundcolor": "#E5ECF6",
            "gridcolor": "white",
            "gridwidth": 2,
            "linecolor": "white",
            "showbackground": true,
            "ticks": "",
            "zerolinecolor": "white"
           }
          },
          "shapedefaults": {
           "line": {
            "color": "#2a3f5f"
           }
          },
          "ternary": {
           "aaxis": {
            "gridcolor": "white",
            "linecolor": "white",
            "ticks": ""
           },
           "baxis": {
            "gridcolor": "white",
            "linecolor": "white",
            "ticks": ""
           },
           "bgcolor": "#E5ECF6",
           "caxis": {
            "gridcolor": "white",
            "linecolor": "white",
            "ticks": ""
           }
          },
          "title": {
           "x": 0.05
          },
          "xaxis": {
           "automargin": true,
           "gridcolor": "white",
           "linecolor": "white",
           "ticks": "",
           "title": {
            "standoff": 15
           },
           "zerolinecolor": "white",
           "zerolinewidth": 2
          },
          "yaxis": {
           "automargin": true,
           "gridcolor": "white",
           "linecolor": "white",
           "ticks": "",
           "title": {
            "standoff": 15
           },
           "zerolinecolor": "white",
           "zerolinewidth": 2
          }
         }
        },
        "title": {
         "text": "Feature Importances of Features in Random Forest Regressor"
        },
        "xaxis": {
         "anchor": "y",
         "autorange": true,
         "categoryorder": "total descending",
         "domain": [
          0,
          1
         ],
         "range": [
          -0.5,
          152.5
         ],
         "title": {
          "text": "Features"
         },
         "type": "category"
        },
        "yaxis": {
         "anchor": "x",
         "autorange": true,
         "domain": [
          0,
          1
         ],
         "range": [
          0,
          0.03251694670839641
         ],
         "title": {
          "text": "Feature Importances"
         },
         "type": "linear"
        }
       }
      },
      "image/png": "[encoded data removed]",
      "text/html": [
       "<div>                            <div id=\"dfb0d66d-a471-47a0-92a6-00f88f97cd34\" class=\"plotly-graph-div\" style=\"height:525px; width:100%;\"></div>            <script type=\"text/javascript\">                require([\"plotly\"], function(Plotly) {                    window.PLOTLYENV=window.PLOTLYENV || {};                                    if (document.getElementById(\"dfb0d66d-a471-47a0-92a6-00f88f97cd34\")) {                    Plotly.newPlot(                        \"dfb0d66d-a471-47a0-92a6-00f88f97cd34\",                        [{\"alignmentgroup\":\"True\",\"hovertemplate\":\"Features=%{x}<br>Feature Importances=%{y}<extra></extra>\",\"legendgroup\":\"\",\"marker\":{\"color\":\"#636efa\",\"pattern\":{\"shape\":\"\"}},\"name\":\"\",\"offsetgroup\":\"\",\"orientation\":\"v\",\"showlegend\":false,\"textposition\":\"auto\",\"x\":[\"compatible_children\",\"compatible_dogs\",\"compatible_cats\",\"age_Adult\",\"age_Baby\",\"age_Senior\",\"age_Young\",\"gender_Female\",\"gender_Male\",\"size_Extra Large\",\"size_Large\",\"size_Medium\",\"size_Small\",\"coat_Curly\",\"coat_Hairless\",\"coat_Long\",\"coat_Medium\",\"coat_Short\",\"coat_Wire\",\"primary_breed_Affenpinscher\",\"primary_breed_Alaskan Malamute\",\"primary_breed_American Bulldog\",\"primary_breed_American Bully\",\"primary_breed_American Eskimo Dog\",\"primary_breed_American Staffordshire Terrier\",\"primary_breed_Anatolian Shepherd\",\"primary_breed_Aussiedoodle\",\"primary_breed_Australian Cattle Dog / Blue Heeler\",\"primary_breed_Australian Kelpie\",\"primary_breed_Australian Shepherd\",\"primary_breed_Australian Terrier\",\"primary_breed_Basset Hound\",\"primary_breed_Beagle\",\"primary_breed_Belgian Shepherd / Malinois\",\"primary_breed_Bernese Mountain Dog\",\"primary_breed_Bichon Frise\",\"primary_breed_Black Labrador Retriever\",\"primary_breed_Black Mouth Cur\",\"primary_breed_Bloodhound\",\"primary_breed_Blue Lacy\",\"primary_breed_Border Collie\",\"primary_breed_Border Terrier\",\"primary_breed_Boston Terrier\",\"primary_breed_Boxer\",\"primary_breed_Brussels Griffon\",\"primary_breed_Cairn Terrier\",\"primary_breed_Carolina Dog\",\"primary_breed_Catahoula Leopard Dog\",\"primary_breed_Cattle Dog\",\"primary_breed_Cavalier King Charles Spaniel\",\"primary_breed_Chihuahua\",\"primary_breed_Chinese Crested Dog\",\"primary_breed_Chiweenie\",\"primary_breed_Chocolate Labrador Retriever\",\"primary_breed_Chow Chow\",\"primary_breed_Cocker Spaniel\",\"primary_breed_Collie\",\"primary_breed_Coonhound\",\"primary_breed_Corgi\",\"primary_breed_Dachshund\",\"primary_breed_Dalmatian\",\"primary_breed_Doberman Pinscher\",\"primary_breed_Dogo Argentino\",\"primary_breed_Dutch Shepherd\",\"primary_breed_English Bulldog\",\"primary_breed_English Coonhound\",\"primary_breed_English Setter\",\"primary_breed_English Shepherd\",\"primary_breed_Entlebucher\",\"primary_breed_Feist\",\"primary_breed_Flat-Coated Retriever\",\"primary_breed_Fox Terrier\",\"primary_breed_Foxhound\",\"primary_breed_French Bulldog\",\"primary_breed_German Shepherd Dog\",\"primary_breed_German Wirehaired Pointer\",\"primary_breed_Golden Retriever\",\"primary_breed_Goldendoodle\",\"primary_breed_Great Dane\",\"primary_breed_Great Pyrenees\",\"primary_breed_Greyhound\",\"primary_breed_Hound\",\"primary_breed_Husky\",\"primary_breed_Ibizan Hound\",\"primary_breed_Icelandic Sheepdog\",\"primary_breed_Irish Terrier\",\"primary_breed_Italian Greyhound\",\"primary_breed_Jack Russell Terrier\",\"primary_breed_Japanese Chin\",\"primary_breed_Labradoodle\",\"primary_breed_Labrador Retriever\",\"primary_breed_Lhasa Apso\",\"primary_breed_Maltese\",\"primary_breed_Maltipoo\",\"primary_breed_Mastiff\",\"primary_breed_Miniature Dachshund\",\"primary_breed_Miniature Pinscher\",\"primary_breed_Miniature Poodle\",\"primary_breed_Miniature Schnauzer\",\"primary_breed_Mixed Breed\",\"primary_breed_Mountain Cur\",\"primary_breed_Newfoundland Dog\",\"primary_breed_Norfolk Terrier\",\"primary_breed_Old English Sheepdog\",\"primary_breed_Parson Russell Terrier\",\"primary_breed_Patterdale Terrier / Fell Terrier\",\"primary_breed_Pekingese\",\"primary_breed_Pharaoh Hound\",\"primary_breed_Pit Bull Terrier\",\"primary_breed_Pointer\",\"primary_breed_Pomeranian\",\"primary_breed_Poodle\",\"primary_breed_Pug\",\"primary_breed_Rat Terrier\",\"primary_breed_Retriever\",\"primary_breed_Rhodesian Ridgeback\",\"primary_breed_Rottweiler\",\"primary_breed_Saluki\",\"primary_breed_Schnauzer\",\"primary_breed_Shar-Pei\",\"primary_breed_Shepherd\",\"primary_breed_Shetland Sheepdog / Sheltie\",\"primary_breed_Shiba Inu\",\"primary_breed_Shih Tzu\",\"primary_breed_Siberian Husky\",\"primary_breed_Spaniel\",\"primary_breed_Staffordshire Bull Terrier\",\"primary_breed_Standard Poodle\",\"primary_breed_Terrier\",\"primary_breed_Tibetan Terrier\",\"primary_breed_Vizsla\",\"primary_breed_Weimaraner\",\"primary_breed_Whippet\",\"primary_breed_White German Shepherd\",\"primary_breed_Wirehaired Terrier\",\"primary_breed_Xoloitzcuintli / Mexican Hairless\",\"primary_breed_Yellow Labrador Retriever\",\"primary_breed_Yorkshire Terrier\",\"primary_color_Apricot / Beige\",\"primary_color_Bicolor\",\"primary_color_Black\",\"primary_color_Brindle\",\"primary_color_Brown / Chocolate\",\"primary_color_Golden\",\"primary_color_Gray / Blue / Silver\",\"primary_color_Harlequin\",\"primary_color_Merle (Blue)\",\"primary_color_Merle (Red)\",\"primary_color_Red / Chestnut / Orange\",\"primary_color_Sable\",\"primary_color_Tricolor (Brown, Black, & White)\",\"primary_color_White / Cream\",\"primary_color_Yellow / Tan / Blond / Fawn\"],\"xaxis\":\"x\",\"y\":[0.005575796152419338,0.008577490061462497,0.020554563790801922,0.022432133769015775,0.030891099372976585,0.01199645276310081,0.022803178515203765,0.025354703646387193,0.02508531626465484,0.0047839291807474415,0.02005805146499122,0.021934872041997046,0.017007819844014536,0.00507358018619348,0.0007699442706202124,0.011036466467860823,0.022597161344840386,0.01984738206587531,0.005673228422257637,0.0015752417191488921,0.00028545669435570137,0.0066920529632222905,0.003024110645147945,0.0015555807158992862,0.011334826981732566,0.002160633604648773,0.000699027948528866,0.013369772707715007,0.001484896430016727,0.01666859990255457,0.002967016696865806,0.004349248280967702,0.011388905607626116,0.0035097076853778174,0.0010778974632863368,0.0022492510822401373,0.009930141666533759,0.00458938650595704,0.0016944079590305331,0.0006703843028867474,0.005944758747814777,0.0,0.004930351037567912,0.010155774800608905,0.0,0.0033167426128415376,0.0,0.008013256371379469,0.00456437142222898,0.0013822238532123193,0.019021949530548577,0.00012757471194892143,0.0019283506794885263,0.0004176929696833133,0.0014803408138728122,0.002983767922275806,0.0018970116370642003,0.0,0.014640441180347024,0.009756416280286685,0.0007958975131713182,0.005900040068029767,0.0,0.009977439383369906,0.003275988735270642,0.0009089131276105677,0.0015418176931985314,0.0006598086821853899,0.001172127831974323,0.0010505725096443574,0.004339730475808039,0.0,0.0008255775630374096,0.002028114515930299,0.014435294855895198,0.0017619464741604235,0.0062825626883455735,0.0019933203997979433,0.0001245985995441587,0.0057715887377221865,0.0006030004491976926,0.015150818258557741,0.007070000674203082,0.0010858389123436524,0.008369389853924025,0.0009789390441303555,0.0031167949322027984,0.006576484403988289,0.0006831156141477601,0.0,0.023007029923918378,0.00024079359932018993,0.003387272161386068,0.001103318043853556,0.0002300019345814034,0.00044087985925186446,0.0005010754014918473,0.00425648694802128,0.0025701895651863665,0.018747294385023486,0.0006973238011378087,0.0016204101883393568,0.0006630280532652262,0.00031935891826423646,0.0,0.0014993013489067095,0.0010448159154978912,0.00033725574666967987,0.014975308855501855,0.001475369809013408,0.0010612595694851645,0.006031189585674446,0.003962656954664262,0.007620664571194598,0.005096734009960571,0.0014895845475459584,0.0016118868710938655,0.0,0.0058416691365377246,0.000755046895291899,0.011840970795032164,0.0005914019429840115,0.002021754931558693,0.005934426207109835,0.0034022254196101305,0.0017363290032115228,0.003945000181174651,0.003267746754719482,0.01644402387888124,0.00059083758777095,0.000523968517314698,0.0004882069400273996,0.0007734127838978842,0.0014597246439836142,0.0,0.0014778662475650652,0.009429987995585408,0.004734258943418354,0.01574631331363747,0.01492622825123466,0.029195560103400138,0.013387541221702225,0.018738977038506178,0.013126538447369687,0.016514580919012173,0.003076802908917506,0.008371399608360565,0.0038963758641871317,0.01699455486124652,0.0003498044270285814,0.023218115353221137,0.022875404940852485,0.019961989609674685],\"yaxis\":\"y\",\"type\":\"bar\"}],                        {\"template\":{\"data\":{\"bar\":[{\"error_x\":{\"color\":\"#2a3f5f\"},\"error_y\":{\"color\":\"#2a3f5f\"},\"marker\":{\"line\":{\"color\":\"#E5ECF6\",\"width\":0.5},\"pattern\":{\"fillmode\":\"overlay\",\"size\":10,\"solidity\":0.2}},\"type\":\"bar\"}],\"barpolar\":[{\"marker\":{\"line\":{\"color\":\"#E5ECF6\",\"width\":0.5},\"pattern\":{\"fillmode\":\"overlay\",\"size\":10,\"solidity\":0.2}},\"type\":\"barpolar\"}],\"carpet\":[{\"aaxis\":{\"endlinecolor\":\"#2a3f5f\",\"gridcolor\":\"white\",\"linecolor\":\"white\",\"minorgridcolor\":\"white\",\"startlinecolor\":\"#2a3f5f\"},\"baxis\":{\"endlinecolor\":\"#2a3f5f\",\"gridcolor\":\"white\",\"linecolor\":\"white\",\"minorgridcolor\":\"white\",\"startlinecolor\":\"#2a3f5f\"},\"type\":\"carpet\"}],\"choropleth\":[{\"colorbar\":{\"outlinewidth\":0,\"ticks\":\"\"},\"type\":\"choropleth\"}],\"contour\":[{\"colorbar\":{\"outlinewidth\":0,\"ticks\":\"\"},\"colorscale\":[[0.0,\"#0d0887\"],[0.1111111111111111,\"#46039f\"],[0.2222222222222222,\"#7201a8\"],[0.3333333333333333,\"#9c179e\"],[0.4444444444444444,\"#bd3786\"],[0.5555555555555556,\"#d8576b\"],[0.6666666666666666,\"#ed7953\"],[0.7777777777777778,\"#fb9f3a\"],[0.8888888888888888,\"#fdca26\"],[1.0,\"#f0f921\"]],\"type\":\"contour\"}],\"contourcarpet\":[{\"colorbar\":{\"outlinewidth\":0,\"ticks\":\"\"},\"type\":\"contourcarpet\"}],\"heatmap\":[{\"colorbar\":{\"outlinewidth\":0,\"ticks\":\"\"},\"colorscale\":[[0.0,\"#0d0887\"],[0.1111111111111111,\"#46039f\"],[0.2222222222222222,\"#7201a8\"],[0.3333333333333333,\"#9c179e\"],[0.4444444444444444,\"#bd3786\"],[0.5555555555555556,\"#d8576b\"],[0.6666666666666666,\"#ed7953\"],[0.7777777777777778,\"#fb9f3a\"],[0.8888888888888888,\"#fdca26\"],[1.0,\"#f0f921\"]],\"type\":\"heatmap\"}],\"heatmapgl\":[{\"colorbar\":{\"outlinewidth\":0,\"ticks\":\"\"},\"colorscale\":[[0.0,\"#0d0887\"],[0.1111111111111111,\"#46039f\"],[0.2222222222222222,\"#7201a8\"],[0.3333333333333333,\"#9c179e\"],[0.4444444444444444,\"#bd3786\"],[0.5555555555555556,\"#d8576b\"],[0.6666666666666666,\"#ed7953\"],[0.7777777777777778,\"#fb9f3a\"],[0.8888888888888888,\"#fdca26\"],[1.0,\"#f0f921\"]],\"type\":\"heatmapgl\"}],\"histogram\":[{\"marker\":{\"pattern\":{\"fillmode\":\"overlay\",\"size\":10,\"solidity\":0.2}},\"type\":\"histogram\"}],\"histogram2d\":[{\"colorbar\":{\"outlinewidth\":0,\"ticks\":\"\"},\"colorscale\":[[0.0,\"#0d0887\"],[0.1111111111111111,\"#46039f\"],[0.2222222222222222,\"#7201a8\"],[0.3333333333333333,\"#9c179e\"],[0.4444444444444444,\"#bd3786\"],[0.5555555555555556,\"#d8576b\"],[0.6666666666666666,\"#ed7953\"],[0.7777777777777778,\"#fb9f3a\"],[0.8888888888888888,\"#fdca26\"],[1.0,\"#f0f921\"]],\"type\":\"histogram2d\"}],\"histogram2dcontour\":[{\"colorbar\":{\"outlinewidth\":0,\"ticks\":\"\"},\"colorscale\":[[0.0,\"#0d0887\"],[0.1111111111111111,\"#46039f\"],[0.2222222222222222,\"#7201a8\"],[0.3333333333333333,\"#9c179e\"],[0.4444444444444444,\"#bd3786\"],[0.5555555555555556,\"#d8576b\"],[0.6666666666666666,\"#ed7953\"],[0.7777777777777778,\"#fb9f3a\"],[0.8888888888888888,\"#fdca26\"],[1.0,\"#f0f921\"]],\"type\":\"histogram2dcontour\"}],\"mesh3d\":[{\"colorbar\":{\"outlinewidth\":0,\"ticks\":\"\"},\"type\":\"mesh3d\"}],\"parcoords\":[{\"line\":{\"colorbar\":{\"outlinewidth\":0,\"ticks\":\"\"}},\"type\":\"parcoords\"}],\"pie\":[{\"automargin\":true,\"type\":\"pie\"}],\"scatter\":[{\"marker\":{\"colorbar\":{\"outlinewidth\":0,\"ticks\":\"\"}},\"type\":\"scatter\"}],\"scatter3d\":[{\"line\":{\"colorbar\":{\"outlinewidth\":0,\"ticks\":\"\"}},\"marker\":{\"colorbar\":{\"outlinewidth\":0,\"ticks\":\"\"}},\"type\":\"scatter3d\"}],\"scattercarpet\":[{\"marker\":{\"colorbar\":{\"outlinewidth\":0,\"ticks\":\"\"}},\"type\":\"scattercarpet\"}],\"scattergeo\":[{\"marker\":{\"colorbar\":{\"outlinewidth\":0,\"ticks\":\"\"}},\"type\":\"scattergeo\"}],\"scattergl\":[{\"marker\":{\"colorbar\":{\"outlinewidth\":0,\"ticks\":\"\"}},\"type\":\"scattergl\"}],\"scattermapbox\":[{\"marker\":{\"colorbar\":{\"outlinewidth\":0,\"ticks\":\"\"}},\"type\":\"scattermapbox\"}],\"scatterpolar\":[{\"marker\":{\"colorbar\":{\"outlinewidth\":0,\"ticks\":\"\"}},\"type\":\"scatterpolar\"}],\"scatterpolargl\":[{\"marker\":{\"colorbar\":{\"outlinewidth\":0,\"ticks\":\"\"}},\"type\":\"scatterpolargl\"}],\"scatterternary\":[{\"marker\":{\"colorbar\":{\"outlinewidth\":0,\"ticks\":\"\"}},\"type\":\"scatterternary\"}],\"surface\":[{\"colorbar\":{\"outlinewidth\":0,\"ticks\":\"\"},\"colorscale\":[[0.0,\"#0d0887\"],[0.1111111111111111,\"#46039f\"],[0.2222222222222222,\"#7201a8\"],[0.3333333333333333,\"#9c179e\"],[0.4444444444444444,\"#bd3786\"],[0.5555555555555556,\"#d8576b\"],[0.6666666666666666,\"#ed7953\"],[0.7777777777777778,\"#fb9f3a\"],[0.8888888888888888,\"#fdca26\"],[1.0,\"#f0f921\"]],\"type\":\"surface\"}],\"table\":[{\"cells\":{\"fill\":{\"color\":\"#EBF0F8\"},\"line\":{\"color\":\"white\"}},\"header\":{\"fill\":{\"color\":\"#C8D4E3\"},\"line\":{\"color\":\"white\"}},\"type\":\"table\"}]},\"layout\":{\"annotationdefaults\":{\"arrowcolor\":\"#2a3f5f\",\"arrowhead\":0,\"arrowwidth\":1},\"autotypenumbers\":\"strict\",\"coloraxis\":{\"colorbar\":{\"outlinewidth\":0,\"ticks\":\"\"}},\"colorscale\":{\"diverging\":[[0,\"#8e0152\"],[0.1,\"#c51b7d\"],[0.2,\"#de77ae\"],[0.3,\"#f1b6da\"],[0.4,\"#fde0ef\"],[0.5,\"#f7f7f7\"],[0.6,\"#e6f5d0\"],[0.7,\"#b8e186\"],[0.8,\"#7fbc41\"],[0.9,\"#4d9221\"],[1,\"#276419\"]],\"sequential\":[[0.0,\"#0d0887\"],[0.1111111111111111,\"#46039f\"],[0.2222222222222222,\"#7201a8\"],[0.3333333333333333,\"#9c179e\"],[0.4444444444444444,\"#bd3786\"],[0.5555555555555556,\"#d8576b\"],[0.6666666666666666,\"#ed7953\"],[0.7777777777777778,\"#fb9f3a\"],[0.8888888888888888,\"#fdca26\"],[1.0,\"#f0f921\"]],\"sequentialminus\":[[0.0,\"#0d0887\"],[0.1111111111111111,\"#46039f\"],[0.2222222222222222,\"#7201a8\"],[0.3333333333333333,\"#9c179e\"],[0.4444444444444444,\"#bd3786\"],[0.5555555555555556,\"#d8576b\"],[0.6666666666666666,\"#ed7953\"],[0.7777777777777778,\"#fb9f3a\"],[0.8888888888888888,\"#fdca26\"],[1.0,\"#f0f921\"]]},\"colorway\":[\"#636efa\",\"#EF553B\",\"#00cc96\",\"#ab63fa\",\"#FFA15A\",\"#19d3f3\",\"#FF6692\",\"#B6E880\",\"#FF97FF\",\"#FECB52\"],\"font\":{\"color\":\"#2a3f5f\"},\"geo\":{\"bgcolor\":\"white\",\"lakecolor\":\"white\",\"landcolor\":\"#E5ECF6\",\"showlakes\":true,\"showland\":true,\"subunitcolor\":\"white\"},\"hoverlabel\":{\"align\":\"left\"},\"hovermode\":\"closest\",\"mapbox\":{\"style\":\"light\"},\"paper_bgcolor\":\"white\",\"plot_bgcolor\":\"#E5ECF6\",\"polar\":{\"angularaxis\":{\"gridcolor\":\"white\",\"linecolor\":\"white\",\"ticks\":\"\"},\"bgcolor\":\"#E5ECF6\",\"radialaxis\":{\"gridcolor\":\"white\",\"linecolor\":\"white\",\"ticks\":\"\"}},\"scene\":{\"xaxis\":{\"backgroundcolor\":\"#E5ECF6\",\"gridcolor\":\"white\",\"gridwidth\":2,\"linecolor\":\"white\",\"showbackground\":true,\"ticks\":\"\",\"zerolinecolor\":\"white\"},\"yaxis\":{\"backgroundcolor\":\"#E5ECF6\",\"gridcolor\":\"white\",\"gridwidth\":2,\"linecolor\":\"white\",\"showbackground\":true,\"ticks\":\"\",\"zerolinecolor\":\"white\"},\"zaxis\":{\"backgroundcolor\":\"#E5ECF6\",\"gridcolor\":\"white\",\"gridwidth\":2,\"linecolor\":\"white\",\"showbackground\":true,\"ticks\":\"\",\"zerolinecolor\":\"white\"}},\"shapedefaults\":{\"line\":{\"color\":\"#2a3f5f\"}},\"ternary\":{\"aaxis\":{\"gridcolor\":\"white\",\"linecolor\":\"white\",\"ticks\":\"\"},\"baxis\":{\"gridcolor\":\"white\",\"linecolor\":\"white\",\"ticks\":\"\"},\"bgcolor\":\"#E5ECF6\",\"caxis\":{\"gridcolor\":\"white\",\"linecolor\":\"white\",\"ticks\":\"\"}},\"title\":{\"x\":0.05},\"xaxis\":{\"automargin\":true,\"gridcolor\":\"white\",\"linecolor\":\"white\",\"ticks\":\"\",\"title\":{\"standoff\":15},\"zerolinecolor\":\"white\",\"zerolinewidth\":2},\"yaxis\":{\"automargin\":true,\"gridcolor\":\"white\",\"linecolor\":\"white\",\"ticks\":\"\",\"title\":{\"standoff\":15},\"zerolinecolor\":\"white\",\"zerolinewidth\":2}}},\"xaxis\":{\"anchor\":\"y\",\"domain\":[0.0,1.0],\"title\":{\"text\":\"Features\"},\"categoryorder\":\"total descending\"},\"yaxis\":{\"anchor\":\"x\",\"domain\":[0.0,1.0],\"title\":{\"text\":\"Feature Importances\"}},\"legend\":{\"tracegroupgap\":0},\"title\":{\"text\":\"Feature Importances of Features in Random Forest Regressor\"},\"barmode\":\"relative\"},                        {\"responsive\": true}                    ).then(function(){\n",
       "                            \n",
       "var gd = document.getElementById('dfb0d66d-a471-47a0-92a6-00f88f97cd34');\n",
       "var x = new MutationObserver(function (mutations, observer) {{\n",
       "        var display = window.getComputedStyle(gd).display;\n",
       "        if (!display || display === 'none') {{\n",
       "            console.log([gd, 'removed!']);\n",
       "            Plotly.purge(gd);\n",
       "            observer.disconnect();\n",
       "        }}\n",
       "}});\n",
       "\n",
       "// Listen for the removal of the full notebook cells\n",
       "var notebookContainer = gd.closest('#notebook-container');\n",
       "if (notebookContainer) {{\n",
       "    x.observe(notebookContainer, {childList: true});\n",
       "}}\n",
       "\n",
       "// Listen for the clearing of the current output cell\n",
       "var outputEl = gd.closest('.output');\n",
       "if (outputEl) {{\n",
       "    x.observe(outputEl, {childList: true});\n",
       "}}\n",
       "\n",
       "                        })                };                });            </script>        </div>"
      ]
     },
     "metadata": {},
     "output_type": "display_data"
    }
   ],
   "source": [
    "# plot feature importance\n",
    "px.bar(x=x_feat_list, y=feature_importances, title='Feature Importances of Features in Random Forest Regressor', labels={'x': 'Features', 'y':'Feature Importances'}).update_xaxes(categoryorder='total descending')"
   ]
  },
  {
   "cell_type": "markdown",
   "id": "73d55eea-158b-46f7-ac75-de5197ea93e8",
   "metadata": {},
   "source": [
    "#### A NOTE ON CONSISTENCY\n",
    "Because the Random Forest Regressor Model is random, the most important features are subject to change each time that the model is run. The following list of \"most important features\" was made by pulling the most important features from the above graph (those with the highest feature importances) in the most recent run of the model. This list of features is then used in our following analysis (linear regression). Please note that running the code again (as in when grading) may yield different feature importances, and therefore the below list may no longer match the most recent run of the model. This should be considered for the development of each of the feature lists in the following tests. "
   ]
  },
  {
   "cell_type": "code",
   "execution_count": 66,
   "id": "9740cdb1",
   "metadata": {},
   "outputs": [
    {
     "name": "stdout",
     "output_type": "stream",
     "text": [
      "['age_Baby',\n",
      " 'gender_Male',\n",
      " 'primary_color_White / Cream',\n",
      " 'age_Adult',\n",
      " 'size_Large',\n",
      " 'primary_breed_Chihuahua',\n",
      " 'size_Small',\n",
      " 'primary_color_Gray / Blue / Silver',\n",
      " 'primary_breed_Hound',\n",
      " 'primary_breed_Corgi',\n",
      " 'primary_breed_Australian Cattle Dog / Blue Heeler',\n",
      " 'primary_breed_Shepherd',\n",
      " 'coat_Long',\n",
      " 'primary_breed_Black Labrador Retriever',\n",
      " 'compatible_dogs']\n"
     ]
    }
   ],
   "source": [
    "# make a list of 15 features with highest feature importance and print\n",
    "top_15_feats = ['age_Baby', 'gender_Male', 'primary_color_White / Cream', 'age_Adult', 'size_Large',\n",
    "                'primary_breed_Chihuahua', 'size_Small', 'primary_color_Gray / Blue / Silver', \n",
    "                'primary_breed_Hound', 'primary_breed_Corgi', \n",
    "                'primary_breed_Australian Cattle Dog / Blue Heeler', 'primary_breed_Shepherd', \n",
    "                'coat_Long', 'primary_breed_Black Labrador Retriever', 'compatible_dogs']\n",
    "                \n",
    "pprint.pprint(top_15_feats)"
   ]
  },
  {
   "cell_type": "markdown",
   "id": "fa61b73a",
   "metadata": {},
   "source": [
    "### TEST 2: X Features only include Breeds "
   ]
  },
  {
   "cell_type": "code",
   "execution_count": 20,
   "id": "61dafad8",
   "metadata": {
    "scrolled": true
   },
   "outputs": [],
   "source": [
    "# define list of x features to use \n",
    "x_feat_list_breeds = ['primary_breed_Affenpinscher', \n",
    "               'primary_breed_Alaskan Malamute', 'primary_breed_American Bulldog', \n",
    "               'primary_breed_American Bully', 'primary_breed_American Eskimo Dog', \n",
    "               'primary_breed_American Staffordshire Terrier', 'primary_breed_Anatolian Shepherd', \n",
    "               'primary_breed_Aussiedoodle', 'primary_breed_Australian Cattle Dog / Blue Heeler', \n",
    "               'primary_breed_Australian Kelpie', 'primary_breed_Australian Shepherd', \n",
    "               'primary_breed_Australian Terrier', 'primary_breed_Basset Hound', 'primary_breed_Beagle', \n",
    "               'primary_breed_Belgian Shepherd / Malinois', 'primary_breed_Bernese Mountain Dog', \n",
    "               'primary_breed_Bichon Frise', 'primary_breed_Black Labrador Retriever', \n",
    "               'primary_breed_Black Mouth Cur', 'primary_breed_Bloodhound', 'primary_breed_Blue Lacy', \n",
    "               'primary_breed_Border Collie', 'primary_breed_Border Terrier', 'primary_breed_Boston Terrier', \n",
    "               'primary_breed_Boxer', 'primary_breed_Brussels Griffon', 'primary_breed_Cairn Terrier', \n",
    "               'primary_breed_Carolina Dog', 'primary_breed_Catahoula Leopard Dog', 'primary_breed_Cattle Dog', \n",
    "               'primary_breed_Cavalier King Charles Spaniel', 'primary_breed_Chihuahua', \n",
    "               'primary_breed_Chinese Crested Dog', 'primary_breed_Chiweenie', 'primary_breed_Chocolate Labrador Retriever', \n",
    "               'primary_breed_Chow Chow', 'primary_breed_Cocker Spaniel', 'primary_breed_Collie', 'primary_breed_Coonhound', \n",
    "               'primary_breed_Corgi', 'primary_breed_Dachshund', 'primary_breed_Dalmatian', \n",
    "               'primary_breed_Doberman Pinscher', 'primary_breed_Dogo Argentino', 'primary_breed_Dutch Shepherd', \n",
    "               'primary_breed_English Bulldog', 'primary_breed_English Coonhound', 'primary_breed_English Setter', \n",
    "               'primary_breed_English Shepherd', 'primary_breed_Entlebucher', 'primary_breed_Feist', \n",
    "               'primary_breed_Flat-Coated Retriever', 'primary_breed_Fox Terrier', 'primary_breed_Foxhound', \n",
    "               'primary_breed_French Bulldog', 'primary_breed_German Shepherd Dog', 'primary_breed_German Wirehaired Pointer', \n",
    "               'primary_breed_Golden Retriever', 'primary_breed_Goldendoodle', 'primary_breed_Great Dane', \n",
    "               'primary_breed_Great Pyrenees', 'primary_breed_Greyhound', 'primary_breed_Hound', 'primary_breed_Husky', \n",
    "               'primary_breed_Ibizan Hound', 'primary_breed_Icelandic Sheepdog', 'primary_breed_Irish Terrier', \n",
    "               'primary_breed_Italian Greyhound', 'primary_breed_Jack Russell Terrier', 'primary_breed_Japanese Chin', \n",
    "               'primary_breed_Labradoodle', 'primary_breed_Labrador Retriever', 'primary_breed_Lhasa Apso', \n",
    "               'primary_breed_Maltese', 'primary_breed_Maltipoo', 'primary_breed_Mastiff', 'primary_breed_Miniature Dachshund', \n",
    "               'primary_breed_Miniature Pinscher', 'primary_breed_Miniature Poodle', 'primary_breed_Miniature Schnauzer', \n",
    "               'primary_breed_Mixed Breed', 'primary_breed_Mountain Cur', 'primary_breed_Newfoundland Dog', \n",
    "               'primary_breed_Norfolk Terrier', 'primary_breed_Old English Sheepdog', 'primary_breed_Parson Russell Terrier', \n",
    "               'primary_breed_Patterdale Terrier / Fell Terrier', 'primary_breed_Pekingese', 'primary_breed_Pharaoh Hound', \n",
    "               'primary_breed_Pit Bull Terrier', 'primary_breed_Pointer', 'primary_breed_Pomeranian', 'primary_breed_Poodle', \n",
    "               'primary_breed_Pug', 'primary_breed_Rat Terrier', 'primary_breed_Retriever', 'primary_breed_Rhodesian Ridgeback', \n",
    "               'primary_breed_Rottweiler', 'primary_breed_Saluki', 'primary_breed_Schnauzer', 'primary_breed_Shar-Pei', \n",
    "               'primary_breed_Shepherd', 'primary_breed_Shetland Sheepdog / Sheltie', 'primary_breed_Shiba Inu', \n",
    "               'primary_breed_Shih Tzu', 'primary_breed_Siberian Husky', 'primary_breed_Spaniel', \n",
    "               'primary_breed_Staffordshire Bull Terrier', 'primary_breed_Standard Poodle', 'primary_breed_Terrier', \n",
    "               'primary_breed_Tibetan Terrier', 'primary_breed_Vizsla', 'primary_breed_Weimaraner', 'primary_breed_Whippet', \n",
    "               'primary_breed_White German Shepherd', 'primary_breed_Wirehaired Terrier', 'primary_breed_Xoloitzcuintli / Mexican Hairless', \n",
    "               'primary_breed_Yellow Labrador Retriever', 'primary_breed_Yorkshire Terrier']"
   ]
  },
  {
   "cell_type": "code",
   "execution_count": 28,
   "id": "0d5f7c16",
   "metadata": {
    "scrolled": true
   },
   "outputs": [
    {
     "name": "stdout",
     "output_type": "stream",
     "text": [
      "R2: -0.07923777482602556, MSE: 251445.87811557282\n"
     ]
    }
   ],
   "source": [
    "# run random forest regressor and print accuracy metrics\n",
    "feature_importances, feat_import_dict, r2, mse, residuals  = random_forest_regress_default(x_feat_list=x_feat_list_breeds, y_col='delta_time_minutes', df=dogs_df_dummies)\n",
    "print(f'''R2: {r2}, MSE: {mse}''')"
   ]
  },
  {
   "cell_type": "code",
   "execution_count": 29,
   "id": "64a56c53",
   "metadata": {},
   "outputs": [
    {
     "name": "stdout",
     "output_type": "stream",
     "text": [
      "{'primary_breed_Affenpinscher': 0.008435994425368751,\n",
      " 'primary_breed_Alaskan Malamute': 0.00539068279783554,\n",
      " 'primary_breed_American Bulldog': 0.02402353726912113,\n",
      " 'primary_breed_American Bully': 0.006216157070099311,\n",
      " 'primary_breed_American Eskimo Dog': 0.007623114695853407,\n",
      " 'primary_breed_American Staffordshire Terrier': 0.03455361519253297,\n",
      " 'primary_breed_Anatolian Shepherd': 0.007968878596434487,\n",
      " 'primary_breed_Aussiedoodle': 0.005455625723793056,\n",
      " 'primary_breed_Australian Cattle Dog / Blue Heeler': 0.008018200940708898,\n",
      " 'primary_breed_Australian Kelpie': 0.00532170700343404,\n",
      " 'primary_breed_Australian Shepherd': 0.020249103420852413,\n",
      " 'primary_breed_Australian Terrier': 0.005556152292017976,\n",
      " 'primary_breed_Basset Hound': 0.00581130280078075,\n",
      " 'primary_breed_Beagle': 0.007968119064140603,\n",
      " 'primary_breed_Belgian Shepherd / Malinois': 0.014687598191786083,\n",
      " 'primary_breed_Bernese Mountain Dog': 0.005062305577241545,\n",
      " 'primary_breed_Bichon Frise': 0.006445916717515207,\n",
      " 'primary_breed_Black Labrador Retriever': 0.0073522820918737325,\n",
      " 'primary_breed_Black Mouth Cur': 0.007053481881594595,\n",
      " 'primary_breed_Bloodhound': 0.006369909243749707,\n",
      " 'primary_breed_Blue Lacy': 0.004705621273291276,\n",
      " 'primary_breed_Border Collie': 0.006314776685375585,\n",
      " 'primary_breed_Border Terrier': 0.0,\n",
      " 'primary_breed_Boston Terrier': 0.013368628692429968,\n",
      " 'primary_breed_Boxer': 0.008213536517552342,\n",
      " 'primary_breed_Brussels Griffon': 0.0,\n",
      " 'primary_breed_Cairn Terrier': 0.0025919557483052836,\n",
      " 'primary_breed_Carolina Dog': 0.0,\n",
      " 'primary_breed_Catahoula Leopard Dog': 0.00790081941449239,\n",
      " 'primary_breed_Cattle Dog': 0.009581909924509526,\n",
      " 'primary_breed_Cavalier King Charles Spaniel': 0.007122810213172806,\n",
      " 'primary_breed_Chihuahua': 0.011454770619471907,\n",
      " 'primary_breed_Chinese Crested Dog': 0.001789116758690834,\n",
      " 'primary_breed_Chiweenie': 0.00471592559218102,\n",
      " 'primary_breed_Chocolate Labrador Retriever': 0.0005167835543456569,\n",
      " 'primary_breed_Chow Chow': 0.009661825593072043,\n",
      " 'primary_breed_Cocker Spaniel': 0.012902243114982996,\n",
      " 'primary_breed_Collie': 0.009003199582207006,\n",
      " 'primary_breed_Coonhound': 0.0,\n",
      " 'primary_breed_Corgi': 0.008947933937583172,\n",
      " 'primary_breed_Dachshund': 0.008880749470222972,\n",
      " 'primary_breed_Dalmatian': 0.007864003237026521,\n",
      " 'primary_breed_Doberman Pinscher': 0.021870875549047417,\n",
      " 'primary_breed_Dogo Argentino': 0.0,\n",
      " 'primary_breed_Dutch Shepherd': 0.04197709349653065,\n",
      " 'primary_breed_English Bulldog': 0.01094061403319372,\n",
      " 'primary_breed_English Coonhound': 0.0019329626418168877,\n",
      " 'primary_breed_English Setter': 0.005630778218853548,\n",
      " 'primary_breed_English Shepherd': 0.009825253022088528,\n",
      " 'primary_breed_Entlebucher': 0.00504700570024024,\n",
      " 'primary_breed_Feist': 0.000707219526805265,\n",
      " 'primary_breed_Flat-Coated Retriever': 0.007405845422877523,\n",
      " 'primary_breed_Fox Terrier': 0.0,\n",
      " 'primary_breed_Foxhound': 0.0082687732441486,\n",
      " 'primary_breed_French Bulldog': 0.014130201840308231,\n",
      " 'primary_breed_German Shepherd Dog': 0.006702704431914545,\n",
      " 'primary_breed_German Wirehaired Pointer': 0.006814345997610666,\n",
      " 'primary_breed_Golden Retriever': 0.02503971862822425,\n",
      " 'primary_breed_Goldendoodle': 0.005565479720223017,\n",
      " 'primary_breed_Great Dane': 0.002094762386316231,\n",
      " 'primary_breed_Great Pyrenees': 0.006351528734899428,\n",
      " 'primary_breed_Greyhound': 0.0055660288632250286,\n",
      " 'primary_breed_Hound': 0.026221929215148782,\n",
      " 'primary_breed_Husky': 0.005742619205785549,\n",
      " 'primary_breed_Ibizan Hound': 0.008552800044652727,\n",
      " 'primary_breed_Icelandic Sheepdog': 0.04093345391396917,\n",
      " 'primary_breed_Irish Terrier': 0.010798868962640883,\n",
      " 'primary_breed_Italian Greyhound': 0.0044716801924349365,\n",
      " 'primary_breed_Jack Russell Terrier': 0.011918465904320871,\n",
      " 'primary_breed_Japanese Chin': 0.005246167710328746,\n",
      " 'primary_breed_Labradoodle': 0.0,\n",
      " 'primary_breed_Labrador Retriever': 0.015267817785467581,\n",
      " 'primary_breed_Lhasa Apso': 0.0012035434952333414,\n",
      " 'primary_breed_Maltese': 0.005610988151044277,\n",
      " 'primary_breed_Maltipoo': 0.008696895091093745,\n",
      " 'primary_breed_Mastiff': 0.004534913538862032,\n",
      " 'primary_breed_Miniature Dachshund': 0.0011650433893787763,\n",
      " 'primary_breed_Miniature Pinscher': 0.003945546628564157,\n",
      " 'primary_breed_Miniature Poodle': 0.01678461159142879,\n",
      " 'primary_breed_Miniature Schnauzer': 0.005800731538708526,\n",
      " 'primary_breed_Mixed Breed': 0.010601445725652716,\n",
      " 'primary_breed_Mountain Cur': 0.0004038384352356143,\n",
      " 'primary_breed_Newfoundland Dog': 0.003971921959574779,\n",
      " 'primary_breed_Norfolk Terrier': 0.006574687266431759,\n",
      " 'primary_breed_Old English Sheepdog': 0.007820868386948754,\n",
      " 'primary_breed_Parson Russell Terrier': 0.0,\n",
      " 'primary_breed_Patterdale Terrier / Fell Terrier': 0.006218221897564467,\n",
      " 'primary_breed_Pekingese': 0.005467934474039226,\n",
      " 'primary_breed_Pharaoh Hound': 0.00020497546320618894,\n",
      " 'primary_breed_Pit Bull Terrier': 0.008083750525123586,\n",
      " 'primary_breed_Pointer': 0.0024957254957451835,\n",
      " 'primary_breed_Pomeranian': 0.009182102063477054,\n",
      " 'primary_breed_Poodle': 0.005966401266275032,\n",
      " 'primary_breed_Pug': 0.006570633054889373,\n",
      " 'primary_breed_Rat Terrier': 0.023314357945810008,\n",
      " 'primary_breed_Retriever': 0.02502186362637675,\n",
      " 'primary_breed_Rhodesian Ridgeback': 0.0060307984721286595,\n",
      " 'primary_breed_Rottweiler': 0.004177946641052278,\n",
      " 'primary_breed_Saluki': 0.0,\n",
      " 'primary_breed_Schnauzer': 0.029554682166301693,\n",
      " 'primary_breed_Shar-Pei': 0.005343111346870217,\n",
      " 'primary_breed_Shepherd': 0.005177418664960128,\n",
      " 'primary_breed_Shetland Sheepdog / Sheltie': 0.0005811240791138773,\n",
      " 'primary_breed_Shiba Inu': 0.009462685239990224,\n",
      " 'primary_breed_Shih Tzu': 0.019365249272942173,\n",
      " 'primary_breed_Siberian Husky': 0.00783121256076049,\n",
      " 'primary_breed_Spaniel': 0.01498625309924531,\n",
      " 'primary_breed_Staffordshire Bull Terrier': 0.007168392309533987,\n",
      " 'primary_breed_Standard Poodle': 0.017015477658013492,\n",
      " 'primary_breed_Terrier': 0.007617118923681921,\n",
      " 'primary_breed_Tibetan Terrier': 0.0018638958705263448,\n",
      " 'primary_breed_Vizsla': 0.00042790256373179553,\n",
      " 'primary_breed_Weimaraner': 0.0038549861261261637,\n",
      " 'primary_breed_Whippet': 0.006825966472905435,\n",
      " 'primary_breed_White German Shepherd': 0.012815655043213747,\n",
      " 'primary_breed_Wirehaired Terrier': 0.0,\n",
      " 'primary_breed_Xoloitzcuintli / Mexican Hairless': 0.004919129083737917,\n",
      " 'primary_breed_Yellow Labrador Retriever': 0.009724062187589592,\n",
      " 'primary_breed_Yorkshire Terrier': 0.00549064188819004}\n"
     ]
    }
   ],
   "source": [
    "# print feature importance dictionary\n",
    "pprint.pprint(feat_import_dict)"
   ]
  },
  {
   "cell_type": "code",
   "execution_count": 30,
   "id": "401750a1",
   "metadata": {},
   "outputs": [
    {
     "data": {
      "application/vnd.plotly.v1+json": {
       "config": {
        "plotlyServerURL": "https://plot.ly"
       },
       "data": [
        {
         "alignmentgroup": "True",
         "hovertemplate": "Features=%{x}<br>Feature Importances=%{y}<extra></extra>",
         "legendgroup": "",
         "marker": {
          "color": "#636efa",
          "pattern": {
           "shape": ""
          }
         },
         "name": "",
         "offsetgroup": "",
         "orientation": "v",
         "showlegend": false,
         "textposition": "auto",
         "type": "bar",
         "x": [
          "primary_breed_Affenpinscher",
          "primary_breed_Alaskan Malamute",
          "primary_breed_American Bulldog",
          "primary_breed_American Bully",
          "primary_breed_American Eskimo Dog",
          "primary_breed_American Staffordshire Terrier",
          "primary_breed_Anatolian Shepherd",
          "primary_breed_Aussiedoodle",
          "primary_breed_Australian Cattle Dog / Blue Heeler",
          "primary_breed_Australian Kelpie",
          "primary_breed_Australian Shepherd",
          "primary_breed_Australian Terrier",
          "primary_breed_Basset Hound",
          "primary_breed_Beagle",
          "primary_breed_Belgian Shepherd / Malinois",
          "primary_breed_Bernese Mountain Dog",
          "primary_breed_Bichon Frise",
          "primary_breed_Black Labrador Retriever",
          "primary_breed_Black Mouth Cur",
          "primary_breed_Bloodhound",
          "primary_breed_Blue Lacy",
          "primary_breed_Border Collie",
          "primary_breed_Border Terrier",
          "primary_breed_Boston Terrier",
          "primary_breed_Boxer",
          "primary_breed_Brussels Griffon",
          "primary_breed_Cairn Terrier",
          "primary_breed_Carolina Dog",
          "primary_breed_Catahoula Leopard Dog",
          "primary_breed_Cattle Dog",
          "primary_breed_Cavalier King Charles Spaniel",
          "primary_breed_Chihuahua",
          "primary_breed_Chinese Crested Dog",
          "primary_breed_Chiweenie",
          "primary_breed_Chocolate Labrador Retriever",
          "primary_breed_Chow Chow",
          "primary_breed_Cocker Spaniel",
          "primary_breed_Collie",
          "primary_breed_Coonhound",
          "primary_breed_Corgi",
          "primary_breed_Dachshund",
          "primary_breed_Dalmatian",
          "primary_breed_Doberman Pinscher",
          "primary_breed_Dogo Argentino",
          "primary_breed_Dutch Shepherd",
          "primary_breed_English Bulldog",
          "primary_breed_English Coonhound",
          "primary_breed_English Setter",
          "primary_breed_English Shepherd",
          "primary_breed_Entlebucher",
          "primary_breed_Feist",
          "primary_breed_Flat-Coated Retriever",
          "primary_breed_Fox Terrier",
          "primary_breed_Foxhound",
          "primary_breed_French Bulldog",
          "primary_breed_German Shepherd Dog",
          "primary_breed_German Wirehaired Pointer",
          "primary_breed_Golden Retriever",
          "primary_breed_Goldendoodle",
          "primary_breed_Great Dane",
          "primary_breed_Great Pyrenees",
          "primary_breed_Greyhound",
          "primary_breed_Hound",
          "primary_breed_Husky",
          "primary_breed_Ibizan Hound",
          "primary_breed_Icelandic Sheepdog",
          "primary_breed_Irish Terrier",
          "primary_breed_Italian Greyhound",
          "primary_breed_Jack Russell Terrier",
          "primary_breed_Japanese Chin",
          "primary_breed_Labradoodle",
          "primary_breed_Labrador Retriever",
          "primary_breed_Lhasa Apso",
          "primary_breed_Maltese",
          "primary_breed_Maltipoo",
          "primary_breed_Mastiff",
          "primary_breed_Miniature Dachshund",
          "primary_breed_Miniature Pinscher",
          "primary_breed_Miniature Poodle",
          "primary_breed_Miniature Schnauzer",
          "primary_breed_Mixed Breed",
          "primary_breed_Mountain Cur",
          "primary_breed_Newfoundland Dog",
          "primary_breed_Norfolk Terrier",
          "primary_breed_Old English Sheepdog",
          "primary_breed_Parson Russell Terrier",
          "primary_breed_Patterdale Terrier / Fell Terrier",
          "primary_breed_Pekingese",
          "primary_breed_Pharaoh Hound",
          "primary_breed_Pit Bull Terrier",
          "primary_breed_Pointer",
          "primary_breed_Pomeranian",
          "primary_breed_Poodle",
          "primary_breed_Pug",
          "primary_breed_Rat Terrier",
          "primary_breed_Retriever",
          "primary_breed_Rhodesian Ridgeback",
          "primary_breed_Rottweiler",
          "primary_breed_Saluki",
          "primary_breed_Schnauzer",
          "primary_breed_Shar-Pei",
          "primary_breed_Shepherd",
          "primary_breed_Shetland Sheepdog / Sheltie",
          "primary_breed_Shiba Inu",
          "primary_breed_Shih Tzu",
          "primary_breed_Siberian Husky",
          "primary_breed_Spaniel",
          "primary_breed_Staffordshire Bull Terrier",
          "primary_breed_Standard Poodle",
          "primary_breed_Terrier",
          "primary_breed_Tibetan Terrier",
          "primary_breed_Vizsla",
          "primary_breed_Weimaraner",
          "primary_breed_Whippet",
          "primary_breed_White German Shepherd",
          "primary_breed_Wirehaired Terrier",
          "primary_breed_Xoloitzcuintli / Mexican Hairless",
          "primary_breed_Yellow Labrador Retriever",
          "primary_breed_Yorkshire Terrier"
         ],
         "xaxis": "x",
         "y": [
          0.008435994425368751,
          0.00539068279783554,
          0.02402353726912113,
          0.006216157070099311,
          0.007623114695853407,
          0.03455361519253297,
          0.007968878596434487,
          0.005455625723793056,
          0.008018200940708898,
          0.00532170700343404,
          0.020249103420852413,
          0.005556152292017976,
          0.00581130280078075,
          0.007968119064140603,
          0.014687598191786083,
          0.005062305577241545,
          0.006445916717515207,
          0.0073522820918737325,
          0.007053481881594595,
          0.006369909243749707,
          0.004705621273291276,
          0.006314776685375585,
          0,
          0.013368628692429968,
          0.008213536517552342,
          0,
          0.0025919557483052836,
          0,
          0.00790081941449239,
          0.009581909924509526,
          0.007122810213172806,
          0.011454770619471907,
          0.001789116758690834,
          0.00471592559218102,
          0.0005167835543456569,
          0.009661825593072043,
          0.012902243114982996,
          0.009003199582207006,
          0,
          0.008947933937583172,
          0.008880749470222972,
          0.007864003237026521,
          0.021870875549047417,
          0,
          0.04197709349653065,
          0.01094061403319372,
          0.0019329626418168877,
          0.005630778218853548,
          0.009825253022088528,
          0.00504700570024024,
          0.000707219526805265,
          0.007405845422877523,
          0,
          0.0082687732441486,
          0.014130201840308231,
          0.006702704431914545,
          0.006814345997610666,
          0.02503971862822425,
          0.005565479720223017,
          0.002094762386316231,
          0.006351528734899428,
          0.0055660288632250286,
          0.026221929215148782,
          0.005742619205785549,
          0.008552800044652727,
          0.04093345391396917,
          0.010798868962640883,
          0.0044716801924349365,
          0.011918465904320871,
          0.005246167710328746,
          0,
          0.015267817785467581,
          0.0012035434952333414,
          0.005610988151044277,
          0.008696895091093745,
          0.004534913538862032,
          0.0011650433893787763,
          0.003945546628564157,
          0.01678461159142879,
          0.005800731538708526,
          0.010601445725652716,
          0.0004038384352356143,
          0.003971921959574779,
          0.006574687266431759,
          0.007820868386948754,
          0,
          0.006218221897564467,
          0.005467934474039226,
          0.00020497546320618894,
          0.008083750525123586,
          0.0024957254957451835,
          0.009182102063477054,
          0.005966401266275032,
          0.006570633054889373,
          0.023314357945810008,
          0.02502186362637675,
          0.0060307984721286595,
          0.004177946641052278,
          0,
          0.029554682166301693,
          0.005343111346870217,
          0.005177418664960128,
          0.0005811240791138773,
          0.009462685239990224,
          0.019365249272942173,
          0.00783121256076049,
          0.01498625309924531,
          0.007168392309533987,
          0.017015477658013492,
          0.007617118923681921,
          0.0018638958705263448,
          0.00042790256373179553,
          0.0038549861261261637,
          0.006825966472905435,
          0.012815655043213747,
          0,
          0.004919129083737917,
          0.009724062187589592,
          0.00549064188819004
         ],
         "yaxis": "y"
        }
       ],
       "layout": {
        "barmode": "relative",
        "legend": {
         "tracegroupgap": 0
        },
        "template": {
         "data": {
          "bar": [
           {
            "error_x": {
             "color": "#2a3f5f"
            },
            "error_y": {
             "color": "#2a3f5f"
            },
            "marker": {
             "line": {
              "color": "#E5ECF6",
              "width": 0.5
             },
             "pattern": {
              "fillmode": "overlay",
              "size": 10,
              "solidity": 0.2
             }
            },
            "type": "bar"
           }
          ],
          "barpolar": [
           {
            "marker": {
             "line": {
              "color": "#E5ECF6",
              "width": 0.5
             },
             "pattern": {
              "fillmode": "overlay",
              "size": 10,
              "solidity": 0.2
             }
            },
            "type": "barpolar"
           }
          ],
          "carpet": [
           {
            "aaxis": {
             "endlinecolor": "#2a3f5f",
             "gridcolor": "white",
             "linecolor": "white",
             "minorgridcolor": "white",
             "startlinecolor": "#2a3f5f"
            },
            "baxis": {
             "endlinecolor": "#2a3f5f",
             "gridcolor": "white",
             "linecolor": "white",
             "minorgridcolor": "white",
             "startlinecolor": "#2a3f5f"
            },
            "type": "carpet"
           }
          ],
          "choropleth": [
           {
            "colorbar": {
             "outlinewidth": 0,
             "ticks": ""
            },
            "type": "choropleth"
           }
          ],
          "contour": [
           {
            "colorbar": {
             "outlinewidth": 0,
             "ticks": ""
            },
            "colorscale": [
             [
              0,
              "#0d0887"
             ],
             [
              0.1111111111111111,
              "#46039f"
             ],
             [
              0.2222222222222222,
              "#7201a8"
             ],
             [
              0.3333333333333333,
              "#9c179e"
             ],
             [
              0.4444444444444444,
              "#bd3786"
             ],
             [
              0.5555555555555556,
              "#d8576b"
             ],
             [
              0.6666666666666666,
              "#ed7953"
             ],
             [
              0.7777777777777778,
              "#fb9f3a"
             ],
             [
              0.8888888888888888,
              "#fdca26"
             ],
             [
              1,
              "#f0f921"
             ]
            ],
            "type": "contour"
           }
          ],
          "contourcarpet": [
           {
            "colorbar": {
             "outlinewidth": 0,
             "ticks": ""
            },
            "type": "contourcarpet"
           }
          ],
          "heatmap": [
           {
            "colorbar": {
             "outlinewidth": 0,
             "ticks": ""
            },
            "colorscale": [
             [
              0,
              "#0d0887"
             ],
             [
              0.1111111111111111,
              "#46039f"
             ],
             [
              0.2222222222222222,
              "#7201a8"
             ],
             [
              0.3333333333333333,
              "#9c179e"
             ],
             [
              0.4444444444444444,
              "#bd3786"
             ],
             [
              0.5555555555555556,
              "#d8576b"
             ],
             [
              0.6666666666666666,
              "#ed7953"
             ],
             [
              0.7777777777777778,
              "#fb9f3a"
             ],
             [
              0.8888888888888888,
              "#fdca26"
             ],
             [
              1,
              "#f0f921"
             ]
            ],
            "type": "heatmap"
           }
          ],
          "heatmapgl": [
           {
            "colorbar": {
             "outlinewidth": 0,
             "ticks": ""
            },
            "colorscale": [
             [
              0,
              "#0d0887"
             ],
             [
              0.1111111111111111,
              "#46039f"
             ],
             [
              0.2222222222222222,
              "#7201a8"
             ],
             [
              0.3333333333333333,
              "#9c179e"
             ],
             [
              0.4444444444444444,
              "#bd3786"
             ],
             [
              0.5555555555555556,
              "#d8576b"
             ],
             [
              0.6666666666666666,
              "#ed7953"
             ],
             [
              0.7777777777777778,
              "#fb9f3a"
             ],
             [
              0.8888888888888888,
              "#fdca26"
             ],
             [
              1,
              "#f0f921"
             ]
            ],
            "type": "heatmapgl"
           }
          ],
          "histogram": [
           {
            "marker": {
             "pattern": {
              "fillmode": "overlay",
              "size": 10,
              "solidity": 0.2
             }
            },
            "type": "histogram"
           }
          ],
          "histogram2d": [
           {
            "colorbar": {
             "outlinewidth": 0,
             "ticks": ""
            },
            "colorscale": [
             [
              0,
              "#0d0887"
             ],
             [
              0.1111111111111111,
              "#46039f"
             ],
             [
              0.2222222222222222,
              "#7201a8"
             ],
             [
              0.3333333333333333,
              "#9c179e"
             ],
             [
              0.4444444444444444,
              "#bd3786"
             ],
             [
              0.5555555555555556,
              "#d8576b"
             ],
             [
              0.6666666666666666,
              "#ed7953"
             ],
             [
              0.7777777777777778,
              "#fb9f3a"
             ],
             [
              0.8888888888888888,
              "#fdca26"
             ],
             [
              1,
              "#f0f921"
             ]
            ],
            "type": "histogram2d"
           }
          ],
          "histogram2dcontour": [
           {
            "colorbar": {
             "outlinewidth": 0,
             "ticks": ""
            },
            "colorscale": [
             [
              0,
              "#0d0887"
             ],
             [
              0.1111111111111111,
              "#46039f"
             ],
             [
              0.2222222222222222,
              "#7201a8"
             ],
             [
              0.3333333333333333,
              "#9c179e"
             ],
             [
              0.4444444444444444,
              "#bd3786"
             ],
             [
              0.5555555555555556,
              "#d8576b"
             ],
             [
              0.6666666666666666,
              "#ed7953"
             ],
             [
              0.7777777777777778,
              "#fb9f3a"
             ],
             [
              0.8888888888888888,
              "#fdca26"
             ],
             [
              1,
              "#f0f921"
             ]
            ],
            "type": "histogram2dcontour"
           }
          ],
          "mesh3d": [
           {
            "colorbar": {
             "outlinewidth": 0,
             "ticks": ""
            },
            "type": "mesh3d"
           }
          ],
          "parcoords": [
           {
            "line": {
             "colorbar": {
              "outlinewidth": 0,
              "ticks": ""
             }
            },
            "type": "parcoords"
           }
          ],
          "pie": [
           {
            "automargin": true,
            "type": "pie"
           }
          ],
          "scatter": [
           {
            "marker": {
             "colorbar": {
              "outlinewidth": 0,
              "ticks": ""
             }
            },
            "type": "scatter"
           }
          ],
          "scatter3d": [
           {
            "line": {
             "colorbar": {
              "outlinewidth": 0,
              "ticks": ""
             }
            },
            "marker": {
             "colorbar": {
              "outlinewidth": 0,
              "ticks": ""
             }
            },
            "type": "scatter3d"
           }
          ],
          "scattercarpet": [
           {
            "marker": {
             "colorbar": {
              "outlinewidth": 0,
              "ticks": ""
             }
            },
            "type": "scattercarpet"
           }
          ],
          "scattergeo": [
           {
            "marker": {
             "colorbar": {
              "outlinewidth": 0,
              "ticks": ""
             }
            },
            "type": "scattergeo"
           }
          ],
          "scattergl": [
           {
            "marker": {
             "colorbar": {
              "outlinewidth": 0,
              "ticks": ""
             }
            },
            "type": "scattergl"
           }
          ],
          "scattermapbox": [
           {
            "marker": {
             "colorbar": {
              "outlinewidth": 0,
              "ticks": ""
             }
            },
            "type": "scattermapbox"
           }
          ],
          "scatterpolar": [
           {
            "marker": {
             "colorbar": {
              "outlinewidth": 0,
              "ticks": ""
             }
            },
            "type": "scatterpolar"
           }
          ],
          "scatterpolargl": [
           {
            "marker": {
             "colorbar": {
              "outlinewidth": 0,
              "ticks": ""
             }
            },
            "type": "scatterpolargl"
           }
          ],
          "scatterternary": [
           {
            "marker": {
             "colorbar": {
              "outlinewidth": 0,
              "ticks": ""
             }
            },
            "type": "scatterternary"
           }
          ],
          "surface": [
           {
            "colorbar": {
             "outlinewidth": 0,
             "ticks": ""
            },
            "colorscale": [
             [
              0,
              "#0d0887"
             ],
             [
              0.1111111111111111,
              "#46039f"
             ],
             [
              0.2222222222222222,
              "#7201a8"
             ],
             [
              0.3333333333333333,
              "#9c179e"
             ],
             [
              0.4444444444444444,
              "#bd3786"
             ],
             [
              0.5555555555555556,
              "#d8576b"
             ],
             [
              0.6666666666666666,
              "#ed7953"
             ],
             [
              0.7777777777777778,
              "#fb9f3a"
             ],
             [
              0.8888888888888888,
              "#fdca26"
             ],
             [
              1,
              "#f0f921"
             ]
            ],
            "type": "surface"
           }
          ],
          "table": [
           {
            "cells": {
             "fill": {
              "color": "#EBF0F8"
             },
             "line": {
              "color": "white"
             }
            },
            "header": {
             "fill": {
              "color": "#C8D4E3"
             },
             "line": {
              "color": "white"
             }
            },
            "type": "table"
           }
          ]
         },
         "layout": {
          "annotationdefaults": {
           "arrowcolor": "#2a3f5f",
           "arrowhead": 0,
           "arrowwidth": 1
          },
          "autotypenumbers": "strict",
          "coloraxis": {
           "colorbar": {
            "outlinewidth": 0,
            "ticks": ""
           }
          },
          "colorscale": {
           "diverging": [
            [
             0,
             "#8e0152"
            ],
            [
             0.1,
             "#c51b7d"
            ],
            [
             0.2,
             "#de77ae"
            ],
            [
             0.3,
             "#f1b6da"
            ],
            [
             0.4,
             "#fde0ef"
            ],
            [
             0.5,
             "#f7f7f7"
            ],
            [
             0.6,
             "#e6f5d0"
            ],
            [
             0.7,
             "#b8e186"
            ],
            [
             0.8,
             "#7fbc41"
            ],
            [
             0.9,
             "#4d9221"
            ],
            [
             1,
             "#276419"
            ]
           ],
           "sequential": [
            [
             0,
             "#0d0887"
            ],
            [
             0.1111111111111111,
             "#46039f"
            ],
            [
             0.2222222222222222,
             "#7201a8"
            ],
            [
             0.3333333333333333,
             "#9c179e"
            ],
            [
             0.4444444444444444,
             "#bd3786"
            ],
            [
             0.5555555555555556,
             "#d8576b"
            ],
            [
             0.6666666666666666,
             "#ed7953"
            ],
            [
             0.7777777777777778,
             "#fb9f3a"
            ],
            [
             0.8888888888888888,
             "#fdca26"
            ],
            [
             1,
             "#f0f921"
            ]
           ],
           "sequentialminus": [
            [
             0,
             "#0d0887"
            ],
            [
             0.1111111111111111,
             "#46039f"
            ],
            [
             0.2222222222222222,
             "#7201a8"
            ],
            [
             0.3333333333333333,
             "#9c179e"
            ],
            [
             0.4444444444444444,
             "#bd3786"
            ],
            [
             0.5555555555555556,
             "#d8576b"
            ],
            [
             0.6666666666666666,
             "#ed7953"
            ],
            [
             0.7777777777777778,
             "#fb9f3a"
            ],
            [
             0.8888888888888888,
             "#fdca26"
            ],
            [
             1,
             "#f0f921"
            ]
           ]
          },
          "colorway": [
           "#636efa",
           "#EF553B",
           "#00cc96",
           "#ab63fa",
           "#FFA15A",
           "#19d3f3",
           "#FF6692",
           "#B6E880",
           "#FF97FF",
           "#FECB52"
          ],
          "font": {
           "color": "#2a3f5f"
          },
          "geo": {
           "bgcolor": "white",
           "lakecolor": "white",
           "landcolor": "#E5ECF6",
           "showlakes": true,
           "showland": true,
           "subunitcolor": "white"
          },
          "hoverlabel": {
           "align": "left"
          },
          "hovermode": "closest",
          "mapbox": {
           "style": "light"
          },
          "paper_bgcolor": "white",
          "plot_bgcolor": "#E5ECF6",
          "polar": {
           "angularaxis": {
            "gridcolor": "white",
            "linecolor": "white",
            "ticks": ""
           },
           "bgcolor": "#E5ECF6",
           "radialaxis": {
            "gridcolor": "white",
            "linecolor": "white",
            "ticks": ""
           }
          },
          "scene": {
           "xaxis": {
            "backgroundcolor": "#E5ECF6",
            "gridcolor": "white",
            "gridwidth": 2,
            "linecolor": "white",
            "showbackground": true,
            "ticks": "",
            "zerolinecolor": "white"
           },
           "yaxis": {
            "backgroundcolor": "#E5ECF6",
            "gridcolor": "white",
            "gridwidth": 2,
            "linecolor": "white",
            "showbackground": true,
            "ticks": "",
            "zerolinecolor": "white"
           },
           "zaxis": {
            "backgroundcolor": "#E5ECF6",
            "gridcolor": "white",
            "gridwidth": 2,
            "linecolor": "white",
            "showbackground": true,
            "ticks": "",
            "zerolinecolor": "white"
           }
          },
          "shapedefaults": {
           "line": {
            "color": "#2a3f5f"
           }
          },
          "ternary": {
           "aaxis": {
            "gridcolor": "white",
            "linecolor": "white",
            "ticks": ""
           },
           "baxis": {
            "gridcolor": "white",
            "linecolor": "white",
            "ticks": ""
           },
           "bgcolor": "#E5ECF6",
           "caxis": {
            "gridcolor": "white",
            "linecolor": "white",
            "ticks": ""
           }
          },
          "title": {
           "x": 0.05
          },
          "xaxis": {
           "automargin": true,
           "gridcolor": "white",
           "linecolor": "white",
           "ticks": "",
           "title": {
            "standoff": 15
           },
           "zerolinecolor": "white",
           "zerolinewidth": 2
          },
          "yaxis": {
           "automargin": true,
           "gridcolor": "white",
           "linecolor": "white",
           "ticks": "",
           "title": {
            "standoff": 15
           },
           "zerolinecolor": "white",
           "zerolinewidth": 2
          }
         }
        },
        "title": {
         "text": "Feature Importances of Features in Random Forest Regressor"
        },
        "xaxis": {
         "anchor": "y",
         "categoryorder": "total descending",
         "domain": [
          0,
          1
         ],
         "title": {
          "text": "Features"
         }
        },
        "yaxis": {
         "anchor": "x",
         "domain": [
          0,
          1
         ],
         "title": {
          "text": "Feature Importances"
         }
        }
       }
      },
      "text/html": [
       "<div>                            <div id=\"3936e983-da1d-41f8-bcb1-0e5918a93c52\" class=\"plotly-graph-div\" style=\"height:525px; width:100%;\"></div>            <script type=\"text/javascript\">                require([\"plotly\"], function(Plotly) {                    window.PLOTLYENV=window.PLOTLYENV || {};                                    if (document.getElementById(\"3936e983-da1d-41f8-bcb1-0e5918a93c52\")) {                    Plotly.newPlot(                        \"3936e983-da1d-41f8-bcb1-0e5918a93c52\",                        [{\"alignmentgroup\":\"True\",\"hovertemplate\":\"Features=%{x}<br>Feature Importances=%{y}<extra></extra>\",\"legendgroup\":\"\",\"marker\":{\"color\":\"#636efa\",\"pattern\":{\"shape\":\"\"}},\"name\":\"\",\"offsetgroup\":\"\",\"orientation\":\"v\",\"showlegend\":false,\"textposition\":\"auto\",\"x\":[\"primary_breed_Affenpinscher\",\"primary_breed_Alaskan Malamute\",\"primary_breed_American Bulldog\",\"primary_breed_American Bully\",\"primary_breed_American Eskimo Dog\",\"primary_breed_American Staffordshire Terrier\",\"primary_breed_Anatolian Shepherd\",\"primary_breed_Aussiedoodle\",\"primary_breed_Australian Cattle Dog / Blue Heeler\",\"primary_breed_Australian Kelpie\",\"primary_breed_Australian Shepherd\",\"primary_breed_Australian Terrier\",\"primary_breed_Basset Hound\",\"primary_breed_Beagle\",\"primary_breed_Belgian Shepherd / Malinois\",\"primary_breed_Bernese Mountain Dog\",\"primary_breed_Bichon Frise\",\"primary_breed_Black Labrador Retriever\",\"primary_breed_Black Mouth Cur\",\"primary_breed_Bloodhound\",\"primary_breed_Blue Lacy\",\"primary_breed_Border Collie\",\"primary_breed_Border Terrier\",\"primary_breed_Boston Terrier\",\"primary_breed_Boxer\",\"primary_breed_Brussels Griffon\",\"primary_breed_Cairn Terrier\",\"primary_breed_Carolina Dog\",\"primary_breed_Catahoula Leopard Dog\",\"primary_breed_Cattle Dog\",\"primary_breed_Cavalier King Charles Spaniel\",\"primary_breed_Chihuahua\",\"primary_breed_Chinese Crested Dog\",\"primary_breed_Chiweenie\",\"primary_breed_Chocolate Labrador Retriever\",\"primary_breed_Chow Chow\",\"primary_breed_Cocker Spaniel\",\"primary_breed_Collie\",\"primary_breed_Coonhound\",\"primary_breed_Corgi\",\"primary_breed_Dachshund\",\"primary_breed_Dalmatian\",\"primary_breed_Doberman Pinscher\",\"primary_breed_Dogo Argentino\",\"primary_breed_Dutch Shepherd\",\"primary_breed_English Bulldog\",\"primary_breed_English Coonhound\",\"primary_breed_English Setter\",\"primary_breed_English Shepherd\",\"primary_breed_Entlebucher\",\"primary_breed_Feist\",\"primary_breed_Flat-Coated Retriever\",\"primary_breed_Fox Terrier\",\"primary_breed_Foxhound\",\"primary_breed_French Bulldog\",\"primary_breed_German Shepherd Dog\",\"primary_breed_German Wirehaired Pointer\",\"primary_breed_Golden Retriever\",\"primary_breed_Goldendoodle\",\"primary_breed_Great Dane\",\"primary_breed_Great Pyrenees\",\"primary_breed_Greyhound\",\"primary_breed_Hound\",\"primary_breed_Husky\",\"primary_breed_Ibizan Hound\",\"primary_breed_Icelandic Sheepdog\",\"primary_breed_Irish Terrier\",\"primary_breed_Italian Greyhound\",\"primary_breed_Jack Russell Terrier\",\"primary_breed_Japanese Chin\",\"primary_breed_Labradoodle\",\"primary_breed_Labrador Retriever\",\"primary_breed_Lhasa Apso\",\"primary_breed_Maltese\",\"primary_breed_Maltipoo\",\"primary_breed_Mastiff\",\"primary_breed_Miniature Dachshund\",\"primary_breed_Miniature Pinscher\",\"primary_breed_Miniature Poodle\",\"primary_breed_Miniature Schnauzer\",\"primary_breed_Mixed Breed\",\"primary_breed_Mountain Cur\",\"primary_breed_Newfoundland Dog\",\"primary_breed_Norfolk Terrier\",\"primary_breed_Old English Sheepdog\",\"primary_breed_Parson Russell Terrier\",\"primary_breed_Patterdale Terrier / Fell Terrier\",\"primary_breed_Pekingese\",\"primary_breed_Pharaoh Hound\",\"primary_breed_Pit Bull Terrier\",\"primary_breed_Pointer\",\"primary_breed_Pomeranian\",\"primary_breed_Poodle\",\"primary_breed_Pug\",\"primary_breed_Rat Terrier\",\"primary_breed_Retriever\",\"primary_breed_Rhodesian Ridgeback\",\"primary_breed_Rottweiler\",\"primary_breed_Saluki\",\"primary_breed_Schnauzer\",\"primary_breed_Shar-Pei\",\"primary_breed_Shepherd\",\"primary_breed_Shetland Sheepdog / Sheltie\",\"primary_breed_Shiba Inu\",\"primary_breed_Shih Tzu\",\"primary_breed_Siberian Husky\",\"primary_breed_Spaniel\",\"primary_breed_Staffordshire Bull Terrier\",\"primary_breed_Standard Poodle\",\"primary_breed_Terrier\",\"primary_breed_Tibetan Terrier\",\"primary_breed_Vizsla\",\"primary_breed_Weimaraner\",\"primary_breed_Whippet\",\"primary_breed_White German Shepherd\",\"primary_breed_Wirehaired Terrier\",\"primary_breed_Xoloitzcuintli / Mexican Hairless\",\"primary_breed_Yellow Labrador Retriever\",\"primary_breed_Yorkshire Terrier\"],\"xaxis\":\"x\",\"y\":[0.008435994425368751,0.00539068279783554,0.02402353726912113,0.006216157070099311,0.007623114695853407,0.03455361519253297,0.007968878596434487,0.005455625723793056,0.008018200940708898,0.00532170700343404,0.020249103420852413,0.005556152292017976,0.00581130280078075,0.007968119064140603,0.014687598191786083,0.005062305577241545,0.006445916717515207,0.0073522820918737325,0.007053481881594595,0.006369909243749707,0.004705621273291276,0.006314776685375585,0.0,0.013368628692429968,0.008213536517552342,0.0,0.0025919557483052836,0.0,0.00790081941449239,0.009581909924509526,0.007122810213172806,0.011454770619471907,0.001789116758690834,0.00471592559218102,0.0005167835543456569,0.009661825593072043,0.012902243114982996,0.009003199582207006,0.0,0.008947933937583172,0.008880749470222972,0.007864003237026521,0.021870875549047417,0.0,0.04197709349653065,0.01094061403319372,0.0019329626418168877,0.005630778218853548,0.009825253022088528,0.00504700570024024,0.000707219526805265,0.007405845422877523,0.0,0.0082687732441486,0.014130201840308231,0.006702704431914545,0.006814345997610666,0.02503971862822425,0.005565479720223017,0.002094762386316231,0.006351528734899428,0.0055660288632250286,0.026221929215148782,0.005742619205785549,0.008552800044652727,0.04093345391396917,0.010798868962640883,0.0044716801924349365,0.011918465904320871,0.005246167710328746,0.0,0.015267817785467581,0.0012035434952333414,0.005610988151044277,0.008696895091093745,0.004534913538862032,0.0011650433893787763,0.003945546628564157,0.01678461159142879,0.005800731538708526,0.010601445725652716,0.0004038384352356143,0.003971921959574779,0.006574687266431759,0.007820868386948754,0.0,0.006218221897564467,0.005467934474039226,0.00020497546320618894,0.008083750525123586,0.0024957254957451835,0.009182102063477054,0.005966401266275032,0.006570633054889373,0.023314357945810008,0.02502186362637675,0.0060307984721286595,0.004177946641052278,0.0,0.029554682166301693,0.005343111346870217,0.005177418664960128,0.0005811240791138773,0.009462685239990224,0.019365249272942173,0.00783121256076049,0.01498625309924531,0.007168392309533987,0.017015477658013492,0.007617118923681921,0.0018638958705263448,0.00042790256373179553,0.0038549861261261637,0.006825966472905435,0.012815655043213747,0.0,0.004919129083737917,0.009724062187589592,0.00549064188819004],\"yaxis\":\"y\",\"type\":\"bar\"}],                        {\"template\":{\"data\":{\"bar\":[{\"error_x\":{\"color\":\"#2a3f5f\"},\"error_y\":{\"color\":\"#2a3f5f\"},\"marker\":{\"line\":{\"color\":\"#E5ECF6\",\"width\":0.5},\"pattern\":{\"fillmode\":\"overlay\",\"size\":10,\"solidity\":0.2}},\"type\":\"bar\"}],\"barpolar\":[{\"marker\":{\"line\":{\"color\":\"#E5ECF6\",\"width\":0.5},\"pattern\":{\"fillmode\":\"overlay\",\"size\":10,\"solidity\":0.2}},\"type\":\"barpolar\"}],\"carpet\":[{\"aaxis\":{\"endlinecolor\":\"#2a3f5f\",\"gridcolor\":\"white\",\"linecolor\":\"white\",\"minorgridcolor\":\"white\",\"startlinecolor\":\"#2a3f5f\"},\"baxis\":{\"endlinecolor\":\"#2a3f5f\",\"gridcolor\":\"white\",\"linecolor\":\"white\",\"minorgridcolor\":\"white\",\"startlinecolor\":\"#2a3f5f\"},\"type\":\"carpet\"}],\"choropleth\":[{\"colorbar\":{\"outlinewidth\":0,\"ticks\":\"\"},\"type\":\"choropleth\"}],\"contour\":[{\"colorbar\":{\"outlinewidth\":0,\"ticks\":\"\"},\"colorscale\":[[0.0,\"#0d0887\"],[0.1111111111111111,\"#46039f\"],[0.2222222222222222,\"#7201a8\"],[0.3333333333333333,\"#9c179e\"],[0.4444444444444444,\"#bd3786\"],[0.5555555555555556,\"#d8576b\"],[0.6666666666666666,\"#ed7953\"],[0.7777777777777778,\"#fb9f3a\"],[0.8888888888888888,\"#fdca26\"],[1.0,\"#f0f921\"]],\"type\":\"contour\"}],\"contourcarpet\":[{\"colorbar\":{\"outlinewidth\":0,\"ticks\":\"\"},\"type\":\"contourcarpet\"}],\"heatmap\":[{\"colorbar\":{\"outlinewidth\":0,\"ticks\":\"\"},\"colorscale\":[[0.0,\"#0d0887\"],[0.1111111111111111,\"#46039f\"],[0.2222222222222222,\"#7201a8\"],[0.3333333333333333,\"#9c179e\"],[0.4444444444444444,\"#bd3786\"],[0.5555555555555556,\"#d8576b\"],[0.6666666666666666,\"#ed7953\"],[0.7777777777777778,\"#fb9f3a\"],[0.8888888888888888,\"#fdca26\"],[1.0,\"#f0f921\"]],\"type\":\"heatmap\"}],\"heatmapgl\":[{\"colorbar\":{\"outlinewidth\":0,\"ticks\":\"\"},\"colorscale\":[[0.0,\"#0d0887\"],[0.1111111111111111,\"#46039f\"],[0.2222222222222222,\"#7201a8\"],[0.3333333333333333,\"#9c179e\"],[0.4444444444444444,\"#bd3786\"],[0.5555555555555556,\"#d8576b\"],[0.6666666666666666,\"#ed7953\"],[0.7777777777777778,\"#fb9f3a\"],[0.8888888888888888,\"#fdca26\"],[1.0,\"#f0f921\"]],\"type\":\"heatmapgl\"}],\"histogram\":[{\"marker\":{\"pattern\":{\"fillmode\":\"overlay\",\"size\":10,\"solidity\":0.2}},\"type\":\"histogram\"}],\"histogram2d\":[{\"colorbar\":{\"outlinewidth\":0,\"ticks\":\"\"},\"colorscale\":[[0.0,\"#0d0887\"],[0.1111111111111111,\"#46039f\"],[0.2222222222222222,\"#7201a8\"],[0.3333333333333333,\"#9c179e\"],[0.4444444444444444,\"#bd3786\"],[0.5555555555555556,\"#d8576b\"],[0.6666666666666666,\"#ed7953\"],[0.7777777777777778,\"#fb9f3a\"],[0.8888888888888888,\"#fdca26\"],[1.0,\"#f0f921\"]],\"type\":\"histogram2d\"}],\"histogram2dcontour\":[{\"colorbar\":{\"outlinewidth\":0,\"ticks\":\"\"},\"colorscale\":[[0.0,\"#0d0887\"],[0.1111111111111111,\"#46039f\"],[0.2222222222222222,\"#7201a8\"],[0.3333333333333333,\"#9c179e\"],[0.4444444444444444,\"#bd3786\"],[0.5555555555555556,\"#d8576b\"],[0.6666666666666666,\"#ed7953\"],[0.7777777777777778,\"#fb9f3a\"],[0.8888888888888888,\"#fdca26\"],[1.0,\"#f0f921\"]],\"type\":\"histogram2dcontour\"}],\"mesh3d\":[{\"colorbar\":{\"outlinewidth\":0,\"ticks\":\"\"},\"type\":\"mesh3d\"}],\"parcoords\":[{\"line\":{\"colorbar\":{\"outlinewidth\":0,\"ticks\":\"\"}},\"type\":\"parcoords\"}],\"pie\":[{\"automargin\":true,\"type\":\"pie\"}],\"scatter\":[{\"marker\":{\"colorbar\":{\"outlinewidth\":0,\"ticks\":\"\"}},\"type\":\"scatter\"}],\"scatter3d\":[{\"line\":{\"colorbar\":{\"outlinewidth\":0,\"ticks\":\"\"}},\"marker\":{\"colorbar\":{\"outlinewidth\":0,\"ticks\":\"\"}},\"type\":\"scatter3d\"}],\"scattercarpet\":[{\"marker\":{\"colorbar\":{\"outlinewidth\":0,\"ticks\":\"\"}},\"type\":\"scattercarpet\"}],\"scattergeo\":[{\"marker\":{\"colorbar\":{\"outlinewidth\":0,\"ticks\":\"\"}},\"type\":\"scattergeo\"}],\"scattergl\":[{\"marker\":{\"colorbar\":{\"outlinewidth\":0,\"ticks\":\"\"}},\"type\":\"scattergl\"}],\"scattermapbox\":[{\"marker\":{\"colorbar\":{\"outlinewidth\":0,\"ticks\":\"\"}},\"type\":\"scattermapbox\"}],\"scatterpolar\":[{\"marker\":{\"colorbar\":{\"outlinewidth\":0,\"ticks\":\"\"}},\"type\":\"scatterpolar\"}],\"scatterpolargl\":[{\"marker\":{\"colorbar\":{\"outlinewidth\":0,\"ticks\":\"\"}},\"type\":\"scatterpolargl\"}],\"scatterternary\":[{\"marker\":{\"colorbar\":{\"outlinewidth\":0,\"ticks\":\"\"}},\"type\":\"scatterternary\"}],\"surface\":[{\"colorbar\":{\"outlinewidth\":0,\"ticks\":\"\"},\"colorscale\":[[0.0,\"#0d0887\"],[0.1111111111111111,\"#46039f\"],[0.2222222222222222,\"#7201a8\"],[0.3333333333333333,\"#9c179e\"],[0.4444444444444444,\"#bd3786\"],[0.5555555555555556,\"#d8576b\"],[0.6666666666666666,\"#ed7953\"],[0.7777777777777778,\"#fb9f3a\"],[0.8888888888888888,\"#fdca26\"],[1.0,\"#f0f921\"]],\"type\":\"surface\"}],\"table\":[{\"cells\":{\"fill\":{\"color\":\"#EBF0F8\"},\"line\":{\"color\":\"white\"}},\"header\":{\"fill\":{\"color\":\"#C8D4E3\"},\"line\":{\"color\":\"white\"}},\"type\":\"table\"}]},\"layout\":{\"annotationdefaults\":{\"arrowcolor\":\"#2a3f5f\",\"arrowhead\":0,\"arrowwidth\":1},\"autotypenumbers\":\"strict\",\"coloraxis\":{\"colorbar\":{\"outlinewidth\":0,\"ticks\":\"\"}},\"colorscale\":{\"diverging\":[[0,\"#8e0152\"],[0.1,\"#c51b7d\"],[0.2,\"#de77ae\"],[0.3,\"#f1b6da\"],[0.4,\"#fde0ef\"],[0.5,\"#f7f7f7\"],[0.6,\"#e6f5d0\"],[0.7,\"#b8e186\"],[0.8,\"#7fbc41\"],[0.9,\"#4d9221\"],[1,\"#276419\"]],\"sequential\":[[0.0,\"#0d0887\"],[0.1111111111111111,\"#46039f\"],[0.2222222222222222,\"#7201a8\"],[0.3333333333333333,\"#9c179e\"],[0.4444444444444444,\"#bd3786\"],[0.5555555555555556,\"#d8576b\"],[0.6666666666666666,\"#ed7953\"],[0.7777777777777778,\"#fb9f3a\"],[0.8888888888888888,\"#fdca26\"],[1.0,\"#f0f921\"]],\"sequentialminus\":[[0.0,\"#0d0887\"],[0.1111111111111111,\"#46039f\"],[0.2222222222222222,\"#7201a8\"],[0.3333333333333333,\"#9c179e\"],[0.4444444444444444,\"#bd3786\"],[0.5555555555555556,\"#d8576b\"],[0.6666666666666666,\"#ed7953\"],[0.7777777777777778,\"#fb9f3a\"],[0.8888888888888888,\"#fdca26\"],[1.0,\"#f0f921\"]]},\"colorway\":[\"#636efa\",\"#EF553B\",\"#00cc96\",\"#ab63fa\",\"#FFA15A\",\"#19d3f3\",\"#FF6692\",\"#B6E880\",\"#FF97FF\",\"#FECB52\"],\"font\":{\"color\":\"#2a3f5f\"},\"geo\":{\"bgcolor\":\"white\",\"lakecolor\":\"white\",\"landcolor\":\"#E5ECF6\",\"showlakes\":true,\"showland\":true,\"subunitcolor\":\"white\"},\"hoverlabel\":{\"align\":\"left\"},\"hovermode\":\"closest\",\"mapbox\":{\"style\":\"light\"},\"paper_bgcolor\":\"white\",\"plot_bgcolor\":\"#E5ECF6\",\"polar\":{\"angularaxis\":{\"gridcolor\":\"white\",\"linecolor\":\"white\",\"ticks\":\"\"},\"bgcolor\":\"#E5ECF6\",\"radialaxis\":{\"gridcolor\":\"white\",\"linecolor\":\"white\",\"ticks\":\"\"}},\"scene\":{\"xaxis\":{\"backgroundcolor\":\"#E5ECF6\",\"gridcolor\":\"white\",\"gridwidth\":2,\"linecolor\":\"white\",\"showbackground\":true,\"ticks\":\"\",\"zerolinecolor\":\"white\"},\"yaxis\":{\"backgroundcolor\":\"#E5ECF6\",\"gridcolor\":\"white\",\"gridwidth\":2,\"linecolor\":\"white\",\"showbackground\":true,\"ticks\":\"\",\"zerolinecolor\":\"white\"},\"zaxis\":{\"backgroundcolor\":\"#E5ECF6\",\"gridcolor\":\"white\",\"gridwidth\":2,\"linecolor\":\"white\",\"showbackground\":true,\"ticks\":\"\",\"zerolinecolor\":\"white\"}},\"shapedefaults\":{\"line\":{\"color\":\"#2a3f5f\"}},\"ternary\":{\"aaxis\":{\"gridcolor\":\"white\",\"linecolor\":\"white\",\"ticks\":\"\"},\"baxis\":{\"gridcolor\":\"white\",\"linecolor\":\"white\",\"ticks\":\"\"},\"bgcolor\":\"#E5ECF6\",\"caxis\":{\"gridcolor\":\"white\",\"linecolor\":\"white\",\"ticks\":\"\"}},\"title\":{\"x\":0.05},\"xaxis\":{\"automargin\":true,\"gridcolor\":\"white\",\"linecolor\":\"white\",\"ticks\":\"\",\"title\":{\"standoff\":15},\"zerolinecolor\":\"white\",\"zerolinewidth\":2},\"yaxis\":{\"automargin\":true,\"gridcolor\":\"white\",\"linecolor\":\"white\",\"ticks\":\"\",\"title\":{\"standoff\":15},\"zerolinecolor\":\"white\",\"zerolinewidth\":2}}},\"xaxis\":{\"anchor\":\"y\",\"domain\":[0.0,1.0],\"title\":{\"text\":\"Features\"},\"categoryorder\":\"total descending\"},\"yaxis\":{\"anchor\":\"x\",\"domain\":[0.0,1.0],\"title\":{\"text\":\"Feature Importances\"}},\"legend\":{\"tracegroupgap\":0},\"title\":{\"text\":\"Feature Importances of Features in Random Forest Regressor\"},\"barmode\":\"relative\"},                        {\"responsive\": true}                    ).then(function(){\n",
       "                            \n",
       "var gd = document.getElementById('3936e983-da1d-41f8-bcb1-0e5918a93c52');\n",
       "var x = new MutationObserver(function (mutations, observer) {{\n",
       "        var display = window.getComputedStyle(gd).display;\n",
       "        if (!display || display === 'none') {{\n",
       "            console.log([gd, 'removed!']);\n",
       "            Plotly.purge(gd);\n",
       "            observer.disconnect();\n",
       "        }}\n",
       "}});\n",
       "\n",
       "// Listen for the removal of the full notebook cells\n",
       "var notebookContainer = gd.closest('#notebook-container');\n",
       "if (notebookContainer) {{\n",
       "    x.observe(notebookContainer, {childList: true});\n",
       "}}\n",
       "\n",
       "// Listen for the clearing of the current output cell\n",
       "var outputEl = gd.closest('.output');\n",
       "if (outputEl) {{\n",
       "    x.observe(outputEl, {childList: true});\n",
       "}}\n",
       "\n",
       "                        })                };                });            </script>        </div>"
      ]
     },
     "metadata": {},
     "output_type": "display_data"
    }
   ],
   "source": [
    "# plot feature importance\n",
    "px.bar(x=x_feat_list_breeds, y=feature_importances, title='Feature Importances of Features in Random Forest Regressor', labels={'x': 'Features', 'y':'Feature Importances'}).update_xaxes(categoryorder='total descending')"
   ]
  },
  {
   "cell_type": "code",
   "execution_count": 115,
   "id": "07915c4e",
   "metadata": {},
   "outputs": [],
   "source": [
    "# make a list of top 5 important features\n",
    "test2_topfeats = ['primary_breed_Dutch Shepherd', 'primary_breed_Schnauzer', 'primary_breed_Retriever', \n",
    "                  'primary_breed_Doberman Pinscher', 'primary_breed_Standard Poodle']"
   ]
  },
  {
   "cell_type": "markdown",
   "id": "07c8ee80",
   "metadata": {},
   "source": [
    "### TEST 3: Features Only Include Colors"
   ]
  },
  {
   "cell_type": "code",
   "execution_count": 116,
   "id": "4b01ffd7",
   "metadata": {
    "scrolled": true
   },
   "outputs": [],
   "source": [
    "# create list of x features \n",
    "x_feat_list_colors = ['primary_color_Apricot / Beige', \n",
    "                       'primary_color_Bicolor', 'primary_color_Black', 'primary_color_Brindle', 'primary_color_Brown / Chocolate', \n",
    "                       'primary_color_Golden', 'primary_color_Gray / Blue / Silver', 'primary_color_Harlequin', \n",
    "                       'primary_color_Merle (Blue)', 'primary_color_Merle (Red)', 'primary_color_Red / Chestnut / Orange', \n",
    "                       'primary_color_Sable', 'primary_color_Tricolor (Brown, Black, & White)', 'primary_color_White / Cream', \n",
    "                       'primary_color_Yellow / Tan / Blond / Fawn']"
   ]
  },
  {
   "cell_type": "code",
   "execution_count": 117,
   "id": "d7f49f77",
   "metadata": {},
   "outputs": [
    {
     "name": "stdout",
     "output_type": "stream",
     "text": [
      "R2: -0.003610580461324009, MSE: 233825.89970116373\n"
     ]
    }
   ],
   "source": [
    "# run random forest regressor and print accuracy scores\n",
    "feature_importances, feat_import_dict, r2, mse, residuals  = random_forest_regress_default(x_feat_list=x_feat_list_colors, y_col='delta_time_minutes', df=dogs_df_dummies)\n",
    "print(f'''R2: {r2}, MSE: {mse}''')"
   ]
  },
  {
   "cell_type": "code",
   "execution_count": 34,
   "id": "46c27cd4",
   "metadata": {},
   "outputs": [
    {
     "name": "stdout",
     "output_type": "stream",
     "text": [
      "{'primary_color_Apricot / Beige': 0.046110801451114264,\n",
      " 'primary_color_Bicolor': 0.04518913952171399,\n",
      " 'primary_color_Black': 0.018880836608090205,\n",
      " 'primary_color_Brindle': 0.18144071404746304,\n",
      " 'primary_color_Brown / Chocolate': 0.21285657885970902,\n",
      " 'primary_color_Golden': 0.04049243968708884,\n",
      " 'primary_color_Gray / Blue / Silver': 0.0836465326919106,\n",
      " 'primary_color_Harlequin': 0.09998467403894874,\n",
      " 'primary_color_Merle (Blue)': 0.09290140512880576,\n",
      " 'primary_color_Merle (Red)': 0.06352057970754764,\n",
      " 'primary_color_Red / Chestnut / Orange': 0.0266285582292421,\n",
      " 'primary_color_Sable': 0.00030962110801483687,\n",
      " 'primary_color_Tricolor (Brown, Black, & White)': 0.032989849447340285,\n",
      " 'primary_color_White / Cream': 0.031874569275803816,\n",
      " 'primary_color_Yellow / Tan / Blond / Fawn': 0.023173700197206916}\n"
     ]
    }
   ],
   "source": [
    "# print feature dictionary\n",
    "pprint.pprint(feat_import_dict)"
   ]
  },
  {
   "cell_type": "code",
   "execution_count": 118,
   "id": "61158ff3",
   "metadata": {
    "scrolled": true
   },
   "outputs": [
    {
     "data": {
      "application/vnd.plotly.v1+json": {
       "config": {
        "plotlyServerURL": "https://plot.ly"
       },
       "data": [
        {
         "alignmentgroup": "True",
         "hovertemplate": "Features=%{x}<br>Feature Importances=%{y}<extra></extra>",
         "legendgroup": "",
         "marker": {
          "color": "#636efa",
          "pattern": {
           "shape": ""
          }
         },
         "name": "",
         "offsetgroup": "",
         "orientation": "v",
         "showlegend": false,
         "textposition": "auto",
         "type": "bar",
         "x": [
          "primary_color_Apricot / Beige",
          "primary_color_Bicolor",
          "primary_color_Black",
          "primary_color_Brindle",
          "primary_color_Brown / Chocolate",
          "primary_color_Golden",
          "primary_color_Gray / Blue / Silver",
          "primary_color_Harlequin",
          "primary_color_Merle (Blue)",
          "primary_color_Merle (Red)",
          "primary_color_Red / Chestnut / Orange",
          "primary_color_Sable",
          "primary_color_Tricolor (Brown, Black, & White)",
          "primary_color_White / Cream",
          "primary_color_Yellow / Tan / Blond / Fawn"
         ],
         "xaxis": "x",
         "y": [
          0.060683026402420175,
          0.04564203242685729,
          0.02824329216377698,
          0.19077527053955787,
          0.2003389338813599,
          0.03332124388083682,
          0.07932121011704432,
          0.11340093791684742,
          0.06391438562188347,
          0.06270719729636355,
          0.03339795646053812,
          0.0003797027146348355,
          0.02350347385631913,
          0.03784745256860316,
          0.026523884152957183
         ],
         "yaxis": "y"
        }
       ],
       "layout": {
        "barmode": "relative",
        "legend": {
         "tracegroupgap": 0
        },
        "template": {
         "data": {
          "bar": [
           {
            "error_x": {
             "color": "#2a3f5f"
            },
            "error_y": {
             "color": "#2a3f5f"
            },
            "marker": {
             "line": {
              "color": "#E5ECF6",
              "width": 0.5
             },
             "pattern": {
              "fillmode": "overlay",
              "size": 10,
              "solidity": 0.2
             }
            },
            "type": "bar"
           }
          ],
          "barpolar": [
           {
            "marker": {
             "line": {
              "color": "#E5ECF6",
              "width": 0.5
             },
             "pattern": {
              "fillmode": "overlay",
              "size": 10,
              "solidity": 0.2
             }
            },
            "type": "barpolar"
           }
          ],
          "carpet": [
           {
            "aaxis": {
             "endlinecolor": "#2a3f5f",
             "gridcolor": "white",
             "linecolor": "white",
             "minorgridcolor": "white",
             "startlinecolor": "#2a3f5f"
            },
            "baxis": {
             "endlinecolor": "#2a3f5f",
             "gridcolor": "white",
             "linecolor": "white",
             "minorgridcolor": "white",
             "startlinecolor": "#2a3f5f"
            },
            "type": "carpet"
           }
          ],
          "choropleth": [
           {
            "colorbar": {
             "outlinewidth": 0,
             "ticks": ""
            },
            "type": "choropleth"
           }
          ],
          "contour": [
           {
            "colorbar": {
             "outlinewidth": 0,
             "ticks": ""
            },
            "colorscale": [
             [
              0,
              "#0d0887"
             ],
             [
              0.1111111111111111,
              "#46039f"
             ],
             [
              0.2222222222222222,
              "#7201a8"
             ],
             [
              0.3333333333333333,
              "#9c179e"
             ],
             [
              0.4444444444444444,
              "#bd3786"
             ],
             [
              0.5555555555555556,
              "#d8576b"
             ],
             [
              0.6666666666666666,
              "#ed7953"
             ],
             [
              0.7777777777777778,
              "#fb9f3a"
             ],
             [
              0.8888888888888888,
              "#fdca26"
             ],
             [
              1,
              "#f0f921"
             ]
            ],
            "type": "contour"
           }
          ],
          "contourcarpet": [
           {
            "colorbar": {
             "outlinewidth": 0,
             "ticks": ""
            },
            "type": "contourcarpet"
           }
          ],
          "heatmap": [
           {
            "colorbar": {
             "outlinewidth": 0,
             "ticks": ""
            },
            "colorscale": [
             [
              0,
              "#0d0887"
             ],
             [
              0.1111111111111111,
              "#46039f"
             ],
             [
              0.2222222222222222,
              "#7201a8"
             ],
             [
              0.3333333333333333,
              "#9c179e"
             ],
             [
              0.4444444444444444,
              "#bd3786"
             ],
             [
              0.5555555555555556,
              "#d8576b"
             ],
             [
              0.6666666666666666,
              "#ed7953"
             ],
             [
              0.7777777777777778,
              "#fb9f3a"
             ],
             [
              0.8888888888888888,
              "#fdca26"
             ],
             [
              1,
              "#f0f921"
             ]
            ],
            "type": "heatmap"
           }
          ],
          "heatmapgl": [
           {
            "colorbar": {
             "outlinewidth": 0,
             "ticks": ""
            },
            "colorscale": [
             [
              0,
              "#0d0887"
             ],
             [
              0.1111111111111111,
              "#46039f"
             ],
             [
              0.2222222222222222,
              "#7201a8"
             ],
             [
              0.3333333333333333,
              "#9c179e"
             ],
             [
              0.4444444444444444,
              "#bd3786"
             ],
             [
              0.5555555555555556,
              "#d8576b"
             ],
             [
              0.6666666666666666,
              "#ed7953"
             ],
             [
              0.7777777777777778,
              "#fb9f3a"
             ],
             [
              0.8888888888888888,
              "#fdca26"
             ],
             [
              1,
              "#f0f921"
             ]
            ],
            "type": "heatmapgl"
           }
          ],
          "histogram": [
           {
            "marker": {
             "pattern": {
              "fillmode": "overlay",
              "size": 10,
              "solidity": 0.2
             }
            },
            "type": "histogram"
           }
          ],
          "histogram2d": [
           {
            "colorbar": {
             "outlinewidth": 0,
             "ticks": ""
            },
            "colorscale": [
             [
              0,
              "#0d0887"
             ],
             [
              0.1111111111111111,
              "#46039f"
             ],
             [
              0.2222222222222222,
              "#7201a8"
             ],
             [
              0.3333333333333333,
              "#9c179e"
             ],
             [
              0.4444444444444444,
              "#bd3786"
             ],
             [
              0.5555555555555556,
              "#d8576b"
             ],
             [
              0.6666666666666666,
              "#ed7953"
             ],
             [
              0.7777777777777778,
              "#fb9f3a"
             ],
             [
              0.8888888888888888,
              "#fdca26"
             ],
             [
              1,
              "#f0f921"
             ]
            ],
            "type": "histogram2d"
           }
          ],
          "histogram2dcontour": [
           {
            "colorbar": {
             "outlinewidth": 0,
             "ticks": ""
            },
            "colorscale": [
             [
              0,
              "#0d0887"
             ],
             [
              0.1111111111111111,
              "#46039f"
             ],
             [
              0.2222222222222222,
              "#7201a8"
             ],
             [
              0.3333333333333333,
              "#9c179e"
             ],
             [
              0.4444444444444444,
              "#bd3786"
             ],
             [
              0.5555555555555556,
              "#d8576b"
             ],
             [
              0.6666666666666666,
              "#ed7953"
             ],
             [
              0.7777777777777778,
              "#fb9f3a"
             ],
             [
              0.8888888888888888,
              "#fdca26"
             ],
             [
              1,
              "#f0f921"
             ]
            ],
            "type": "histogram2dcontour"
           }
          ],
          "mesh3d": [
           {
            "colorbar": {
             "outlinewidth": 0,
             "ticks": ""
            },
            "type": "mesh3d"
           }
          ],
          "parcoords": [
           {
            "line": {
             "colorbar": {
              "outlinewidth": 0,
              "ticks": ""
             }
            },
            "type": "parcoords"
           }
          ],
          "pie": [
           {
            "automargin": true,
            "type": "pie"
           }
          ],
          "scatter": [
           {
            "marker": {
             "colorbar": {
              "outlinewidth": 0,
              "ticks": ""
             }
            },
            "type": "scatter"
           }
          ],
          "scatter3d": [
           {
            "line": {
             "colorbar": {
              "outlinewidth": 0,
              "ticks": ""
             }
            },
            "marker": {
             "colorbar": {
              "outlinewidth": 0,
              "ticks": ""
             }
            },
            "type": "scatter3d"
           }
          ],
          "scattercarpet": [
           {
            "marker": {
             "colorbar": {
              "outlinewidth": 0,
              "ticks": ""
             }
            },
            "type": "scattercarpet"
           }
          ],
          "scattergeo": [
           {
            "marker": {
             "colorbar": {
              "outlinewidth": 0,
              "ticks": ""
             }
            },
            "type": "scattergeo"
           }
          ],
          "scattergl": [
           {
            "marker": {
             "colorbar": {
              "outlinewidth": 0,
              "ticks": ""
             }
            },
            "type": "scattergl"
           }
          ],
          "scattermapbox": [
           {
            "marker": {
             "colorbar": {
              "outlinewidth": 0,
              "ticks": ""
             }
            },
            "type": "scattermapbox"
           }
          ],
          "scatterpolar": [
           {
            "marker": {
             "colorbar": {
              "outlinewidth": 0,
              "ticks": ""
             }
            },
            "type": "scatterpolar"
           }
          ],
          "scatterpolargl": [
           {
            "marker": {
             "colorbar": {
              "outlinewidth": 0,
              "ticks": ""
             }
            },
            "type": "scatterpolargl"
           }
          ],
          "scatterternary": [
           {
            "marker": {
             "colorbar": {
              "outlinewidth": 0,
              "ticks": ""
             }
            },
            "type": "scatterternary"
           }
          ],
          "surface": [
           {
            "colorbar": {
             "outlinewidth": 0,
             "ticks": ""
            },
            "colorscale": [
             [
              0,
              "#0d0887"
             ],
             [
              0.1111111111111111,
              "#46039f"
             ],
             [
              0.2222222222222222,
              "#7201a8"
             ],
             [
              0.3333333333333333,
              "#9c179e"
             ],
             [
              0.4444444444444444,
              "#bd3786"
             ],
             [
              0.5555555555555556,
              "#d8576b"
             ],
             [
              0.6666666666666666,
              "#ed7953"
             ],
             [
              0.7777777777777778,
              "#fb9f3a"
             ],
             [
              0.8888888888888888,
              "#fdca26"
             ],
             [
              1,
              "#f0f921"
             ]
            ],
            "type": "surface"
           }
          ],
          "table": [
           {
            "cells": {
             "fill": {
              "color": "#EBF0F8"
             },
             "line": {
              "color": "white"
             }
            },
            "header": {
             "fill": {
              "color": "#C8D4E3"
             },
             "line": {
              "color": "white"
             }
            },
            "type": "table"
           }
          ]
         },
         "layout": {
          "annotationdefaults": {
           "arrowcolor": "#2a3f5f",
           "arrowhead": 0,
           "arrowwidth": 1
          },
          "autotypenumbers": "strict",
          "coloraxis": {
           "colorbar": {
            "outlinewidth": 0,
            "ticks": ""
           }
          },
          "colorscale": {
           "diverging": [
            [
             0,
             "#8e0152"
            ],
            [
             0.1,
             "#c51b7d"
            ],
            [
             0.2,
             "#de77ae"
            ],
            [
             0.3,
             "#f1b6da"
            ],
            [
             0.4,
             "#fde0ef"
            ],
            [
             0.5,
             "#f7f7f7"
            ],
            [
             0.6,
             "#e6f5d0"
            ],
            [
             0.7,
             "#b8e186"
            ],
            [
             0.8,
             "#7fbc41"
            ],
            [
             0.9,
             "#4d9221"
            ],
            [
             1,
             "#276419"
            ]
           ],
           "sequential": [
            [
             0,
             "#0d0887"
            ],
            [
             0.1111111111111111,
             "#46039f"
            ],
            [
             0.2222222222222222,
             "#7201a8"
            ],
            [
             0.3333333333333333,
             "#9c179e"
            ],
            [
             0.4444444444444444,
             "#bd3786"
            ],
            [
             0.5555555555555556,
             "#d8576b"
            ],
            [
             0.6666666666666666,
             "#ed7953"
            ],
            [
             0.7777777777777778,
             "#fb9f3a"
            ],
            [
             0.8888888888888888,
             "#fdca26"
            ],
            [
             1,
             "#f0f921"
            ]
           ],
           "sequentialminus": [
            [
             0,
             "#0d0887"
            ],
            [
             0.1111111111111111,
             "#46039f"
            ],
            [
             0.2222222222222222,
             "#7201a8"
            ],
            [
             0.3333333333333333,
             "#9c179e"
            ],
            [
             0.4444444444444444,
             "#bd3786"
            ],
            [
             0.5555555555555556,
             "#d8576b"
            ],
            [
             0.6666666666666666,
             "#ed7953"
            ],
            [
             0.7777777777777778,
             "#fb9f3a"
            ],
            [
             0.8888888888888888,
             "#fdca26"
            ],
            [
             1,
             "#f0f921"
            ]
           ]
          },
          "colorway": [
           "#636efa",
           "#EF553B",
           "#00cc96",
           "#ab63fa",
           "#FFA15A",
           "#19d3f3",
           "#FF6692",
           "#B6E880",
           "#FF97FF",
           "#FECB52"
          ],
          "font": {
           "color": "#2a3f5f"
          },
          "geo": {
           "bgcolor": "white",
           "lakecolor": "white",
           "landcolor": "#E5ECF6",
           "showlakes": true,
           "showland": true,
           "subunitcolor": "white"
          },
          "hoverlabel": {
           "align": "left"
          },
          "hovermode": "closest",
          "mapbox": {
           "style": "light"
          },
          "paper_bgcolor": "white",
          "plot_bgcolor": "#E5ECF6",
          "polar": {
           "angularaxis": {
            "gridcolor": "white",
            "linecolor": "white",
            "ticks": ""
           },
           "bgcolor": "#E5ECF6",
           "radialaxis": {
            "gridcolor": "white",
            "linecolor": "white",
            "ticks": ""
           }
          },
          "scene": {
           "xaxis": {
            "backgroundcolor": "#E5ECF6",
            "gridcolor": "white",
            "gridwidth": 2,
            "linecolor": "white",
            "showbackground": true,
            "ticks": "",
            "zerolinecolor": "white"
           },
           "yaxis": {
            "backgroundcolor": "#E5ECF6",
            "gridcolor": "white",
            "gridwidth": 2,
            "linecolor": "white",
            "showbackground": true,
            "ticks": "",
            "zerolinecolor": "white"
           },
           "zaxis": {
            "backgroundcolor": "#E5ECF6",
            "gridcolor": "white",
            "gridwidth": 2,
            "linecolor": "white",
            "showbackground": true,
            "ticks": "",
            "zerolinecolor": "white"
           }
          },
          "shapedefaults": {
           "line": {
            "color": "#2a3f5f"
           }
          },
          "ternary": {
           "aaxis": {
            "gridcolor": "white",
            "linecolor": "white",
            "ticks": ""
           },
           "baxis": {
            "gridcolor": "white",
            "linecolor": "white",
            "ticks": ""
           },
           "bgcolor": "#E5ECF6",
           "caxis": {
            "gridcolor": "white",
            "linecolor": "white",
            "ticks": ""
           }
          },
          "title": {
           "x": 0.05
          },
          "xaxis": {
           "automargin": true,
           "gridcolor": "white",
           "linecolor": "white",
           "ticks": "",
           "title": {
            "standoff": 15
           },
           "zerolinecolor": "white",
           "zerolinewidth": 2
          },
          "yaxis": {
           "automargin": true,
           "gridcolor": "white",
           "linecolor": "white",
           "ticks": "",
           "title": {
            "standoff": 15
           },
           "zerolinecolor": "white",
           "zerolinewidth": 2
          }
         }
        },
        "title": {
         "text": "Feature Importances of Features in Random Forest Regressor"
        },
        "xaxis": {
         "anchor": "y",
         "categoryorder": "total descending",
         "domain": [
          0,
          1
         ],
         "title": {
          "text": "Features"
         }
        },
        "yaxis": {
         "anchor": "x",
         "domain": [
          0,
          1
         ],
         "title": {
          "text": "Feature Importances"
         }
        }
       }
      },
      "text/html": [
       "<div>                            <div id=\"8e1a9b33-9d1d-40b5-a4f8-9425c29bbaac\" class=\"plotly-graph-div\" style=\"height:525px; width:100%;\"></div>            <script type=\"text/javascript\">                require([\"plotly\"], function(Plotly) {                    window.PLOTLYENV=window.PLOTLYENV || {};                                    if (document.getElementById(\"8e1a9b33-9d1d-40b5-a4f8-9425c29bbaac\")) {                    Plotly.newPlot(                        \"8e1a9b33-9d1d-40b5-a4f8-9425c29bbaac\",                        [{\"alignmentgroup\":\"True\",\"hovertemplate\":\"Features=%{x}<br>Feature Importances=%{y}<extra></extra>\",\"legendgroup\":\"\",\"marker\":{\"color\":\"#636efa\",\"pattern\":{\"shape\":\"\"}},\"name\":\"\",\"offsetgroup\":\"\",\"orientation\":\"v\",\"showlegend\":false,\"textposition\":\"auto\",\"x\":[\"primary_color_Apricot / Beige\",\"primary_color_Bicolor\",\"primary_color_Black\",\"primary_color_Brindle\",\"primary_color_Brown / Chocolate\",\"primary_color_Golden\",\"primary_color_Gray / Blue / Silver\",\"primary_color_Harlequin\",\"primary_color_Merle (Blue)\",\"primary_color_Merle (Red)\",\"primary_color_Red / Chestnut / Orange\",\"primary_color_Sable\",\"primary_color_Tricolor (Brown, Black, & White)\",\"primary_color_White / Cream\",\"primary_color_Yellow / Tan / Blond / Fawn\"],\"xaxis\":\"x\",\"y\":[0.060683026402420175,0.04564203242685729,0.02824329216377698,0.19077527053955787,0.2003389338813599,0.03332124388083682,0.07932121011704432,0.11340093791684742,0.06391438562188347,0.06270719729636355,0.03339795646053812,0.0003797027146348355,0.02350347385631913,0.03784745256860316,0.026523884152957183],\"yaxis\":\"y\",\"type\":\"bar\"}],                        {\"template\":{\"data\":{\"bar\":[{\"error_x\":{\"color\":\"#2a3f5f\"},\"error_y\":{\"color\":\"#2a3f5f\"},\"marker\":{\"line\":{\"color\":\"#E5ECF6\",\"width\":0.5},\"pattern\":{\"fillmode\":\"overlay\",\"size\":10,\"solidity\":0.2}},\"type\":\"bar\"}],\"barpolar\":[{\"marker\":{\"line\":{\"color\":\"#E5ECF6\",\"width\":0.5},\"pattern\":{\"fillmode\":\"overlay\",\"size\":10,\"solidity\":0.2}},\"type\":\"barpolar\"}],\"carpet\":[{\"aaxis\":{\"endlinecolor\":\"#2a3f5f\",\"gridcolor\":\"white\",\"linecolor\":\"white\",\"minorgridcolor\":\"white\",\"startlinecolor\":\"#2a3f5f\"},\"baxis\":{\"endlinecolor\":\"#2a3f5f\",\"gridcolor\":\"white\",\"linecolor\":\"white\",\"minorgridcolor\":\"white\",\"startlinecolor\":\"#2a3f5f\"},\"type\":\"carpet\"}],\"choropleth\":[{\"colorbar\":{\"outlinewidth\":0,\"ticks\":\"\"},\"type\":\"choropleth\"}],\"contour\":[{\"colorbar\":{\"outlinewidth\":0,\"ticks\":\"\"},\"colorscale\":[[0.0,\"#0d0887\"],[0.1111111111111111,\"#46039f\"],[0.2222222222222222,\"#7201a8\"],[0.3333333333333333,\"#9c179e\"],[0.4444444444444444,\"#bd3786\"],[0.5555555555555556,\"#d8576b\"],[0.6666666666666666,\"#ed7953\"],[0.7777777777777778,\"#fb9f3a\"],[0.8888888888888888,\"#fdca26\"],[1.0,\"#f0f921\"]],\"type\":\"contour\"}],\"contourcarpet\":[{\"colorbar\":{\"outlinewidth\":0,\"ticks\":\"\"},\"type\":\"contourcarpet\"}],\"heatmap\":[{\"colorbar\":{\"outlinewidth\":0,\"ticks\":\"\"},\"colorscale\":[[0.0,\"#0d0887\"],[0.1111111111111111,\"#46039f\"],[0.2222222222222222,\"#7201a8\"],[0.3333333333333333,\"#9c179e\"],[0.4444444444444444,\"#bd3786\"],[0.5555555555555556,\"#d8576b\"],[0.6666666666666666,\"#ed7953\"],[0.7777777777777778,\"#fb9f3a\"],[0.8888888888888888,\"#fdca26\"],[1.0,\"#f0f921\"]],\"type\":\"heatmap\"}],\"heatmapgl\":[{\"colorbar\":{\"outlinewidth\":0,\"ticks\":\"\"},\"colorscale\":[[0.0,\"#0d0887\"],[0.1111111111111111,\"#46039f\"],[0.2222222222222222,\"#7201a8\"],[0.3333333333333333,\"#9c179e\"],[0.4444444444444444,\"#bd3786\"],[0.5555555555555556,\"#d8576b\"],[0.6666666666666666,\"#ed7953\"],[0.7777777777777778,\"#fb9f3a\"],[0.8888888888888888,\"#fdca26\"],[1.0,\"#f0f921\"]],\"type\":\"heatmapgl\"}],\"histogram\":[{\"marker\":{\"pattern\":{\"fillmode\":\"overlay\",\"size\":10,\"solidity\":0.2}},\"type\":\"histogram\"}],\"histogram2d\":[{\"colorbar\":{\"outlinewidth\":0,\"ticks\":\"\"},\"colorscale\":[[0.0,\"#0d0887\"],[0.1111111111111111,\"#46039f\"],[0.2222222222222222,\"#7201a8\"],[0.3333333333333333,\"#9c179e\"],[0.4444444444444444,\"#bd3786\"],[0.5555555555555556,\"#d8576b\"],[0.6666666666666666,\"#ed7953\"],[0.7777777777777778,\"#fb9f3a\"],[0.8888888888888888,\"#fdca26\"],[1.0,\"#f0f921\"]],\"type\":\"histogram2d\"}],\"histogram2dcontour\":[{\"colorbar\":{\"outlinewidth\":0,\"ticks\":\"\"},\"colorscale\":[[0.0,\"#0d0887\"],[0.1111111111111111,\"#46039f\"],[0.2222222222222222,\"#7201a8\"],[0.3333333333333333,\"#9c179e\"],[0.4444444444444444,\"#bd3786\"],[0.5555555555555556,\"#d8576b\"],[0.6666666666666666,\"#ed7953\"],[0.7777777777777778,\"#fb9f3a\"],[0.8888888888888888,\"#fdca26\"],[1.0,\"#f0f921\"]],\"type\":\"histogram2dcontour\"}],\"mesh3d\":[{\"colorbar\":{\"outlinewidth\":0,\"ticks\":\"\"},\"type\":\"mesh3d\"}],\"parcoords\":[{\"line\":{\"colorbar\":{\"outlinewidth\":0,\"ticks\":\"\"}},\"type\":\"parcoords\"}],\"pie\":[{\"automargin\":true,\"type\":\"pie\"}],\"scatter\":[{\"marker\":{\"colorbar\":{\"outlinewidth\":0,\"ticks\":\"\"}},\"type\":\"scatter\"}],\"scatter3d\":[{\"line\":{\"colorbar\":{\"outlinewidth\":0,\"ticks\":\"\"}},\"marker\":{\"colorbar\":{\"outlinewidth\":0,\"ticks\":\"\"}},\"type\":\"scatter3d\"}],\"scattercarpet\":[{\"marker\":{\"colorbar\":{\"outlinewidth\":0,\"ticks\":\"\"}},\"type\":\"scattercarpet\"}],\"scattergeo\":[{\"marker\":{\"colorbar\":{\"outlinewidth\":0,\"ticks\":\"\"}},\"type\":\"scattergeo\"}],\"scattergl\":[{\"marker\":{\"colorbar\":{\"outlinewidth\":0,\"ticks\":\"\"}},\"type\":\"scattergl\"}],\"scattermapbox\":[{\"marker\":{\"colorbar\":{\"outlinewidth\":0,\"ticks\":\"\"}},\"type\":\"scattermapbox\"}],\"scatterpolar\":[{\"marker\":{\"colorbar\":{\"outlinewidth\":0,\"ticks\":\"\"}},\"type\":\"scatterpolar\"}],\"scatterpolargl\":[{\"marker\":{\"colorbar\":{\"outlinewidth\":0,\"ticks\":\"\"}},\"type\":\"scatterpolargl\"}],\"scatterternary\":[{\"marker\":{\"colorbar\":{\"outlinewidth\":0,\"ticks\":\"\"}},\"type\":\"scatterternary\"}],\"surface\":[{\"colorbar\":{\"outlinewidth\":0,\"ticks\":\"\"},\"colorscale\":[[0.0,\"#0d0887\"],[0.1111111111111111,\"#46039f\"],[0.2222222222222222,\"#7201a8\"],[0.3333333333333333,\"#9c179e\"],[0.4444444444444444,\"#bd3786\"],[0.5555555555555556,\"#d8576b\"],[0.6666666666666666,\"#ed7953\"],[0.7777777777777778,\"#fb9f3a\"],[0.8888888888888888,\"#fdca26\"],[1.0,\"#f0f921\"]],\"type\":\"surface\"}],\"table\":[{\"cells\":{\"fill\":{\"color\":\"#EBF0F8\"},\"line\":{\"color\":\"white\"}},\"header\":{\"fill\":{\"color\":\"#C8D4E3\"},\"line\":{\"color\":\"white\"}},\"type\":\"table\"}]},\"layout\":{\"annotationdefaults\":{\"arrowcolor\":\"#2a3f5f\",\"arrowhead\":0,\"arrowwidth\":1},\"autotypenumbers\":\"strict\",\"coloraxis\":{\"colorbar\":{\"outlinewidth\":0,\"ticks\":\"\"}},\"colorscale\":{\"diverging\":[[0,\"#8e0152\"],[0.1,\"#c51b7d\"],[0.2,\"#de77ae\"],[0.3,\"#f1b6da\"],[0.4,\"#fde0ef\"],[0.5,\"#f7f7f7\"],[0.6,\"#e6f5d0\"],[0.7,\"#b8e186\"],[0.8,\"#7fbc41\"],[0.9,\"#4d9221\"],[1,\"#276419\"]],\"sequential\":[[0.0,\"#0d0887\"],[0.1111111111111111,\"#46039f\"],[0.2222222222222222,\"#7201a8\"],[0.3333333333333333,\"#9c179e\"],[0.4444444444444444,\"#bd3786\"],[0.5555555555555556,\"#d8576b\"],[0.6666666666666666,\"#ed7953\"],[0.7777777777777778,\"#fb9f3a\"],[0.8888888888888888,\"#fdca26\"],[1.0,\"#f0f921\"]],\"sequentialminus\":[[0.0,\"#0d0887\"],[0.1111111111111111,\"#46039f\"],[0.2222222222222222,\"#7201a8\"],[0.3333333333333333,\"#9c179e\"],[0.4444444444444444,\"#bd3786\"],[0.5555555555555556,\"#d8576b\"],[0.6666666666666666,\"#ed7953\"],[0.7777777777777778,\"#fb9f3a\"],[0.8888888888888888,\"#fdca26\"],[1.0,\"#f0f921\"]]},\"colorway\":[\"#636efa\",\"#EF553B\",\"#00cc96\",\"#ab63fa\",\"#FFA15A\",\"#19d3f3\",\"#FF6692\",\"#B6E880\",\"#FF97FF\",\"#FECB52\"],\"font\":{\"color\":\"#2a3f5f\"},\"geo\":{\"bgcolor\":\"white\",\"lakecolor\":\"white\",\"landcolor\":\"#E5ECF6\",\"showlakes\":true,\"showland\":true,\"subunitcolor\":\"white\"},\"hoverlabel\":{\"align\":\"left\"},\"hovermode\":\"closest\",\"mapbox\":{\"style\":\"light\"},\"paper_bgcolor\":\"white\",\"plot_bgcolor\":\"#E5ECF6\",\"polar\":{\"angularaxis\":{\"gridcolor\":\"white\",\"linecolor\":\"white\",\"ticks\":\"\"},\"bgcolor\":\"#E5ECF6\",\"radialaxis\":{\"gridcolor\":\"white\",\"linecolor\":\"white\",\"ticks\":\"\"}},\"scene\":{\"xaxis\":{\"backgroundcolor\":\"#E5ECF6\",\"gridcolor\":\"white\",\"gridwidth\":2,\"linecolor\":\"white\",\"showbackground\":true,\"ticks\":\"\",\"zerolinecolor\":\"white\"},\"yaxis\":{\"backgroundcolor\":\"#E5ECF6\",\"gridcolor\":\"white\",\"gridwidth\":2,\"linecolor\":\"white\",\"showbackground\":true,\"ticks\":\"\",\"zerolinecolor\":\"white\"},\"zaxis\":{\"backgroundcolor\":\"#E5ECF6\",\"gridcolor\":\"white\",\"gridwidth\":2,\"linecolor\":\"white\",\"showbackground\":true,\"ticks\":\"\",\"zerolinecolor\":\"white\"}},\"shapedefaults\":{\"line\":{\"color\":\"#2a3f5f\"}},\"ternary\":{\"aaxis\":{\"gridcolor\":\"white\",\"linecolor\":\"white\",\"ticks\":\"\"},\"baxis\":{\"gridcolor\":\"white\",\"linecolor\":\"white\",\"ticks\":\"\"},\"bgcolor\":\"#E5ECF6\",\"caxis\":{\"gridcolor\":\"white\",\"linecolor\":\"white\",\"ticks\":\"\"}},\"title\":{\"x\":0.05},\"xaxis\":{\"automargin\":true,\"gridcolor\":\"white\",\"linecolor\":\"white\",\"ticks\":\"\",\"title\":{\"standoff\":15},\"zerolinecolor\":\"white\",\"zerolinewidth\":2},\"yaxis\":{\"automargin\":true,\"gridcolor\":\"white\",\"linecolor\":\"white\",\"ticks\":\"\",\"title\":{\"standoff\":15},\"zerolinecolor\":\"white\",\"zerolinewidth\":2}}},\"xaxis\":{\"anchor\":\"y\",\"domain\":[0.0,1.0],\"title\":{\"text\":\"Features\"},\"categoryorder\":\"total descending\"},\"yaxis\":{\"anchor\":\"x\",\"domain\":[0.0,1.0],\"title\":{\"text\":\"Feature Importances\"}},\"legend\":{\"tracegroupgap\":0},\"title\":{\"text\":\"Feature Importances of Features in Random Forest Regressor\"},\"barmode\":\"relative\"},                        {\"responsive\": true}                    ).then(function(){\n",
       "                            \n",
       "var gd = document.getElementById('8e1a9b33-9d1d-40b5-a4f8-9425c29bbaac');\n",
       "var x = new MutationObserver(function (mutations, observer) {{\n",
       "        var display = window.getComputedStyle(gd).display;\n",
       "        if (!display || display === 'none') {{\n",
       "            console.log([gd, 'removed!']);\n",
       "            Plotly.purge(gd);\n",
       "            observer.disconnect();\n",
       "        }}\n",
       "}});\n",
       "\n",
       "// Listen for the removal of the full notebook cells\n",
       "var notebookContainer = gd.closest('#notebook-container');\n",
       "if (notebookContainer) {{\n",
       "    x.observe(notebookContainer, {childList: true});\n",
       "}}\n",
       "\n",
       "// Listen for the clearing of the current output cell\n",
       "var outputEl = gd.closest('.output');\n",
       "if (outputEl) {{\n",
       "    x.observe(outputEl, {childList: true});\n",
       "}}\n",
       "\n",
       "                        })                };                });            </script>        </div>"
      ]
     },
     "metadata": {},
     "output_type": "display_data"
    }
   ],
   "source": [
    "# plot feature importances\n",
    "px.bar(x=x_feat_list_colors, y=feature_importances, title='Feature Importances of Features in Random Forest Regressor', labels={'x': 'Features', 'y':'Feature Importances'}).update_xaxes(categoryorder='total descending')"
   ]
  },
  {
   "cell_type": "code",
   "execution_count": 119,
   "id": "98b5136f",
   "metadata": {},
   "outputs": [],
   "source": [
    "# create list of top 5 color features\n",
    "test3_topfeats = ['primary_color_Brown / Chocolate', 'primary_color_Brindle', 'primary_color_Harlequin',\n",
    "                 'primary_color_Gray / Blue / Silver', 'primary_color_Merle (Blue)']"
   ]
  },
  {
   "cell_type": "markdown",
   "id": "9947ef2f",
   "metadata": {},
   "source": [
    "### TEST 4: All Features Except Colors and Breeds"
   ]
  },
  {
   "cell_type": "code",
   "execution_count": 45,
   "id": "6d59057f",
   "metadata": {
    "scrolled": true
   },
   "outputs": [],
   "source": [
    "# define x features\n",
    "x_feat_list_nobreed_nocolor = ['compatible_children', 'compatible_dogs', 'compatible_cats', \n",
    "                               'age_Adult', 'age_Baby', 'age_Senior', 'age_Young', 'gender_Female', \n",
    "                               'gender_Male', 'size_Extra Large', 'size_Large', 'size_Medium', 'size_Small', \n",
    "                               'coat_Curly', 'coat_Hairless', 'coat_Long', 'coat_Medium', 'coat_Short', \n",
    "                               'coat_Wire']"
   ]
  },
  {
   "cell_type": "code",
   "execution_count": 46,
   "id": "6ab67d26",
   "metadata": {},
   "outputs": [
    {
     "name": "stdout",
     "output_type": "stream",
     "text": [
      "R2: -0.14132757378355576, MSE: 265911.85066125426\n"
     ]
    }
   ],
   "source": [
    "# run random forest regressor and print accuracy metrics\n",
    "feature_importances, feat_import_dict, r2, mse, residuals  = random_forest_regress_default(x_feat_list=x_feat_list_nobreed_nocolor, y_col='delta_time_minutes', df=dogs_df_dummies)\n",
    "print(f'''R2: {r2}, MSE: {mse}''')"
   ]
  },
  {
   "cell_type": "code",
   "execution_count": 47,
   "id": "b8ebfbb1",
   "metadata": {
    "scrolled": true
   },
   "outputs": [
    {
     "name": "stdout",
     "output_type": "stream",
     "text": [
      "{'age_Adult': 0.07357051598169656,\n",
      " 'age_Baby': 0.06606569624529597,\n",
      " 'age_Senior': 0.03465483942833245,\n",
      " 'age_Young': 0.07098008710807711,\n",
      " 'coat_Curly': 0.0308654436587593,\n",
      " 'coat_Hairless': 0.002278512825571784,\n",
      " 'coat_Long': 0.039712958716656074,\n",
      " 'coat_Medium': 0.08277518384043708,\n",
      " 'coat_Short': 0.06905541949845174,\n",
      " 'coat_Wire': 0.02864709020000013,\n",
      " 'compatible_cats': 0.09043396617237924,\n",
      " 'compatible_children': 0.03588108244380167,\n",
      " 'compatible_dogs': 0.04176892359098074,\n",
      " 'gender_Female': 0.05246390533930321,\n",
      " 'gender_Male': 0.05914953224919579,\n",
      " 'size_Extra Large': 0.025818967185783852,\n",
      " 'size_Large': 0.07146061313682531,\n",
      " 'size_Medium': 0.06374615228018352,\n",
      " 'size_Small': 0.06067111009826843}\n"
     ]
    }
   ],
   "source": [
    "# print feature importances\n",
    "pprint.pprint(feat_import_dict)"
   ]
  },
  {
   "cell_type": "code",
   "execution_count": 48,
   "id": "4c803e24",
   "metadata": {},
   "outputs": [
    {
     "data": {
      "application/vnd.plotly.v1+json": {
       "config": {
        "plotlyServerURL": "https://plot.ly"
       },
       "data": [
        {
         "alignmentgroup": "True",
         "hovertemplate": "Features=%{x}<br>Feature Importances=%{y}<extra></extra>",
         "legendgroup": "",
         "marker": {
          "color": "#636efa",
          "pattern": {
           "shape": ""
          }
         },
         "name": "",
         "offsetgroup": "",
         "orientation": "v",
         "showlegend": false,
         "textposition": "auto",
         "type": "bar",
         "x": [
          "compatible_children",
          "compatible_dogs",
          "compatible_cats",
          "age_Adult",
          "age_Baby",
          "age_Senior",
          "age_Young",
          "gender_Female",
          "gender_Male",
          "size_Extra Large",
          "size_Large",
          "size_Medium",
          "size_Small",
          "coat_Curly",
          "coat_Hairless",
          "coat_Long",
          "coat_Medium",
          "coat_Short",
          "coat_Wire"
         ],
         "xaxis": "x",
         "y": [
          0.03588108244380167,
          0.04176892359098074,
          0.09043396617237924,
          0.07357051598169656,
          0.06606569624529597,
          0.03465483942833245,
          0.07098008710807711,
          0.05246390533930321,
          0.05914953224919579,
          0.025818967185783852,
          0.07146061313682531,
          0.06374615228018352,
          0.06067111009826843,
          0.0308654436587593,
          0.002278512825571784,
          0.039712958716656074,
          0.08277518384043708,
          0.06905541949845174,
          0.02864709020000013
         ],
         "yaxis": "y"
        }
       ],
       "layout": {
        "barmode": "relative",
        "legend": {
         "tracegroupgap": 0
        },
        "template": {
         "data": {
          "bar": [
           {
            "error_x": {
             "color": "#2a3f5f"
            },
            "error_y": {
             "color": "#2a3f5f"
            },
            "marker": {
             "line": {
              "color": "#E5ECF6",
              "width": 0.5
             },
             "pattern": {
              "fillmode": "overlay",
              "size": 10,
              "solidity": 0.2
             }
            },
            "type": "bar"
           }
          ],
          "barpolar": [
           {
            "marker": {
             "line": {
              "color": "#E5ECF6",
              "width": 0.5
             },
             "pattern": {
              "fillmode": "overlay",
              "size": 10,
              "solidity": 0.2
             }
            },
            "type": "barpolar"
           }
          ],
          "carpet": [
           {
            "aaxis": {
             "endlinecolor": "#2a3f5f",
             "gridcolor": "white",
             "linecolor": "white",
             "minorgridcolor": "white",
             "startlinecolor": "#2a3f5f"
            },
            "baxis": {
             "endlinecolor": "#2a3f5f",
             "gridcolor": "white",
             "linecolor": "white",
             "minorgridcolor": "white",
             "startlinecolor": "#2a3f5f"
            },
            "type": "carpet"
           }
          ],
          "choropleth": [
           {
            "colorbar": {
             "outlinewidth": 0,
             "ticks": ""
            },
            "type": "choropleth"
           }
          ],
          "contour": [
           {
            "colorbar": {
             "outlinewidth": 0,
             "ticks": ""
            },
            "colorscale": [
             [
              0,
              "#0d0887"
             ],
             [
              0.1111111111111111,
              "#46039f"
             ],
             [
              0.2222222222222222,
              "#7201a8"
             ],
             [
              0.3333333333333333,
              "#9c179e"
             ],
             [
              0.4444444444444444,
              "#bd3786"
             ],
             [
              0.5555555555555556,
              "#d8576b"
             ],
             [
              0.6666666666666666,
              "#ed7953"
             ],
             [
              0.7777777777777778,
              "#fb9f3a"
             ],
             [
              0.8888888888888888,
              "#fdca26"
             ],
             [
              1,
              "#f0f921"
             ]
            ],
            "type": "contour"
           }
          ],
          "contourcarpet": [
           {
            "colorbar": {
             "outlinewidth": 0,
             "ticks": ""
            },
            "type": "contourcarpet"
           }
          ],
          "heatmap": [
           {
            "colorbar": {
             "outlinewidth": 0,
             "ticks": ""
            },
            "colorscale": [
             [
              0,
              "#0d0887"
             ],
             [
              0.1111111111111111,
              "#46039f"
             ],
             [
              0.2222222222222222,
              "#7201a8"
             ],
             [
              0.3333333333333333,
              "#9c179e"
             ],
             [
              0.4444444444444444,
              "#bd3786"
             ],
             [
              0.5555555555555556,
              "#d8576b"
             ],
             [
              0.6666666666666666,
              "#ed7953"
             ],
             [
              0.7777777777777778,
              "#fb9f3a"
             ],
             [
              0.8888888888888888,
              "#fdca26"
             ],
             [
              1,
              "#f0f921"
             ]
            ],
            "type": "heatmap"
           }
          ],
          "heatmapgl": [
           {
            "colorbar": {
             "outlinewidth": 0,
             "ticks": ""
            },
            "colorscale": [
             [
              0,
              "#0d0887"
             ],
             [
              0.1111111111111111,
              "#46039f"
             ],
             [
              0.2222222222222222,
              "#7201a8"
             ],
             [
              0.3333333333333333,
              "#9c179e"
             ],
             [
              0.4444444444444444,
              "#bd3786"
             ],
             [
              0.5555555555555556,
              "#d8576b"
             ],
             [
              0.6666666666666666,
              "#ed7953"
             ],
             [
              0.7777777777777778,
              "#fb9f3a"
             ],
             [
              0.8888888888888888,
              "#fdca26"
             ],
             [
              1,
              "#f0f921"
             ]
            ],
            "type": "heatmapgl"
           }
          ],
          "histogram": [
           {
            "marker": {
             "pattern": {
              "fillmode": "overlay",
              "size": 10,
              "solidity": 0.2
             }
            },
            "type": "histogram"
           }
          ],
          "histogram2d": [
           {
            "colorbar": {
             "outlinewidth": 0,
             "ticks": ""
            },
            "colorscale": [
             [
              0,
              "#0d0887"
             ],
             [
              0.1111111111111111,
              "#46039f"
             ],
             [
              0.2222222222222222,
              "#7201a8"
             ],
             [
              0.3333333333333333,
              "#9c179e"
             ],
             [
              0.4444444444444444,
              "#bd3786"
             ],
             [
              0.5555555555555556,
              "#d8576b"
             ],
             [
              0.6666666666666666,
              "#ed7953"
             ],
             [
              0.7777777777777778,
              "#fb9f3a"
             ],
             [
              0.8888888888888888,
              "#fdca26"
             ],
             [
              1,
              "#f0f921"
             ]
            ],
            "type": "histogram2d"
           }
          ],
          "histogram2dcontour": [
           {
            "colorbar": {
             "outlinewidth": 0,
             "ticks": ""
            },
            "colorscale": [
             [
              0,
              "#0d0887"
             ],
             [
              0.1111111111111111,
              "#46039f"
             ],
             [
              0.2222222222222222,
              "#7201a8"
             ],
             [
              0.3333333333333333,
              "#9c179e"
             ],
             [
              0.4444444444444444,
              "#bd3786"
             ],
             [
              0.5555555555555556,
              "#d8576b"
             ],
             [
              0.6666666666666666,
              "#ed7953"
             ],
             [
              0.7777777777777778,
              "#fb9f3a"
             ],
             [
              0.8888888888888888,
              "#fdca26"
             ],
             [
              1,
              "#f0f921"
             ]
            ],
            "type": "histogram2dcontour"
           }
          ],
          "mesh3d": [
           {
            "colorbar": {
             "outlinewidth": 0,
             "ticks": ""
            },
            "type": "mesh3d"
           }
          ],
          "parcoords": [
           {
            "line": {
             "colorbar": {
              "outlinewidth": 0,
              "ticks": ""
             }
            },
            "type": "parcoords"
           }
          ],
          "pie": [
           {
            "automargin": true,
            "type": "pie"
           }
          ],
          "scatter": [
           {
            "marker": {
             "colorbar": {
              "outlinewidth": 0,
              "ticks": ""
             }
            },
            "type": "scatter"
           }
          ],
          "scatter3d": [
           {
            "line": {
             "colorbar": {
              "outlinewidth": 0,
              "ticks": ""
             }
            },
            "marker": {
             "colorbar": {
              "outlinewidth": 0,
              "ticks": ""
             }
            },
            "type": "scatter3d"
           }
          ],
          "scattercarpet": [
           {
            "marker": {
             "colorbar": {
              "outlinewidth": 0,
              "ticks": ""
             }
            },
            "type": "scattercarpet"
           }
          ],
          "scattergeo": [
           {
            "marker": {
             "colorbar": {
              "outlinewidth": 0,
              "ticks": ""
             }
            },
            "type": "scattergeo"
           }
          ],
          "scattergl": [
           {
            "marker": {
             "colorbar": {
              "outlinewidth": 0,
              "ticks": ""
             }
            },
            "type": "scattergl"
           }
          ],
          "scattermapbox": [
           {
            "marker": {
             "colorbar": {
              "outlinewidth": 0,
              "ticks": ""
             }
            },
            "type": "scattermapbox"
           }
          ],
          "scatterpolar": [
           {
            "marker": {
             "colorbar": {
              "outlinewidth": 0,
              "ticks": ""
             }
            },
            "type": "scatterpolar"
           }
          ],
          "scatterpolargl": [
           {
            "marker": {
             "colorbar": {
              "outlinewidth": 0,
              "ticks": ""
             }
            },
            "type": "scatterpolargl"
           }
          ],
          "scatterternary": [
           {
            "marker": {
             "colorbar": {
              "outlinewidth": 0,
              "ticks": ""
             }
            },
            "type": "scatterternary"
           }
          ],
          "surface": [
           {
            "colorbar": {
             "outlinewidth": 0,
             "ticks": ""
            },
            "colorscale": [
             [
              0,
              "#0d0887"
             ],
             [
              0.1111111111111111,
              "#46039f"
             ],
             [
              0.2222222222222222,
              "#7201a8"
             ],
             [
              0.3333333333333333,
              "#9c179e"
             ],
             [
              0.4444444444444444,
              "#bd3786"
             ],
             [
              0.5555555555555556,
              "#d8576b"
             ],
             [
              0.6666666666666666,
              "#ed7953"
             ],
             [
              0.7777777777777778,
              "#fb9f3a"
             ],
             [
              0.8888888888888888,
              "#fdca26"
             ],
             [
              1,
              "#f0f921"
             ]
            ],
            "type": "surface"
           }
          ],
          "table": [
           {
            "cells": {
             "fill": {
              "color": "#EBF0F8"
             },
             "line": {
              "color": "white"
             }
            },
            "header": {
             "fill": {
              "color": "#C8D4E3"
             },
             "line": {
              "color": "white"
             }
            },
            "type": "table"
           }
          ]
         },
         "layout": {
          "annotationdefaults": {
           "arrowcolor": "#2a3f5f",
           "arrowhead": 0,
           "arrowwidth": 1
          },
          "autotypenumbers": "strict",
          "coloraxis": {
           "colorbar": {
            "outlinewidth": 0,
            "ticks": ""
           }
          },
          "colorscale": {
           "diverging": [
            [
             0,
             "#8e0152"
            ],
            [
             0.1,
             "#c51b7d"
            ],
            [
             0.2,
             "#de77ae"
            ],
            [
             0.3,
             "#f1b6da"
            ],
            [
             0.4,
             "#fde0ef"
            ],
            [
             0.5,
             "#f7f7f7"
            ],
            [
             0.6,
             "#e6f5d0"
            ],
            [
             0.7,
             "#b8e186"
            ],
            [
             0.8,
             "#7fbc41"
            ],
            [
             0.9,
             "#4d9221"
            ],
            [
             1,
             "#276419"
            ]
           ],
           "sequential": [
            [
             0,
             "#0d0887"
            ],
            [
             0.1111111111111111,
             "#46039f"
            ],
            [
             0.2222222222222222,
             "#7201a8"
            ],
            [
             0.3333333333333333,
             "#9c179e"
            ],
            [
             0.4444444444444444,
             "#bd3786"
            ],
            [
             0.5555555555555556,
             "#d8576b"
            ],
            [
             0.6666666666666666,
             "#ed7953"
            ],
            [
             0.7777777777777778,
             "#fb9f3a"
            ],
            [
             0.8888888888888888,
             "#fdca26"
            ],
            [
             1,
             "#f0f921"
            ]
           ],
           "sequentialminus": [
            [
             0,
             "#0d0887"
            ],
            [
             0.1111111111111111,
             "#46039f"
            ],
            [
             0.2222222222222222,
             "#7201a8"
            ],
            [
             0.3333333333333333,
             "#9c179e"
            ],
            [
             0.4444444444444444,
             "#bd3786"
            ],
            [
             0.5555555555555556,
             "#d8576b"
            ],
            [
             0.6666666666666666,
             "#ed7953"
            ],
            [
             0.7777777777777778,
             "#fb9f3a"
            ],
            [
             0.8888888888888888,
             "#fdca26"
            ],
            [
             1,
             "#f0f921"
            ]
           ]
          },
          "colorway": [
           "#636efa",
           "#EF553B",
           "#00cc96",
           "#ab63fa",
           "#FFA15A",
           "#19d3f3",
           "#FF6692",
           "#B6E880",
           "#FF97FF",
           "#FECB52"
          ],
          "font": {
           "color": "#2a3f5f"
          },
          "geo": {
           "bgcolor": "white",
           "lakecolor": "white",
           "landcolor": "#E5ECF6",
           "showlakes": true,
           "showland": true,
           "subunitcolor": "white"
          },
          "hoverlabel": {
           "align": "left"
          },
          "hovermode": "closest",
          "mapbox": {
           "style": "light"
          },
          "paper_bgcolor": "white",
          "plot_bgcolor": "#E5ECF6",
          "polar": {
           "angularaxis": {
            "gridcolor": "white",
            "linecolor": "white",
            "ticks": ""
           },
           "bgcolor": "#E5ECF6",
           "radialaxis": {
            "gridcolor": "white",
            "linecolor": "white",
            "ticks": ""
           }
          },
          "scene": {
           "xaxis": {
            "backgroundcolor": "#E5ECF6",
            "gridcolor": "white",
            "gridwidth": 2,
            "linecolor": "white",
            "showbackground": true,
            "ticks": "",
            "zerolinecolor": "white"
           },
           "yaxis": {
            "backgroundcolor": "#E5ECF6",
            "gridcolor": "white",
            "gridwidth": 2,
            "linecolor": "white",
            "showbackground": true,
            "ticks": "",
            "zerolinecolor": "white"
           },
           "zaxis": {
            "backgroundcolor": "#E5ECF6",
            "gridcolor": "white",
            "gridwidth": 2,
            "linecolor": "white",
            "showbackground": true,
            "ticks": "",
            "zerolinecolor": "white"
           }
          },
          "shapedefaults": {
           "line": {
            "color": "#2a3f5f"
           }
          },
          "ternary": {
           "aaxis": {
            "gridcolor": "white",
            "linecolor": "white",
            "ticks": ""
           },
           "baxis": {
            "gridcolor": "white",
            "linecolor": "white",
            "ticks": ""
           },
           "bgcolor": "#E5ECF6",
           "caxis": {
            "gridcolor": "white",
            "linecolor": "white",
            "ticks": ""
           }
          },
          "title": {
           "x": 0.05
          },
          "xaxis": {
           "automargin": true,
           "gridcolor": "white",
           "linecolor": "white",
           "ticks": "",
           "title": {
            "standoff": 15
           },
           "zerolinecolor": "white",
           "zerolinewidth": 2
          },
          "yaxis": {
           "automargin": true,
           "gridcolor": "white",
           "linecolor": "white",
           "ticks": "",
           "title": {
            "standoff": 15
           },
           "zerolinecolor": "white",
           "zerolinewidth": 2
          }
         }
        },
        "title": {
         "text": "Feature Importances of Features in Random Forest Regressor"
        },
        "xaxis": {
         "anchor": "y",
         "categoryorder": "total descending",
         "domain": [
          0,
          1
         ],
         "title": {
          "text": "Features"
         }
        },
        "yaxis": {
         "anchor": "x",
         "domain": [
          0,
          1
         ],
         "title": {
          "text": "Feature Importances"
         }
        }
       }
      },
      "text/html": [
       "<div>                            <div id=\"c4ff72c4-790a-4867-a238-1b57f67f6250\" class=\"plotly-graph-div\" style=\"height:525px; width:100%;\"></div>            <script type=\"text/javascript\">                require([\"plotly\"], function(Plotly) {                    window.PLOTLYENV=window.PLOTLYENV || {};                                    if (document.getElementById(\"c4ff72c4-790a-4867-a238-1b57f67f6250\")) {                    Plotly.newPlot(                        \"c4ff72c4-790a-4867-a238-1b57f67f6250\",                        [{\"alignmentgroup\":\"True\",\"hovertemplate\":\"Features=%{x}<br>Feature Importances=%{y}<extra></extra>\",\"legendgroup\":\"\",\"marker\":{\"color\":\"#636efa\",\"pattern\":{\"shape\":\"\"}},\"name\":\"\",\"offsetgroup\":\"\",\"orientation\":\"v\",\"showlegend\":false,\"textposition\":\"auto\",\"x\":[\"compatible_children\",\"compatible_dogs\",\"compatible_cats\",\"age_Adult\",\"age_Baby\",\"age_Senior\",\"age_Young\",\"gender_Female\",\"gender_Male\",\"size_Extra Large\",\"size_Large\",\"size_Medium\",\"size_Small\",\"coat_Curly\",\"coat_Hairless\",\"coat_Long\",\"coat_Medium\",\"coat_Short\",\"coat_Wire\"],\"xaxis\":\"x\",\"y\":[0.03588108244380167,0.04176892359098074,0.09043396617237924,0.07357051598169656,0.06606569624529597,0.03465483942833245,0.07098008710807711,0.05246390533930321,0.05914953224919579,0.025818967185783852,0.07146061313682531,0.06374615228018352,0.06067111009826843,0.0308654436587593,0.002278512825571784,0.039712958716656074,0.08277518384043708,0.06905541949845174,0.02864709020000013],\"yaxis\":\"y\",\"type\":\"bar\"}],                        {\"template\":{\"data\":{\"bar\":[{\"error_x\":{\"color\":\"#2a3f5f\"},\"error_y\":{\"color\":\"#2a3f5f\"},\"marker\":{\"line\":{\"color\":\"#E5ECF6\",\"width\":0.5},\"pattern\":{\"fillmode\":\"overlay\",\"size\":10,\"solidity\":0.2}},\"type\":\"bar\"}],\"barpolar\":[{\"marker\":{\"line\":{\"color\":\"#E5ECF6\",\"width\":0.5},\"pattern\":{\"fillmode\":\"overlay\",\"size\":10,\"solidity\":0.2}},\"type\":\"barpolar\"}],\"carpet\":[{\"aaxis\":{\"endlinecolor\":\"#2a3f5f\",\"gridcolor\":\"white\",\"linecolor\":\"white\",\"minorgridcolor\":\"white\",\"startlinecolor\":\"#2a3f5f\"},\"baxis\":{\"endlinecolor\":\"#2a3f5f\",\"gridcolor\":\"white\",\"linecolor\":\"white\",\"minorgridcolor\":\"white\",\"startlinecolor\":\"#2a3f5f\"},\"type\":\"carpet\"}],\"choropleth\":[{\"colorbar\":{\"outlinewidth\":0,\"ticks\":\"\"},\"type\":\"choropleth\"}],\"contour\":[{\"colorbar\":{\"outlinewidth\":0,\"ticks\":\"\"},\"colorscale\":[[0.0,\"#0d0887\"],[0.1111111111111111,\"#46039f\"],[0.2222222222222222,\"#7201a8\"],[0.3333333333333333,\"#9c179e\"],[0.4444444444444444,\"#bd3786\"],[0.5555555555555556,\"#d8576b\"],[0.6666666666666666,\"#ed7953\"],[0.7777777777777778,\"#fb9f3a\"],[0.8888888888888888,\"#fdca26\"],[1.0,\"#f0f921\"]],\"type\":\"contour\"}],\"contourcarpet\":[{\"colorbar\":{\"outlinewidth\":0,\"ticks\":\"\"},\"type\":\"contourcarpet\"}],\"heatmap\":[{\"colorbar\":{\"outlinewidth\":0,\"ticks\":\"\"},\"colorscale\":[[0.0,\"#0d0887\"],[0.1111111111111111,\"#46039f\"],[0.2222222222222222,\"#7201a8\"],[0.3333333333333333,\"#9c179e\"],[0.4444444444444444,\"#bd3786\"],[0.5555555555555556,\"#d8576b\"],[0.6666666666666666,\"#ed7953\"],[0.7777777777777778,\"#fb9f3a\"],[0.8888888888888888,\"#fdca26\"],[1.0,\"#f0f921\"]],\"type\":\"heatmap\"}],\"heatmapgl\":[{\"colorbar\":{\"outlinewidth\":0,\"ticks\":\"\"},\"colorscale\":[[0.0,\"#0d0887\"],[0.1111111111111111,\"#46039f\"],[0.2222222222222222,\"#7201a8\"],[0.3333333333333333,\"#9c179e\"],[0.4444444444444444,\"#bd3786\"],[0.5555555555555556,\"#d8576b\"],[0.6666666666666666,\"#ed7953\"],[0.7777777777777778,\"#fb9f3a\"],[0.8888888888888888,\"#fdca26\"],[1.0,\"#f0f921\"]],\"type\":\"heatmapgl\"}],\"histogram\":[{\"marker\":{\"pattern\":{\"fillmode\":\"overlay\",\"size\":10,\"solidity\":0.2}},\"type\":\"histogram\"}],\"histogram2d\":[{\"colorbar\":{\"outlinewidth\":0,\"ticks\":\"\"},\"colorscale\":[[0.0,\"#0d0887\"],[0.1111111111111111,\"#46039f\"],[0.2222222222222222,\"#7201a8\"],[0.3333333333333333,\"#9c179e\"],[0.4444444444444444,\"#bd3786\"],[0.5555555555555556,\"#d8576b\"],[0.6666666666666666,\"#ed7953\"],[0.7777777777777778,\"#fb9f3a\"],[0.8888888888888888,\"#fdca26\"],[1.0,\"#f0f921\"]],\"type\":\"histogram2d\"}],\"histogram2dcontour\":[{\"colorbar\":{\"outlinewidth\":0,\"ticks\":\"\"},\"colorscale\":[[0.0,\"#0d0887\"],[0.1111111111111111,\"#46039f\"],[0.2222222222222222,\"#7201a8\"],[0.3333333333333333,\"#9c179e\"],[0.4444444444444444,\"#bd3786\"],[0.5555555555555556,\"#d8576b\"],[0.6666666666666666,\"#ed7953\"],[0.7777777777777778,\"#fb9f3a\"],[0.8888888888888888,\"#fdca26\"],[1.0,\"#f0f921\"]],\"type\":\"histogram2dcontour\"}],\"mesh3d\":[{\"colorbar\":{\"outlinewidth\":0,\"ticks\":\"\"},\"type\":\"mesh3d\"}],\"parcoords\":[{\"line\":{\"colorbar\":{\"outlinewidth\":0,\"ticks\":\"\"}},\"type\":\"parcoords\"}],\"pie\":[{\"automargin\":true,\"type\":\"pie\"}],\"scatter\":[{\"marker\":{\"colorbar\":{\"outlinewidth\":0,\"ticks\":\"\"}},\"type\":\"scatter\"}],\"scatter3d\":[{\"line\":{\"colorbar\":{\"outlinewidth\":0,\"ticks\":\"\"}},\"marker\":{\"colorbar\":{\"outlinewidth\":0,\"ticks\":\"\"}},\"type\":\"scatter3d\"}],\"scattercarpet\":[{\"marker\":{\"colorbar\":{\"outlinewidth\":0,\"ticks\":\"\"}},\"type\":\"scattercarpet\"}],\"scattergeo\":[{\"marker\":{\"colorbar\":{\"outlinewidth\":0,\"ticks\":\"\"}},\"type\":\"scattergeo\"}],\"scattergl\":[{\"marker\":{\"colorbar\":{\"outlinewidth\":0,\"ticks\":\"\"}},\"type\":\"scattergl\"}],\"scattermapbox\":[{\"marker\":{\"colorbar\":{\"outlinewidth\":0,\"ticks\":\"\"}},\"type\":\"scattermapbox\"}],\"scatterpolar\":[{\"marker\":{\"colorbar\":{\"outlinewidth\":0,\"ticks\":\"\"}},\"type\":\"scatterpolar\"}],\"scatterpolargl\":[{\"marker\":{\"colorbar\":{\"outlinewidth\":0,\"ticks\":\"\"}},\"type\":\"scatterpolargl\"}],\"scatterternary\":[{\"marker\":{\"colorbar\":{\"outlinewidth\":0,\"ticks\":\"\"}},\"type\":\"scatterternary\"}],\"surface\":[{\"colorbar\":{\"outlinewidth\":0,\"ticks\":\"\"},\"colorscale\":[[0.0,\"#0d0887\"],[0.1111111111111111,\"#46039f\"],[0.2222222222222222,\"#7201a8\"],[0.3333333333333333,\"#9c179e\"],[0.4444444444444444,\"#bd3786\"],[0.5555555555555556,\"#d8576b\"],[0.6666666666666666,\"#ed7953\"],[0.7777777777777778,\"#fb9f3a\"],[0.8888888888888888,\"#fdca26\"],[1.0,\"#f0f921\"]],\"type\":\"surface\"}],\"table\":[{\"cells\":{\"fill\":{\"color\":\"#EBF0F8\"},\"line\":{\"color\":\"white\"}},\"header\":{\"fill\":{\"color\":\"#C8D4E3\"},\"line\":{\"color\":\"white\"}},\"type\":\"table\"}]},\"layout\":{\"annotationdefaults\":{\"arrowcolor\":\"#2a3f5f\",\"arrowhead\":0,\"arrowwidth\":1},\"autotypenumbers\":\"strict\",\"coloraxis\":{\"colorbar\":{\"outlinewidth\":0,\"ticks\":\"\"}},\"colorscale\":{\"diverging\":[[0,\"#8e0152\"],[0.1,\"#c51b7d\"],[0.2,\"#de77ae\"],[0.3,\"#f1b6da\"],[0.4,\"#fde0ef\"],[0.5,\"#f7f7f7\"],[0.6,\"#e6f5d0\"],[0.7,\"#b8e186\"],[0.8,\"#7fbc41\"],[0.9,\"#4d9221\"],[1,\"#276419\"]],\"sequential\":[[0.0,\"#0d0887\"],[0.1111111111111111,\"#46039f\"],[0.2222222222222222,\"#7201a8\"],[0.3333333333333333,\"#9c179e\"],[0.4444444444444444,\"#bd3786\"],[0.5555555555555556,\"#d8576b\"],[0.6666666666666666,\"#ed7953\"],[0.7777777777777778,\"#fb9f3a\"],[0.8888888888888888,\"#fdca26\"],[1.0,\"#f0f921\"]],\"sequentialminus\":[[0.0,\"#0d0887\"],[0.1111111111111111,\"#46039f\"],[0.2222222222222222,\"#7201a8\"],[0.3333333333333333,\"#9c179e\"],[0.4444444444444444,\"#bd3786\"],[0.5555555555555556,\"#d8576b\"],[0.6666666666666666,\"#ed7953\"],[0.7777777777777778,\"#fb9f3a\"],[0.8888888888888888,\"#fdca26\"],[1.0,\"#f0f921\"]]},\"colorway\":[\"#636efa\",\"#EF553B\",\"#00cc96\",\"#ab63fa\",\"#FFA15A\",\"#19d3f3\",\"#FF6692\",\"#B6E880\",\"#FF97FF\",\"#FECB52\"],\"font\":{\"color\":\"#2a3f5f\"},\"geo\":{\"bgcolor\":\"white\",\"lakecolor\":\"white\",\"landcolor\":\"#E5ECF6\",\"showlakes\":true,\"showland\":true,\"subunitcolor\":\"white\"},\"hoverlabel\":{\"align\":\"left\"},\"hovermode\":\"closest\",\"mapbox\":{\"style\":\"light\"},\"paper_bgcolor\":\"white\",\"plot_bgcolor\":\"#E5ECF6\",\"polar\":{\"angularaxis\":{\"gridcolor\":\"white\",\"linecolor\":\"white\",\"ticks\":\"\"},\"bgcolor\":\"#E5ECF6\",\"radialaxis\":{\"gridcolor\":\"white\",\"linecolor\":\"white\",\"ticks\":\"\"}},\"scene\":{\"xaxis\":{\"backgroundcolor\":\"#E5ECF6\",\"gridcolor\":\"white\",\"gridwidth\":2,\"linecolor\":\"white\",\"showbackground\":true,\"ticks\":\"\",\"zerolinecolor\":\"white\"},\"yaxis\":{\"backgroundcolor\":\"#E5ECF6\",\"gridcolor\":\"white\",\"gridwidth\":2,\"linecolor\":\"white\",\"showbackground\":true,\"ticks\":\"\",\"zerolinecolor\":\"white\"},\"zaxis\":{\"backgroundcolor\":\"#E5ECF6\",\"gridcolor\":\"white\",\"gridwidth\":2,\"linecolor\":\"white\",\"showbackground\":true,\"ticks\":\"\",\"zerolinecolor\":\"white\"}},\"shapedefaults\":{\"line\":{\"color\":\"#2a3f5f\"}},\"ternary\":{\"aaxis\":{\"gridcolor\":\"white\",\"linecolor\":\"white\",\"ticks\":\"\"},\"baxis\":{\"gridcolor\":\"white\",\"linecolor\":\"white\",\"ticks\":\"\"},\"bgcolor\":\"#E5ECF6\",\"caxis\":{\"gridcolor\":\"white\",\"linecolor\":\"white\",\"ticks\":\"\"}},\"title\":{\"x\":0.05},\"xaxis\":{\"automargin\":true,\"gridcolor\":\"white\",\"linecolor\":\"white\",\"ticks\":\"\",\"title\":{\"standoff\":15},\"zerolinecolor\":\"white\",\"zerolinewidth\":2},\"yaxis\":{\"automargin\":true,\"gridcolor\":\"white\",\"linecolor\":\"white\",\"ticks\":\"\",\"title\":{\"standoff\":15},\"zerolinecolor\":\"white\",\"zerolinewidth\":2}}},\"xaxis\":{\"anchor\":\"y\",\"domain\":[0.0,1.0],\"title\":{\"text\":\"Features\"},\"categoryorder\":\"total descending\"},\"yaxis\":{\"anchor\":\"x\",\"domain\":[0.0,1.0],\"title\":{\"text\":\"Feature Importances\"}},\"legend\":{\"tracegroupgap\":0},\"title\":{\"text\":\"Feature Importances of Features in Random Forest Regressor\"},\"barmode\":\"relative\"},                        {\"responsive\": true}                    ).then(function(){\n",
       "                            \n",
       "var gd = document.getElementById('c4ff72c4-790a-4867-a238-1b57f67f6250');\n",
       "var x = new MutationObserver(function (mutations, observer) {{\n",
       "        var display = window.getComputedStyle(gd).display;\n",
       "        if (!display || display === 'none') {{\n",
       "            console.log([gd, 'removed!']);\n",
       "            Plotly.purge(gd);\n",
       "            observer.disconnect();\n",
       "        }}\n",
       "}});\n",
       "\n",
       "// Listen for the removal of the full notebook cells\n",
       "var notebookContainer = gd.closest('#notebook-container');\n",
       "if (notebookContainer) {{\n",
       "    x.observe(notebookContainer, {childList: true});\n",
       "}}\n",
       "\n",
       "// Listen for the clearing of the current output cell\n",
       "var outputEl = gd.closest('.output');\n",
       "if (outputEl) {{\n",
       "    x.observe(outputEl, {childList: true});\n",
       "}}\n",
       "\n",
       "                        })                };                });            </script>        </div>"
      ]
     },
     "metadata": {},
     "output_type": "display_data"
    }
   ],
   "source": [
    "# plot features importances\n",
    "px.bar(x=x_feat_list_nobreed_nocolor, y=feature_importances, title='Feature Importances of Features in Random Forest Regressor', labels={'x': 'Features', 'y':'Feature Importances'}).update_xaxes(categoryorder='total descending')"
   ]
  },
  {
   "cell_type": "code",
   "execution_count": 49,
   "id": "f1a423f3",
   "metadata": {},
   "outputs": [],
   "source": [
    "test4_topfeats = ['compatible_cats', 'coat_Medium', 'age_Adult', 'size_Large', 'age_Young']"
   ]
  },
  {
   "cell_type": "markdown",
   "id": "72bde7ba",
   "metadata": {},
   "source": [
    "## Build Plotting Functions for Linear Regression"
   ]
  },
  {
   "cell_type": "code",
   "execution_count": 13,
   "id": "9499bb64",
   "metadata": {},
   "outputs": [],
   "source": [
    "def plot_residuals(Xtest, ytest, y_preds, feat_list): \n",
    "    \"\"\"Takes in actual X and y values and y predictions and plots residuals to demonstrate assumptions of using \n",
    "        a linear regression. \n",
    "        \n",
    "        Args: \n",
    "            Xtest(array): a numpy array with the test X values for the regression\n",
    "            ytest (array): a numpy array with the test y values for the regression (actual)\n",
    "            y_preds (array): a numpy array with the predicted y values based on the Xtest values \n",
    "        \n",
    "        Returns: \n",
    "            None, just plots\n",
    "    \"\"\"\n",
    "    \n",
    "    # calculate residuals\n",
    "    residuals = ytest - y_preds\n",
    "    \n",
    "    # determine the number of rows for the subplot\n",
    "    num_features = len(feat_list)\n",
    "    num_rows = (num_features + 1) // 2 \n",
    "    \n",
    "    # initialize subplot\n",
    "    fig, axs = plt.subplots(nrows=num_rows, ncols=2, figsize=(8, 4 * num_rows))\n",
    "    \n",
    "    # plot index vs. residuals (independence plot)\n",
    "    axs[0, 0].scatter(x=range(len(ytest)), y=residuals)\n",
    "    axs[0, 0].set_xlabel('index')\n",
    "    axs[0, 0].set_ylabel('residuals')\n",
    "    axs[0, 0].set_title(\"Checking Independence\")\n",
    "    \n",
    "    # plot residuals against x features \n",
    "    for idx, plot in enumerate(feat_list):\n",
    "        axs[(idx + 1) // 2, (idx + 1) % 2].scatter(x=Xtest[:, idx], y=residuals)\n",
    "        axs[(idx + 1) // 2, (idx + 1) % 2].set_xlabel(plot)\n",
    "    \n",
    "    plt.subplots_adjust(hspace=0.6, wspace=0.4)\n",
    "    plt.show()\n",
    "    \n",
    "    # plot distribution of residuals\n",
    "    plt.figure(figsize=(8, 4))\n",
    "    stats.probplot(residuals, dist=\"norm\", plot=plt)\n",
    "    plt.title(\"Distribution of Errors\")\n",
    "    plt.show()\n",
    "    \n",
    "    return\n"
   ]
  },
  {
   "cell_type": "markdown",
   "id": "04de98de",
   "metadata": {},
   "source": [
    "## Test Linear Regressions on Important Features from Random Forest Regressor"
   ]
  },
  {
   "cell_type": "markdown",
   "id": "1a8ed834",
   "metadata": {},
   "source": [
    "<center>The below equation demonstrates the line of best fit for all of our trials of the linear regression:</center>\n",
    "\n",
    "$$\\hat{y} = b_0 + b_1x_1 + b_2x_2 + b_3x_3 + ... + b_nx_n $$\n",
    "\n",
    "$$ \\hat{y} = delta\\_time\\_minutes $$\n",
    "$$x_1 = X\\,Feature\\,1$$\n",
    "$$x_2 = X\\,Feature\\,2 $$\n",
    "$$x_3 = X\\,Feature\\,3 $$\n",
    "$$\\cdot$$\n",
    "$$\\cdot$$\n",
    "$$\\cdot$$\n",
    "$$x_n = X\\,Feature\\,n $$"
   ]
  },
  {
   "cell_type": "markdown",
   "id": "13819a98",
   "metadata": {},
   "source": [
    "### TRIAL 1: Linear Regression on Top 15 Feature Importances from Test 1.b\n",
    "Using top 15 most important features to the Random Forest Regressor Model from Test 1.b (top_15_feats), run a linear regression to determine the coefficients for each feature, in order to determine if the feature has a positive or negative influence on time to be adopted. "
   ]
  },
  {
   "cell_type": "code",
   "execution_count": 96,
   "id": "02c8cdad",
   "metadata": {},
   "outputs": [
    {
     "name": "stdout",
     "output_type": "stream",
     "text": [
      "The MSE for the sklearn cross validated model is 246361.20366215\n",
      "The R2 score for the sklearn cross validated model is 0.001\n"
     ]
    }
   ],
   "source": [
    "# create X and Y arrays\n",
    "X = dogs_df_dummies[top_15_feats].to_numpy()\n",
    "y = dogs_df_dummies['delta_time_minutes'].to_numpy()\n",
    "\n",
    "# split train and test data \n",
    "crossval_dogs = train_test_split(X, y, test_size=0.3)\n",
    "Xtrain, Xtest, ytrain, ytest = crossval_dogs\n",
    "\n",
    "# initialize model \n",
    "train_model_dogs = LinearRegression()\n",
    "\n",
    "# fit model\n",
    "train_model_dogs.fit(Xtrain, ytrain)\n",
    "\n",
    "# get the predictions for the test set\n",
    "y_preds = train_model_dogs.predict(Xtest)\n",
    "\n",
    "# get the mse\n",
    "mse = np.mean((ytest - y_preds) ** 2)\n",
    "\n",
    "# get the cross validated R^2\n",
    "r2 = r2_score(ytest, y_preds)\n",
    "\n",
    "# print out the mse and r2 \n",
    "print(f'''The MSE for the sklearn cross validated model is {mse}\\nThe R2 score for the sklearn cross validated model is {round(r2, 4)}''')"
   ]
  },
  {
   "cell_type": "code",
   "execution_count": 97,
   "id": "1c314771",
   "metadata": {},
   "outputs": [],
   "source": [
    "# determine coefficients and y intercept\n",
    "coefs = train_model_dogs.coef_\n",
    "y_int = train_model_dogs.intercept_"
   ]
  },
  {
   "cell_type": "code",
   "execution_count": 98,
   "id": "94d9c91f",
   "metadata": {},
   "outputs": [
    {
     "name": "stdout",
     "output_type": "stream",
     "text": [
      "For the line of best fit for Trial 1, the:\n",
      "y-int: 704.4733338022313\n",
      "\n",
      "age_Baby coefficient: 39.84\n",
      "\n",
      "gender_Male coefficient: 10.11\n",
      "\n",
      "primary_color_White / Cream coefficient: -0.018\n",
      "\n",
      "age_Adult coefficient: 24.504\n",
      "\n",
      "size_Large coefficient: 73.86\n",
      "\n",
      "primary_breed_Chihuahua coefficient: -24.718\n",
      "\n",
      "size_Small coefficient: 102.188\n",
      "\n",
      "primary_color_Gray / Blue / Silver coefficient: 96.342\n",
      "\n",
      "primary_breed_Hound coefficient: -155.527\n",
      "\n",
      "primary_breed_Corgi coefficient: 109.73\n",
      "\n",
      "primary_breed_Australian Cattle Dog / Blue Heeler coefficient: 78.644\n",
      "\n",
      "primary_breed_Shepherd coefficient: 77.539\n",
      "\n",
      "coat_Long coefficient: 177.282\n",
      "\n",
      "primary_breed_Black Labrador Retriever coefficient: -50.61\n",
      "\n",
      "compatible_dogs coefficient: -38.828\n",
      "\n"
     ]
    }
   ],
   "source": [
    "# print out the coefficients and their corresponding feature \n",
    "print(f'''For the line of best fit for Trial 1, the:\\ny-int: {y_int}\\n''')\n",
    "for index, item in enumerate(top_15_feats):\n",
    "     print(f'''{item} coefficient: {round(coefs[index], 3)}\\n''')\n",
    "    "
   ]
  },
  {
   "cell_type": "code",
   "execution_count": 99,
   "id": "8ed09821",
   "metadata": {},
   "outputs": [
    {
     "data": {
      "image/png": "[encoded data removed]",
      "text/plain": [
       "<Figure size 576x2304 with 16 Axes>"
      ]
     },
     "metadata": {
      "needs_background": "light"
     },
     "output_type": "display_data"
    },
    {
     "data": {
      "image/png": "[encoded data removed]",
      "text/plain": [
       "<Figure size 576x288 with 1 Axes>"
      ]
     },
     "metadata": {
      "needs_background": "light"
     },
     "output_type": "display_data"
    }
   ],
   "source": [
    "# plot residuals\n",
    "plot_residuals(Xtest, ytest, y_preds, feat_list=top_15_feats)"
   ]
  },
  {
   "cell_type": "markdown",
   "id": "bd3d4802",
   "metadata": {},
   "source": [
    "### TRIAL 2: Linear Regression on Top 5 Feature Importances from Test 2, 3, and 4\n",
    "Using the top 5 important features from Test 2, the top 5 important features from Test 3, and the the top 5 important features from Test 4 as our x values, we will run a linear regression in order to determine the coefficients for each feature, and determine if the feature has a positive or negative influence on time to be adopted. "
   ]
  },
  {
   "cell_type": "code",
   "execution_count": 101,
   "id": "696b9dfb",
   "metadata": {},
   "outputs": [],
   "source": [
    "# combine lists of top 5 features from Tests 2-4 into one list \n",
    "topfeats_tests = test2_topfeats + test3_topfeats + test4_topfeats"
   ]
  },
  {
   "cell_type": "code",
   "execution_count": 102,
   "id": "3c40a294",
   "metadata": {},
   "outputs": [
    {
     "name": "stdout",
     "output_type": "stream",
     "text": [
      "The MSE for the sklearn cross validated model is 233201.83554910033\n",
      "The R2 score for the sklearn cross validated model is -0.006\n"
     ]
    }
   ],
   "source": [
    "# create X and Y arrays\n",
    "X = dogs_df_dummies[topfeats_tests].to_numpy()\n",
    "y = dogs_df_dummies['delta_time_minutes'].to_numpy()\n",
    "\n",
    "# split train and test data \n",
    "crossval_dogs = train_test_split(X, y, test_size=0.3)\n",
    "Xtrain, Xtest, ytrain, ytest = crossval_dogs\n",
    "\n",
    "# initialize model \n",
    "train_model_dogs = LinearRegression()\n",
    "\n",
    "# fit model\n",
    "train_model_dogs.fit(Xtrain, ytrain)\n",
    "\n",
    "# get the predictions for the test set\n",
    "y_preds = train_model_dogs.predict(Xtest)\n",
    "\n",
    "# get the mse\n",
    "mse = np.mean((ytest - y_preds) ** 2)\n",
    "\n",
    "# get the cross validated R^2\n",
    "r2 = r2_score(ytest, y_preds)\n",
    "\n",
    "# print out the mse and r2 \n",
    "print(f'''The MSE for the sklearn cross validated model is {mse}\\nThe R2 score for the sklearn cross validated model is {round(r2, 4)}''')"
   ]
  },
  {
   "cell_type": "code",
   "execution_count": 103,
   "id": "bfd9feb1",
   "metadata": {
    "scrolled": true
   },
   "outputs": [],
   "source": [
    "# determine coefficients and y intercept\n",
    "coefs = train_model_dogs.coef_\n",
    "y_int = train_model_dogs.intercept_"
   ]
  },
  {
   "cell_type": "code",
   "execution_count": 104,
   "id": "bf556a94",
   "metadata": {
    "scrolled": true
   },
   "outputs": [
    {
     "name": "stdout",
     "output_type": "stream",
     "text": [
      "For the line of best fit for Trial 2, the:\n",
      "y-int: 992.7318499542081\n",
      "\n",
      "primary_breed_Dutch Shepherd coefficient: -163.4572488507853\n",
      "\n",
      "primary_breed_Schnauzer coefficient: -290.88615634900435\n",
      "\n",
      "primary_breed_American Bulldog coefficient: 451.5081133493257\n",
      "\n",
      "primary_breed_Shih Tzu coefficient: 183.08008118634604\n",
      "\n",
      "primary_breed_Standard Poodle coefficient: 166.3097908330999\n",
      "\n",
      "primary_color_Brown / Chocolate coefficient: -141.1249946591834\n",
      "\n",
      "primary_color_Brindle coefficient: -123.41224823653522\n",
      "\n",
      "primary_color_Harlequin coefficient: -595.6266118699785\n",
      "\n",
      "primary_color_Gray / Blue / Silver coefficient: 176.34003152933784\n",
      "\n",
      "primary_color_Merle (Blue) coefficient: 325.96300702472047\n",
      "\n",
      "compatible_cats coefficient: -130.9273315918557\n",
      "\n",
      "coat_Medium coefficient: -80.58296378924061\n",
      "\n",
      "size_Large coefficient: -24.072276951712567\n",
      "\n",
      "coat_Short coefficient: -100.25940237900642\n",
      "\n",
      "size_Medium coefficient: -86.33606112539331\n",
      "\n"
     ]
    }
   ],
   "source": [
    "# print out the coefficients and their corresponding feature \n",
    "print(f'''For the line of best fit for Trial 2, the:\\ny-int: {y_int}\\n''')\n",
    "for index, item in enumerate(topfeats_tests):\n",
    "     print(f'''{item} coefficient: {coefs[index]}\\n''')\n",
    "    "
   ]
  },
  {
   "cell_type": "code",
   "execution_count": 106,
   "id": "3929ae93",
   "metadata": {},
   "outputs": [
    {
     "data": {
      "image/png": "[encoded data removed]",
      "text/plain": [
       "<Figure size 576x2304 with 16 Axes>"
      ]
     },
     "metadata": {
      "needs_background": "light"
     },
     "output_type": "display_data"
    },
    {
     "data": {
      "image/png": "[encoded data removed]",
      "text/plain": [
       "<Figure size 576x288 with 1 Axes>"
      ]
     },
     "metadata": {
      "needs_background": "light"
     },
     "output_type": "display_data"
    }
   ],
   "source": [
    "# plot residuals\n",
    "plot_residuals(Xtest, ytest, y_preds, feat_list=topfeats_tests)"
   ]
  },
  {
   "cell_type": "markdown",
   "id": "965f0dbc",
   "metadata": {},
   "source": [
    "### TRIAL 3.a: Linear Regression on Features Based on Intuition\n",
    "Features include:\n",
    "\n",
    "'compatible_children', 'compatible_dogs', 'compatible_cats', 'age_Adult', 'age_Baby', 'age_Senior', 'gender_Female', 'gender_Male', 'size_Medium', 'coat_Hairless','coat_Medium','primary_breed_Labrador Retriever', 'primary_breed_Maltese','primary_color_Black','primary_color_Brown / Chocolate', 'primary_color_White / Cream', 'primary_color_Yellow / Tan / Blond / Fawn'"
   ]
  },
  {
   "cell_type": "code",
   "execution_count": 107,
   "id": "d6482b81",
   "metadata": {
    "scrolled": true
   },
   "outputs": [
    {
     "name": "stdout",
     "output_type": "stream",
     "text": [
      "The MSE for the sklearn cross validated model is 262508.1671532145\n",
      "The R2 score for the sklearn cross validated model is -0.0478\n"
     ]
    }
   ],
   "source": [
    "intuition_featsA = ['compatible_children', 'compatible_dogs', 'compatible_cats', 'age_Adult', \n",
    "                   'age_Baby', 'age_Senior', 'gender_Female', 'gender_Male', 'size_Medium', 'coat_Hairless', \n",
    "                    'coat_Medium','primary_breed_Labrador Retriever', 'primary_breed_Maltese',\n",
    "                    'primary_color_Black','primary_color_Brown / Chocolate', 'primary_color_White / Cream', \n",
    "                   'primary_color_Yellow / Tan / Blond / Fawn']\n",
    "# create X and Y arrays\n",
    "X = dogs_df_dummies[intuition_featsA].to_numpy()\n",
    "y = dogs_df_dummies['delta_time_minutes'].to_numpy()\n",
    "\n",
    "# split train and test data \n",
    "crossval_dogs = train_test_split(X, y, test_size=0.3)\n",
    "Xtrain, Xtest, ytrain, ytest = crossval_dogs\n",
    "\n",
    "# initialize model \n",
    "train_model_dogs = LinearRegression()\n",
    "\n",
    "# fit model\n",
    "train_model_dogs.fit(Xtrain, ytrain)\n",
    "\n",
    "# get the predictions for the test set\n",
    "y_preds = train_model_dogs.predict(Xtest)\n",
    "\n",
    "# get the mse\n",
    "mse = np.mean((ytest - y_preds) ** 2)\n",
    "\n",
    "# get the cross validated R^2\n",
    "r2 = r2_score(ytest, y_preds)\n",
    "\n",
    "# print out the mse and r2 \n",
    "print(f'''The MSE for the sklearn cross validated model is {mse}\\nThe R2 score for the sklearn cross validated model is {round(r2, 4)}''')"
   ]
  },
  {
   "cell_type": "code",
   "execution_count": 108,
   "id": "c6d313ce",
   "metadata": {},
   "outputs": [],
   "source": [
    "# determine coefficients and y intercept\n",
    "coefs = train_model_dogs.coef_\n",
    "y_int = train_model_dogs.intercept_"
   ]
  },
  {
   "cell_type": "code",
   "execution_count": 109,
   "id": "337e9dbf",
   "metadata": {
    "scrolled": true
   },
   "outputs": [
    {
     "name": "stdout",
     "output_type": "stream",
     "text": [
      "For the line of best fit for Trial 3a, the:\n",
      "y-int: 2537566569809471.5\n",
      "\n",
      "compatible_children coefficient: 68.24505889468134\n",
      "\n",
      "compatible_dogs coefficient: -83.09156956561665\n",
      "\n",
      "compatible_cats coefficient: -82.36853960219051\n",
      "\n",
      "age_Adult coefficient: 57.47725137435695\n",
      "\n",
      "age_Baby coefficient: 80.35734899145574\n",
      "\n",
      "age_Senior coefficient: 112.13758599658483\n",
      "\n",
      "gender_Female coefficient: -2537566569808618.0\n",
      "\n",
      "gender_Male coefficient: -2537566569808601.5\n",
      "\n",
      "size_Medium coefficient: -112.94539634173188\n",
      "\n",
      "coat_Hairless coefficient: -587.3765289463132\n",
      "\n",
      "coat_Medium coefficient: -45.89457399742131\n",
      "\n",
      "primary_breed_Labrador Retriever coefficient: -109.47008802186548\n",
      "\n",
      "primary_breed_Maltese coefficient: -155.6087483401719\n",
      "\n",
      "primary_color_Black coefficient: 30.645575571545578\n",
      "\n",
      "primary_color_Brown / Chocolate coefficient: -180.92059766701297\n",
      "\n",
      "primary_color_White / Cream coefficient: -68.27839091973179\n",
      "\n",
      "primary_color_Yellow / Tan / Blond / Fawn coefficient: 20.75662378935071\n",
      "\n"
     ]
    }
   ],
   "source": [
    "# print out the coefficients and their corresponding feature \n",
    "print(f'''For the line of best fit for Trial 3a, the:\\ny-int: {y_int}\\n''')\n",
    "for index, item in enumerate(intuition_featsA):\n",
    "     print(f'''{item} coefficient: {coefs[index]}\\n''')"
   ]
  },
  {
   "cell_type": "code",
   "execution_count": 110,
   "id": "6113bfdc",
   "metadata": {},
   "outputs": [
    {
     "data": {
      "image/png": "[encoded data removed]",
      "text/plain": [
       "<Figure size 576x2592 with 18 Axes>"
      ]
     },
     "metadata": {
      "needs_background": "light"
     },
     "output_type": "display_data"
    },
    {
     "data": {
      "image/png": "[encoded data removed]",
      "text/plain": [
       "<Figure size 576x288 with 1 Axes>"
      ]
     },
     "metadata": {
      "needs_background": "light"
     },
     "output_type": "display_data"
    }
   ],
   "source": [
    "# plot residuals\n",
    "plot_residuals(Xtest, ytest, y_preds, feat_list=intuition_featsA)"
   ]
  },
  {
   "cell_type": "markdown",
   "id": "8286de60",
   "metadata": {},
   "source": [
    "### TRIAL 3.b: Linear Regression on Features Based on Intuition - Reduced List\n",
    "Features include:\n",
    "\n",
    "'compatible_children', 'compatible_dogs', 'compatible_cats', 'age_Adult', 'age_Baby', 'age_Senior', 'gender_Female', 'gender_Male', 'size_Medium', 'size_Small', 'size_Large'"
   ]
  },
  {
   "cell_type": "code",
   "execution_count": 9,
   "id": "974a9acf",
   "metadata": {},
   "outputs": [
    {
     "name": "stdout",
     "output_type": "stream",
     "text": [
      "The MSE for the sklearn cross validated model is 259394.77555730255\n",
      "The R2 score for the sklearn cross validated model is -0.0423\n"
     ]
    }
   ],
   "source": [
    "intuition_featsB = ['compatible_children', 'compatible_dogs', 'compatible_cats', 'age_Adult', \n",
    "                   'age_Baby', 'age_Senior', 'gender_Female', 'gender_Male', 'size_Medium', \n",
    "                   'size_Small', 'size_Large']\n",
    "# create X and Y arrays\n",
    "X = dogs_df_dummies[intuition_featsB].to_numpy()\n",
    "y = dogs_df_dummies['delta_time_minutes'].to_numpy()\n",
    "\n",
    "# split train and test data \n",
    "crossval_dogs = train_test_split(X, y, test_size=0.3)\n",
    "Xtrain, Xtest, ytrain, ytest = crossval_dogs\n",
    "\n",
    "# initialize model \n",
    "train_model_dogs = LinearRegression()\n",
    "\n",
    "# fit model\n",
    "train_model_dogs.fit(Xtrain, ytrain)\n",
    "\n",
    "# get the predictions for the test set\n",
    "y_preds = train_model_dogs.predict(Xtest)\n",
    "\n",
    "# get the mse\n",
    "mse = np.mean((ytest - y_preds) ** 2)\n",
    "\n",
    "# get the cross validated R^2\n",
    "r2 = r2_score(ytest, y_preds)\n",
    "\n",
    "# print out the mse and r2 \n",
    "print(f'''The MSE for the sklearn cross validated model is {mse}\\nThe R2 score for the sklearn cross validated model is {round(r2, 4)}''')"
   ]
  },
  {
   "cell_type": "code",
   "execution_count": 10,
   "id": "db366768",
   "metadata": {},
   "outputs": [],
   "source": [
    "# determine coefficients and y intercept\n",
    "coefs = train_model_dogs.coef_\n",
    "y_int = train_model_dogs.intercept_"
   ]
  },
  {
   "cell_type": "code",
   "execution_count": 11,
   "id": "5b646fee",
   "metadata": {},
   "outputs": [
    {
     "name": "stdout",
     "output_type": "stream",
     "text": [
      "For the line of best fit for Trial 3b, the:\n",
      "y-int: -1.2231650208392372e+16\n",
      "\n",
      "compatible_children coefficient: 49.17585925123935\n",
      "\n",
      "compatible_dogs coefficient: 18.00641036166906\n",
      "\n",
      "compatible_cats coefficient: -129.35625618979398\n",
      "\n",
      "age_Adult coefficient: 82.4091212514956\n",
      "\n",
      "age_Baby coefficient: 97.74211391342138\n",
      "\n",
      "age_Senior coefficient: 135.00554606171522\n",
      "\n",
      "gender_Female coefficient: 1.2231650208393484e+16\n",
      "\n",
      "gender_Male coefficient: 1.2231650208393542e+16\n",
      "\n",
      "size_Medium coefficient: -472.4828563782838\n",
      "\n",
      "size_Small coefficient: -375.09321144072015\n",
      "\n",
      "size_Large coefficient: -392.8691509253399\n",
      "\n"
     ]
    }
   ],
   "source": [
    "# print out the coefficients and their corresponding feature \n",
    "print(f'''For the line of best fit for Trial 3b, the:\\ny-int: {y_int}\\n''')\n",
    "for index, item in enumerate(intuition_featsB):\n",
    "     print(f'''{item} coefficient: {coefs[index]}\\n''')"
   ]
  },
  {
   "cell_type": "code",
   "execution_count": 14,
   "id": "2e3f1cd7",
   "metadata": {
    "scrolled": true
   },
   "outputs": [
    {
     "data": {
      "image/png": "[encoded data removed]",
      "text/plain": [
       "<Figure size 800x2400 with 12 Axes>"
      ]
     },
     "metadata": {},
     "output_type": "display_data"
    },
    {
     "data": {
      "image/png": "[encoded data removed]",
      "text/plain": [
       "<Figure size 800x400 with 1 Axes>"
      ]
     },
     "metadata": {},
     "output_type": "display_data"
    }
   ],
   "source": [
    "# plot residuals\n",
    "plot_residuals(Xtest, ytest, y_preds, feat_list=intuition_featsB)"
   ]
  }
 ],
 "metadata": {
  "kernelspec": {
   "display_name": "Python 3 (ipykernel)",
   "language": "python",
   "name": "python3"
  },
  "language_info": {
   "codemirror_mode": {
    "name": "ipython",
    "version": 3
   },
   "file_extension": ".py",
   "mimetype": "text/x-python",
   "name": "python",
   "nbconvert_exporter": "python",
   "pygments_lexer": "ipython3",
   "version": "3.11.4"
  }
 },
 "nbformat": 4,
 "nbformat_minor": 5
}
